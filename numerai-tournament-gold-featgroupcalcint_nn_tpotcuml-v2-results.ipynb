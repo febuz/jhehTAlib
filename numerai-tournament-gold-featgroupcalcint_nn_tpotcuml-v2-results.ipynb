{
 "cells": [
  {
   "cell_type": "code",
   "execution_count": 1,
   "metadata": {
    "id": "oks372-y_wNj",
    "outputId": "08120504-af12-4ccf-843f-eeaefbd5d02e"
   },
   "outputs": [
    {
     "name": "stdout",
     "output_type": "stream",
     "text": [
      "Requirement already satisfied: distributed in /home/hadoopuser/anaconda3/lib/python3.8/site-packages (2021.4.1)\n",
      "Requirement already satisfied: msgpack>=0.6.0 in /home/hadoopuser/.local/lib/python3.8/site-packages (from distributed) (1.0.2)\n",
      "Requirement already satisfied: tornado>=6.0.3 in /home/hadoopuser/.local/lib/python3.8/site-packages (from distributed) (6.1)\n",
      "Requirement already satisfied: psutil>=5.0 in /home/hadoopuser/anaconda3/lib/python3.8/site-packages (from distributed) (5.7.2)\n",
      "Requirement already satisfied: sortedcontainers!=2.0.0,!=2.0.1 in /home/hadoopuser/.local/lib/python3.8/site-packages (from distributed) (2.3.0)\n",
      "Requirement already satisfied: cloudpickle>=1.5.0 in /home/hadoopuser/.local/lib/python3.8/site-packages (from distributed) (1.6.0)\n",
      "Requirement already satisfied: dask>=2021.03.0 in /home/hadoopuser/anaconda3/lib/python3.8/site-packages (from distributed) (2021.4.1)\n",
      "Requirement already satisfied: pyyaml in /home/hadoopuser/anaconda3/lib/python3.8/site-packages (from distributed) (5.3.1)\n",
      "Requirement already satisfied: click>=6.6 in /home/hadoopuser/anaconda3/lib/python3.8/site-packages (from distributed) (7.1.2)\n",
      "Requirement already satisfied: tblib>=1.6.0 in /home/hadoopuser/.local/lib/python3.8/site-packages (from distributed) (1.7.0)\n",
      "Requirement already satisfied: zict>=0.1.3 in /home/hadoopuser/.local/lib/python3.8/site-packages (from distributed) (2.0.0)\n",
      "Requirement already satisfied: toolz>=0.8.2 in /home/hadoopuser/anaconda3/lib/python3.8/site-packages (from distributed) (0.10.0)\n",
      "Requirement already satisfied: setuptools in /home/hadoopuser/.local/lib/python3.8/site-packages (from distributed) (56.0.0)\n",
      "Requirement already satisfied: fsspec>=0.6.0 in /home/hadoopuser/.local/lib/python3.8/site-packages (from dask>=2021.03.0->distributed) (2021.4.0)\n",
      "Requirement already satisfied: partd>=0.3.10 in /home/hadoopuser/.local/lib/python3.8/site-packages (from dask>=2021.03.0->distributed) (1.2.0)\n",
      "Requirement already satisfied: locket in /home/hadoopuser/.local/lib/python3.8/site-packages (from partd>=0.3.10->dask>=2021.03.0->distributed) (0.2.1)\n",
      "Requirement already satisfied: heapdict in /home/hadoopuser/.local/lib/python3.8/site-packages (from zict>=0.1.3->distributed) (1.0.1)\n",
      "Requirement already satisfied: dask in /home/hadoopuser/anaconda3/lib/python3.8/site-packages (2021.4.1)\n",
      "Requirement already satisfied: fsspec>=0.6.0 in /home/hadoopuser/.local/lib/python3.8/site-packages (from dask) (2021.4.0)\n",
      "Requirement already satisfied: pyyaml in /home/hadoopuser/anaconda3/lib/python3.8/site-packages (from dask) (5.3.1)\n",
      "Requirement already satisfied: partd>=0.3.10 in /home/hadoopuser/.local/lib/python3.8/site-packages (from dask) (1.2.0)\n",
      "Requirement already satisfied: cloudpickle>=1.1.1 in /home/hadoopuser/.local/lib/python3.8/site-packages (from dask) (1.6.0)\n",
      "Requirement already satisfied: toolz>=0.8.2 in /home/hadoopuser/anaconda3/lib/python3.8/site-packages (from dask) (0.10.0)\n",
      "Requirement already satisfied: locket in /home/hadoopuser/.local/lib/python3.8/site-packages (from partd>=0.3.10->dask) (0.2.1)\n",
      "Requirement already satisfied: py4j in /home/hadoopuser/.local/lib/python3.8/site-packages (0.10.9)\n",
      "Requirement already satisfied: findspark in /home/hadoopuser/.local/lib/python3.8/site-packages (1.4.2)\n",
      "Requirement already satisfied: dask in /home/hadoopuser/anaconda3/lib/python3.8/site-packages (2021.4.1)\n",
      "Requirement already satisfied: toolz>=0.8.2 in /home/hadoopuser/anaconda3/lib/python3.8/site-packages (from dask) (0.10.0)\n",
      "Requirement already satisfied: cloudpickle>=1.1.1 in /home/hadoopuser/.local/lib/python3.8/site-packages (from dask) (1.6.0)\n",
      "Requirement already satisfied: pyyaml in /home/hadoopuser/anaconda3/lib/python3.8/site-packages (from dask) (5.3.1)\n",
      "Requirement already satisfied: fsspec>=0.6.0 in /home/hadoopuser/.local/lib/python3.8/site-packages (from dask) (2021.4.0)\n",
      "Requirement already satisfied: partd>=0.3.10 in /home/hadoopuser/.local/lib/python3.8/site-packages (from dask) (1.2.0)\n",
      "Requirement already satisfied: locket in /home/hadoopuser/.local/lib/python3.8/site-packages (from partd>=0.3.10->dask) (0.2.1)\n",
      "Requirement already satisfied: dask_yarn in /home/hadoopuser/.local/lib/python3.8/site-packages (0.9)\n",
      "Requirement already satisfied: grpcio>=1.14.0 in /home/hadoopuser/.local/lib/python3.8/site-packages (from dask_yarn) (1.32.0)\n",
      "Requirement already satisfied: distributed>=2021.1.0 in /home/hadoopuser/anaconda3/lib/python3.8/site-packages (from dask_yarn) (2021.4.1)\n",
      "Requirement already satisfied: skein>=0.8.0 in /home/hadoopuser/.local/lib/python3.8/site-packages (from dask_yarn) (0.8.1)\n",
      "Requirement already satisfied: dask>=2021.1.0 in /home/hadoopuser/anaconda3/lib/python3.8/site-packages (from dask_yarn) (2021.4.1)\n",
      "Requirement already satisfied: fsspec>=0.6.0 in /home/hadoopuser/.local/lib/python3.8/site-packages (from dask>=2021.1.0->dask_yarn) (2021.4.0)\n",
      "Requirement already satisfied: pyyaml in /home/hadoopuser/anaconda3/lib/python3.8/site-packages (from dask>=2021.1.0->dask_yarn) (5.3.1)\n",
      "Requirement already satisfied: partd>=0.3.10 in /home/hadoopuser/.local/lib/python3.8/site-packages (from dask>=2021.1.0->dask_yarn) (1.2.0)\n",
      "Requirement already satisfied: toolz>=0.8.2 in /home/hadoopuser/anaconda3/lib/python3.8/site-packages (from dask>=2021.1.0->dask_yarn) (0.10.0)\n",
      "Requirement already satisfied: cloudpickle>=1.1.1 in /home/hadoopuser/.local/lib/python3.8/site-packages (from dask>=2021.1.0->dask_yarn) (1.6.0)\n",
      "Requirement already satisfied: setuptools in /home/hadoopuser/.local/lib/python3.8/site-packages (from distributed>=2021.1.0->dask_yarn) (56.0.0)\n",
      "Requirement already satisfied: click>=6.6 in /home/hadoopuser/anaconda3/lib/python3.8/site-packages (from distributed>=2021.1.0->dask_yarn) (7.1.2)\n",
      "Requirement already satisfied: tornado>=6.0.3 in /home/hadoopuser/.local/lib/python3.8/site-packages (from distributed>=2021.1.0->dask_yarn) (6.1)\n",
      "Requirement already satisfied: msgpack>=0.6.0 in /home/hadoopuser/.local/lib/python3.8/site-packages (from distributed>=2021.1.0->dask_yarn) (1.0.2)\n",
      "Requirement already satisfied: zict>=0.1.3 in /home/hadoopuser/.local/lib/python3.8/site-packages (from distributed>=2021.1.0->dask_yarn) (2.0.0)\n",
      "Requirement already satisfied: psutil>=5.0 in /home/hadoopuser/anaconda3/lib/python3.8/site-packages (from distributed>=2021.1.0->dask_yarn) (5.7.2)\n",
      "Requirement already satisfied: tblib>=1.6.0 in /home/hadoopuser/.local/lib/python3.8/site-packages (from distributed>=2021.1.0->dask_yarn) (1.7.0)\n",
      "Requirement already satisfied: sortedcontainers!=2.0.0,!=2.0.1 in /home/hadoopuser/.local/lib/python3.8/site-packages (from distributed>=2021.1.0->dask_yarn) (2.3.0)\n",
      "Requirement already satisfied: six>=1.5.2 in /home/hadoopuser/anaconda3/lib/python3.8/site-packages (from grpcio>=1.14.0->dask_yarn) (1.15.0)\n",
      "Requirement already satisfied: locket in /home/hadoopuser/.local/lib/python3.8/site-packages (from partd>=0.3.10->dask>=2021.1.0->dask_yarn) (0.2.1)\n",
      "Requirement already satisfied: protobuf>=3.5.0 in /home/hadoopuser/anaconda3/lib/python3.8/site-packages (from skein>=0.8.0->dask_yarn) (3.15.8)\n",
      "Requirement already satisfied: cryptography in /home/hadoopuser/anaconda3/lib/python3.8/site-packages (from skein>=0.8.0->dask_yarn) (3.1.1)\n",
      "Requirement already satisfied: heapdict in /home/hadoopuser/.local/lib/python3.8/site-packages (from zict>=0.1.3->distributed>=2021.1.0->dask_yarn) (1.0.1)\n",
      "Requirement already satisfied: cffi!=1.11.3,>=1.8 in /home/hadoopuser/anaconda3/lib/python3.8/site-packages (from cryptography->skein>=0.8.0->dask_yarn) (1.14.3)\n",
      "Requirement already satisfied: pycparser in /home/hadoopuser/.local/lib/python3.8/site-packages (from cffi!=1.11.3,>=1.8->cryptography->skein>=0.8.0->dask_yarn) (2.20)\n",
      "Requirement already satisfied: ray in /home/hadoopuser/.local/lib/python3.8/site-packages (1.2.0)\n",
      "Requirement already satisfied: colorful in /home/hadoopuser/.local/lib/python3.8/site-packages (from ray) (0.5.4)\n",
      "Requirement already satisfied: aiohttp-cors in /home/hadoopuser/.local/lib/python3.8/site-packages (from ray) (0.7.0)\n",
      "Requirement already satisfied: aiohttp in /home/hadoopuser/.local/lib/python3.8/site-packages (from ray) (3.7.4.post0)\n",
      "Requirement already satisfied: msgpack<2.0.0,>=1.0.0 in /home/hadoopuser/.local/lib/python3.8/site-packages (from ray) (1.0.2)\n",
      "Requirement already satisfied: grpcio>=1.28.1 in /home/hadoopuser/.local/lib/python3.8/site-packages (from ray) (1.32.0)\n",
      "Requirement already satisfied: opencensus in /home/hadoopuser/.local/lib/python3.8/site-packages (from ray) (0.7.12)\n",
      "Requirement already satisfied: redis>=3.5.0 in /home/hadoopuser/.local/lib/python3.8/site-packages (from ray) (3.5.3)\n",
      "Requirement already satisfied: gpustat in /home/hadoopuser/.local/lib/python3.8/site-packages (from ray) (0.6.0)\n",
      "Requirement already satisfied: pyyaml in /home/hadoopuser/anaconda3/lib/python3.8/site-packages (from ray) (5.3.1)\n",
      "Requirement already satisfied: jsonschema in /home/hadoopuser/anaconda3/lib/python3.8/site-packages (from ray) (3.2.0)\n",
      "Requirement already satisfied: numpy>=1.16 in /home/hadoopuser/anaconda3/lib/python3.8/site-packages (from ray) (1.19.1)\n",
      "Requirement already satisfied: protobuf>=3.8.0 in /home/hadoopuser/anaconda3/lib/python3.8/site-packages (from ray) (3.15.8)\n",
      "Requirement already satisfied: requests in /home/hadoopuser/anaconda3/lib/python3.8/site-packages (from ray) (2.25.1)\n",
      "Requirement already satisfied: aioredis in /home/hadoopuser/.local/lib/python3.8/site-packages (from ray) (1.3.1)\n",
      "Requirement already satisfied: click>=7.0 in /home/hadoopuser/anaconda3/lib/python3.8/site-packages (from ray) (7.1.2)\n",
      "Requirement already satisfied: filelock in /home/hadoopuser/anaconda3/lib/python3.8/site-packages (from ray) (3.0.12)\n",
      "Requirement already satisfied: prometheus-client>=0.7.1 in /home/hadoopuser/anaconda3/lib/python3.8/site-packages (from ray) (0.8.0)\n",
      "Requirement already satisfied: colorama in /home/hadoopuser/anaconda3/lib/python3.8/site-packages (from ray) (0.4.4)\n",
      "Requirement already satisfied: py-spy>=0.2.0 in /home/hadoopuser/.local/lib/python3.8/site-packages (from ray) (0.3.5)\n",
      "Requirement already satisfied: six>=1.5.2 in /home/hadoopuser/anaconda3/lib/python3.8/site-packages (from grpcio>=1.28.1->ray) (1.15.0)\n",
      "Requirement already satisfied: typing-extensions>=3.6.5 in /home/hadoopuser/.local/lib/python3.8/site-packages (from aiohttp->ray) (3.7.4.3)\n",
      "Requirement already satisfied: async-timeout<4.0,>=3.0 in /home/hadoopuser/.local/lib/python3.8/site-packages (from aiohttp->ray) (3.0.1)\n",
      "Requirement already satisfied: yarl<2.0,>=1.0 in /home/hadoopuser/.local/lib/python3.8/site-packages (from aiohttp->ray) (1.6.3)\n",
      "Requirement already satisfied: attrs>=17.3.0 in /home/hadoopuser/anaconda3/lib/python3.8/site-packages (from aiohttp->ray) (20.3.0)\n",
      "Requirement already satisfied: multidict<7.0,>=4.5 in /home/hadoopuser/.local/lib/python3.8/site-packages (from aiohttp->ray) (5.1.0)\n",
      "Requirement already satisfied: chardet<5.0,>=2.0 in /home/hadoopuser/anaconda3/lib/python3.8/site-packages (from aiohttp->ray) (3.0.4)\n",
      "Requirement already satisfied: idna>=2.0 in /home/hadoopuser/anaconda3/lib/python3.8/site-packages (from yarl<2.0,>=1.0->aiohttp->ray) (2.10)\n",
      "Requirement already satisfied: hiredis in /home/hadoopuser/.local/lib/python3.8/site-packages (from aioredis->ray) (2.0.0)\n",
      "Requirement already satisfied: psutil in /home/hadoopuser/anaconda3/lib/python3.8/site-packages (from gpustat->ray) (5.7.2)\n",
      "Requirement already satisfied: nvidia-ml-py3>=7.352.0 in /home/hadoopuser/.local/lib/python3.8/site-packages (from gpustat->ray) (7.352.0)\n",
      "Requirement already satisfied: blessings>=1.6 in /home/hadoopuser/.local/lib/python3.8/site-packages (from gpustat->ray) (1.7)\n",
      "Requirement already satisfied: pyrsistent>=0.14.0 in /home/hadoopuser/anaconda3/lib/python3.8/site-packages (from jsonschema->ray) (0.17.3)\n",
      "Requirement already satisfied: setuptools in /home/hadoopuser/.local/lib/python3.8/site-packages (from jsonschema->ray) (56.0.0)\n",
      "Requirement already satisfied: opencensus-context==0.1.2 in /home/hadoopuser/.local/lib/python3.8/site-packages (from opencensus->ray) (0.1.2)\n",
      "Requirement already satisfied: google-api-core<2.0.0,>=1.0.0 in /home/hadoopuser/.local/lib/python3.8/site-packages (from opencensus->ray) (1.26.3)\n",
      "Requirement already satisfied: pytz in /home/hadoopuser/anaconda3/lib/python3.8/site-packages (from google-api-core<2.0.0,>=1.0.0->opencensus->ray) (2020.1)\n",
      "Requirement already satisfied: packaging>=14.3 in /home/hadoopuser/.local/lib/python3.8/site-packages (from google-api-core<2.0.0,>=1.0.0->opencensus->ray) (20.9)\n",
      "Requirement already satisfied: google-auth<2.0dev,>=1.21.1 in /home/hadoopuser/.local/lib/python3.8/site-packages (from google-api-core<2.0.0,>=1.0.0->opencensus->ray) (1.29.0)\n",
      "Requirement already satisfied: googleapis-common-protos<2.0dev,>=1.6.0 in /home/hadoopuser/.local/lib/python3.8/site-packages (from google-api-core<2.0.0,>=1.0.0->opencensus->ray) (1.53.0)\n",
      "Requirement already satisfied: pyasn1-modules>=0.2.1 in /home/hadoopuser/anaconda3/lib/python3.8/site-packages (from google-auth<2.0dev,>=1.21.1->google-api-core<2.0.0,>=1.0.0->opencensus->ray) (0.2.8)\n",
      "Requirement already satisfied: rsa<5,>=3.1.4 in /home/hadoopuser/.local/lib/python3.8/site-packages (from google-auth<2.0dev,>=1.21.1->google-api-core<2.0.0,>=1.0.0->opencensus->ray) (4.7.2)\n",
      "Requirement already satisfied: cachetools<5.0,>=2.0.0 in /home/hadoopuser/.local/lib/python3.8/site-packages (from google-auth<2.0dev,>=1.21.1->google-api-core<2.0.0,>=1.0.0->opencensus->ray) (4.2.1)\n",
      "Requirement already satisfied: pyparsing>=2.0.2 in /home/hadoopuser/.local/lib/python3.8/site-packages (from packaging>=14.3->google-api-core<2.0.0,>=1.0.0->opencensus->ray) (2.4.7)\n",
      "Requirement already satisfied: pyasn1<0.5.0,>=0.4.6 in /home/hadoopuser/anaconda3/lib/python3.8/site-packages (from pyasn1-modules>=0.2.1->google-auth<2.0dev,>=1.21.1->google-api-core<2.0.0,>=1.0.0->opencensus->ray) (0.4.8)\n",
      "Requirement already satisfied: certifi>=2017.4.17 in /home/hadoopuser/anaconda3/lib/python3.8/site-packages (from requests->ray) (2020.6.20)\n",
      "Requirement already satisfied: urllib3<1.27,>=1.21.1 in /home/hadoopuser/anaconda3/lib/python3.8/site-packages (from requests->ray) (1.26.4)\n",
      "Requirement already satisfied: tensorboardX in /home/hadoopuser/.local/lib/python3.8/site-packages (2.2)\n",
      "Requirement already satisfied: numpy in /home/hadoopuser/anaconda3/lib/python3.8/site-packages (from tensorboardX) (1.19.1)\n",
      "Requirement already satisfied: protobuf>=3.8.0 in /home/hadoopuser/anaconda3/lib/python3.8/site-packages (from tensorboardX) (3.15.8)\n",
      "Requirement already satisfied: six>=1.9 in /home/hadoopuser/anaconda3/lib/python3.8/site-packages (from protobuf>=3.8.0->tensorboardX) (1.15.0)\n",
      "Requirement already satisfied: numerapi in /home/hadoopuser/.local/lib/python3.8/site-packages (2.4.5)\n",
      "Requirement already satisfied: python-dateutil in /home/hadoopuser/anaconda3/lib/python3.8/site-packages (from numerapi) (2.8.1)\n",
      "Requirement already satisfied: requests in /home/hadoopuser/anaconda3/lib/python3.8/site-packages (from numerapi) (2.25.1)\n",
      "Requirement already satisfied: click>=7.0 in /home/hadoopuser/anaconda3/lib/python3.8/site-packages (from numerapi) (7.1.2)\n",
      "Requirement already satisfied: pytz in /home/hadoopuser/anaconda3/lib/python3.8/site-packages (from numerapi) (2020.1)\n",
      "Requirement already satisfied: tqdm>=4.29.1 in /home/hadoopuser/.local/lib/python3.8/site-packages (from numerapi) (4.40.0)\n",
      "Requirement already satisfied: six>=1.5 in /home/hadoopuser/anaconda3/lib/python3.8/site-packages (from python-dateutil->numerapi) (1.15.0)\n",
      "Requirement already satisfied: idna<3,>=2.5 in /home/hadoopuser/anaconda3/lib/python3.8/site-packages (from requests->numerapi) (2.10)\n",
      "Requirement already satisfied: chardet<5,>=3.0.2 in /home/hadoopuser/anaconda3/lib/python3.8/site-packages (from requests->numerapi) (3.0.4)\n",
      "Requirement already satisfied: urllib3<1.27,>=1.21.1 in /home/hadoopuser/anaconda3/lib/python3.8/site-packages (from requests->numerapi) (1.26.4)\n",
      "Requirement already satisfied: certifi>=2017.4.17 in /home/hadoopuser/anaconda3/lib/python3.8/site-packages (from requests->numerapi) (2020.6.20)\n",
      "Requirement already satisfied: numerapi in /home/hadoopuser/.local/lib/python3.8/site-packages (2.4.5)\n",
      "Requirement already satisfied: requests in /home/hadoopuser/anaconda3/lib/python3.8/site-packages (from numerapi) (2.25.1)\n",
      "Requirement already satisfied: tqdm>=4.29.1 in /home/hadoopuser/.local/lib/python3.8/site-packages (from numerapi) (4.40.0)\n",
      "Requirement already satisfied: pytz in /home/hadoopuser/anaconda3/lib/python3.8/site-packages (from numerapi) (2020.1)\n",
      "Requirement already satisfied: python-dateutil in /home/hadoopuser/anaconda3/lib/python3.8/site-packages (from numerapi) (2.8.1)\n",
      "Requirement already satisfied: click>=7.0 in /home/hadoopuser/anaconda3/lib/python3.8/site-packages (from numerapi) (7.1.2)\n",
      "Requirement already satisfied: six>=1.5 in /home/hadoopuser/anaconda3/lib/python3.8/site-packages (from python-dateutil->numerapi) (1.15.0)\n",
      "Requirement already satisfied: idna<3,>=2.5 in /home/hadoopuser/anaconda3/lib/python3.8/site-packages (from requests->numerapi) (2.10)\n",
      "Requirement already satisfied: chardet<5,>=3.0.2 in /home/hadoopuser/anaconda3/lib/python3.8/site-packages (from requests->numerapi) (3.0.4)\n",
      "Requirement already satisfied: urllib3<1.27,>=1.21.1 in /home/hadoopuser/anaconda3/lib/python3.8/site-packages (from requests->numerapi) (1.26.4)\n",
      "Requirement already satisfied: certifi>=2017.4.17 in /home/hadoopuser/anaconda3/lib/python3.8/site-packages (from requests->numerapi) (2020.6.20)\n",
      "Requirement already satisfied: pip in /home/hadoopuser/anaconda3/lib/python3.8/site-packages (21.1.2)\n",
      "Collecting git+https://github.com/EpistasisLab/tpot@development\n",
      "  Cloning https://github.com/EpistasisLab/tpot (to revision development) to /tmp/pip-req-build-lc6_0i5b\n",
      "  Running command git clone -q https://github.com/EpistasisLab/tpot /tmp/pip-req-build-lc6_0i5b\n",
      "  Running command git checkout -b development --track origin/development\n",
      "  Switched to a new branch 'development'\n",
      "  Branch 'development' set up to track remote branch 'development' from 'origin'.\n",
      "Requirement already satisfied: numpy>=1.16.3 in /home/hadoopuser/anaconda3/lib/python3.8/site-packages (from TPOT==0.11.7) (1.19.1)\n",
      "Requirement already satisfied: scipy>=1.3.1 in /home/hadoopuser/anaconda3/lib/python3.8/site-packages (from TPOT==0.11.7) (1.5.2)\n",
      "Requirement already satisfied: scikit-learn>=0.22.0 in /home/hadoopuser/anaconda3/lib/python3.8/site-packages (from TPOT==0.11.7) (0.23.2)\n",
      "Requirement already satisfied: deap>=1.2 in /home/hadoopuser/.local/lib/python3.8/site-packages (from TPOT==0.11.7) (1.3.1)\n",
      "Requirement already satisfied: update_checker>=0.16 in /home/hadoopuser/.local/lib/python3.8/site-packages (from TPOT==0.11.7) (0.18.0)\n",
      "Requirement already satisfied: tqdm>=4.36.1 in /home/hadoopuser/.local/lib/python3.8/site-packages (from TPOT==0.11.7) (4.40.0)\n",
      "Requirement already satisfied: stopit>=1.1.1 in /home/hadoopuser/.local/lib/python3.8/site-packages (from TPOT==0.11.7) (1.1.2)\n",
      "Requirement already satisfied: pandas>=0.24.2 in /home/hadoopuser/.local/lib/python3.8/site-packages (from TPOT==0.11.7) (1.2.3)\n",
      "Requirement already satisfied: joblib>=0.13.2 in /home/hadoopuser/anaconda3/lib/python3.8/site-packages (from TPOT==0.11.7) (0.16.0)\n",
      "Requirement already satisfied: xgboost>=1.1.0 in /home/hadoopuser/anaconda3/lib/python3.8/site-packages (from TPOT==0.11.7) (1.4.2)\n",
      "Requirement already satisfied: pytz>=2017.3 in /home/hadoopuser/anaconda3/lib/python3.8/site-packages (from pandas>=0.24.2->TPOT==0.11.7) (2020.1)\n",
      "Requirement already satisfied: python-dateutil>=2.7.3 in /home/hadoopuser/anaconda3/lib/python3.8/site-packages (from pandas>=0.24.2->TPOT==0.11.7) (2.8.1)\n",
      "Requirement already satisfied: six>=1.5 in /home/hadoopuser/anaconda3/lib/python3.8/site-packages (from python-dateutil>=2.7.3->pandas>=0.24.2->TPOT==0.11.7) (1.15.0)\n",
      "Requirement already satisfied: threadpoolctl>=2.0.0 in /home/hadoopuser/.local/lib/python3.8/site-packages (from scikit-learn>=0.22.0->TPOT==0.11.7) (2.1.0)\n",
      "Requirement already satisfied: requests>=2.3.0 in /home/hadoopuser/anaconda3/lib/python3.8/site-packages (from update_checker>=0.16->TPOT==0.11.7) (2.25.1)\n",
      "Requirement already satisfied: chardet<5,>=3.0.2 in /home/hadoopuser/anaconda3/lib/python3.8/site-packages (from requests>=2.3.0->update_checker>=0.16->TPOT==0.11.7) (3.0.4)\n",
      "Requirement already satisfied: urllib3<1.27,>=1.21.1 in /home/hadoopuser/anaconda3/lib/python3.8/site-packages (from requests>=2.3.0->update_checker>=0.16->TPOT==0.11.7) (1.26.4)\n",
      "Requirement already satisfied: certifi>=2017.4.17 in /home/hadoopuser/anaconda3/lib/python3.8/site-packages (from requests>=2.3.0->update_checker>=0.16->TPOT==0.11.7) (2020.6.20)\n",
      "Requirement already satisfied: idna<3,>=2.5 in /home/hadoopuser/anaconda3/lib/python3.8/site-packages (from requests>=2.3.0->update_checker>=0.16->TPOT==0.11.7) (2.10)\n",
      "Requirement already satisfied: xgboost in /home/hadoopuser/anaconda3/lib/python3.8/site-packages (1.4.2)\n",
      "Requirement already satisfied: numpy in /home/hadoopuser/anaconda3/lib/python3.8/site-packages (from xgboost) (1.19.1)\n",
      "Requirement already satisfied: scipy in /home/hadoopuser/anaconda3/lib/python3.8/site-packages (from xgboost) (1.5.2)\n",
      "Requirement already satisfied: xgboost in /home/hadoopuser/anaconda3/lib/python3.8/site-packages (1.4.2)\n",
      "Requirement already satisfied: scipy in /home/hadoopuser/anaconda3/lib/python3.8/site-packages (from xgboost) (1.5.2)\n",
      "Requirement already satisfied: numpy in /home/hadoopuser/anaconda3/lib/python3.8/site-packages (from xgboost) (1.19.1)\n",
      "Requirement already satisfied: ipywidgets in /home/hadoopuser/.local/lib/python3.8/site-packages (7.6.3)\n",
      "Requirement already satisfied: widgetsnbextension~=3.5.0 in /home/hadoopuser/.local/lib/python3.8/site-packages (from ipywidgets) (3.5.1)\n",
      "Requirement already satisfied: ipykernel>=4.5.1 in /home/hadoopuser/anaconda3/lib/python3.8/site-packages (from ipywidgets) (5.3.4)\n",
      "Requirement already satisfied: ipython>=4.0.0 in /home/hadoopuser/anaconda3/lib/python3.8/site-packages (from ipywidgets) (7.19.0)\n",
      "Requirement already satisfied: jupyterlab-widgets>=1.0.0 in /home/hadoopuser/.local/lib/python3.8/site-packages (from ipywidgets) (1.0.0)\n",
      "Requirement already satisfied: traitlets>=4.3.1 in /home/hadoopuser/anaconda3/lib/python3.8/site-packages (from ipywidgets) (5.0.5)\n",
      "Requirement already satisfied: nbformat>=4.2.0 in /home/hadoopuser/.local/lib/python3.8/site-packages (from ipywidgets) (5.1.3)\n",
      "Requirement already satisfied: tornado>=4.2 in /home/hadoopuser/.local/lib/python3.8/site-packages (from ipykernel>=4.5.1->ipywidgets) (6.1)\n",
      "Requirement already satisfied: jupyter-client in /home/hadoopuser/anaconda3/lib/python3.8/site-packages (from ipykernel>=4.5.1->ipywidgets) (6.1.7)\n",
      "Requirement already satisfied: pickleshare in /home/hadoopuser/anaconda3/lib/python3.8/site-packages (from ipython>=4.0.0->ipywidgets) (0.7.5)\n",
      "Requirement already satisfied: backcall in /home/hadoopuser/anaconda3/lib/python3.8/site-packages (from ipython>=4.0.0->ipywidgets) (0.2.0)\n",
      "Requirement already satisfied: pexpect>4.3 in /home/hadoopuser/anaconda3/lib/python3.8/site-packages (from ipython>=4.0.0->ipywidgets) (4.8.0)\n",
      "Requirement already satisfied: decorator in /home/hadoopuser/anaconda3/lib/python3.8/site-packages (from ipython>=4.0.0->ipywidgets) (4.4.2)\n",
      "Requirement already satisfied: pygments in /home/hadoopuser/anaconda3/lib/python3.8/site-packages (from ipython>=4.0.0->ipywidgets) (2.7.2)\n",
      "Requirement already satisfied: jedi>=0.10 in /home/hadoopuser/anaconda3/lib/python3.8/site-packages (from ipython>=4.0.0->ipywidgets) (0.17.1)\n",
      "Requirement already satisfied: setuptools>=18.5 in /home/hadoopuser/.local/lib/python3.8/site-packages (from ipython>=4.0.0->ipywidgets) (56.0.0)\n",
      "Requirement already satisfied: prompt-toolkit!=3.0.0,!=3.0.1,<3.1.0,>=2.0.0 in /home/hadoopuser/anaconda3/lib/python3.8/site-packages (from ipython>=4.0.0->ipywidgets) (3.0.8)\n",
      "Requirement already satisfied: parso<0.8.0,>=0.7.0 in /home/hadoopuser/anaconda3/lib/python3.8/site-packages (from jedi>=0.10->ipython>=4.0.0->ipywidgets) (0.7.0)\n",
      "Requirement already satisfied: ipython-genutils in /home/hadoopuser/anaconda3/lib/python3.8/site-packages (from nbformat>=4.2.0->ipywidgets) (0.2.0)\n",
      "Requirement already satisfied: jupyter-core in /home/hadoopuser/anaconda3/lib/python3.8/site-packages (from nbformat>=4.2.0->ipywidgets) (4.6.3)\n",
      "Requirement already satisfied: jsonschema!=2.5.0,>=2.4 in /home/hadoopuser/anaconda3/lib/python3.8/site-packages (from nbformat>=4.2.0->ipywidgets) (3.2.0)\n",
      "Requirement already satisfied: attrs>=17.4.0 in /home/hadoopuser/anaconda3/lib/python3.8/site-packages (from jsonschema!=2.5.0,>=2.4->nbformat>=4.2.0->ipywidgets) (20.3.0)\n",
      "Requirement already satisfied: pyrsistent>=0.14.0 in /home/hadoopuser/anaconda3/lib/python3.8/site-packages (from jsonschema!=2.5.0,>=2.4->nbformat>=4.2.0->ipywidgets) (0.17.3)\n",
      "Requirement already satisfied: six>=1.11.0 in /home/hadoopuser/anaconda3/lib/python3.8/site-packages (from jsonschema!=2.5.0,>=2.4->nbformat>=4.2.0->ipywidgets) (1.15.0)\n",
      "Requirement already satisfied: ptyprocess>=0.5 in /home/hadoopuser/.local/lib/python3.8/site-packages (from pexpect>4.3->ipython>=4.0.0->ipywidgets) (0.7.0)\n",
      "Requirement already satisfied: wcwidth in /home/hadoopuser/anaconda3/lib/python3.8/site-packages (from prompt-toolkit!=3.0.0,!=3.0.1,<3.1.0,>=2.0.0->ipython>=4.0.0->ipywidgets) (0.2.5)\n",
      "Requirement already satisfied: notebook>=4.4.1 in /home/hadoopuser/anaconda3/lib/python3.8/site-packages (from widgetsnbextension~=3.5.0->ipywidgets) (6.1.4)\n",
      "Requirement already satisfied: terminado>=0.8.3 in /home/hadoopuser/.local/lib/python3.8/site-packages (from notebook>=4.4.1->widgetsnbextension~=3.5.0->ipywidgets) (0.9.4)\n",
      "Requirement already satisfied: pyzmq>=17 in /home/hadoopuser/anaconda3/lib/python3.8/site-packages (from notebook>=4.4.1->widgetsnbextension~=3.5.0->ipywidgets) (19.0.2)\n",
      "Requirement already satisfied: jinja2 in /home/hadoopuser/anaconda3/lib/python3.8/site-packages (from notebook>=4.4.1->widgetsnbextension~=3.5.0->ipywidgets) (2.11.2)\n",
      "Requirement already satisfied: nbconvert in /home/hadoopuser/anaconda3/lib/python3.8/site-packages (from notebook>=4.4.1->widgetsnbextension~=3.5.0->ipywidgets) (6.0.7)\n",
      "Requirement already satisfied: prometheus-client in /home/hadoopuser/anaconda3/lib/python3.8/site-packages (from notebook>=4.4.1->widgetsnbextension~=3.5.0->ipywidgets) (0.8.0)\n",
      "Requirement already satisfied: Send2Trash in /home/hadoopuser/anaconda3/lib/python3.8/site-packages (from notebook>=4.4.1->widgetsnbextension~=3.5.0->ipywidgets) (1.5.0)\n",
      "Requirement already satisfied: argon2-cffi in /home/hadoopuser/.local/lib/python3.8/site-packages (from notebook>=4.4.1->widgetsnbextension~=3.5.0->ipywidgets) (20.1.0)\n",
      "Requirement already satisfied: python-dateutil>=2.1 in /home/hadoopuser/anaconda3/lib/python3.8/site-packages (from jupyter-client->ipykernel>=4.5.1->ipywidgets) (2.8.1)\n",
      "Requirement already satisfied: cffi>=1.0.0 in /home/hadoopuser/anaconda3/lib/python3.8/site-packages (from argon2-cffi->notebook>=4.4.1->widgetsnbextension~=3.5.0->ipywidgets) (1.14.3)\n",
      "Requirement already satisfied: pycparser in /home/hadoopuser/.local/lib/python3.8/site-packages (from cffi>=1.0.0->argon2-cffi->notebook>=4.4.1->widgetsnbextension~=3.5.0->ipywidgets) (2.20)\n",
      "Requirement already satisfied: MarkupSafe>=0.23 in /home/hadoopuser/anaconda3/lib/python3.8/site-packages (from jinja2->notebook>=4.4.1->widgetsnbextension~=3.5.0->ipywidgets) (1.1.1)\n",
      "Requirement already satisfied: mistune<2,>=0.8.1 in /home/hadoopuser/anaconda3/lib/python3.8/site-packages (from nbconvert->notebook>=4.4.1->widgetsnbextension~=3.5.0->ipywidgets) (0.8.4)\n",
      "Requirement already satisfied: entrypoints>=0.2.2 in /home/hadoopuser/anaconda3/lib/python3.8/site-packages (from nbconvert->notebook>=4.4.1->widgetsnbextension~=3.5.0->ipywidgets) (0.3)\n",
      "Requirement already satisfied: pandocfilters>=1.4.1 in /home/hadoopuser/anaconda3/lib/python3.8/site-packages (from nbconvert->notebook>=4.4.1->widgetsnbextension~=3.5.0->ipywidgets) (1.4.3)\n",
      "Requirement already satisfied: defusedxml in /home/hadoopuser/anaconda3/lib/python3.8/site-packages (from nbconvert->notebook>=4.4.1->widgetsnbextension~=3.5.0->ipywidgets) (0.6.0)\n",
      "Requirement already satisfied: nbclient<0.6.0,>=0.5.0 in /home/hadoopuser/anaconda3/lib/python3.8/site-packages (from nbconvert->notebook>=4.4.1->widgetsnbextension~=3.5.0->ipywidgets) (0.5.1)\n",
      "Requirement already satisfied: testpath in /home/hadoopuser/anaconda3/lib/python3.8/site-packages (from nbconvert->notebook>=4.4.1->widgetsnbextension~=3.5.0->ipywidgets) (0.4.4)\n",
      "Requirement already satisfied: bleach in /home/hadoopuser/anaconda3/lib/python3.8/site-packages (from nbconvert->notebook>=4.4.1->widgetsnbextension~=3.5.0->ipywidgets) (3.2.1)\n",
      "Requirement already satisfied: jupyterlab-pygments in /home/hadoopuser/anaconda3/lib/python3.8/site-packages (from nbconvert->notebook>=4.4.1->widgetsnbextension~=3.5.0->ipywidgets) (0.1.2)\n",
      "Requirement already satisfied: nest-asyncio in /home/hadoopuser/anaconda3/lib/python3.8/site-packages (from nbclient<0.6.0,>=0.5.0->nbconvert->notebook>=4.4.1->widgetsnbextension~=3.5.0->ipywidgets) (1.4.2)\n",
      "Requirement already satisfied: async-generator in /home/hadoopuser/anaconda3/lib/python3.8/site-packages (from nbclient<0.6.0,>=0.5.0->nbconvert->notebook>=4.4.1->widgetsnbextension~=3.5.0->ipywidgets) (1.10)\n",
      "Requirement already satisfied: packaging in /home/hadoopuser/.local/lib/python3.8/site-packages (from bleach->nbconvert->notebook>=4.4.1->widgetsnbextension~=3.5.0->ipywidgets) (20.9)\n",
      "Requirement already satisfied: webencodings in /home/hadoopuser/anaconda3/lib/python3.8/site-packages (from bleach->nbconvert->notebook>=4.4.1->widgetsnbextension~=3.5.0->ipywidgets) (0.5.1)\n",
      "Requirement already satisfied: pyparsing>=2.0.2 in /home/hadoopuser/.local/lib/python3.8/site-packages (from packaging->bleach->nbconvert->notebook>=4.4.1->widgetsnbextension~=3.5.0->ipywidgets) (2.4.7)\n",
      "Requirement already satisfied: Sklearn_pandas in /home/hadoopuser/.local/lib/python3.8/site-packages (2.1.0)\n",
      "Requirement already satisfied: scikit-learn>=0.23.0 in /home/hadoopuser/anaconda3/lib/python3.8/site-packages (from Sklearn_pandas) (0.23.2)\n",
      "Requirement already satisfied: scipy>=1.5.1 in /home/hadoopuser/anaconda3/lib/python3.8/site-packages (from Sklearn_pandas) (1.5.2)\n",
      "Requirement already satisfied: pandas>=1.1.4 in /home/hadoopuser/.local/lib/python3.8/site-packages (from Sklearn_pandas) (1.2.3)\n",
      "Requirement already satisfied: numpy>=1.18.1 in /home/hadoopuser/anaconda3/lib/python3.8/site-packages (from Sklearn_pandas) (1.19.1)\n",
      "Requirement already satisfied: pytz>=2017.3 in /home/hadoopuser/anaconda3/lib/python3.8/site-packages (from pandas>=1.1.4->Sklearn_pandas) (2020.1)\n",
      "Requirement already satisfied: python-dateutil>=2.7.3 in /home/hadoopuser/anaconda3/lib/python3.8/site-packages (from pandas>=1.1.4->Sklearn_pandas) (2.8.1)\n",
      "Requirement already satisfied: six>=1.5 in /home/hadoopuser/anaconda3/lib/python3.8/site-packages (from python-dateutil>=2.7.3->pandas>=1.1.4->Sklearn_pandas) (1.15.0)\n",
      "Requirement already satisfied: joblib>=0.11 in /home/hadoopuser/anaconda3/lib/python3.8/site-packages (from scikit-learn>=0.23.0->Sklearn_pandas) (0.16.0)\n",
      "Requirement already satisfied: threadpoolctl>=2.0.0 in /home/hadoopuser/.local/lib/python3.8/site-packages (from scikit-learn>=0.23.0->Sklearn_pandas) (2.1.0)\n",
      "Requirement already satisfied: featuretools in /home/hadoopuser/.local/lib/python3.8/site-packages (0.23.3)\n",
      "Requirement already satisfied: click>=7.0.0 in /home/hadoopuser/anaconda3/lib/python3.8/site-packages (from featuretools) (7.1.2)\n",
      "Requirement already satisfied: dask[dataframe]>=2.12.0 in /home/hadoopuser/anaconda3/lib/python3.8/site-packages (from featuretools) (2021.4.1)\n",
      "Requirement already satisfied: tqdm>=4.32.0 in /home/hadoopuser/.local/lib/python3.8/site-packages (from featuretools) (4.40.0)\n",
      "Requirement already satisfied: cloudpickle>=0.4.0 in /home/hadoopuser/.local/lib/python3.8/site-packages (from featuretools) (1.6.0)\n",
      "Requirement already satisfied: scipy>=0.13.3 in /home/hadoopuser/anaconda3/lib/python3.8/site-packages (from featuretools) (1.5.2)\n",
      "Requirement already satisfied: pyyaml>=3.12 in /home/hadoopuser/anaconda3/lib/python3.8/site-packages (from featuretools) (5.3.1)\n",
      "Requirement already satisfied: psutil>=5.4.8 in /home/hadoopuser/anaconda3/lib/python3.8/site-packages (from featuretools) (5.7.2)\n",
      "Requirement already satisfied: distributed>=2.12.0 in /home/hadoopuser/anaconda3/lib/python3.8/site-packages (from featuretools) (2021.4.1)\n",
      "Requirement already satisfied: pandas!=1.1.0,!=1.1.1,<2.0.0,>=0.24.1 in /home/hadoopuser/.local/lib/python3.8/site-packages (from featuretools) (1.2.3)\n",
      "Requirement already satisfied: numpy>=1.13.3 in /home/hadoopuser/anaconda3/lib/python3.8/site-packages (from featuretools) (1.19.1)\n",
      "Requirement already satisfied: partd>=0.3.10 in /home/hadoopuser/.local/lib/python3.8/site-packages (from dask[dataframe]>=2.12.0->featuretools) (1.2.0)\n",
      "Requirement already satisfied: fsspec>=0.6.0 in /home/hadoopuser/.local/lib/python3.8/site-packages (from dask[dataframe]>=2.12.0->featuretools) (2021.4.0)\n",
      "Requirement already satisfied: toolz>=0.8.2 in /home/hadoopuser/anaconda3/lib/python3.8/site-packages (from dask[dataframe]>=2.12.0->featuretools) (0.10.0)\n",
      "Requirement already satisfied: tornado>=6.0.3 in /home/hadoopuser/.local/lib/python3.8/site-packages (from distributed>=2.12.0->featuretools) (6.1)\n",
      "Requirement already satisfied: setuptools in /home/hadoopuser/.local/lib/python3.8/site-packages (from distributed>=2.12.0->featuretools) (56.0.0)\n",
      "Requirement already satisfied: zict>=0.1.3 in /home/hadoopuser/.local/lib/python3.8/site-packages (from distributed>=2.12.0->featuretools) (2.0.0)\n",
      "Requirement already satisfied: tblib>=1.6.0 in /home/hadoopuser/.local/lib/python3.8/site-packages (from distributed>=2.12.0->featuretools) (1.7.0)\n",
      "Requirement already satisfied: sortedcontainers!=2.0.0,!=2.0.1 in /home/hadoopuser/.local/lib/python3.8/site-packages (from distributed>=2.12.0->featuretools) (2.3.0)\n",
      "Requirement already satisfied: msgpack>=0.6.0 in /home/hadoopuser/.local/lib/python3.8/site-packages (from distributed>=2.12.0->featuretools) (1.0.2)\n",
      "Requirement already satisfied: pytz>=2017.3 in /home/hadoopuser/anaconda3/lib/python3.8/site-packages (from pandas!=1.1.0,!=1.1.1,<2.0.0,>=0.24.1->featuretools) (2020.1)\n",
      "Requirement already satisfied: python-dateutil>=2.7.3 in /home/hadoopuser/anaconda3/lib/python3.8/site-packages (from pandas!=1.1.0,!=1.1.1,<2.0.0,>=0.24.1->featuretools) (2.8.1)\n",
      "Requirement already satisfied: locket in /home/hadoopuser/.local/lib/python3.8/site-packages (from partd>=0.3.10->dask[dataframe]>=2.12.0->featuretools) (0.2.1)\n",
      "Requirement already satisfied: six>=1.5 in /home/hadoopuser/anaconda3/lib/python3.8/site-packages (from python-dateutil>=2.7.3->pandas!=1.1.0,!=1.1.1,<2.0.0,>=0.24.1->featuretools) (1.15.0)\n",
      "Requirement already satisfied: heapdict in /home/hadoopuser/.local/lib/python3.8/site-packages (from zict>=0.1.3->distributed>=2.12.0->featuretools) (1.0.1)\n",
      "Requirement already satisfied: keras-tuner in /home/hadoopuser/.local/lib/python3.8/site-packages (1.0.2)\n",
      "Requirement already satisfied: tabulate in /home/hadoopuser/.local/lib/python3.8/site-packages (from keras-tuner) (0.8.9)\n",
      "Requirement already satisfied: numpy in /home/hadoopuser/anaconda3/lib/python3.8/site-packages (from keras-tuner) (1.19.1)\n",
      "Requirement already satisfied: requests in /home/hadoopuser/anaconda3/lib/python3.8/site-packages (from keras-tuner) (2.25.1)\n",
      "Requirement already satisfied: scipy in /home/hadoopuser/anaconda3/lib/python3.8/site-packages (from keras-tuner) (1.5.2)\n",
      "Requirement already satisfied: colorama in /home/hadoopuser/anaconda3/lib/python3.8/site-packages (from keras-tuner) (0.4.4)\n",
      "Requirement already satisfied: future in /home/hadoopuser/.local/lib/python3.8/site-packages (from keras-tuner) (0.18.2)\n",
      "Requirement already satisfied: scikit-learn in /home/hadoopuser/anaconda3/lib/python3.8/site-packages (from keras-tuner) (0.23.2)\n",
      "Requirement already satisfied: tqdm in /home/hadoopuser/.local/lib/python3.8/site-packages (from keras-tuner) (4.40.0)\n",
      "Requirement already satisfied: packaging in /home/hadoopuser/.local/lib/python3.8/site-packages (from keras-tuner) (20.9)\n",
      "Requirement already satisfied: terminaltables in /home/hadoopuser/.local/lib/python3.8/site-packages (from keras-tuner) (3.1.0)\n",
      "Requirement already satisfied: pyparsing>=2.0.2 in /home/hadoopuser/.local/lib/python3.8/site-packages (from packaging->keras-tuner) (2.4.7)\n",
      "Requirement already satisfied: chardet<5,>=3.0.2 in /home/hadoopuser/anaconda3/lib/python3.8/site-packages (from requests->keras-tuner) (3.0.4)\n",
      "Requirement already satisfied: idna<3,>=2.5 in /home/hadoopuser/anaconda3/lib/python3.8/site-packages (from requests->keras-tuner) (2.10)\n",
      "Requirement already satisfied: urllib3<1.27,>=1.21.1 in /home/hadoopuser/anaconda3/lib/python3.8/site-packages (from requests->keras-tuner) (1.26.4)\n",
      "Requirement already satisfied: certifi>=2017.4.17 in /home/hadoopuser/anaconda3/lib/python3.8/site-packages (from requests->keras-tuner) (2020.6.20)\n",
      "Requirement already satisfied: joblib>=0.11 in /home/hadoopuser/anaconda3/lib/python3.8/site-packages (from scikit-learn->keras-tuner) (0.16.0)\n",
      "Requirement already satisfied: threadpoolctl>=2.0.0 in /home/hadoopuser/.local/lib/python3.8/site-packages (from scikit-learn->keras-tuner) (2.1.0)\n",
      "Requirement already satisfied: deepgraph in /home/hadoopuser/.local/lib/python3.8/site-packages (0.2.3)\n",
      "Requirement already satisfied: numpy>=1.6 in /home/hadoopuser/anaconda3/lib/python3.8/site-packages (from deepgraph) (1.19.1)\n",
      "Requirement already satisfied: pandas>=0.17.0 in /home/hadoopuser/.local/lib/python3.8/site-packages (from deepgraph) (1.2.3)\n",
      "Requirement already satisfied: python-dateutil>=2.7.3 in /home/hadoopuser/anaconda3/lib/python3.8/site-packages (from pandas>=0.17.0->deepgraph) (2.8.1)\n",
      "Requirement already satisfied: pytz>=2017.3 in /home/hadoopuser/anaconda3/lib/python3.8/site-packages (from pandas>=0.17.0->deepgraph) (2020.1)\n",
      "Requirement already satisfied: six>=1.5 in /home/hadoopuser/anaconda3/lib/python3.8/site-packages (from python-dateutil>=2.7.3->pandas>=0.17.0->deepgraph) (1.15.0)\n",
      "All installed\n",
      "CPU times: user 2.37 s, sys: 515 ms, total: 2.88 s\n",
      "Wall time: 1min 51s\n"
     ]
    }
   ],
   "source": [
    "%%time\n",
    "#computing libraries\n",
    "!pip3 install distributed\n",
    "!pip3 install dask\n",
    "!pip3 install py4j\n",
    "!pip3 install findspark\n",
    "!pip3 install dask\n",
    "!pip3 install dask_yarn\n",
    "!pip3 install ray\n",
    "!pip3 install tensorboardX # for Ray lightGBM\n",
    "#retreive packages and install\n",
    "#numerapi for retreiving data of numerai\n",
    "!pip install numerapi\n",
    "!pip3 install numerapi\n",
    "#pip is the mother of package retreival (pip and pip3)\n",
    "!pip install --upgrade pip\n",
    "#Tpot is the algo of algos\n",
    "!pip3 install git+https://github.com/EpistasisLab/tpot@development\n",
    "#xgboost is a very good algo\n",
    "!pip install xgboost\n",
    "!pip3 install xgboost --upgrade\n",
    "#!pip install pystan\n",
    "#!pip install fbprophet\n",
    "!pip3 install ipywidgets\n",
    "!pip3 install Sklearn_pandas\n",
    "!pip3 install featuretools\n",
    "!pip3 install keras-tuner\n",
    "!pip3 install deepgraph\n",
    "print(\"All installed\")"
   ]
  },
  {
   "cell_type": "markdown",
   "metadata": {
    "id": "Yz3_9LTu_wNy"
   },
   "source": [
    "![](https://numer.ai/img/Numerai-Logo-Side-Black.8393ed16.png)\n",
    "\n",
    "\n",
    "- version 3: \n",
    "- version 4: \n",
    "- version 5: target nomi\n",
    "\n",
    "(https://jp.docs.numer.ai/numerai-tournament/new-users)"
   ]
  },
  {
   "cell_type": "markdown",
   "metadata": {
    "id": "AHJ77FbQ_wNz"
   },
   "source": [
    "# Libraries"
   ]
  },
  {
   "cell_type": "code",
   "execution_count": 2,
   "metadata": {
    "_cell_guid": "b1076dfc-b9ad-4769-8c92-a6c4dae69d19",
    "_uuid": "8f2839f25d086af736a60e9eeb907d3b93b6e0e5",
    "id": "dpj0gJ_r_wN0",
    "outputId": "4267f396-0f1a-4cd5-d401-379e74385023"
   },
   "outputs": [
    {
     "name": "stdout",
     "output_type": "stream",
     "text": [
      "Import completed\n",
      "CPU times: user 3.55 s, sys: 353 ms, total: 3.9 s\n",
      "Wall time: 3.9 s\n"
     ]
    }
   ],
   "source": [
    "%%time\n",
    "# Parallel computing\n",
    "import dask\n",
    "import dask.dataframe as dd\n",
    "import dask_yarn\n",
    "import ray\n",
    "from ray import tune\n",
    "from ray.tune.schedulers import ASHAScheduler\n",
    "import os\n",
    "import distributed\n",
    "import py4j\n",
    "import findspark\n",
    "import pyspark\n",
    "from pyspark import SparkConf, SparkContext\n",
    "from pyspark.sql import SparkSession\n",
    "from pyspark.sql import HiveContext\n",
    "from multiprocessing import Pool\n",
    "import deepgraph as dg\n",
    "\n",
    "# Data science\n",
    "import sklearn.datasets\n",
    "from sklearn.ensemble import GradientBoostingRegressor, RandomForestRegressor\n",
    "from sklearn.neural_network import MLPRegressor\n",
    "from sklearn.linear_model import ElasticNet, RANSACRegressor, HuberRegressor, PassiveAggressiveRegressor\n",
    "from sklearn.neighbors import KNeighborsRegressor\n",
    "from sklearn.svm import SVR, LinearSVR\n",
    "        \n",
    "# engineer features\n",
    "import featuretools as ft\n",
    "from featuretools import selection\n",
    "\n",
    "# General coding\n",
    "import numerapi\n",
    "import numpy as np\n",
    "import pandas as pd\n",
    "import sys\n",
    "import datetime\n",
    "import math\n",
    "import random\n",
    "import gc\n",
    "import pathlib\n",
    "from typing import List, NoReturn, Union, Tuple, Optional, Text, Generic, Callable, Dict\n",
    "from scipy.stats import spearmanr\n",
    "import joblib\n",
    "import csv\n",
    "import operator\n",
    "\n",
    "# model\n",
    "import lightgbm as lgb\n",
    "import xgboost as xgb\n",
    "from lightgbm import plot_importance\n",
    "import sklearn.metrics\n",
    "from sklearn import preprocessing\n",
    "from sklearn.metrics import accuracy_score, roc_auc_score, log_loss, mean_squared_error, mean_absolute_error, f1_score\n",
    "from sklearn.preprocessing import StandardScaler, MinMaxScaler, OneHotEncoder, QuantileTransformer\n",
    "from sklearn.model_selection import KFold, StratifiedKFold, TimeSeriesSplit, train_test_split\n",
    "from sklearn.preprocessing import LabelEncoder\n",
    "from xgboost import XGBRegressor, plot_importance\n",
    "import tensorflow as tf \n",
    "import kerastuner as kt # keras tuner!\n",
    "\n",
    "# visualize\n",
    "import matplotlib.pyplot as plt\n",
    "import matplotlib.style as style\n",
    "import seaborn as sns\n",
    "from matplotlib import pyplot\n",
    "from matplotlib.ticker import ScalarFormatter\n",
    "\n",
    "print(\"Import completed\")\n",
    "# You can write up to 5GB to the current directory (/kaggle/working/) that gets preserved as output when you create a version using \"Save & Run All\" \n",
    "# You can also write temporary files to /kaggle/temp/, but they won't be saved outside of the current session"
   ]
  },
  {
   "cell_type": "code",
   "execution_count": 3,
   "metadata": {
    "id": "y9MLTAdY_wN3",
    "outputId": "98a02d57-5fc9-47fa-f8b0-c7b7f1f49eca"
   },
   "outputs": [],
   "source": [
    "\"\"\"\n",
    "%%time\n",
    "!pip3 install py4j\n",
    "from py4j import *\n",
    "# Record time\n",
    "print(\"Current date and time: \",str(datetime.datetime.now()))\n",
    "\n",
    "# Computing: initiate Spark\n",
    "#findspark.init('/home/hadoopuser/spark-3.1.1-bin-hadoop3.2')\n",
    "conf = (SparkConf()\n",
    "       .set(\"spark.yarn.executor.memoryOverhead\", \"4096\")\n",
    "       .set(\"spark.kryoserializer.buffer.max.mb\", \"1024\"))\n",
    "sc = pyspark.SparkContext.getOrCreate(conf=conf)\n",
    "from pyspark.sql import SQLContext\n",
    "sqlcontext = SQLContext(sc)\n",
    "#after first run uncomment the next line as the spark1 is permanent\n",
    "#spark1= SparkSession.builder.appName('Ops').getOrCreate()\n",
    "\"\"\"\n",
    "# Initialize other\n",
    "sns.set_context(\"talk\")\n",
    "style.use('seaborn-colorblind')\n",
    "NAPI = numerapi.NumerAPI(verbosity=\"info\")"
   ]
  },
  {
   "cell_type": "markdown",
   "metadata": {
    "id": "KZz-Xe2S_wN4"
   },
   "source": [
    "# Config\n",
    "Here you can choose what you do: \n",
    "\n",
    "- Debug mode (using small proportion of data)?\n",
    "- Tuning or not?\n",
    "- Which target to predict?\n",
    "- Seed number?"
   ]
  },
  {
   "cell_type": "code",
   "execution_count": 4,
   "metadata": {
    "id": "8XMTWaC7_wN5"
   },
   "outputs": [],
   "source": [
    "class CFG:\n",
    "    DEBUG = True # debug option\n",
    "    TUNING = True # whether to use the KerasTuner or not\n",
    "    LOAD = True\n",
    "    DIR = ''\n",
    "    #INPUT_FILE_PATH = '../input/numerai-train-validation-with-kazutsugi-nomi/numerai_training_validation_target_nomi.csv'\n",
    "    OUTPUT_DIR = ''\n",
    "    TARGET = 'target' \n",
    "    SEED = 2021"
   ]
  },
  {
   "cell_type": "code",
   "execution_count": 5,
   "metadata": {
    "id": "3lIuvwgp_wN5",
    "outputId": "e70ac590-63c7-4955-89b5-9c1c94389c91"
   },
   "outputs": [
    {
     "name": "stderr",
     "output_type": "stream",
     "text": [
      "Start Logging...\n",
      "2021-05-30 00:47:26,324 INFO __main__: Start Logging...\n"
     ]
    }
   ],
   "source": [
    "# Logging is always nice for your experiment:)\n",
    "def init_logger(log_file=CFG.OUTPUT_DIR+'train.log'):\n",
    "    from logging import getLogger, INFO, FileHandler,  Formatter,  StreamHandler\n",
    "    logger = getLogger(__name__)\n",
    "    logger.setLevel(INFO)\n",
    "    handler1 = StreamHandler()\n",
    "    handler1.setFormatter(Formatter(\"%(message)s\"))\n",
    "    handler2 = FileHandler(filename=log_file)\n",
    "    handler2.setFormatter(Formatter(\"%(message)s\"))\n",
    "    logger.addHandler(handler1)\n",
    "    logger.addHandler(handler2)\n",
    "    return logger\n",
    "\n",
    "logger = init_logger()\n",
    "logger.info('Start Logging...')"
   ]
  },
  {
   "cell_type": "code",
   "execution_count": 6,
   "metadata": {
    "id": "y6OMRfvL_wN8",
    "outputId": "fe39fa2c-36f5-48fa-8020-df685a4a2db2"
   },
   "outputs": [
    {
     "name": "stderr",
     "output_type": "stream",
     "text": [
      "DEBUG : True\n",
      "2021-05-30 00:47:26,352 INFO __main__: DEBUG : True\n",
      "TUNING : True\n",
      "2021-05-30 00:47:26,354 INFO __main__: TUNING : True\n",
      "TARGET : target\n",
      "2021-05-30 00:47:26,355 INFO __main__: TARGET : target\n"
     ]
    }
   ],
   "source": [
    "logger.info('DEBUG : {}'.format(CFG.DEBUG))\n",
    "logger.info('TUNING : {}'.format(CFG.TUNING))\n",
    "logger.info('TARGET : {}'.format(CFG.TARGET))"
   ]
  },
  {
   "cell_type": "markdown",
   "metadata": {
    "id": "3HMXUewZ_wN9"
   },
   "source": [
    "# Tournament \n",
    "Get the data necessary\n"
   ]
  },
  {
   "cell_type": "code",
   "execution_count": 7,
   "metadata": {
    "id": "YazoKWJw_wN9",
    "outputId": "fa5341b9-6076-459f-8681-859a6b2c0674"
   },
   "outputs": [
    {
     "name": "stdout",
     "output_type": "stream",
     "text": [
      "CPU times: user 5 µs, sys: 1 µs, total: 6 µs\n",
      "Wall time: 9.54 µs\n"
     ]
    }
   ],
   "source": [
    "%%time\n",
    "#straight download if directory <1 gb takes 7minutes and 8 seconds the first time < 1 second second time\n",
    "# source: https://memotut.com/en/366a2d1c273507dd4b8c/\n",
    "DIR = \"numer\"\n",
    "def download_current_data(directory: str):\n",
    "        \"\"\"\n",
    "        Downloads the data for the current round\n",
    "        :param directory: The path to the directory where the data needs to be saved\n",
    "        \"\"\"\n",
    "        current_round = NAPI.get_current_round()\n",
    "        if os.path.isdir(f'{directory}/numerai_dataset_{current_round}/'):\n",
    "            print(f\"You already have the newest data! Current round is: {current_round}\")\n",
    "        else:\n",
    "            print(f\"Downloading new data for round: {current_round}!\")\n",
    "            NAPI.download_current_dataset(dest_path=directory, unzip=True)\n",
    "            \n",
    "def get_int(x):\n",
    "    try:\n",
    "        return int(x[3:])\n",
    "    except:\n",
    "        return 1000\n",
    "\n",
    "# Called 2x\n",
    "def read_data(data='train'):\n",
    "    # get data \n",
    "    if data == 'train':\n",
    "        df = pd.read_csv('https://numerai-public-datasets.s3-us-west-2.amazonaws.com/latest_numerai_training_data.csv.xz')\n",
    "    elif data == 'test':\n",
    "        df = pd.read_csv('https://numerai-public-datasets.s3-us-west-2.amazonaws.com/latest_numerai_tournament_data.csv.xz')\n",
    "    \n",
    "    # features\n",
    "    feature_cols = df.columns[df.columns.str.startswith('feature')]\n",
    "    \n",
    "    # map to int, to reduce the memory demand\n",
    "    mapping = {0.0 : 0, 0.25 : 1, 0.5 : 2, 0.75 : 3, 1.0 : 4}\n",
    "    for c in feature_cols:\n",
    "        df[c] = df[c].map(mapping).astype(np.uint8)\n",
    "        \n",
    "    # also cast era to int\n",
    "    df[\"era\"] = df[\"era\"].apply(get_int)\n",
    "    return df"
   ]
  },
  {
   "cell_type": "code",
   "execution_count": 8,
   "metadata": {
    "id": "Oy8O1Z4R_wOA",
    "outputId": "2b10ff2e-0393-4119-875f-d2f1eea1d063"
   },
   "outputs": [
    {
     "name": "stdout",
     "output_type": "stream",
     "text": [
      "Current date and time:  2021-05-30 00:47:26.421321\n",
      "(501808, 314)\n",
      "(1731016, 314)\n",
      "1731016\n",
      "Current date and time:  2021-05-30 00:57:37.815192\n",
      "CPU times: user 3min 59s, sys: 3min 50s, total: 7min 49s\n",
      "Wall time: 10min 11s\n"
     ]
    }
   ],
   "source": [
    "%%time\n",
    "print(\"Current date and time: \",str(datetime.datetime.now()))\n",
    "# Load data to variables\n",
    "train = read_data('train')\n",
    "test = read_data('test')\n",
    "print(train.shape)\n",
    "print(test.shape)\n",
    "print(len(test))\n",
    "print(\"Current date and time: \",str(datetime.datetime.now()))\n",
    "# till here it usually takes 10 minutes and 12gb of memory, memory peak at 15gb"
   ]
  },
  {
   "cell_type": "markdown",
   "metadata": {
    "id": "1iddIUrC_wOB"
   },
   "source": [
    "<h4> Measure memory usage </h4>"
   ]
  },
  {
   "cell_type": "code",
   "execution_count": 9,
   "metadata": {
    "id": "dJMxH4Fg_wOB"
   },
   "outputs": [
    {
     "name": "stdout",
     "output_type": "stream",
     "text": [
      "Current date and time:  2021-05-30 00:57:37.827440\n",
      "<class 'pandas.core.frame.DataFrame'>\n",
      "RangeIndex: 501808 entries, 0 to 501807\n",
      "Columns: 314 entries, id to target\n",
      "dtypes: float64(1), int64(1), object(2), uint8(310)\n",
      "memory usage: 220.6 MB\n",
      "<class 'pandas.core.frame.DataFrame'>\n",
      "RangeIndex: 1731016 entries, 0 to 1731015\n",
      "Columns: 314 entries, id to target\n",
      "dtypes: float64(1), int64(1), object(2), uint8(310)\n",
      "memory usage: 760.2 MB\n",
      "                 id  era   data_type  feature_intelligence1  \\\n",
      "0  n0003aa52cab36c2  121  validation                      1   \n",
      "1  n000920ed083903f  121  validation                      3   \n",
      "2  n0038e640522c4a6  121  validation                      4   \n",
      "3  n004ac94a87dc54b  121  validation                      3   \n",
      "4  n0052fe97ea0c05f  121  validation                      1   \n",
      "\n",
      "   feature_intelligence2  feature_intelligence3  feature_intelligence4  \\\n",
      "0                      3                      2                      2   \n",
      "1                      2                      3                      4   \n",
      "2                      0                      0                      4   \n",
      "3                      4                      4                      2   \n",
      "4                      2                      2                      1   \n",
      "\n",
      "   feature_intelligence5  feature_intelligence6  feature_intelligence7  ...  \\\n",
      "0                      0                      3                      2  ...   \n",
      "1                      2                      0                      0  ...   \n",
      "2                      4                      4                      4  ...   \n",
      "3                      0                      0                      0  ...   \n",
      "4                      4                      2                      2  ...   \n",
      "\n",
      "   feature_wisdom38  feature_wisdom39  feature_wisdom40  feature_wisdom41  \\\n",
      "0                 3                 3                 4                 3   \n",
      "1                 2                 2                 3                 4   \n",
      "2                 0                 0                 2                 1   \n",
      "3                 0                 0                 0                 1   \n",
      "4                 2                 3                 0                 0   \n",
      "\n",
      "   feature_wisdom42  feature_wisdom43  feature_wisdom44  feature_wisdom45  \\\n",
      "0                 2                 2                 4                 0   \n",
      "1                 3                 2                 2                 2   \n",
      "2                 0                 0                 2                 2   \n",
      "3                 0                 0                 0                 1   \n",
      "4                 3                 4                 0                 1   \n",
      "\n",
      "   feature_wisdom46  target  \n",
      "0                 0    0.25  \n",
      "1                 2    0.50  \n",
      "2                 0    1.00  \n",
      "3                 1    0.50  \n",
      "4                 4    0.75  \n",
      "\n",
      "[5 rows x 314 columns]\n",
      "CPU times: user 519 ms, sys: 9.83 ms, total: 529 ms\n",
      "Wall time: 523 ms\n"
     ]
    }
   ],
   "source": [
    "%%time\n",
    "print(\"Current date and time: \",str(datetime.datetime.now()))\n",
    "#memory usages\n",
    "train.info(memory_usage='deep')\n",
    "test.info(memory_usage='deep')\n",
    "print(test.head())"
   ]
  },
  {
   "cell_type": "code",
   "execution_count": 10,
   "metadata": {
    "id": "iELY_YHG_wOC",
    "outputId": "62bcad35-ed4d-43f5-d7d1-f30d88de8836"
   },
   "outputs": [
    {
     "name": "stdout",
     "output_type": "stream",
     "text": [
      "(137779, 314)\n"
     ]
    }
   ],
   "source": [
    "#create validation dataset from test and validation data\n",
    "val = test[test[\"data_type\"] == \"validation\"].reset_index(drop = True)\n",
    "print(val.shape)"
   ]
  },
  {
   "cell_type": "code",
   "execution_count": 11,
   "metadata": {
    "id": "M-DkEwRN_wOC"
   },
   "outputs": [],
   "source": [
    "#DROPS\n",
    "# remove data_type to save memory\n",
    "train.drop(columns=[\"data_type\"], inplace=True)\n",
    "val.drop(columns=[\"data_type\"], inplace=True)\n",
    "test.drop(columns=[\"data_type\"], inplace=True)"
   ]
  },
  {
   "cell_type": "code",
   "execution_count": 12,
   "metadata": {
    "id": "TTn1-odO_wOD",
    "outputId": "2d6b4127-f0a5-40ca-b99e-4b92d39533e6"
   },
   "outputs": [
    {
     "name": "stderr",
     "output_type": "stream",
     "text": [
      "./numerai_dataset_266.zip: 100%|█████████▉| 406M/406M [04:19<00:00, 1.52MB/s]   2021-05-30 01:02:00,874 INFO numerapi.base_api: unzipping file...\n",
      "./numerai_dataset_266.zip: 406MB [04:30, 1.52MB/s]                           "
     ]
    },
    {
     "name": "stdout",
     "output_type": "stream",
     "text": [
      "Current round:  266\n",
      "The number of records: train 501,808, valid 137,779, test 1,731,016\n"
     ]
    }
   ],
   "source": [
    "# TODO store data to CSV files on Google Drive for rerun of model from EDA and on Kaggle/Colab/Server\n",
    "napi = numerapi.NumerAPI(verbosity=\"info\")\n",
    "# download current dataset\n",
    "napi.download_current_dataset(unzip=True)\n",
    "current_ds = napi.get_current_round()\n",
    "print('Current round: ',current_ds)\n",
    "latest_round = os.path.join('numerai_dataset_'+str(current_ds))\n",
    "\n",
    "#first investigation stats, how many columns and rows do we got\n",
    "print('The number of records: train {:,}, valid {:,}, test {:,}'.format(train.shape[0], val.shape[0], test.shape[0]))"
   ]
  },
  {
   "cell_type": "markdown",
   "metadata": {
    "id": "fRBQ1JuO_wOD"
   },
   "source": [
    "# EDA (Exploratory Data Analysis) & Feature engineering\n"
   ]
  },
  {
   "cell_type": "code",
   "execution_count": 13,
   "metadata": {
    "id": "msAG5ZYX_wOD",
    "outputId": "7c3ce547-3795-4493-bf0a-ca7568a69638"
   },
   "outputs": [
    {
     "name": "stdout",
     "output_type": "stream",
     "text": [
      "There are 310 features.\n"
     ]
    }
   ],
   "source": [
    "#11.5gb memory in use\n",
    "# features\n",
    "feature_cols = train.columns[train.columns.str.startswith('feature')]\n",
    "features = [f for f in train.columns.values.tolist() if 'feature' in f]\n",
    "print('There are {} features.'.format(len(features)))\n"
   ]
  },
  {
   "cell_type": "markdown",
   "metadata": {
    "id": "f_gSbXbY_wOE"
   },
   "source": [
    "310\n",
    "\n",
    "- intelligence (1 ~ 12)\n",
    "- charisma (1 ~ 86)\n",
    "- strength (1 ~ 38)\n",
    "- dexterity (1 ~ 14)\n",
    "- constitution (1 ~ 114)\n",
    "- wisdom (1 ~ 46)\n",
    "\n"
   ]
  },
  {
   "cell_type": "code",
   "execution_count": 14,
   "metadata": {
    "id": "IqQYRAnO_wOE",
    "outputId": "8ebea887-7f44-4865-d109-afc4fa268a5a"
   },
   "outputs": [
    {
     "name": "stdout",
     "output_type": "stream",
     "text": [
      "<class 'pandas.core.frame.DataFrame'>\n",
      "RangeIndex: 137779 entries, 0 to 137778\n",
      "Columns: 313 entries, id to target\n",
      "dtypes: float64(1), int64(1), object(1), uint8(310)\n",
      "memory usage: 43.9+ MB\n",
      "None\n",
      "CPU times: user 5min 37s, sys: 1.04 s, total: 5min 38s\n",
      "Wall time: 5min 40s\n"
     ]
    }
   ],
   "source": [
    "%%time\n",
    "val_spark = spark.createDataFrame(val)\n",
    "print(val.info())"
   ]
  },
  {
   "cell_type": "markdown",
   "metadata": {
    "id": "bi-GhHOP_wOG"
   },
   "source": [
    "## Feature engineering"
   ]
  },
  {
   "cell_type": "code",
   "execution_count": 15,
   "metadata": {
    "id": "cl2apoa__wOG"
   },
   "outputs": [],
   "source": [
    "#TODO add the log and higher orders\n",
    "# TODO multithreading\n",
    "def get_group_stats(df: pd.DataFrame) -> pd.DataFrame:\n",
    "        \"\"\"\n",
    "        Create features by calculating statistical moments for each group.\n",
    "\n",
    "        :param df: Pandas DataFrame containing all features\n",
    "        \"\"\"\n",
    "        for group in [\"1\",\"0\",\"2\",\"3\",\"4\",\"5\",\"6\",\"7\",\"8\",\"9\",\"10\",\"11\",\"12\",\"13\",\"14\",\"15\",\"16\",\"17\",\"intelligence\", \"wisdom\", \"charisma\", \"dexterity\", \"strength\", \"constitution\"]:\n",
    "            cols = [col for col in df.columns if group in col]\n",
    "            df[f\"feature_{group}_mean\"] = df[cols].mean(axis=1)\n",
    "            df[f\"feature_{group}_median\"] = df[cols].median(axis=1)\n",
    "            #df[f\"feature_{group}_mad\"] = df[cols].mad(axis=1)\n",
    "            #df[f\"feature_{group}_product\"] = df[cols].product(axis=1)\n",
    "            df[f\"feature_{group}_std\"] = df[cols].std(axis=1)\n",
    "            #df[f\"feature_{group}_var\"] = df[cols].var(axis=1)          \n",
    "            df[f\"feature_{group}_skew\"] = df[cols].skew(axis=1)\n",
    "            df[f\"feature_{group}_sum\"] = df[cols].sum(axis=1)\n",
    "            df[f\"feature_{group}_kurt\"] = df[cols].kurt(axis=1)\n",
    "            #df[f\"feature_{group}_min\"] = df[cols].min(axis=1) \n",
    "            #df[f\"feature_{group}_max\"] = df[cols].max(axis=1)\n",
    "          \n",
    "        return df\n",
    "\n"
   ]
  },
  {
   "cell_type": "code",
   "execution_count": 16,
   "metadata": {
    "id": "xQ_L0GnR_wOG"
   },
   "outputs": [
    {
     "name": "stdout",
     "output_type": "stream",
     "text": [
      "Current date and time:  2021-05-30 01:07:56.257561\n",
      "                 id  era  feature_intelligence1  feature_intelligence2  \\\n",
      "0  n000315175b67977    1                      0                      2   \n",
      "1  n0014af834a96cdd    1                      0                      0   \n",
      "2  n001c93979ac41d4    1                      1                      2   \n",
      "3  n0034e4143f22a13    1                      4                      0   \n",
      "4  n00679d1a636062f    1                      1                      1   \n",
      "\n",
      "   feature_intelligence3  feature_intelligence4  feature_intelligence5  \\\n",
      "0                      1                      0                      2   \n",
      "1                      0                      1                      2   \n",
      "2                      1                      1                      4   \n",
      "3                      0                      2                      2   \n",
      "4                      1                      1                      0   \n",
      "\n",
      "   feature_intelligence6  feature_intelligence7  feature_intelligence8  ...  \\\n",
      "0                      1                      1                      1  ...   \n",
      "1                      0                      0                      1  ...   \n",
      "2                      3                      3                      1  ...   \n",
      "3                      1                      1                      3  ...   \n",
      "4                      1                      2                      1  ...   \n",
      "\n",
      "   feature_strength_std  feature_strength_skew  feature_strength_sum  \\\n",
      "0              1.171314              -0.372064                    73   \n",
      "1              1.239465               0.220625                    62   \n",
      "2              1.159106               1.258705                    31   \n",
      "3              1.328107               0.332149                    60   \n",
      "4              1.050638               1.548723                    52   \n",
      "\n",
      "   feature_strength_kurt  feature_constitution_mean  \\\n",
      "0              -0.718166                   1.710526   \n",
      "1              -0.825539                   2.578947   \n",
      "2               0.887201                   1.675439   \n",
      "3              -0.936889                   1.719298   \n",
      "4               2.147676                   2.035088   \n",
      "\n",
      "   feature_constitution_median  feature_constitution_std  \\\n",
      "0                          2.0                  1.102882   \n",
      "1                          3.0                  1.336319   \n",
      "2                          2.0                  1.327021   \n",
      "3                          1.0                  1.286477   \n",
      "4                          2.0                  1.579346   \n",
      "\n",
      "   feature_constitution_skew  feature_constitution_sum  \\\n",
      "0                   0.276155                       195   \n",
      "1                  -0.794938                       294   \n",
      "2                   0.179824                       191   \n",
      "3                   0.541559                       196   \n",
      "4                   0.092206                       232   \n",
      "\n",
      "   feature_constitution_kurt  \n",
      "0                  -0.478054  \n",
      "1                  -0.420935  \n",
      "2                  -1.165781  \n",
      "3                  -0.919196  \n",
      "4                  -1.571994  \n",
      "\n",
      "[5 rows x 457 columns]\n",
      "                 id  era  feature_intelligence1  feature_intelligence2  \\\n",
      "0  n0003aa52cab36c2  121                      1                      3   \n",
      "1  n000920ed083903f  121                      3                      2   \n",
      "2  n0038e640522c4a6  121                      4                      0   \n",
      "3  n004ac94a87dc54b  121                      3                      4   \n",
      "4  n0052fe97ea0c05f  121                      1                      2   \n",
      "\n",
      "   feature_intelligence3  feature_intelligence4  feature_intelligence5  \\\n",
      "0                      2                      2                      0   \n",
      "1                      3                      4                      2   \n",
      "2                      0                      4                      4   \n",
      "3                      4                      2                      0   \n",
      "4                      2                      1                      4   \n",
      "\n",
      "   feature_intelligence6  feature_intelligence7  feature_intelligence8  ...  \\\n",
      "0                      3                      2                      1  ...   \n",
      "1                      0                      0                      3  ...   \n",
      "2                      4                      4                      4  ...   \n",
      "3                      0                      0                      2  ...   \n",
      "4                      2                      2                      1  ...   \n",
      "\n",
      "   feature_strength_std  feature_strength_skew  feature_strength_sum  \\\n",
      "0              1.308958              -0.298737                    93   \n",
      "1              1.370280               0.407644                    58   \n",
      "2              1.435181              -0.013474                    88   \n",
      "3              1.388840              -0.053630                    86   \n",
      "4              1.372614               1.039589                    45   \n",
      "\n",
      "   feature_strength_kurt  feature_constitution_mean  \\\n",
      "0              -1.057233                   2.157895   \n",
      "1              -1.057543                   1.578947   \n",
      "2              -1.372919                   1.771930   \n",
      "3              -1.298953                   2.359649   \n",
      "4              -0.041647                   1.789474   \n",
      "\n",
      "   feature_constitution_median  feature_constitution_std  \\\n",
      "0                          2.0                  1.454799   \n",
      "1                          1.0                  1.426021   \n",
      "2                          2.0                  1.481658   \n",
      "3                          2.0                  1.297562   \n",
      "4                          2.0                  1.333527   \n",
      "\n",
      "   feature_constitution_skew  feature_constitution_sum  \\\n",
      "0                   0.088543                       246   \n",
      "1                   0.424837                       180   \n",
      "2                   0.268853                       202   \n",
      "3                  -0.130198                       269   \n",
      "4                   0.121465                       204   \n",
      "\n",
      "   feature_constitution_kurt  \n",
      "0                  -1.516614  \n",
      "1                  -1.230043  \n",
      "2                  -1.267246  \n",
      "3                  -1.287576  \n",
      "4                  -1.064972  \n",
      "\n",
      "[5 rows x 457 columns]\n",
      "                 id  era  feature_intelligence1  feature_intelligence2  \\\n",
      "0  n0003aa52cab36c2  121                      1                      3   \n",
      "1  n000920ed083903f  121                      3                      2   \n",
      "2  n0038e640522c4a6  121                      4                      0   \n",
      "3  n004ac94a87dc54b  121                      3                      4   \n",
      "4  n0052fe97ea0c05f  121                      1                      2   \n",
      "\n",
      "   feature_intelligence3  feature_intelligence4  feature_intelligence5  \\\n",
      "0                      2                      2                      0   \n",
      "1                      3                      4                      2   \n",
      "2                      0                      4                      4   \n",
      "3                      4                      2                      0   \n",
      "4                      2                      1                      4   \n",
      "\n",
      "   feature_intelligence6  feature_intelligence7  feature_intelligence8  ...  \\\n",
      "0                      3                      2                      1  ...   \n",
      "1                      0                      0                      3  ...   \n",
      "2                      4                      4                      4  ...   \n",
      "3                      0                      0                      2  ...   \n",
      "4                      2                      2                      1  ...   \n",
      "\n",
      "   feature_strength_std  feature_strength_skew  feature_strength_sum  \\\n",
      "0              1.308958              -0.298737                    93   \n",
      "1              1.370280               0.407644                    58   \n",
      "2              1.435181              -0.013474                    88   \n",
      "3              1.388840              -0.053630                    86   \n",
      "4              1.372614               1.039589                    45   \n",
      "\n",
      "   feature_strength_kurt  feature_constitution_mean  \\\n",
      "0              -1.057233                   2.157895   \n",
      "1              -1.057543                   1.578947   \n",
      "2              -1.372919                   1.771930   \n",
      "3              -1.298953                   2.359649   \n",
      "4              -0.041647                   1.789474   \n",
      "\n",
      "   feature_constitution_median  feature_constitution_std  \\\n",
      "0                          2.0                  1.454799   \n",
      "1                          1.0                  1.426021   \n",
      "2                          2.0                  1.481658   \n",
      "3                          2.0                  1.297562   \n",
      "4                          2.0                  1.333527   \n",
      "\n",
      "   feature_constitution_skew  feature_constitution_sum  \\\n",
      "0                   0.088543                       246   \n",
      "1                   0.424837                       180   \n",
      "2                   0.268853                       202   \n",
      "3                  -0.130198                       269   \n",
      "4                   0.121465                       204   \n",
      "\n",
      "   feature_constitution_kurt  \n",
      "0                  -1.516614  \n",
      "1                  -1.230043  \n",
      "2                  -1.267246  \n",
      "3                  -1.287576  \n",
      "4                  -1.064972  \n",
      "\n",
      "[5 rows x 457 columns]\n",
      "CPU times: user 4min 22s, sys: 59.1 s, total: 5min 21s\n",
      "Wall time: 5min 21s\n"
     ]
    }
   ],
   "source": [
    "%%time\n",
    "#store complete frames\n",
    "train_orig = train\n",
    "test_orig = test\n",
    "val_orig = val\n",
    "# proram to Dask or Ray\n",
    "print(\"Current date and time: \",str(datetime.datetime.now()))\n",
    "# Add group statistics features\n",
    "train = get_group_stats(train)\n",
    "print(train.head())\n",
    "test = get_group_stats(test)\n",
    "print(test.head())\n",
    "val = get_group_stats(val)\n",
    "print(val.head())\n",
    "# Feature engineering with featuretools \n",
    "# theory https://medium.com/dataexplorations/tool-review-can-featuretools-simplify-the-process-of-feature-engineering-5d165100b0c3\n",
    "# example https://www.programmersought.com/article/68271856160/"
   ]
  },
  {
   "cell_type": "code",
   "execution_count": 17,
   "metadata": {
    "id": "gp69uRZc_wOG"
   },
   "outputs": [
    {
     "name": "stdout",
     "output_type": "stream",
     "text": [
      "0    0.50\n",
      "1    0.25\n",
      "2    0.25\n",
      "3    0.25\n",
      "4    0.75\n",
      "Name: target, dtype: float64\n",
      "There are 454 features.\n"
     ]
    }
   ],
   "source": [
    "#TODO make complete frames\n",
    "print(train[f'target'].head())\n",
    "#Takes 15 minutes to finish this part on Xeon 110gb ddr3, 2x e5-2693v2\n",
    "features = [f for f in train.columns.values.tolist() if 'feature' in f]\n",
    "print('There are {} features.'.format(len(features)))"
   ]
  },
  {
   "cell_type": "code",
   "execution_count": 18,
   "metadata": {
    "id": "X1TzUQ_0_wOH"
   },
   "outputs": [
    {
     "data": {
      "text/plain": [
       "'\\n%%time\\nprint(\"Current date and time: \",str(datetime.datetime.now()))\\nX_train = train[features].to_numpy()\\ny_train = train[f\\'target\\']\\n\\n#selection 1\\n# Initialize an empty array to hold feature importances\\nfeature_importances = np.zeros(X_train.shape[1])\\n\\n# Create the model with several hyperparameters\\nmodellgb = lgb.LGBMRegressor(objective=\\'binary\\', boosting_type = \\'goss\\', n_estimators = 10000, class_weight = \\'balanced\\')\\n\\n# Fit the model twice to avoid overfitting\\nfor i in range(2):\\n    \\n    # Split into training and validation set\\n    train_features, valid_features, train_y, valid_y = train_test_split(X_train, y_train, test_size = 0.25, random_state = i)\\n    \\n    # Train using early stopping\\n    modellgb.fit(train_features, train_y, early_stopping_rounds=100, eval_set = [(valid_features, valid_y)], \\n              eval_metric = \\'auc\\', verbose = 200)\\n    \\n    # Record the feature importances\\n    feature_importances += modellgb.feature_importances_\\n    \\n# Make sure to average feature importances! \\nfeature_importances = feature_importances / 2\\nfeature_importances = pd.DataFrame({\\'feature\\': list(features), \\'importance\\': feature_importances}).sort_values(\\'importance\\', ascending = False)\\n'"
      ]
     },
     "execution_count": 18,
     "metadata": {},
     "output_type": "execute_result"
    }
   ],
   "source": [
    "\"\"\"\n",
    "%%time\n",
    "print(\"Current date and time: \",str(datetime.datetime.now()))\n",
    "X_train = train[features].to_numpy()\n",
    "y_train = train[f'target']\n",
    "\n",
    "#selection 1\n",
    "# Initialize an empty array to hold feature importances\n",
    "feature_importances = np.zeros(X_train.shape[1])\n",
    "\n",
    "# Create the model with several hyperparameters\n",
    "modellgb = lgb.LGBMRegressor(objective='binary', boosting_type = 'goss', n_estimators = 10000, class_weight = 'balanced')\n",
    "\n",
    "# Fit the model twice to avoid overfitting\n",
    "for i in range(2):\n",
    "    \n",
    "    # Split into training and validation set\n",
    "    train_features, valid_features, train_y, valid_y = train_test_split(X_train, y_train, test_size = 0.25, random_state = i)\n",
    "    \n",
    "    # Train using early stopping\n",
    "    modellgb.fit(train_features, train_y, early_stopping_rounds=100, eval_set = [(valid_features, valid_y)], \n",
    "              eval_metric = 'auc', verbose = 200)\n",
    "    \n",
    "    # Record the feature importances\n",
    "    feature_importances += modellgb.feature_importances_\n",
    "    \n",
    "# Make sure to average feature importances! \n",
    "feature_importances = feature_importances / 2\n",
    "feature_importances = pd.DataFrame({'feature': list(features), 'importance': feature_importances}).sort_values('importance', ascending = False)\n",
    "\"\"\""
   ]
  },
  {
   "cell_type": "code",
   "execution_count": 19,
   "metadata": {
    "id": "CNaKyM8k_wOH"
   },
   "outputs": [
    {
     "data": {
      "text/plain": [
       "\"\\n# LGB feature importances\\nprint('There are {} features.'.format(len(features)))\\nprint('LGB feature importances:')\\nprint(feature_importances.feature[0:50])\\n#Select importance\\nlgbimp = 4.00 #adjust text\\n# Find the features with zero importance\\nzero_features = list(feature_importances[feature_importances['importance'] <= lgbimp]['feature'])\\nprint('There are %d features with lower than 4.00 importance' % len(zero_features))\\nfeature_importances.tail()\\n\""
      ]
     },
     "execution_count": 19,
     "metadata": {},
     "output_type": "execute_result"
    }
   ],
   "source": [
    "\"\"\"\n",
    "# LGB feature importances\n",
    "print('There are {} features.'.format(len(features)))\n",
    "print('LGB feature importances:')\n",
    "print(feature_importances.feature[0:50])\n",
    "#Select importance\n",
    "lgbimp = 4.00 #adjust text\n",
    "# Find the features with zero importance\n",
    "zero_features = list(feature_importances[feature_importances['importance'] <= lgbimp]['feature'])\n",
    "print('There are %d features with lower than 4.00 importance' % len(zero_features))\n",
    "feature_importances.tail()\n",
    "\"\"\""
   ]
  },
  {
   "cell_type": "code",
   "execution_count": 20,
   "metadata": {
    "id": "4BhVUAZE_wOI"
   },
   "outputs": [
    {
     "name": "stdout",
     "output_type": "stream",
     "text": [
      "LGB model:\n",
      "Training selection 1 shape:  (501808, 457)\n",
      "Testing selection 1 shape:  (1731016, 457)\n",
      "There are 454 features.\n"
     ]
    }
   ],
   "source": [
    "#DROPS\n",
    "#train = train.drop(columns = zero_features)\n",
    "#test = test.drop(columns = zero_features)\n",
    "#val = val.drop(columns = zero_features)\n",
    "print('LGB model:')\n",
    "print('Training selection 1 shape: ', train.shape)\n",
    "print('Testing selection 1 shape: ', test.shape)\n",
    "features = [f for f in train.columns.values.tolist() if 'feature' in f]\n",
    "print('There are {} features.'.format(len(features)))"
   ]
  },
  {
   "cell_type": "code",
   "execution_count": 21,
   "metadata": {
    "id": "gBAXC-44_wOK"
   },
   "outputs": [
    {
     "name": "stdout",
     "output_type": "stream",
     "text": [
      "There are 454 features.\n"
     ]
    }
   ],
   "source": [
    "features = [f for f in train.columns.values.tolist() if 'feature' in f]\n",
    "print('There are {} features.'.format(len(features)))"
   ]
  },
  {
   "cell_type": "code",
   "execution_count": 22,
   "metadata": {
    "id": "F_3JzzS5_wOK"
   },
   "outputs": [
    {
     "name": "stdout",
     "output_type": "stream",
     "text": [
      "XGB model:\n",
      "Training selection 2 shape:  (501808, 457)\n",
      "Testing selection 2 shape:  (1731016, 457)\n"
     ]
    }
   ],
   "source": [
    "#DROPS\n",
    "#Turn off to raise the amont of features skipping XGB of the first step \"\"\"\"\"\"\n",
    "#keep <10% of features per model\n",
    "#train = train.drop(columns = zero_features2)\n",
    "#test = test.drop(columns = zero_features2)\n",
    "#val = val.drop(columns = zero_features2)\n",
    "print('XGB model:')\n",
    "print('Training selection 2 shape: ', train.shape)\n",
    "print('Testing selection 2 shape: ', test.shape)"
   ]
  },
  {
   "cell_type": "code",
   "execution_count": 23,
   "metadata": {
    "id": "aq3A4f_5_wOL"
   },
   "outputs": [
    {
     "name": "stdout",
     "output_type": "stream",
     "text": [
      "There are 454 features.\n"
     ]
    }
   ],
   "source": [
    "features = [f for f in train.columns.values.tolist() if 'feature' in f]\n",
    "print('There are {} features.'.format(len(features)))\n",
    "#https://www.kaggle.com/willkoehrsen/introduction-to-feature-selection\n",
    "def plot_feature_importances(df, threshold = 0.9):\n",
    "    \"\"\"\n",
    "    Plots 15 most important features and the cumulative importance of features.\n",
    "    Prints the number of features needed to reach threshold cumulative importance.\n",
    "    \n",
    "    Parameters\n",
    "    --------\n",
    "    df : dataframe\n",
    "        Dataframe of feature importances. Columns must be feature and importance\n",
    "    threshold : float, default = 0.9\n",
    "        Threshold for prining information about cumulative importances\n",
    "        \n",
    "    Return\n",
    "    --------\n",
    "    df : dataframe\n",
    "        Dataframe ordered by feature importances with a normalized column (sums to 1)\n",
    "        and a cumulative importance column\n",
    "    \n",
    "    \"\"\"\n",
    "    \n",
    "    plt.rcParams['font.size'] = 18\n",
    "    \n",
    "    # Sort features according to importance\n",
    "    df = df.sort_values('importance', ascending = False).reset_index()\n",
    "    \n",
    "    # Normalize the feature importances to add up to one\n",
    "    df['importance_normalized'] = df['importance'] / df['importance'].sum()\n",
    "    df['cumulative_importance'] = np.cumsum(df['importance_normalized'])\n",
    "\n",
    "    # Make a horizontal bar chart of feature importances\n",
    "    plt.figure(figsize = (10, 6))\n",
    "    ax = plt.subplot()\n",
    "    \n",
    "    # Need to reverse the index to plot most important on top\n",
    "    ax.barh(list(reversed(list(df.index[:15]))), \n",
    "            df['importance_normalized'].head(15), \n",
    "            align = 'center', edgecolor = 'k')\n",
    "    \n",
    "    # Set the yticks and labels\n",
    "    ax.set_yticks(list(reversed(list(df.index[:15]))))\n",
    "    ax.set_yticklabels(df['feature'].head(15))\n",
    "    \n",
    "    # Plot labeling\n",
    "    plt.xlabel('Normalized Importance'); plt.title('Feature Importances')\n",
    "    plt.show()\n",
    "    \n",
    "    # Cumulative importance plot\n",
    "    plt.figure(figsize = (8, 6))\n",
    "    plt.plot(list(range(len(df))), df['cumulative_importance'], 'r-')\n",
    "    plt.xlabel('Number of Features'); plt.ylabel('Cumulative Importance'); \n",
    "    plt.title('Cumulative Feature Importance');\n",
    "    plt.show();\n",
    "    \n",
    "    importance_index = np.min(np.where(df['cumulative_importance'] > threshold))\n",
    "    print('%d features required for %0.2f of cumulative importance' % (importance_index + 1, threshold))\n",
    "    \n",
    "    return df"
   ]
  },
  {
   "cell_type": "code",
   "execution_count": 24,
   "metadata": {
    "id": "Wnjstxna_wOM"
   },
   "outputs": [],
   "source": [
    "# plot feature importance LGB\n",
    "#norm_feature_importances = plot_feature_importances(feature_importances)\n",
    "# plot feature importance XGB\n",
    "#norm_feature_importances = plot_feature_importances(feature_importances2)"
   ]
  },
  {
   "cell_type": "code",
   "execution_count": 25,
   "metadata": {
    "id": "D54_RO4s_wOM",
    "outputId": "7fac3cc3-c572-4361-b6fb-f6b98f993212"
   },
   "outputs": [
    {
     "name": "stdout",
     "output_type": "stream",
     "text": [
      "Current date and time:  2021-05-30 01:13:17.695920\n",
      "There are 454 features.\n"
     ]
    }
   ],
   "source": [
    "# about 12 gb in ram memory\n",
    "print(\"Current date and time: \",str(datetime.datetime.now()))\n",
    "features = [f for f in train.columns.values.tolist() if 'feature' in f]\n",
    "print('There are {} features.'.format(len(features)))"
   ]
  },
  {
   "cell_type": "code",
   "execution_count": 26,
   "metadata": {
    "id": "3mtA-Lp0_wON"
   },
   "outputs": [
    {
     "name": "stdout",
     "output_type": "stream",
     "text": [
      "CPU times: user 4 µs, sys: 1e+03 ns, total: 5 µs\n",
      "Wall time: 9.06 µs\n"
     ]
    }
   ],
   "source": [
    "%%time\n",
    "#TODO speed up compute with multithreading/gpu\n",
    "#train_spark = spark.createDataFrame(train)\n",
    "#print(train_spark.info())"
   ]
  },
  {
   "cell_type": "code",
   "execution_count": 27,
   "metadata": {
    "id": "IvzDVw38_wON"
   },
   "outputs": [
    {
     "name": "stdout",
     "output_type": "stream",
     "text": [
      "Requirement already satisfied: tbb in /home/hadoopuser/anaconda3/lib/python3.8/site-packages (2021.2.0)\n",
      "Requirement already satisfied: numba in /home/hadoopuser/anaconda3/lib/python3.8/site-packages (0.51.2)\n",
      "Requirement already satisfied: llvmlite<0.35,>=0.34.0.dev0 in /home/hadoopuser/anaconda3/lib/python3.8/site-packages (from numba) (0.34.0)\n",
      "Requirement already satisfied: numpy>=1.15 in /home/hadoopuser/anaconda3/lib/python3.8/site-packages (from numba) (1.19.1)\n",
      "Requirement already satisfied: setuptools in /home/hadoopuser/.local/lib/python3.8/site-packages (from numba) (56.0.0)\n"
     ]
    }
   ],
   "source": [
    "!pip3 install tbb\n",
    "!pip3 install numba\n",
    "import threading\n",
    "import pandas as pd\n",
    "from numba import config, njit, threading_layer, jit\n",
    "import numpy as np\n",
    "# set the threading layer before any parallel target compilation\n",
    "config.THREADING_LAYER = 'threadsafe'\n",
    "\n",
    "# Derive derivative features\n",
    "def get_calc_stats(df: pd.DataFrame) -> pd.DataFrame:\n",
    "        \"\"\"\n",
    "        Create features by calculating statistical moments for each group.\n",
    "\n",
    "        :param df: Pandas DataFrame containing all features\n",
    "        \"\"\"\n",
    "        for feature in features:\n",
    "            cols = [col for col in df.columns if feature == col]\n",
    "            df[f\"{feature}_sqrt\"] = df[cols].apply(np.sqrt) #sqrt\n",
    "            df[f\"{feature}_log\"] = np.log(df[cols]+1) #log   \n",
    "            df[f\"{feature}_exp2\"] = df[cols].apply(lambda x: x**2)  #quadratic  \n",
    "            df[f\"{feature}_exp3\"] = df[cols].apply(lambda x: x**3)  #cube   \n",
    "        return df"
   ]
  },
  {
   "cell_type": "code",
   "execution_count": 28,
   "metadata": {
    "id": "DMRh79YI_wON",
    "outputId": "3fa61ec1-2e01-44da-d84d-fefcc7bbb1a7"
   },
   "outputs": [
    {
     "name": "stdout",
     "output_type": "stream",
     "text": [
      "Current date and time:  2021-05-30 01:13:23.856570\n"
     ]
    },
    {
     "ename": "UnsupportedError",
     "evalue": "Failed in object mode pipeline (step: analyzing bytecode)\n\u001b[1mUse of unsupported opcode (FORMAT_VALUE) found\n\u001b[1m\nFile \"<ipython-input-27-5fc3ae1dab81>\", line 19:\u001b[0m\n\u001b[1mdef get_calc_stats(df: pd.DataFrame) -> pd.DataFrame:\n    <source elided>\n            cols = [col for col in df.columns if feature == col]\n\u001b[1m            df[f\"{feature}_sqrt\"] = df[cols].apply(np.sqrt) #sqrt\n\u001b[0m            \u001b[1m^\u001b[0m\u001b[0m\n\u001b[0m",
     "output_type": "error",
     "traceback": [
      "\u001b[0;31m---------------------------------------------------------------------------\u001b[0m",
      "\u001b[0;31mUnsupportedError\u001b[0m                          Traceback (most recent call last)",
      "\u001b[0;32m<timed exec>\u001b[0m in \u001b[0;36m<module>\u001b[0;34m\u001b[0m\n",
      "\u001b[0;32m~/anaconda3/lib/python3.8/site-packages/numba/core/dispatcher.py\u001b[0m in \u001b[0;36m_compile_for_args\u001b[0;34m(self, *args, **kws)\u001b[0m\n\u001b[1;32m    416\u001b[0m         \u001b[0;32mexcept\u001b[0m \u001b[0merrors\u001b[0m\u001b[0;34m.\u001b[0m\u001b[0mUnsupportedError\u001b[0m \u001b[0;32mas\u001b[0m \u001b[0me\u001b[0m\u001b[0;34m:\u001b[0m\u001b[0;34m\u001b[0m\u001b[0;34m\u001b[0m\u001b[0m\n\u001b[1;32m    417\u001b[0m             \u001b[0;31m# Something unsupported is present in the user code, add help info\u001b[0m\u001b[0;34m\u001b[0m\u001b[0;34m\u001b[0m\u001b[0;34m\u001b[0m\u001b[0m\n\u001b[0;32m--> 418\u001b[0;31m             \u001b[0merror_rewrite\u001b[0m\u001b[0;34m(\u001b[0m\u001b[0me\u001b[0m\u001b[0;34m,\u001b[0m \u001b[0;34m'unsupported_error'\u001b[0m\u001b[0;34m)\u001b[0m\u001b[0;34m\u001b[0m\u001b[0;34m\u001b[0m\u001b[0m\n\u001b[0m\u001b[1;32m    419\u001b[0m         except (errors.NotDefinedError, errors.RedefinedError,\n\u001b[1;32m    420\u001b[0m                 errors.VerificationError) as e:\n",
      "\u001b[0;32m~/anaconda3/lib/python3.8/site-packages/numba/core/dispatcher.py\u001b[0m in \u001b[0;36merror_rewrite\u001b[0;34m(e, issue_type)\u001b[0m\n\u001b[1;32m    356\u001b[0m                 \u001b[0;32mraise\u001b[0m \u001b[0me\u001b[0m\u001b[0;34m\u001b[0m\u001b[0;34m\u001b[0m\u001b[0m\n\u001b[1;32m    357\u001b[0m             \u001b[0;32melse\u001b[0m\u001b[0;34m:\u001b[0m\u001b[0;34m\u001b[0m\u001b[0;34m\u001b[0m\u001b[0m\n\u001b[0;32m--> 358\u001b[0;31m                 \u001b[0mreraise\u001b[0m\u001b[0;34m(\u001b[0m\u001b[0mtype\u001b[0m\u001b[0;34m(\u001b[0m\u001b[0me\u001b[0m\u001b[0;34m)\u001b[0m\u001b[0;34m,\u001b[0m \u001b[0me\u001b[0m\u001b[0;34m,\u001b[0m \u001b[0;32mNone\u001b[0m\u001b[0;34m)\u001b[0m\u001b[0;34m\u001b[0m\u001b[0;34m\u001b[0m\u001b[0m\n\u001b[0m\u001b[1;32m    359\u001b[0m \u001b[0;34m\u001b[0m\u001b[0m\n\u001b[1;32m    360\u001b[0m         \u001b[0margtypes\u001b[0m \u001b[0;34m=\u001b[0m \u001b[0;34m[\u001b[0m\u001b[0;34m]\u001b[0m\u001b[0;34m\u001b[0m\u001b[0;34m\u001b[0m\u001b[0m\n",
      "\u001b[0;32m~/anaconda3/lib/python3.8/site-packages/numba/core/utils.py\u001b[0m in \u001b[0;36mreraise\u001b[0;34m(tp, value, tb)\u001b[0m\n\u001b[1;32m     78\u001b[0m         \u001b[0mvalue\u001b[0m \u001b[0;34m=\u001b[0m \u001b[0mtp\u001b[0m\u001b[0;34m(\u001b[0m\u001b[0;34m)\u001b[0m\u001b[0;34m\u001b[0m\u001b[0;34m\u001b[0m\u001b[0m\n\u001b[1;32m     79\u001b[0m     \u001b[0;32mif\u001b[0m \u001b[0mvalue\u001b[0m\u001b[0;34m.\u001b[0m\u001b[0m__traceback__\u001b[0m \u001b[0;32mis\u001b[0m \u001b[0;32mnot\u001b[0m \u001b[0mtb\u001b[0m\u001b[0;34m:\u001b[0m\u001b[0;34m\u001b[0m\u001b[0;34m\u001b[0m\u001b[0m\n\u001b[0;32m---> 80\u001b[0;31m         \u001b[0;32mraise\u001b[0m \u001b[0mvalue\u001b[0m\u001b[0;34m.\u001b[0m\u001b[0mwith_traceback\u001b[0m\u001b[0;34m(\u001b[0m\u001b[0mtb\u001b[0m\u001b[0;34m)\u001b[0m\u001b[0;34m\u001b[0m\u001b[0;34m\u001b[0m\u001b[0m\n\u001b[0m\u001b[1;32m     81\u001b[0m     \u001b[0;32mraise\u001b[0m \u001b[0mvalue\u001b[0m\u001b[0;34m\u001b[0m\u001b[0;34m\u001b[0m\u001b[0m\n\u001b[1;32m     82\u001b[0m \u001b[0;34m\u001b[0m\u001b[0m\n",
      "\u001b[0;31mUnsupportedError\u001b[0m: Failed in object mode pipeline (step: analyzing bytecode)\n\u001b[1mUse of unsupported opcode (FORMAT_VALUE) found\n\u001b[1m\nFile \"<ipython-input-27-5fc3ae1dab81>\", line 19:\u001b[0m\n\u001b[1mdef get_calc_stats(df: pd.DataFrame) -> pd.DataFrame:\n    <source elided>\n            cols = [col for col in df.columns if feature == col]\n\u001b[1m            df[f\"{feature}_sqrt\"] = df[cols].apply(np.sqrt) #sqrt\n\u001b[0m            \u001b[1m^\u001b[0m\u001b[0m\n\u001b[0m"
     ]
    }
   ],
   "source": [
    "%%time\n",
    "## TODO fix threading\n",
    "import datetime\n",
    "### TODO Spark numba GPU speed up by using multiple jobs using processors\n",
    "print(\"Current date and time: \",str(datetime.datetime.now()))\n",
    "\n",
    "get_calc_stats_jit = jit()(get_calc_stats)\n",
    "\n",
    "# Add group statistics features\n",
    "train = target=get_calc_stats_jit(train)\n",
    "\n",
    "val = target=get_calc_stats(val)\n",
    "\n",
    "test = get_calc_stats(test)\n",
    "\n",
    "# demonstrate the threading layer chosen\n",
    "print(\"Threading layer chosen: %s\" % threading_layer())\n",
    "print(train.head())\n",
    "print(val.head())\n",
    "print(test.head())\n",
    "print(\"Current date and time: \",str(datetime.datetime.now()))\n",
    "#peaks at 43 gb in use and takes 90 minutes then gives back data\n",
    "#2270 features\n",
    "#1:30min on the 320gb 2x xeon e5-2695v2 without gpu"
   ]
  },
  {
   "cell_type": "code",
   "execution_count": 29,
   "metadata": {
    "id": "hnRQE-s6_wOL"
   },
   "outputs": [],
   "source": [
    "#TODO add TSFresh features\n",
    "\n"
   ]
  },
  {
   "cell_type": "code",
   "execution_count": 30,
   "metadata": {
    "id": "Y4D_ujKI_wOO",
    "outputId": "234ca036-7569-4cde-8eb9-15b096a5df3e"
   },
   "outputs": [
    {
     "name": "stdout",
     "output_type": "stream",
     "text": [
      "There are 454 features.\n",
      "['feature_intelligence1', 'feature_intelligence2', 'feature_intelligence3', 'feature_intelligence4', 'feature_intelligence5', 'feature_intelligence6', 'feature_intelligence7', 'feature_intelligence8', 'feature_intelligence9', 'feature_intelligence10', 'feature_intelligence11', 'feature_intelligence12', 'feature_charisma1', 'feature_charisma2', 'feature_charisma3', 'feature_charisma4', 'feature_charisma5', 'feature_charisma6', 'feature_charisma7', 'feature_charisma8', 'feature_charisma9', 'feature_charisma10', 'feature_charisma11', 'feature_charisma12', 'feature_charisma13', 'feature_charisma14', 'feature_charisma15', 'feature_charisma16', 'feature_charisma17', 'feature_charisma18', 'feature_charisma19', 'feature_charisma20', 'feature_charisma21', 'feature_charisma22', 'feature_charisma23', 'feature_charisma24', 'feature_charisma25', 'feature_charisma26', 'feature_charisma27', 'feature_charisma28', 'feature_charisma29', 'feature_charisma30', 'feature_charisma31', 'feature_charisma32', 'feature_charisma33', 'feature_charisma34', 'feature_charisma35', 'feature_charisma36', 'feature_charisma37', 'feature_charisma38', 'feature_charisma39', 'feature_charisma40', 'feature_charisma41', 'feature_charisma42', 'feature_charisma43', 'feature_charisma44', 'feature_charisma45', 'feature_charisma46', 'feature_charisma47', 'feature_charisma48', 'feature_charisma49', 'feature_charisma50', 'feature_charisma51', 'feature_charisma52', 'feature_charisma53', 'feature_charisma54', 'feature_charisma55', 'feature_charisma56', 'feature_charisma57', 'feature_charisma58', 'feature_charisma59', 'feature_charisma60', 'feature_charisma61', 'feature_charisma62', 'feature_charisma63', 'feature_charisma64', 'feature_charisma65', 'feature_charisma66', 'feature_charisma67', 'feature_charisma68', 'feature_charisma69', 'feature_charisma70', 'feature_charisma71', 'feature_charisma72', 'feature_charisma73', 'feature_charisma74', 'feature_charisma75', 'feature_charisma76', 'feature_charisma77', 'feature_charisma78', 'feature_charisma79', 'feature_charisma80', 'feature_charisma81', 'feature_charisma82', 'feature_charisma83', 'feature_charisma84', 'feature_charisma85', 'feature_charisma86', 'feature_strength1', 'feature_strength2', 'feature_strength3', 'feature_strength4', 'feature_strength5', 'feature_strength6', 'feature_strength7', 'feature_strength8', 'feature_strength9', 'feature_strength10', 'feature_strength11', 'feature_strength12', 'feature_strength13', 'feature_strength14', 'feature_strength15', 'feature_strength16', 'feature_strength17', 'feature_strength18', 'feature_strength19', 'feature_strength20', 'feature_strength21', 'feature_strength22', 'feature_strength23', 'feature_strength24', 'feature_strength25', 'feature_strength26', 'feature_strength27', 'feature_strength28', 'feature_strength29', 'feature_strength30', 'feature_strength31', 'feature_strength32', 'feature_strength33', 'feature_strength34', 'feature_strength35', 'feature_strength36', 'feature_strength37', 'feature_strength38', 'feature_dexterity1', 'feature_dexterity2', 'feature_dexterity3', 'feature_dexterity4', 'feature_dexterity5', 'feature_dexterity6', 'feature_dexterity7', 'feature_dexterity8', 'feature_dexterity9', 'feature_dexterity10', 'feature_dexterity11', 'feature_dexterity12', 'feature_dexterity13', 'feature_dexterity14', 'feature_constitution1', 'feature_constitution2', 'feature_constitution3', 'feature_constitution4', 'feature_constitution5', 'feature_constitution6', 'feature_constitution7', 'feature_constitution8', 'feature_constitution9', 'feature_constitution10', 'feature_constitution11', 'feature_constitution12', 'feature_constitution13', 'feature_constitution14', 'feature_constitution15', 'feature_constitution16', 'feature_constitution17', 'feature_constitution18', 'feature_constitution19', 'feature_constitution20', 'feature_constitution21', 'feature_constitution22', 'feature_constitution23', 'feature_constitution24', 'feature_constitution25', 'feature_constitution26', 'feature_constitution27', 'feature_constitution28', 'feature_constitution29', 'feature_constitution30', 'feature_constitution31', 'feature_constitution32', 'feature_constitution33', 'feature_constitution34', 'feature_constitution35', 'feature_constitution36', 'feature_constitution37', 'feature_constitution38', 'feature_constitution39', 'feature_constitution40', 'feature_constitution41', 'feature_constitution42', 'feature_constitution43', 'feature_constitution44', 'feature_constitution45', 'feature_constitution46', 'feature_constitution47', 'feature_constitution48', 'feature_constitution49', 'feature_constitution50', 'feature_constitution51', 'feature_constitution52', 'feature_constitution53', 'feature_constitution54', 'feature_constitution55', 'feature_constitution56', 'feature_constitution57', 'feature_constitution58', 'feature_constitution59', 'feature_constitution60', 'feature_constitution61', 'feature_constitution62', 'feature_constitution63', 'feature_constitution64', 'feature_constitution65', 'feature_constitution66', 'feature_constitution67', 'feature_constitution68', 'feature_constitution69', 'feature_constitution70', 'feature_constitution71', 'feature_constitution72', 'feature_constitution73', 'feature_constitution74', 'feature_constitution75', 'feature_constitution76', 'feature_constitution77', 'feature_constitution78', 'feature_constitution79', 'feature_constitution80', 'feature_constitution81', 'feature_constitution82', 'feature_constitution83', 'feature_constitution84', 'feature_constitution85', 'feature_constitution86', 'feature_constitution87', 'feature_constitution88', 'feature_constitution89', 'feature_constitution90', 'feature_constitution91', 'feature_constitution92', 'feature_constitution93', 'feature_constitution94', 'feature_constitution95', 'feature_constitution96', 'feature_constitution97', 'feature_constitution98', 'feature_constitution99', 'feature_constitution100', 'feature_constitution101', 'feature_constitution102', 'feature_constitution103', 'feature_constitution104', 'feature_constitution105', 'feature_constitution106', 'feature_constitution107', 'feature_constitution108', 'feature_constitution109', 'feature_constitution110', 'feature_constitution111', 'feature_constitution112', 'feature_constitution113', 'feature_constitution114', 'feature_wisdom1', 'feature_wisdom2', 'feature_wisdom3', 'feature_wisdom4', 'feature_wisdom5', 'feature_wisdom6', 'feature_wisdom7', 'feature_wisdom8', 'feature_wisdom9', 'feature_wisdom10', 'feature_wisdom11', 'feature_wisdom12', 'feature_wisdom13', 'feature_wisdom14', 'feature_wisdom15', 'feature_wisdom16', 'feature_wisdom17', 'feature_wisdom18', 'feature_wisdom19', 'feature_wisdom20', 'feature_wisdom21', 'feature_wisdom22', 'feature_wisdom23', 'feature_wisdom24', 'feature_wisdom25', 'feature_wisdom26', 'feature_wisdom27', 'feature_wisdom28', 'feature_wisdom29', 'feature_wisdom30', 'feature_wisdom31', 'feature_wisdom32', 'feature_wisdom33', 'feature_wisdom34', 'feature_wisdom35', 'feature_wisdom36', 'feature_wisdom37', 'feature_wisdom38', 'feature_wisdom39', 'feature_wisdom40', 'feature_wisdom41', 'feature_wisdom42', 'feature_wisdom43', 'feature_wisdom44', 'feature_wisdom45', 'feature_wisdom46', 'feature_1_mean', 'feature_1_median', 'feature_1_std', 'feature_1_skew', 'feature_1_sum', 'feature_1_kurt', 'feature_0_mean', 'feature_0_median', 'feature_0_std', 'feature_0_skew', 'feature_0_sum', 'feature_0_kurt', 'feature_2_mean', 'feature_2_median', 'feature_2_std', 'feature_2_skew', 'feature_2_sum', 'feature_2_kurt', 'feature_3_mean', 'feature_3_median', 'feature_3_std', 'feature_3_skew', 'feature_3_sum', 'feature_3_kurt', 'feature_4_mean', 'feature_4_median', 'feature_4_std', 'feature_4_skew', 'feature_4_sum', 'feature_4_kurt', 'feature_5_mean', 'feature_5_median', 'feature_5_std', 'feature_5_skew', 'feature_5_sum', 'feature_5_kurt', 'feature_6_mean', 'feature_6_median', 'feature_6_std', 'feature_6_skew', 'feature_6_sum', 'feature_6_kurt', 'feature_7_mean', 'feature_7_median', 'feature_7_std', 'feature_7_skew', 'feature_7_sum', 'feature_7_kurt', 'feature_8_mean', 'feature_8_median', 'feature_8_std', 'feature_8_skew', 'feature_8_sum', 'feature_8_kurt', 'feature_9_mean', 'feature_9_median', 'feature_9_std', 'feature_9_skew', 'feature_9_sum', 'feature_9_kurt', 'feature_10_mean', 'feature_10_median', 'feature_10_std', 'feature_10_skew', 'feature_10_sum', 'feature_10_kurt', 'feature_11_mean', 'feature_11_median', 'feature_11_std', 'feature_11_skew', 'feature_11_sum', 'feature_11_kurt', 'feature_12_mean', 'feature_12_median', 'feature_12_std', 'feature_12_skew', 'feature_12_sum', 'feature_12_kurt', 'feature_13_mean', 'feature_13_median', 'feature_13_std', 'feature_13_skew', 'feature_13_sum', 'feature_13_kurt', 'feature_14_mean', 'feature_14_median', 'feature_14_std', 'feature_14_skew', 'feature_14_sum', 'feature_14_kurt', 'feature_15_mean', 'feature_15_median', 'feature_15_std', 'feature_15_skew', 'feature_15_sum', 'feature_15_kurt', 'feature_16_mean', 'feature_16_median', 'feature_16_std', 'feature_16_skew', 'feature_16_sum', 'feature_16_kurt', 'feature_17_mean', 'feature_17_median', 'feature_17_std', 'feature_17_skew', 'feature_17_sum', 'feature_17_kurt', 'feature_intelligence_mean', 'feature_intelligence_median', 'feature_intelligence_std', 'feature_intelligence_skew', 'feature_intelligence_sum', 'feature_intelligence_kurt', 'feature_wisdom_mean', 'feature_wisdom_median', 'feature_wisdom_std', 'feature_wisdom_skew', 'feature_wisdom_sum', 'feature_wisdom_kurt', 'feature_charisma_mean', 'feature_charisma_median', 'feature_charisma_std', 'feature_charisma_skew', 'feature_charisma_sum', 'feature_charisma_kurt', 'feature_dexterity_mean', 'feature_dexterity_median', 'feature_dexterity_std', 'feature_dexterity_skew', 'feature_dexterity_sum', 'feature_dexterity_kurt', 'feature_strength_mean', 'feature_strength_median', 'feature_strength_std', 'feature_strength_skew', 'feature_strength_sum', 'feature_strength_kurt', 'feature_constitution_mean', 'feature_constitution_median', 'feature_constitution_std', 'feature_constitution_skew', 'feature_constitution_sum', 'feature_constitution_kurt']\n"
     ]
    }
   ],
   "source": [
    "features = [f for f in train.columns.values.tolist() if 'feature' in f]\n",
    "print('There are {} features.'.format(len(features)))\n",
    "print(features)"
   ]
  },
  {
   "cell_type": "markdown",
   "metadata": {
    "id": "hGAGf9Fl_wOP"
   },
   "source": [
    "## Feature selection of derivatives\n",
    "Keep on calibrating till you have about 100 final features"
   ]
  },
  {
   "cell_type": "code",
   "execution_count": 31,
   "metadata": {
    "id": "8n2nc8fj_wOP",
    "outputId": "64f2830d-d540-4ad3-eb73-d64c7ee18fae"
   },
   "outputs": [
    {
     "data": {
      "text/plain": [
       "'\\n%%time\\nprint(\"Current date and time: \",str(datetime.datetime.now()))  \\nXgroup_train = train[features].to_numpy()\\nygroup_train = train[f\\'target\\']\\n#selection 3\\n# Initialize an empty array to hold feature importances\\nfeature_importances3 = np.zeros(Xgroup_train.shape[1])\\n\\n# Create the model with several hyperparameters\\nmodellgbgroup = lgb.LGBMRegressor(objective=\\'binary\\', boosting_type = \\'goss\\', n_estimators = 10000, class_weight = \\'balanced\\')\\n\\n# Fit the model twice to avoid overfitting\\nfor i in range(2):\\n    \\n    # Split into training and validation set\\n    grouptrain_features, groupvalid_features, train_ygroup, valid_ygroup = train_test_split(Xgroup_train, ygroup_train, test_size = 0.25, random_state = i)\\n    \\n    # Train using early stopping\\n    modellgbgroup.fit(grouptrain_features, train_ygroup, early_stopping_rounds=100, eval_set = [(groupvalid_features, valid_ygroup)], \\n              eval_metric = \\'auc\\', verbose = 200)\\n    \\n    # Record the feature importances\\n    feature_importances3 += modellgbgroup.feature_importances_\\n    \\n# Make sure to average feature importances! \\nfeature_importances3 = feature_importances3 / 2\\nfeature_importances3 = pd.DataFrame({\\'feature\\': list(features), \\'importance\\': feature_importances3}).sort_values(\\'importance\\', ascending = False)\\n'"
      ]
     },
     "execution_count": 31,
     "metadata": {},
     "output_type": "execute_result"
    }
   ],
   "source": [
    "\"\"\"\n",
    "%%time\n",
    "print(\"Current date and time: \",str(datetime.datetime.now()))  \n",
    "Xgroup_train = train[features].to_numpy()\n",
    "ygroup_train = train[f'target']\n",
    "#selection 3\n",
    "# Initialize an empty array to hold feature importances\n",
    "feature_importances3 = np.zeros(Xgroup_train.shape[1])\n",
    "\n",
    "# Create the model with several hyperparameters\n",
    "modellgbgroup = lgb.LGBMRegressor(objective='binary', boosting_type = 'goss', n_estimators = 10000, class_weight = 'balanced')\n",
    "\n",
    "# Fit the model twice to avoid overfitting\n",
    "for i in range(2):\n",
    "    \n",
    "    # Split into training and validation set\n",
    "    grouptrain_features, groupvalid_features, train_ygroup, valid_ygroup = train_test_split(Xgroup_train, ygroup_train, test_size = 0.25, random_state = i)\n",
    "    \n",
    "    # Train using early stopping\n",
    "    modellgbgroup.fit(grouptrain_features, train_ygroup, early_stopping_rounds=100, eval_set = [(groupvalid_features, valid_ygroup)], \n",
    "              eval_metric = 'auc', verbose = 200)\n",
    "    \n",
    "    # Record the feature importances\n",
    "    feature_importances3 += modellgbgroup.feature_importances_\n",
    "    \n",
    "# Make sure to average feature importances! \n",
    "feature_importances3 = feature_importances3 / 2\n",
    "feature_importances3 = pd.DataFrame({'feature': list(features), 'importance': feature_importances3}).sort_values('importance', ascending = False)\n",
    "\"\"\""
   ]
  },
  {
   "cell_type": "code",
   "execution_count": 32,
   "metadata": {
    "id": "W-aOnd73_wOQ",
    "outputId": "c73bbde3-de0a-4fbd-cb7b-5b5d9021c8c3"
   },
   "outputs": [
    {
     "data": {
      "text/plain": [
       "\"\\nprint('There are {} features.'.format(len(features)))\\n# LGB group feature importances 3\\nprint('LGB group feature importances:')\\nprint(feature_importances3.feature[0:9])\\n#Select importance\\nlgbgimp = 6.00 #adjust text\\n# Find the features with zero importance\\nzero_features3 = list(feature_importances3[feature_importances3['importance'] <= lgbgimp]['feature'])\\nprint('There are %d features with lower than 6.00 importance' % len(zero_features3))\\nfeature_importances3.tail()\\n\""
      ]
     },
     "execution_count": 32,
     "metadata": {},
     "output_type": "execute_result"
    }
   ],
   "source": [
    "\"\"\"\n",
    "print('There are {} features.'.format(len(features)))\n",
    "# LGB group feature importances 3\n",
    "print('LGB group feature importances:')\n",
    "print(feature_importances3.feature[0:9])\n",
    "#Select importance\n",
    "lgbgimp = 6.00 #adjust text\n",
    "# Find the features with zero importance\n",
    "zero_features3 = list(feature_importances3[feature_importances3['importance'] <= lgbgimp]['feature'])\n",
    "print('There are %d features with lower than 6.00 importance' % len(zero_features3))\n",
    "feature_importances3.tail()\n",
    "\"\"\""
   ]
  },
  {
   "cell_type": "code",
   "execution_count": 33,
   "metadata": {
    "id": "XOkE6LWv_wOR",
    "outputId": "7b466394-5af7-43cd-a384-7bffd9bce99f"
   },
   "outputs": [
    {
     "name": "stdout",
     "output_type": "stream",
     "text": [
      "LGBM model:\n",
      "Training selection 3 shape:  (501808, 457)\n",
      "Testing selection 3 shape:  (1731016, 457)\n",
      "There are 454 features.\n",
      "['feature_intelligence1', 'feature_intelligence2', 'feature_intelligence3', 'feature_intelligence4', 'feature_intelligence5', 'feature_intelligence6', 'feature_intelligence7', 'feature_intelligence8', 'feature_intelligence9', 'feature_intelligence10', 'feature_intelligence11', 'feature_intelligence12', 'feature_charisma1', 'feature_charisma2', 'feature_charisma3', 'feature_charisma4', 'feature_charisma5', 'feature_charisma6', 'feature_charisma7', 'feature_charisma8', 'feature_charisma9', 'feature_charisma10', 'feature_charisma11', 'feature_charisma12', 'feature_charisma13', 'feature_charisma14', 'feature_charisma15', 'feature_charisma16', 'feature_charisma17', 'feature_charisma18', 'feature_charisma19', 'feature_charisma20', 'feature_charisma21', 'feature_charisma22', 'feature_charisma23', 'feature_charisma24', 'feature_charisma25', 'feature_charisma26', 'feature_charisma27', 'feature_charisma28', 'feature_charisma29', 'feature_charisma30', 'feature_charisma31', 'feature_charisma32', 'feature_charisma33', 'feature_charisma34', 'feature_charisma35', 'feature_charisma36', 'feature_charisma37', 'feature_charisma38', 'feature_charisma39', 'feature_charisma40', 'feature_charisma41', 'feature_charisma42', 'feature_charisma43', 'feature_charisma44', 'feature_charisma45', 'feature_charisma46', 'feature_charisma47', 'feature_charisma48', 'feature_charisma49', 'feature_charisma50', 'feature_charisma51', 'feature_charisma52', 'feature_charisma53', 'feature_charisma54', 'feature_charisma55', 'feature_charisma56', 'feature_charisma57', 'feature_charisma58', 'feature_charisma59', 'feature_charisma60', 'feature_charisma61', 'feature_charisma62', 'feature_charisma63', 'feature_charisma64', 'feature_charisma65', 'feature_charisma66', 'feature_charisma67', 'feature_charisma68', 'feature_charisma69', 'feature_charisma70', 'feature_charisma71', 'feature_charisma72', 'feature_charisma73', 'feature_charisma74', 'feature_charisma75', 'feature_charisma76', 'feature_charisma77', 'feature_charisma78', 'feature_charisma79', 'feature_charisma80', 'feature_charisma81', 'feature_charisma82', 'feature_charisma83', 'feature_charisma84', 'feature_charisma85', 'feature_charisma86', 'feature_strength1', 'feature_strength2', 'feature_strength3', 'feature_strength4', 'feature_strength5', 'feature_strength6', 'feature_strength7', 'feature_strength8', 'feature_strength9', 'feature_strength10', 'feature_strength11', 'feature_strength12', 'feature_strength13', 'feature_strength14', 'feature_strength15', 'feature_strength16', 'feature_strength17', 'feature_strength18', 'feature_strength19', 'feature_strength20', 'feature_strength21', 'feature_strength22', 'feature_strength23', 'feature_strength24', 'feature_strength25', 'feature_strength26', 'feature_strength27', 'feature_strength28', 'feature_strength29', 'feature_strength30', 'feature_strength31', 'feature_strength32', 'feature_strength33', 'feature_strength34', 'feature_strength35', 'feature_strength36', 'feature_strength37', 'feature_strength38', 'feature_dexterity1', 'feature_dexterity2', 'feature_dexterity3', 'feature_dexterity4', 'feature_dexterity5', 'feature_dexterity6', 'feature_dexterity7', 'feature_dexterity8', 'feature_dexterity9', 'feature_dexterity10', 'feature_dexterity11', 'feature_dexterity12', 'feature_dexterity13', 'feature_dexterity14', 'feature_constitution1', 'feature_constitution2', 'feature_constitution3', 'feature_constitution4', 'feature_constitution5', 'feature_constitution6', 'feature_constitution7', 'feature_constitution8', 'feature_constitution9', 'feature_constitution10', 'feature_constitution11', 'feature_constitution12', 'feature_constitution13', 'feature_constitution14', 'feature_constitution15', 'feature_constitution16', 'feature_constitution17', 'feature_constitution18', 'feature_constitution19', 'feature_constitution20', 'feature_constitution21', 'feature_constitution22', 'feature_constitution23', 'feature_constitution24', 'feature_constitution25', 'feature_constitution26', 'feature_constitution27', 'feature_constitution28', 'feature_constitution29', 'feature_constitution30', 'feature_constitution31', 'feature_constitution32', 'feature_constitution33', 'feature_constitution34', 'feature_constitution35', 'feature_constitution36', 'feature_constitution37', 'feature_constitution38', 'feature_constitution39', 'feature_constitution40', 'feature_constitution41', 'feature_constitution42', 'feature_constitution43', 'feature_constitution44', 'feature_constitution45', 'feature_constitution46', 'feature_constitution47', 'feature_constitution48', 'feature_constitution49', 'feature_constitution50', 'feature_constitution51', 'feature_constitution52', 'feature_constitution53', 'feature_constitution54', 'feature_constitution55', 'feature_constitution56', 'feature_constitution57', 'feature_constitution58', 'feature_constitution59', 'feature_constitution60', 'feature_constitution61', 'feature_constitution62', 'feature_constitution63', 'feature_constitution64', 'feature_constitution65', 'feature_constitution66', 'feature_constitution67', 'feature_constitution68', 'feature_constitution69', 'feature_constitution70', 'feature_constitution71', 'feature_constitution72', 'feature_constitution73', 'feature_constitution74', 'feature_constitution75', 'feature_constitution76', 'feature_constitution77', 'feature_constitution78', 'feature_constitution79', 'feature_constitution80', 'feature_constitution81', 'feature_constitution82', 'feature_constitution83', 'feature_constitution84', 'feature_constitution85', 'feature_constitution86', 'feature_constitution87', 'feature_constitution88', 'feature_constitution89', 'feature_constitution90', 'feature_constitution91', 'feature_constitution92', 'feature_constitution93', 'feature_constitution94', 'feature_constitution95', 'feature_constitution96', 'feature_constitution97', 'feature_constitution98', 'feature_constitution99', 'feature_constitution100', 'feature_constitution101', 'feature_constitution102', 'feature_constitution103', 'feature_constitution104', 'feature_constitution105', 'feature_constitution106', 'feature_constitution107', 'feature_constitution108', 'feature_constitution109', 'feature_constitution110', 'feature_constitution111', 'feature_constitution112', 'feature_constitution113', 'feature_constitution114', 'feature_wisdom1', 'feature_wisdom2', 'feature_wisdom3', 'feature_wisdom4', 'feature_wisdom5', 'feature_wisdom6', 'feature_wisdom7', 'feature_wisdom8', 'feature_wisdom9', 'feature_wisdom10', 'feature_wisdom11', 'feature_wisdom12', 'feature_wisdom13', 'feature_wisdom14', 'feature_wisdom15', 'feature_wisdom16', 'feature_wisdom17', 'feature_wisdom18', 'feature_wisdom19', 'feature_wisdom20', 'feature_wisdom21', 'feature_wisdom22', 'feature_wisdom23', 'feature_wisdom24', 'feature_wisdom25', 'feature_wisdom26', 'feature_wisdom27', 'feature_wisdom28', 'feature_wisdom29', 'feature_wisdom30', 'feature_wisdom31', 'feature_wisdom32', 'feature_wisdom33', 'feature_wisdom34', 'feature_wisdom35', 'feature_wisdom36', 'feature_wisdom37', 'feature_wisdom38', 'feature_wisdom39', 'feature_wisdom40', 'feature_wisdom41', 'feature_wisdom42', 'feature_wisdom43', 'feature_wisdom44', 'feature_wisdom45', 'feature_wisdom46', 'feature_1_mean', 'feature_1_median', 'feature_1_std', 'feature_1_skew', 'feature_1_sum', 'feature_1_kurt', 'feature_0_mean', 'feature_0_median', 'feature_0_std', 'feature_0_skew', 'feature_0_sum', 'feature_0_kurt', 'feature_2_mean', 'feature_2_median', 'feature_2_std', 'feature_2_skew', 'feature_2_sum', 'feature_2_kurt', 'feature_3_mean', 'feature_3_median', 'feature_3_std', 'feature_3_skew', 'feature_3_sum', 'feature_3_kurt', 'feature_4_mean', 'feature_4_median', 'feature_4_std', 'feature_4_skew', 'feature_4_sum', 'feature_4_kurt', 'feature_5_mean', 'feature_5_median', 'feature_5_std', 'feature_5_skew', 'feature_5_sum', 'feature_5_kurt', 'feature_6_mean', 'feature_6_median', 'feature_6_std', 'feature_6_skew', 'feature_6_sum', 'feature_6_kurt', 'feature_7_mean', 'feature_7_median', 'feature_7_std', 'feature_7_skew', 'feature_7_sum', 'feature_7_kurt', 'feature_8_mean', 'feature_8_median', 'feature_8_std', 'feature_8_skew', 'feature_8_sum', 'feature_8_kurt', 'feature_9_mean', 'feature_9_median', 'feature_9_std', 'feature_9_skew', 'feature_9_sum', 'feature_9_kurt', 'feature_10_mean', 'feature_10_median', 'feature_10_std', 'feature_10_skew', 'feature_10_sum', 'feature_10_kurt', 'feature_11_mean', 'feature_11_median', 'feature_11_std', 'feature_11_skew', 'feature_11_sum', 'feature_11_kurt', 'feature_12_mean', 'feature_12_median', 'feature_12_std', 'feature_12_skew', 'feature_12_sum', 'feature_12_kurt', 'feature_13_mean', 'feature_13_median', 'feature_13_std', 'feature_13_skew', 'feature_13_sum', 'feature_13_kurt', 'feature_14_mean', 'feature_14_median', 'feature_14_std', 'feature_14_skew', 'feature_14_sum', 'feature_14_kurt', 'feature_15_mean', 'feature_15_median', 'feature_15_std', 'feature_15_skew', 'feature_15_sum', 'feature_15_kurt', 'feature_16_mean', 'feature_16_median', 'feature_16_std', 'feature_16_skew', 'feature_16_sum', 'feature_16_kurt', 'feature_17_mean', 'feature_17_median', 'feature_17_std', 'feature_17_skew', 'feature_17_sum', 'feature_17_kurt', 'feature_intelligence_mean', 'feature_intelligence_median', 'feature_intelligence_std', 'feature_intelligence_skew', 'feature_intelligence_sum', 'feature_intelligence_kurt', 'feature_wisdom_mean', 'feature_wisdom_median', 'feature_wisdom_std', 'feature_wisdom_skew', 'feature_wisdom_sum', 'feature_wisdom_kurt', 'feature_charisma_mean', 'feature_charisma_median', 'feature_charisma_std', 'feature_charisma_skew', 'feature_charisma_sum', 'feature_charisma_kurt', 'feature_dexterity_mean', 'feature_dexterity_median', 'feature_dexterity_std', 'feature_dexterity_skew', 'feature_dexterity_sum', 'feature_dexterity_kurt', 'feature_strength_mean', 'feature_strength_median', 'feature_strength_std', 'feature_strength_skew', 'feature_strength_sum', 'feature_strength_kurt', 'feature_constitution_mean', 'feature_constitution_median', 'feature_constitution_std', 'feature_constitution_skew', 'feature_constitution_sum', 'feature_constitution_kurt']\n"
     ]
    }
   ],
   "source": [
    "#DROPS\n",
    "#train = train.drop(columns = zero_features3)\n",
    "#test = test.drop(columns = zero_features3)\n",
    "#val = val.drop(columns = zero_features3)\n",
    "print('LGBM model:')\n",
    "print('Training selection 3 shape: ', train.shape)\n",
    "print('Testing selection 3 shape: ', test.shape)\n",
    "features = [f for f in train.columns.values.tolist() if 'feature' in f]\n",
    "print('There are {} features.'.format(len(features)))\n",
    "print(features)"
   ]
  },
  {
   "cell_type": "code",
   "execution_count": 36,
   "metadata": {
    "id": "RH6bps64_wOS",
    "outputId": "54cf952e-c552-4deb-fc8f-c4981affb59a"
   },
   "outputs": [
    {
     "name": "stdout",
     "output_type": "stream",
     "text": [
      "XGB model:\n",
      "Training selection 4 shape:  (501808, 457)\n",
      "Testing selection 4 shape:  (1731016, 457)\n"
     ]
    }
   ],
   "source": [
    "#DROPS\n",
    "#Drop useless variables\n",
    "#train = train.drop(columns = zero_features4)\n",
    "#test = test.drop(columns = zero_features4)\n",
    "#val = val.drop(columns = zero_features4)\n",
    "print('XGB model:')\n",
    "print('Training selection 4 shape: ', train.shape)\n",
    "print('Testing selection 4 shape: ', test.shape)"
   ]
  },
  {
   "cell_type": "code",
   "execution_count": 37,
   "metadata": {
    "id": "OSjnbb9O_wOT",
    "outputId": "5dc53b5b-763a-4de1-c982-6148c67161f8"
   },
   "outputs": [
    {
     "name": "stdout",
     "output_type": "stream",
     "text": [
      "There are 454 features.\n"
     ]
    }
   ],
   "source": [
    "features = [f for f in train.columns.values.tolist() if 'feature' in f]\n",
    "print('There are {} features.'.format(len(features)))"
   ]
  },
  {
   "cell_type": "code",
   "execution_count": 40,
   "metadata": {
    "id": "vfyOqqzT_wOU",
    "outputId": "63584516-6c69-472d-f029-dc589c4ad4ae"
   },
   "outputs": [
    {
     "name": "stdout",
     "output_type": "stream",
     "text": [
      "Current date and time:  2021-05-30 01:13:24.767317\n",
      "Training until validation scores don't improve for 100 rounds\n",
      "Early stopping, best iteration is:\n",
      "[70]\tvalid_0's auc: 0.728955\tvalid_0's binary_logloss: 0.25188\n",
      "Training until validation scores don't improve for 100 rounds\n",
      "Early stopping, best iteration is:\n",
      "[84]\tvalid_0's auc: 0.725184\tvalid_0's binary_logloss: 0.253429\n",
      "CPU times: user 3min 35s, sys: 2.08 s, total: 3min 37s\n",
      "Wall time: 3min 37s\n"
     ]
    }
   ],
   "source": [
    "%%time\n",
    "#60gb occupied, reduce to 10\n",
    "print(\"Current date and time: \",str(datetime.datetime.now())) \n",
    "Xcalc_train = train[features].to_numpy()\n",
    "ycalc_train = train[f'target']\n",
    "\n",
    "#selection 5\n",
    "# Initialize an empty array to hold feature importances\n",
    "feature_importances5 = np.zeros(Xcalc_train.shape[1])\n",
    "\n",
    "# Create the model with several hyperparameters\n",
    "modellgbcalc = lgb.LGBMRegressor(objective='binary', boosting_type = 'goss', n_estimators = 10000, class_weight = 'balanced')\n",
    "\n",
    "# Fit the model twice to avoid overfitting\n",
    "for i in range(2):\n",
    "    \n",
    "    # Split into training and validation set\n",
    "    calctrain_features, calcvalid_features, train_ycalc, valid_ycalc = train_test_split(Xcalc_train, ycalc_train, test_size = 0.25, random_state = i)\n",
    "    \n",
    "    # Train using early stopping\n",
    "    modellgbcalc.fit(calctrain_features, train_ycalc, early_stopping_rounds=100, eval_set = [(calcvalid_features, valid_ycalc)], \n",
    "              eval_metric = 'auc', verbose = 200)\n",
    "    \n",
    "    # Record the feature importances\n",
    "    feature_importances5 += modellgbcalc.feature_importances_\n",
    "    \n",
    "# Make sure to average feature importances! \n",
    "feature_importances5 = feature_importances5 / 2\n",
    "feature_importances5 = pd.DataFrame({'feature': list(features), 'importance': feature_importances5}).sort_values('importance', ascending = False\n",
    ")\n",
    "#AUC 0.72"
   ]
  },
  {
   "cell_type": "code",
   "execution_count": 41,
   "metadata": {
    "id": "VqkJu6tM_wOU",
    "outputId": "385edf2d-4901-4954-83c7-2ea92d15d8bd"
   },
   "outputs": [
    {
     "name": "stdout",
     "output_type": "stream",
     "text": [
      "LGB group feature importances:\n",
      "0       feature_intelligence1\n",
      "3       feature_intelligence4\n",
      "7       feature_intelligence8\n",
      "372            feature_10_std\n",
      "433     feature_charisma_skew\n",
      "441    feature_dexterity_kurt\n",
      "424       feature_wisdom_mean\n",
      "300          feature_wisdom37\n",
      "432      feature_charisma_std\n",
      "330             feature_3_std\n",
      "203    feature_constitution54\n",
      "438     feature_dexterity_std\n",
      "47         feature_charisma36\n",
      "361            feature_8_skew\n",
      "375           feature_10_kurt\n",
      "285          feature_wisdom22\n",
      "427       feature_wisdom_skew\n",
      "298          feature_wisdom35\n",
      "360             feature_8_std\n",
      "Name: feature, dtype: object\n",
      "There are 306 features with lower than 5.00 importance\n"
     ]
    },
    {
     "data": {
      "text/html": [
       "<div>\n",
       "<style scoped>\n",
       "    .dataframe tbody tr th:only-of-type {\n",
       "        vertical-align: middle;\n",
       "    }\n",
       "\n",
       "    .dataframe tbody tr th {\n",
       "        vertical-align: top;\n",
       "    }\n",
       "\n",
       "    .dataframe thead th {\n",
       "        text-align: right;\n",
       "    }\n",
       "</style>\n",
       "<table border=\"1\" class=\"dataframe\">\n",
       "  <thead>\n",
       "    <tr style=\"text-align: right;\">\n",
       "      <th></th>\n",
       "      <th>feature</th>\n",
       "      <th>importance</th>\n",
       "    </tr>\n",
       "  </thead>\n",
       "  <tbody>\n",
       "    <tr>\n",
       "      <th>404</th>\n",
       "      <td>feature_15_sum</td>\n",
       "      <td>0.0</td>\n",
       "    </tr>\n",
       "    <tr>\n",
       "      <th>317</th>\n",
       "      <td>feature_0_median</td>\n",
       "      <td>0.0</td>\n",
       "    </tr>\n",
       "    <tr>\n",
       "      <th>314</th>\n",
       "      <td>feature_1_sum</td>\n",
       "      <td>0.0</td>\n",
       "    </tr>\n",
       "    <tr>\n",
       "      <th>410</th>\n",
       "      <td>feature_16_sum</td>\n",
       "      <td>0.0</td>\n",
       "    </tr>\n",
       "    <tr>\n",
       "      <th>344</th>\n",
       "      <td>feature_5_sum</td>\n",
       "      <td>0.0</td>\n",
       "    </tr>\n",
       "  </tbody>\n",
       "</table>\n",
       "</div>"
      ],
      "text/plain": [
       "              feature  importance\n",
       "404    feature_15_sum         0.0\n",
       "317  feature_0_median         0.0\n",
       "314     feature_1_sum         0.0\n",
       "410    feature_16_sum         0.0\n",
       "344     feature_5_sum         0.0"
      ]
     },
     "execution_count": 41,
     "metadata": {},
     "output_type": "execute_result"
    }
   ],
   "source": [
    "# LGB group feature importances 5\n",
    "print('LGB group feature importances:')\n",
    "print(feature_importances5.feature[0:19])\n",
    "#Select importance\n",
    "lgbcimp = 5 #adjust text\n",
    "# Find the features with zero importance\n",
    "zero_features5 = list(feature_importances5[feature_importances5['importance'] <= lgbcimp]['feature'])\n",
    "print('There are %d features with lower than 5.00 importance' % len(zero_features5))\n",
    "feature_importances5.tail()\n"
   ]
  },
  {
   "cell_type": "code",
   "execution_count": 42,
   "metadata": {
    "id": "MDljZ7B6_wOW",
    "outputId": "786d1948-268e-4ae4-f95c-6109202b1533"
   },
   "outputs": [
    {
     "name": "stdout",
     "output_type": "stream",
     "text": [
      "['feature_intelligence1', 'feature_intelligence2', 'feature_intelligence3', 'feature_intelligence4', 'feature_intelligence5', 'feature_intelligence6', 'feature_intelligence7', 'feature_intelligence8', 'feature_intelligence9', 'feature_intelligence10', 'feature_intelligence11', 'feature_intelligence12', 'feature_charisma1', 'feature_charisma2', 'feature_charisma3', 'feature_charisma4', 'feature_charisma5', 'feature_charisma6', 'feature_charisma7', 'feature_charisma8', 'feature_charisma9', 'feature_charisma10', 'feature_charisma11', 'feature_charisma12', 'feature_charisma13', 'feature_charisma14', 'feature_charisma15', 'feature_charisma16', 'feature_charisma17', 'feature_charisma18', 'feature_charisma19', 'feature_charisma20', 'feature_charisma21', 'feature_charisma22', 'feature_charisma23', 'feature_charisma24', 'feature_charisma25', 'feature_charisma26', 'feature_charisma27', 'feature_charisma28', 'feature_charisma29', 'feature_charisma30', 'feature_charisma31', 'feature_charisma32', 'feature_charisma33', 'feature_charisma34', 'feature_charisma35', 'feature_charisma36', 'feature_charisma37', 'feature_charisma38', 'feature_charisma39', 'feature_charisma40', 'feature_charisma41', 'feature_charisma42', 'feature_charisma43', 'feature_charisma44', 'feature_charisma45', 'feature_charisma46', 'feature_charisma47', 'feature_charisma48', 'feature_charisma49', 'feature_charisma50', 'feature_charisma51', 'feature_charisma52', 'feature_charisma53', 'feature_charisma54', 'feature_charisma55', 'feature_charisma56', 'feature_charisma57', 'feature_charisma58', 'feature_charisma59', 'feature_charisma60', 'feature_charisma61', 'feature_charisma62', 'feature_charisma63', 'feature_charisma64', 'feature_charisma65', 'feature_charisma66', 'feature_charisma67', 'feature_charisma68', 'feature_charisma69', 'feature_charisma70', 'feature_charisma71', 'feature_charisma72', 'feature_charisma73', 'feature_charisma74', 'feature_charisma75', 'feature_charisma76', 'feature_charisma77', 'feature_charisma78', 'feature_charisma79', 'feature_charisma80', 'feature_charisma81', 'feature_charisma82', 'feature_charisma83', 'feature_charisma84', 'feature_charisma85', 'feature_charisma86', 'feature_strength1', 'feature_strength2', 'feature_strength3', 'feature_strength4', 'feature_strength5', 'feature_strength6', 'feature_strength7', 'feature_strength8', 'feature_strength9', 'feature_strength10', 'feature_strength11', 'feature_strength12', 'feature_strength13', 'feature_strength14', 'feature_strength15', 'feature_strength16', 'feature_strength17', 'feature_strength18', 'feature_strength19', 'feature_strength20', 'feature_strength21', 'feature_strength22', 'feature_strength23', 'feature_strength24', 'feature_strength25', 'feature_strength26', 'feature_strength27', 'feature_strength28', 'feature_strength29', 'feature_strength30', 'feature_strength31', 'feature_strength32', 'feature_strength33', 'feature_strength34', 'feature_strength35', 'feature_strength36', 'feature_strength37', 'feature_strength38', 'feature_dexterity1', 'feature_dexterity2', 'feature_dexterity3', 'feature_dexterity4', 'feature_dexterity5', 'feature_dexterity6', 'feature_dexterity7', 'feature_dexterity8', 'feature_dexterity9', 'feature_dexterity10', 'feature_dexterity11', 'feature_dexterity12', 'feature_dexterity13', 'feature_dexterity14', 'feature_constitution1', 'feature_constitution2', 'feature_constitution3', 'feature_constitution4', 'feature_constitution5', 'feature_constitution6', 'feature_constitution7', 'feature_constitution8', 'feature_constitution9', 'feature_constitution10', 'feature_constitution11', 'feature_constitution12', 'feature_constitution13', 'feature_constitution14', 'feature_constitution15', 'feature_constitution16', 'feature_constitution17', 'feature_constitution18', 'feature_constitution19', 'feature_constitution20', 'feature_constitution21', 'feature_constitution22', 'feature_constitution23', 'feature_constitution24', 'feature_constitution25', 'feature_constitution26', 'feature_constitution27', 'feature_constitution28', 'feature_constitution29', 'feature_constitution30', 'feature_constitution31', 'feature_constitution32', 'feature_constitution33', 'feature_constitution34', 'feature_constitution35', 'feature_constitution36', 'feature_constitution37', 'feature_constitution38', 'feature_constitution39', 'feature_constitution40', 'feature_constitution41', 'feature_constitution42', 'feature_constitution43', 'feature_constitution44', 'feature_constitution45', 'feature_constitution46', 'feature_constitution47', 'feature_constitution48', 'feature_constitution49', 'feature_constitution50', 'feature_constitution51', 'feature_constitution52', 'feature_constitution53', 'feature_constitution54', 'feature_constitution55', 'feature_constitution56', 'feature_constitution57', 'feature_constitution58', 'feature_constitution59', 'feature_constitution60', 'feature_constitution61', 'feature_constitution62', 'feature_constitution63', 'feature_constitution64', 'feature_constitution65', 'feature_constitution66', 'feature_constitution67', 'feature_constitution68', 'feature_constitution69', 'feature_constitution70', 'feature_constitution71', 'feature_constitution72', 'feature_constitution73', 'feature_constitution74', 'feature_constitution75', 'feature_constitution76', 'feature_constitution77', 'feature_constitution78', 'feature_constitution79', 'feature_constitution80', 'feature_constitution81', 'feature_constitution82', 'feature_constitution83', 'feature_constitution84', 'feature_constitution85', 'feature_constitution86', 'feature_constitution87', 'feature_constitution88', 'feature_constitution89', 'feature_constitution90', 'feature_constitution91', 'feature_constitution92', 'feature_constitution93', 'feature_constitution94', 'feature_constitution95', 'feature_constitution96', 'feature_constitution97', 'feature_constitution98', 'feature_constitution99', 'feature_constitution100', 'feature_constitution101', 'feature_constitution102', 'feature_constitution103', 'feature_constitution104', 'feature_constitution105', 'feature_constitution106', 'feature_constitution107', 'feature_constitution108', 'feature_constitution109', 'feature_constitution110', 'feature_constitution111', 'feature_constitution112', 'feature_constitution113', 'feature_constitution114', 'feature_wisdom1', 'feature_wisdom2', 'feature_wisdom3', 'feature_wisdom4', 'feature_wisdom5', 'feature_wisdom6', 'feature_wisdom7', 'feature_wisdom8', 'feature_wisdom9', 'feature_wisdom10', 'feature_wisdom11', 'feature_wisdom12', 'feature_wisdom13', 'feature_wisdom14', 'feature_wisdom15', 'feature_wisdom16', 'feature_wisdom17', 'feature_wisdom18', 'feature_wisdom19', 'feature_wisdom20', 'feature_wisdom21', 'feature_wisdom22', 'feature_wisdom23', 'feature_wisdom24', 'feature_wisdom25', 'feature_wisdom26', 'feature_wisdom27', 'feature_wisdom28', 'feature_wisdom29', 'feature_wisdom30', 'feature_wisdom31', 'feature_wisdom32', 'feature_wisdom33', 'feature_wisdom34', 'feature_wisdom35', 'feature_wisdom36', 'feature_wisdom37', 'feature_wisdom38', 'feature_wisdom39', 'feature_wisdom40', 'feature_wisdom41', 'feature_wisdom42', 'feature_wisdom43', 'feature_wisdom44', 'feature_wisdom45', 'feature_wisdom46', 'feature_1_mean', 'feature_1_median', 'feature_1_std', 'feature_1_skew', 'feature_1_sum', 'feature_1_kurt', 'feature_0_mean', 'feature_0_median', 'feature_0_std', 'feature_0_skew', 'feature_0_sum', 'feature_0_kurt', 'feature_2_mean', 'feature_2_median', 'feature_2_std', 'feature_2_skew', 'feature_2_sum', 'feature_2_kurt', 'feature_3_mean', 'feature_3_median', 'feature_3_std', 'feature_3_skew', 'feature_3_sum', 'feature_3_kurt', 'feature_4_mean', 'feature_4_median', 'feature_4_std', 'feature_4_skew', 'feature_4_sum', 'feature_4_kurt', 'feature_5_mean', 'feature_5_median', 'feature_5_std', 'feature_5_skew', 'feature_5_sum', 'feature_5_kurt', 'feature_6_mean', 'feature_6_median', 'feature_6_std', 'feature_6_skew', 'feature_6_sum', 'feature_6_kurt', 'feature_7_mean', 'feature_7_median', 'feature_7_std', 'feature_7_skew', 'feature_7_sum', 'feature_7_kurt', 'feature_8_mean', 'feature_8_median', 'feature_8_std', 'feature_8_skew', 'feature_8_sum', 'feature_8_kurt', 'feature_9_mean', 'feature_9_median', 'feature_9_std', 'feature_9_skew', 'feature_9_sum', 'feature_9_kurt', 'feature_10_mean', 'feature_10_median', 'feature_10_std', 'feature_10_skew', 'feature_10_sum', 'feature_10_kurt', 'feature_11_mean', 'feature_11_median', 'feature_11_std', 'feature_11_skew', 'feature_11_sum', 'feature_11_kurt', 'feature_12_mean', 'feature_12_median', 'feature_12_std', 'feature_12_skew', 'feature_12_sum', 'feature_12_kurt', 'feature_13_mean', 'feature_13_median', 'feature_13_std', 'feature_13_skew', 'feature_13_sum', 'feature_13_kurt', 'feature_14_mean', 'feature_14_median', 'feature_14_std', 'feature_14_skew', 'feature_14_sum', 'feature_14_kurt', 'feature_15_mean', 'feature_15_median', 'feature_15_std', 'feature_15_skew', 'feature_15_sum', 'feature_15_kurt', 'feature_16_mean', 'feature_16_median', 'feature_16_std', 'feature_16_skew', 'feature_16_sum', 'feature_16_kurt', 'feature_17_mean', 'feature_17_median', 'feature_17_std', 'feature_17_skew', 'feature_17_sum', 'feature_17_kurt', 'feature_intelligence_mean', 'feature_intelligence_median', 'feature_intelligence_std', 'feature_intelligence_skew', 'feature_intelligence_sum', 'feature_intelligence_kurt', 'feature_wisdom_mean', 'feature_wisdom_median', 'feature_wisdom_std', 'feature_wisdom_skew', 'feature_wisdom_sum', 'feature_wisdom_kurt', 'feature_charisma_mean', 'feature_charisma_median', 'feature_charisma_std', 'feature_charisma_skew', 'feature_charisma_sum', 'feature_charisma_kurt', 'feature_dexterity_mean', 'feature_dexterity_median', 'feature_dexterity_std', 'feature_dexterity_skew', 'feature_dexterity_sum', 'feature_dexterity_kurt', 'feature_strength_mean', 'feature_strength_median', 'feature_strength_std', 'feature_strength_skew', 'feature_strength_sum', 'feature_strength_kurt', 'feature_constitution_mean', 'feature_constitution_median', 'feature_constitution_std', 'feature_constitution_skew', 'feature_constitution_sum', 'feature_constitution_kurt']\n",
      "454\n"
     ]
    }
   ],
   "source": [
    "features = [f for f in train.columns.values.tolist() if 'feature' in f]\n",
    "print(features)\n",
    "print(len(features))"
   ]
  },
  {
   "cell_type": "code",
   "execution_count": 43,
   "metadata": {
    "id": "sSwLzuWO_wOX",
    "outputId": "569fe258-60d5-4dc2-9bce-64f598545c82"
   },
   "outputs": [
    {
     "data": {
      "image/png": "[encoded data removed]",
      "text/plain": [
       "<Figure size 720x432 with 1 Axes>"
      ]
     },
     "metadata": {
      "needs_background": "light"
     },
     "output_type": "display_data"
    },
    {
     "data": {
      "image/png": "[encoded data removed]",
      "text/plain": [
       "<Figure size 576x432 with 1 Axes>"
      ]
     },
     "metadata": {
      "needs_background": "light"
     },
     "output_type": "display_data"
    },
    {
     "name": "stdout",
     "output_type": "stream",
     "text": [
      "252 features required for 0.90 of cumulative importance\n"
     ]
    }
   ],
   "source": [
    "# plot feature importance XGB group 5\n",
    "norm_feature_importances = plot_feature_importances(feature_importances5)"
   ]
  },
  {
   "cell_type": "code",
   "execution_count": 44,
   "metadata": {
    "id": "WOTfAWCM_wOY",
    "outputId": "b6bbdd96-279b-4d79-eabd-8e1860140563"
   },
   "outputs": [
    {
     "name": "stdout",
     "output_type": "stream",
     "text": [
      "LGBM model:\n",
      "Training selection 5 shape:  (501808, 151)\n",
      "Testing selection 5 shape:  (1731016, 151)\n",
      "There are 148 features.\n"
     ]
    }
   ],
   "source": [
    "#DROPS\n",
    "# Skip to keep the groups and derived variables with lower than 2\n",
    "train = train.drop(columns = zero_features5)\n",
    "test = test.drop(columns = zero_features5)\n",
    "val = val.drop(columns = zero_features5)\n",
    "print('LGBM model:')\n",
    "print('Training selection 5 shape: ', train.shape)\n",
    "print('Testing selection 5 shape: ', test.shape)\n",
    "features = [f for f in train.columns.values.tolist() if 'feature' in f]\n",
    "print('There are {} features.'.format(len(features)))"
   ]
  },
  {
   "cell_type": "code",
   "execution_count": 45,
   "metadata": {
    "id": "W1p-oFVn_wOZ"
   },
   "outputs": [],
   "source": [
    "# backup data\n",
    "train.to_csv('train2.csv')\n",
    "test.to_csv('test2.csv')\n",
    "val.to_csv('val2.csv')"
   ]
  },
  {
   "cell_type": "markdown",
   "metadata": {
    "id": "ML_ie3fg_wOZ"
   },
   "source": [
    "## Feature Selection with feature selection tools on Interaction variables \n",
    "Featuretools: subtract_numeric, a*b, b*c, a*c, haversine"
   ]
  },
  {
   "cell_type": "code",
   "execution_count": 46,
   "metadata": {
    "id": "k81wRvCl_wOa",
    "outputId": "c865435b-637d-44c0-8660-2ab761edaaff"
   },
   "outputs": [
    {
     "name": "stdout",
     "output_type": "stream",
     "text": [
      "Current date and time:  2021-05-30 01:22:03.688076\n",
      "CPU times: user 9.46 s, sys: 1.47 s, total: 10.9 s\n",
      "Wall time: 10.9 s\n"
     ]
    }
   ],
   "source": [
    "%%time\n",
    "\n",
    "print(\"Current date and time: \",str(datetime.datetime.now()))\n",
    "#now we want to have transformations\n",
    "es = ft.EntitySet(id = 'id')\n",
    "# Create an entity from the client dataframe\n",
    "# This dataframe already has an index and a time index\n",
    "tr_sub1 = es.entity_from_dataframe(entity_id = 'tr', dataframe = train, \n",
    "                               index = 'id', time_index = 'era')\n",
    "te_sub1 = es.entity_from_dataframe(entity_id = 'te', dataframe = test, \n",
    "                               index = 'id', time_index = 'era')\n",
    "va_sub1 = es.entity_from_dataframe(entity_id = 'va', dataframe = val, \n",
    "                               index = 'id', time_index = 'era')\n"
   ]
  },
  {
   "cell_type": "code",
   "execution_count": 47,
   "metadata": {
    "id": "1I6z54SA_wOa",
    "outputId": "5dfacb30-9361-4923-d3e0-bef50a186d76"
   },
   "outputs": [
    {
     "name": "stdout",
     "output_type": "stream",
     "text": [
      "Current date and time:  2021-05-30 01:22:14.606233\n",
      "Built 700 features\n"
     ]
    },
    {
     "name": "stderr",
     "output_type": "stream",
     "text": [
      "/home/hadoopuser/.local/lib/python3.8/site-packages/featuretools/synthesis/dfs.py:317: UnusedPrimitiveWarning: Some specified primitives were not used during DFS:\n",
      "  trans_primitives: ['haversine']\n",
      "  agg_primitives: ['mean', 'mode', 'std']\n",
      "This may be caused by a using a value of max_depth that is too small, not setting interesting values, or it may indicate no compatible variable types for the primitive were found in the data.\n",
      "  warnings.warn(warning_msg, UnusedPrimitiveWarning)\n"
     ]
    },
    {
     "name": "stdout",
     "output_type": "stream",
     "text": [
      "\n",
      "Elapsed: 00:00 | Progress:   0%|          \u001b[A\n",
      "Elapsed: 00:00 | Progress:   0%|          \u001b[A"
     ]
    },
    {
     "name": "stderr",
     "output_type": "stream",
     "text": [
      "                                                  \r"
     ]
    },
    {
     "name": "stdout",
     "output_type": "stream",
     "text": [
      "\n",
      "\u001b[A                                       "
     ]
    },
    {
     "name": "stderr",
     "output_type": "stream",
     "text": [
      "./numerai_dataset_266.zip: 406MB [28:45, 1.52MB/s]"
     ]
    },
    {
     "name": "stdout",
     "output_type": "stream",
     "text": [
      "EntitySet scattered to 24 workers in 68 seconds\n",
      "\n",
      "Elapsed: 00:00 | Progress:   0%|          \u001b[A\n",
      "Elapsed: 00:04 | Progress:   0%|          \u001b[A\n",
      "Elapsed: 00:04 | Progress:   0%|          \u001b[A\n",
      "Elapsed: 00:04 | Progress:   0%|          \u001b[A\n",
      "Elapsed: 00:05 | Progress:   1%|          \u001b[A\n",
      "Elapsed: 00:05 | Progress:   1%|          \u001b[A\n",
      "Elapsed: 00:06 | Progress:   1%|          \u001b[A\n",
      "Elapsed: 00:06 | Progress:   2%|▏         \u001b[A\n",
      "Elapsed: 00:07 | Progress:   2%|▏         \u001b[A\n",
      "Elapsed: 00:07 | Progress:   3%|▎         \u001b[A\n",
      "Elapsed: 00:07 | Progress:   3%|▎         \u001b[A\n",
      "Elapsed: 00:08 | Progress:   3%|▎         \u001b[A\n",
      "Elapsed: 00:08 | Progress:   4%|▍         \u001b[A\n",
      "Elapsed: 00:09 | Progress:   4%|▍         \u001b[A\n",
      "Elapsed: 00:09 | Progress:   4%|▍         \u001b[A\n",
      "Elapsed: 00:09 | Progress:   5%|▍         \u001b[A\n",
      "Elapsed: 00:09 | Progress:   5%|▌         \u001b[A\n",
      "Elapsed: 00:10 | Progress:   5%|▌         \u001b[A\n",
      "Elapsed: 00:10 | Progress:   6%|▌         \u001b[A\n",
      "Elapsed: 00:11 | Progress:   6%|▌         \u001b[A\n",
      "Elapsed: 00:11 | Progress:   6%|▌         \u001b[A\n",
      "Elapsed: 00:11 | Progress:   7%|▋         \u001b[A\n",
      "Elapsed: 00:12 | Progress:   7%|▋         \u001b[A\n",
      "Elapsed: 00:12 | Progress:   7%|▋         \u001b[A\n",
      "Elapsed: 00:12 | Progress:   8%|▊         \u001b[A\n",
      "Elapsed: 00:12 | Progress:   8%|▊         \u001b[A\n",
      "Elapsed: 00:13 | Progress:   8%|▊         \u001b[A\n",
      "Elapsed: 00:13 | Progress:   8%|▊         \u001b[A\n",
      "Elapsed: 00:14 | Progress:   9%|▊         \u001b[A\n",
      "Elapsed: 00:14 | Progress:   9%|▉         \u001b[A\n",
      "Elapsed: 00:15 | Progress:  10%|▉         \u001b[A\n",
      "Elapsed: 00:15 | Progress:  10%|▉         \u001b[A\n",
      "Elapsed: 00:16 | Progress:  10%|█         \u001b[A\n",
      "Elapsed: 00:16 | Progress:  11%|█         \u001b[A\n",
      "Elapsed: 00:16 | Progress:  11%|█         \u001b[A\n",
      "Elapsed: 00:17 | Progress:  12%|█▏        \u001b[A\n",
      "Elapsed: 00:17 | Progress:  12%|█▏        \u001b[A\n",
      "Elapsed: 00:17 | Progress:  12%|█▏        \u001b[A\n",
      "Elapsed: 00:18 | Progress:  13%|█▎        \u001b[A\n",
      "Elapsed: 00:18 | Progress:  13%|█▎        \u001b[A\n",
      "Elapsed: 00:18 | Progress:  13%|█▎        \u001b[A\n",
      "Elapsed: 00:19 | Progress:  13%|█▎        \u001b[A\n",
      "Elapsed: 00:19 | Progress:  14%|█▎        \u001b[A\n",
      "Elapsed: 00:19 | Progress:  14%|█▍        \u001b[A\n",
      "Elapsed: 00:20 | Progress:  14%|█▍        \u001b[A\n",
      "Elapsed: 00:20 | Progress:  15%|█▍        \u001b[A\n",
      "Elapsed: 00:21 | Progress:  15%|█▌        \u001b[A\n",
      "Elapsed: 00:22 | Progress:  16%|█▌        \u001b[A\n",
      "Elapsed: 00:22 | Progress:  16%|█▌        \u001b[A\n",
      "Elapsed: 00:22 | Progress:  17%|█▋        \u001b[A\n",
      "Elapsed: 00:22 | Progress:  17%|█▋        \u001b[A\n",
      "Elapsed: 00:23 | Progress:  17%|█▋        \u001b[A\n",
      "Elapsed: 00:23 | Progress:  17%|█▋        \u001b[A\n",
      "Elapsed: 00:24 | Progress:  18%|█▊        \u001b[A\n",
      "Elapsed: 00:24 | Progress:  18%|█▊        \u001b[A\n",
      "Elapsed: 00:25 | Progress:  19%|█▊        \u001b[A\n",
      "Elapsed: 00:25 | Progress:  19%|█▉        \u001b[A\n",
      "Elapsed: 00:26 | Progress:  19%|█▉        \u001b[A\n",
      "Elapsed: 00:26 | Progress:  20%|█▉        \u001b[A\n",
      "Elapsed: 00:26 | Progress:  20%|██        \u001b[A\n",
      "Elapsed: 00:27 | Progress:  21%|██        \u001b[A\n",
      "Elapsed: 00:27 | Progress:  21%|██        \u001b[A\n",
      "Elapsed: 00:28 | Progress:  21%|██▏       \u001b[A\n",
      "Elapsed: 00:28 | Progress:  22%|██▏       \u001b[A\n",
      "Elapsed: 00:29 | Progress:  22%|██▏       \u001b[A\n",
      "Elapsed: 00:29 | Progress:  23%|██▎       \u001b[A\n",
      "Elapsed: 00:30 | Progress:  23%|██▎       \u001b[A\n",
      "Elapsed: 00:30 | Progress:  24%|██▎       \u001b[A\n",
      "Elapsed: 00:31 | Progress:  24%|██▍       \u001b[A\n",
      "Elapsed: 00:31 | Progress:  24%|██▍       \u001b[A\n",
      "Elapsed: 00:32 | Progress:  25%|██▍       \u001b[A\n",
      "Elapsed: 00:32 | Progress:  25%|██▌       \u001b[A\n",
      "Elapsed: 00:33 | Progress:  26%|██▌       \u001b[A\n",
      "Elapsed: 00:33 | Progress:  26%|██▋       \u001b[A\n",
      "Elapsed: 00:33 | Progress:  27%|██▋       \u001b[A\n",
      "Elapsed: 00:34 | Progress:  27%|██▋       \u001b[A\n",
      "Elapsed: 00:34 | Progress:  27%|██▋       \u001b[A\n",
      "Elapsed: 00:35 | Progress:  28%|██▊       \u001b[A\n",
      "Elapsed: 00:35 | Progress:  28%|██▊       \u001b[A\n",
      "Elapsed: 00:36 | Progress:  28%|██▊       \u001b[A\n",
      "Elapsed: 00:36 | Progress:  29%|██▉       \u001b[A\n",
      "Elapsed: 00:37 | Progress:  29%|██▉       \u001b[A\n",
      "Elapsed: 00:38 | Progress:  30%|███       \u001b[A\n",
      "Elapsed: 00:38 | Progress:  31%|███       \u001b[A\n",
      "Elapsed: 00:38 | Progress:  31%|███       \u001b[A\n",
      "Elapsed: 00:39 | Progress:  32%|███▏      \u001b[A\n",
      "Elapsed: 00:39 | Progress:  32%|███▏      \u001b[A\n",
      "Elapsed: 00:40 | Progress:  32%|███▏      \u001b[A\n",
      "Elapsed: 00:40 | Progress:  32%|███▏      \u001b[A\n",
      "Elapsed: 00:41 | Progress:  33%|███▎      \u001b[A\n",
      "Elapsed: 00:41 | Progress:  34%|███▎      \u001b[A\n",
      "Elapsed: 00:42 | Progress:  34%|███▍      \u001b[A\n",
      "Elapsed: 00:42 | Progress:  34%|███▍      \u001b[A\n",
      "Elapsed: 00:43 | Progress:  35%|███▍      \u001b[A\n",
      "Elapsed: 00:43 | Progress:  35%|███▌      \u001b[A\n",
      "Elapsed: 00:44 | Progress:  36%|███▌      \u001b[A\n",
      "Elapsed: 00:44 | Progress:  36%|███▌      \u001b[A\n",
      "Elapsed: 00:45 | Progress:  37%|███▋      \u001b[A\n",
      "Elapsed: 00:45 | Progress:  37%|███▋      \u001b[A\n",
      "Elapsed: 00:46 | Progress:  38%|███▊      \u001b[A\n",
      "Elapsed: 00:47 | Progress:  38%|███▊      \u001b[A\n",
      "Elapsed: 00:47 | Progress:  39%|███▉      \u001b[A\n",
      "Elapsed: 00:48 | Progress:  40%|███▉      \u001b[A\n",
      "Elapsed: 00:49 | Progress:  40%|████      \u001b[A\n",
      "Elapsed: 00:49 | Progress:  41%|████      \u001b[A\n",
      "Elapsed: 00:50 | Progress:  41%|████      \u001b[A\n",
      "Elapsed: 00:50 | Progress:  42%|████▏     \u001b[A\n",
      "Elapsed: 00:51 | Progress:  42%|████▏     \u001b[A\n",
      "Elapsed: 00:52 | Progress:  43%|████▎     \u001b[A\n",
      "Elapsed: 00:53 | Progress:  43%|████▎     \u001b[A\n",
      "Elapsed: 00:53 | Progress:  44%|████▍     \u001b[A\n",
      "Elapsed: 00:54 | Progress:  45%|████▌     \u001b[A\n",
      "Elapsed: 00:54 | Progress:  45%|████▌     \u001b[A\n",
      "Elapsed: 00:55 | Progress:  46%|████▌     \u001b[A\n",
      "Elapsed: 00:56 | Progress:  46%|████▌     \u001b[A\n",
      "Elapsed: 00:56 | Progress:  47%|████▋     \u001b[A\n",
      "Elapsed: 00:57 | Progress:  48%|████▊     \u001b[A\n",
      "Elapsed: 00:57 | Progress:  48%|████▊     \u001b[A\n",
      "Elapsed: 00:58 | Progress:  48%|████▊     \u001b[A\n",
      "Elapsed: 00:58 | Progress:  49%|████▉     \u001b[A\n",
      "Elapsed: 00:59 | Progress:  50%|████▉     \u001b[A\n",
      "Elapsed: 01:00 | Progress:  50%|████▉     \u001b[A\n",
      "Elapsed: 01:01 | Progress:  51%|█████     \u001b[A\n",
      "Elapsed: 01:01 | Progress:  52%|█████▏    \u001b[A\n",
      "Elapsed: 01:02 | Progress:  52%|█████▏    \u001b[A\n",
      "Elapsed: 01:02 | Progress:  53%|█████▎    \u001b[A\n",
      "Elapsed: 01:03 | Progress:  53%|█████▎    \u001b[A\n",
      "Elapsed: 01:04 | Progress:  54%|█████▍    \u001b[A\n",
      "Elapsed: 01:05 | Progress:  54%|█████▍    \u001b[A\n",
      "Elapsed: 01:05 | Progress:  55%|█████▌    \u001b[A\n",
      "Elapsed: 01:06 | Progress:  56%|█████▌    \u001b[A\n",
      "Elapsed: 01:06 | Progress:  56%|█████▋    \u001b[A\n",
      "Elapsed: 01:07 | Progress:  57%|█████▋    \u001b[A\n",
      "Elapsed: 01:08 | Progress:  58%|█████▊    \u001b[A\n",
      "Elapsed: 01:08 | Progress:  58%|█████▊    \u001b[A\n",
      "Elapsed: 01:09 | Progress:  59%|█████▊    \u001b[A\n",
      "Elapsed: 01:10 | Progress:  59%|█████▉    \u001b[A\n",
      "Elapsed: 01:11 | Progress:  60%|██████    \u001b[A\n",
      "Elapsed: 01:12 | Progress:  61%|██████    \u001b[A\n",
      "Elapsed: 01:12 | Progress:  62%|██████▏   \u001b[A\n",
      "Elapsed: 01:13 | Progress:  62%|██████▏   \u001b[A\n",
      "Elapsed: 01:14 | Progress:  63%|██████▎   \u001b[A\n",
      "Elapsed: 01:15 | Progress:  64%|██████▍   \u001b[A\n",
      "Elapsed: 01:16 | Progress:  65%|██████▍   \u001b[A\n",
      "Elapsed: 01:17 | Progress:  65%|██████▌   \u001b[A\n",
      "Elapsed: 01:18 | Progress:  66%|██████▌   \u001b[A\n",
      "Elapsed: 01:19 | Progress:  67%|██████▋   \u001b[A\n",
      "Elapsed: 01:19 | Progress:  68%|██████▊   \u001b[A\n",
      "Elapsed: 01:20 | Progress:  68%|██████▊   \u001b[A\n",
      "Elapsed: 01:20 | Progress:  69%|██████▉   \u001b[A\n",
      "Elapsed: 01:21 | Progress:  70%|██████▉   \u001b[A\n",
      "Elapsed: 01:22 | Progress:  70%|███████   \u001b[A\n",
      "Elapsed: 01:23 | Progress:  71%|███████   \u001b[A\n",
      "Elapsed: 01:24 | Progress:  71%|███████▏  \u001b[A\n",
      "Elapsed: 01:24 | Progress:  72%|███████▏  \u001b[A\n",
      "Elapsed: 01:25 | Progress:  73%|███████▎  \u001b[A\n",
      "Elapsed: 01:26 | Progress:  74%|███████▎  \u001b[A\n",
      "Elapsed: 01:27 | Progress:  74%|███████▍  \u001b[A\n",
      "Elapsed: 01:28 | Progress:  75%|███████▌  \u001b[A\n",
      "Elapsed: 01:28 | Progress:  76%|███████▌  \u001b[A\n",
      "Elapsed: 01:30 | Progress:  77%|███████▋  \u001b[A\n",
      "Elapsed: 01:31 | Progress:  77%|███████▋  \u001b[A\n",
      "Elapsed: 01:32 | Progress:  79%|███████▊  \u001b[A\n",
      "Elapsed: 01:33 | Progress:  80%|███████▉  \u001b[A\n",
      "Elapsed: 01:34 | Progress:  81%|████████  \u001b[A\n",
      "Elapsed: 01:35 | Progress:  82%|████████▏ \u001b[A\n",
      "Elapsed: 01:36 | Progress:  83%|████████▎ \u001b[A\n",
      "Elapsed: 01:37 | Progress:  84%|████████▎ \u001b[A\n",
      "Elapsed: 01:38 | Progress:  85%|████████▍ \u001b[A\n",
      "Elapsed: 01:39 | Progress:  85%|████████▌ \u001b[A\n",
      "Elapsed: 01:39 | Progress:  86%|████████▋ \u001b[A\n",
      "Elapsed: 01:41 | Progress:  87%|████████▋ \u001b[A\n",
      "Elapsed: 01:42 | Progress:  88%|████████▊ \u001b[A\n",
      "Elapsed: 01:43 | Progress:  89%|████████▊ \u001b[A\n",
      "Elapsed: 01:44 | Progress:  89%|████████▉ \u001b[A\n",
      "Elapsed: 01:44 | Progress:  90%|█████████ \u001b[A\n",
      "Elapsed: 01:45 | Progress:  91%|█████████ \u001b[A\n",
      "Elapsed: 01:46 | Progress:  92%|█████████▏\u001b[A\n",
      "Elapsed: 01:47 | Progress:  92%|█████████▏\u001b[A\n",
      "Elapsed: 01:47 | Progress:  93%|█████████▎\u001b[A\n",
      "Elapsed: 01:47 | Progress:  94%|█████████▎\u001b[A\n",
      "Elapsed: 01:48 | Progress:  94%|█████████▍\u001b[A\n",
      "Elapsed: 01:48 | Progress:  94%|█████████▍\u001b[A\n",
      "Elapsed: 01:49 | Progress:  95%|█████████▍\u001b[A\n",
      "Elapsed: 01:49 | Progress:  95%|█████████▍\u001b[A\n",
      "Elapsed: 01:51 | Progress:  95%|█████████▍\u001b[A\n",
      "Elapsed: 02:07 | Progress:  95%|█████████▍\u001b[A\n",
      "Elapsed: 02:13 | Progress: 100%|██████████\u001b[A\n",
      "Elapsed: 02:13 | Progress: 100%|██████████\u001b[A\n",
      "train feature creation done\n",
      "Built 700 features\n"
     ]
    },
    {
     "name": "stderr",
     "output_type": "stream",
     "text": [
      "/home/hadoopuser/.local/lib/python3.8/site-packages/featuretools/synthesis/dfs.py:317: UnusedPrimitiveWarning: Some specified primitives were not used during DFS:\n",
      "  trans_primitives: ['haversine']\n",
      "  agg_primitives: ['mean', 'mode', 'std']\n",
      "This may be caused by a using a value of max_depth that is too small, not setting interesting values, or it may indicate no compatible variable types for the primitive were found in the data.\n",
      "  warnings.warn(warning_msg, UnusedPrimitiveWarning)\n"
     ]
    },
    {
     "name": "stdout",
     "output_type": "stream",
     "text": [
      "\n",
      "Elapsed: 00:00 | Progress:   0%|          \u001b[A\n",
      "Elapsed: 00:00 | Progress:   0%|          \u001b[A"
     ]
    },
    {
     "name": "stderr",
     "output_type": "stream",
     "text": [
      "                                                  \r"
     ]
    },
    {
     "name": "stdout",
     "output_type": "stream",
     "text": [
      "\n",
      "\u001b[A                                       "
     ]
    },
    {
     "name": "stderr",
     "output_type": "stream",
     "text": [
      "./numerai_dataset_266.zip: 406MB [35:11, 1.52MB/s]"
     ]
    },
    {
     "name": "stdout",
     "output_type": "stream",
     "text": [
      "EntitySet scattered to 24 workers in 64 seconds\n",
      "\n",
      "Elapsed: 00:00 | Progress:   0%|          \u001b[A\n",
      "Elapsed: 00:12 | Progress:   0%|          \u001b[A\n",
      "Elapsed: 00:12 | Progress:   0%|          \u001b[A\n",
      "Elapsed: 00:12 | Progress:   0%|          \u001b[A\n",
      "Elapsed: 00:13 | Progress:   0%|          \u001b[A\n",
      "Elapsed: 00:13 | Progress:   0%|          \u001b[A\n",
      "Elapsed: 00:13 | Progress:   0%|          \u001b[A\n",
      "Elapsed: 00:14 | Progress:   0%|          \u001b[A\n",
      "Elapsed: 00:14 | Progress:   1%|          \u001b[A\n",
      "Elapsed: 00:15 | Progress:   1%|          \u001b[A\n",
      "Elapsed: 00:15 | Progress:   1%|          \u001b[A\n",
      "Elapsed: 00:15 | Progress:   1%|          \u001b[A\n",
      "Elapsed: 00:15 | Progress:   1%|          \u001b[A\n",
      "Elapsed: 00:16 | Progress:   1%|          \u001b[A\n",
      "Elapsed: 00:16 | Progress:   1%|          \u001b[A\n",
      "Elapsed: 00:17 | Progress:   1%|          \u001b[A\n",
      "Elapsed: 00:17 | Progress:   1%|▏         \u001b[A\n",
      "Elapsed: 00:18 | Progress:   1%|▏         \u001b[A\n",
      "Elapsed: 00:18 | Progress:   2%|▏         \u001b[A\n",
      "Elapsed: 00:18 | Progress:   2%|▏         \u001b[A\n",
      "Elapsed: 00:19 | Progress:   2%|▏         \u001b[A\n",
      "Elapsed: 00:19 | Progress:   2%|▏         \u001b[A\n",
      "Elapsed: 00:19 | Progress:   2%|▏         \u001b[A\n",
      "Elapsed: 00:20 | Progress:   2%|▏         \u001b[A\n",
      "Elapsed: 00:20 | Progress:   2%|▏         \u001b[A\n",
      "Elapsed: 00:21 | Progress:   2%|▏         \u001b[A\n",
      "Elapsed: 00:21 | Progress:   2%|▏         \u001b[A\n",
      "Elapsed: 00:22 | Progress:   2%|▏         \u001b[A\n",
      "Elapsed: 00:22 | Progress:   3%|▎         \u001b[A\n",
      "Elapsed: 00:22 | Progress:   3%|▎         \u001b[A\n",
      "Elapsed: 00:23 | Progress:   3%|▎         \u001b[A\n",
      "Elapsed: 00:23 | Progress:   3%|▎         \u001b[A\n",
      "Elapsed: 00:23 | Progress:   3%|▎         \u001b[A\n",
      "Elapsed: 00:24 | Progress:   3%|▎         \u001b[A\n",
      "Elapsed: 00:24 | Progress:   3%|▎         \u001b[A\n",
      "Elapsed: 00:25 | Progress:   3%|▎         \u001b[A\n",
      "Elapsed: 00:25 | Progress:   3%|▎         \u001b[A\n",
      "Elapsed: 00:26 | Progress:   3%|▎         \u001b[A\n",
      "Elapsed: 00:26 | Progress:   4%|▎         \u001b[A\n",
      "Elapsed: 00:27 | Progress:   4%|▎         \u001b[A\n",
      "Elapsed: 00:27 | Progress:   4%|▎         \u001b[A\n",
      "Elapsed: 00:28 | Progress:   4%|▍         \u001b[A\n",
      "Elapsed: 00:28 | Progress:   4%|▍         \u001b[A\n",
      "Elapsed: 00:28 | Progress:   4%|▍         \u001b[A\n",
      "Elapsed: 00:29 | Progress:   4%|▍         \u001b[A\n",
      "Elapsed: 00:29 | Progress:   4%|▍         \u001b[A\n",
      "Elapsed: 00:29 | Progress:   4%|▍         \u001b[A\n",
      "Elapsed: 00:30 | Progress:   4%|▍         \u001b[A\n",
      "Elapsed: 00:30 | Progress:   5%|▍         \u001b[A\n",
      "Elapsed: 00:31 | Progress:   5%|▍         \u001b[A\n",
      "Elapsed: 00:31 | Progress:   5%|▍         \u001b[A\n",
      "Elapsed: 00:31 | Progress:   5%|▍         \u001b[A\n",
      "Elapsed: 00:32 | Progress:   5%|▍         \u001b[A\n",
      "Elapsed: 00:32 | Progress:   5%|▌         \u001b[A\n",
      "Elapsed: 00:33 | Progress:   5%|▌         \u001b[A\n",
      "Elapsed: 00:33 | Progress:   5%|▌         \u001b[A\n",
      "Elapsed: 00:33 | Progress:   5%|▌         \u001b[A\n",
      "Elapsed: 00:33 | Progress:   5%|▌         \u001b[A\n",
      "Elapsed: 00:35 | Progress:   6%|▌         \u001b[A\n",
      "Elapsed: 00:35 | Progress:   6%|▌         \u001b[A\n",
      "Elapsed: 00:36 | Progress:   6%|▌         \u001b[A\n",
      "Elapsed: 00:36 | Progress:   6%|▌         \u001b[A\n",
      "Elapsed: 00:37 | Progress:   6%|▌         \u001b[A\n",
      "Elapsed: 00:37 | Progress:   6%|▌         \u001b[A\n",
      "Elapsed: 00:38 | Progress:   6%|▋         \u001b[A\n",
      "Elapsed: 00:39 | Progress:   7%|▋         \u001b[A\n",
      "Elapsed: 00:39 | Progress:   7%|▋         \u001b[A\n",
      "Elapsed: 00:39 | Progress:   7%|▋         \u001b[A\n",
      "Elapsed: 00:39 | Progress:   7%|▋         \u001b[A\n",
      "Elapsed: 00:39 | Progress:   7%|▋         \u001b[A\n",
      "Elapsed: 00:40 | Progress:   7%|▋         \u001b[A\n",
      "Elapsed: 00:40 | Progress:   7%|▋         \u001b[A\n",
      "Elapsed: 00:41 | Progress:   7%|▋         \u001b[A\n",
      "Elapsed: 00:41 | Progress:   7%|▋         \u001b[A\n",
      "Elapsed: 00:42 | Progress:   7%|▋         \u001b[A\n",
      "Elapsed: 00:43 | Progress:   7%|▋         \u001b[A\n",
      "Elapsed: 00:43 | Progress:   8%|▊         \u001b[A\n",
      "Elapsed: 00:43 | Progress:   8%|▊         \u001b[A\n",
      "Elapsed: 00:44 | Progress:   8%|▊         \u001b[A\n",
      "Elapsed: 00:45 | Progress:   8%|▊         \u001b[A\n",
      "Elapsed: 00:45 | Progress:   8%|▊         \u001b[A\n",
      "Elapsed: 00:46 | Progress:   8%|▊         \u001b[A\n",
      "Elapsed: 00:46 | Progress:   8%|▊         \u001b[A\n",
      "Elapsed: 00:46 | Progress:   9%|▊         \u001b[A\n",
      "Elapsed: 00:47 | Progress:   9%|▊         \u001b[A\n",
      "Elapsed: 00:47 | Progress:   9%|▉         \u001b[A\n",
      "Elapsed: 00:48 | Progress:   9%|▉         \u001b[A\n",
      "Elapsed: 00:48 | Progress:   9%|▉         \u001b[A\n",
      "Elapsed: 00:49 | Progress:   9%|▉         \u001b[A\n",
      "Elapsed: 00:50 | Progress:   9%|▉         \u001b[A\n",
      "Elapsed: 00:50 | Progress:   9%|▉         \u001b[A\n",
      "Elapsed: 00:50 | Progress:  10%|▉         \u001b[A\n",
      "Elapsed: 00:51 | Progress:  10%|▉         \u001b[A\n",
      "Elapsed: 00:52 | Progress:  10%|▉         \u001b[A\n",
      "Elapsed: 00:52 | Progress:  10%|▉         \u001b[A\n",
      "Elapsed: 00:53 | Progress:  10%|█         \u001b[A\n",
      "Elapsed: 00:54 | Progress:  10%|█         \u001b[A\n",
      "Elapsed: 00:55 | Progress:  10%|█         \u001b[A\n",
      "Elapsed: 00:56 | Progress:  11%|█         \u001b[A\n",
      "Elapsed: 00:56 | Progress:  11%|█         \u001b[A\n",
      "Elapsed: 00:57 | Progress:  11%|█         \u001b[A\n",
      "Elapsed: 00:58 | Progress:  11%|█▏        \u001b[A\n",
      "Elapsed: 00:58 | Progress:  11%|█▏        \u001b[A\n",
      "Elapsed: 00:59 | Progress:  12%|█▏        \u001b[A\n",
      "Elapsed: 00:59 | Progress:  12%|█▏        \u001b[A\n",
      "Elapsed: 01:00 | Progress:  12%|█▏        \u001b[A\n",
      "Elapsed: 01:01 | Progress:  12%|█▏        \u001b[A\n",
      "Elapsed: 01:02 | Progress:  12%|█▏        \u001b[A\n",
      "Elapsed: 01:02 | Progress:  12%|█▏        \u001b[A\n",
      "Elapsed: 01:02 | Progress:  13%|█▎        \u001b[A\n",
      "Elapsed: 01:03 | Progress:  13%|█▎        \u001b[A\n",
      "Elapsed: 01:03 | Progress:  13%|█▎        \u001b[A\n",
      "Elapsed: 01:04 | Progress:  13%|█▎        \u001b[A\n",
      "Elapsed: 01:05 | Progress:  13%|█▎        \u001b[A\n",
      "Elapsed: 01:05 | Progress:  13%|█▎        \u001b[A\n",
      "Elapsed: 01:05 | Progress:  13%|█▎        \u001b[A\n",
      "Elapsed: 01:06 | Progress:  13%|█▎        \u001b[A\n",
      "Elapsed: 01:07 | Progress:  14%|█▎        \u001b[A\n",
      "Elapsed: 01:07 | Progress:  14%|█▎        \u001b[A\n",
      "Elapsed: 01:08 | Progress:  14%|█▍        \u001b[A\n",
      "Elapsed: 01:09 | Progress:  14%|█▍        \u001b[A\n",
      "Elapsed: 01:09 | Progress:  14%|█▍        \u001b[A\n",
      "Elapsed: 01:10 | Progress:  14%|█▍        \u001b[A\n",
      "Elapsed: 01:10 | Progress:  14%|█▍        \u001b[A\n",
      "Elapsed: 01:11 | Progress:  15%|█▍        \u001b[A\n",
      "Elapsed: 01:12 | Progress:  15%|█▍        \u001b[A\n",
      "Elapsed: 01:12 | Progress:  15%|█▍        \u001b[A\n",
      "Elapsed: 01:13 | Progress:  15%|█▌        \u001b[A\n",
      "Elapsed: 01:14 | Progress:  15%|█▌        \u001b[A\n",
      "Elapsed: 01:14 | Progress:  15%|█▌        \u001b[A\n",
      "Elapsed: 01:15 | Progress:  16%|█▌        \u001b[A\n",
      "Elapsed: 01:15 | Progress:  16%|█▌        \u001b[A\n",
      "Elapsed: 01:16 | Progress:  16%|█▌        \u001b[A\n",
      "Elapsed: 01:17 | Progress:  16%|█▌        \u001b[A\n",
      "Elapsed: 01:17 | Progress:  16%|█▌        \u001b[A\n",
      "Elapsed: 01:18 | Progress:  16%|█▋        \u001b[A\n",
      "Elapsed: 01:18 | Progress:  17%|█▋        \u001b[A\n",
      "Elapsed: 01:19 | Progress:  17%|█▋        \u001b[A\n",
      "Elapsed: 01:20 | Progress:  17%|█▋        \u001b[A\n",
      "Elapsed: 01:21 | Progress:  17%|█▋        \u001b[A\n",
      "Elapsed: 01:22 | Progress:  17%|█▋        \u001b[A\n",
      "Elapsed: 01:23 | Progress:  17%|█▋        \u001b[A\n",
      "Elapsed: 01:23 | Progress:  18%|█▊        \u001b[A\n",
      "Elapsed: 01:23 | Progress:  18%|█▊        \u001b[A\n",
      "Elapsed: 01:23 | Progress:  18%|█▊        \u001b[A\n",
      "Elapsed: 01:24 | Progress:  18%|█▊        \u001b[A\n",
      "Elapsed: 01:25 | Progress:  18%|█▊        \u001b[A\n",
      "Elapsed: 01:26 | Progress:  18%|█▊        \u001b[A\n",
      "Elapsed: 01:26 | Progress:  18%|█▊        \u001b[A\n",
      "Elapsed: 01:27 | Progress:  19%|█▊        \u001b[A\n",
      "Elapsed: 01:28 | Progress:  19%|█▊        \u001b[A\n",
      "Elapsed: 01:28 | Progress:  19%|█▉        \u001b[A\n",
      "Elapsed: 01:29 | Progress:  19%|█▉        \u001b[A\n",
      "Elapsed: 01:30 | Progress:  19%|█▉        \u001b[A\n",
      "Elapsed: 01:31 | Progress:  20%|█▉        \u001b[A\n",
      "Elapsed: 01:31 | Progress:  20%|█▉        \u001b[A\n",
      "Elapsed: 01:32 | Progress:  20%|█▉        \u001b[A\n",
      "Elapsed: 01:33 | Progress:  20%|██        \u001b[A\n",
      "Elapsed: 01:34 | Progress:  20%|██        \u001b[A\n",
      "Elapsed: 01:35 | Progress:  21%|██        \u001b[A\n",
      "Elapsed: 01:36 | Progress:  21%|██        \u001b[A\n",
      "Elapsed: 01:37 | Progress:  21%|██        \u001b[A\n",
      "Elapsed: 01:37 | Progress:  21%|██        \u001b[A\n",
      "Elapsed: 01:38 | Progress:  21%|██▏       \u001b[A\n",
      "Elapsed: 01:39 | Progress:  21%|██▏       \u001b[A\n",
      "Elapsed: 01:40 | Progress:  22%|██▏       \u001b[A\n",
      "Elapsed: 01:40 | Progress:  22%|██▏       \u001b[A\n",
      "Elapsed: 01:41 | Progress:  22%|██▏       \u001b[A\n",
      "Elapsed: 01:42 | Progress:  22%|██▏       \u001b[A\n",
      "Elapsed: 01:43 | Progress:  23%|██▎       \u001b[A\n",
      "Elapsed: 01:44 | Progress:  23%|██▎       \u001b[A\n",
      "Elapsed: 01:44 | Progress:  23%|██▎       \u001b[A\n",
      "Elapsed: 01:45 | Progress:  23%|██▎       \u001b[A\n",
      "Elapsed: 01:46 | Progress:  23%|██▎       \u001b[A\n",
      "Elapsed: 01:47 | Progress:  23%|██▎       \u001b[A\n",
      "Elapsed: 01:48 | Progress:  24%|██▎       \u001b[A\n",
      "Elapsed: 01:49 | Progress:  24%|██▍       \u001b[A\n",
      "Elapsed: 01:49 | Progress:  24%|██▍       \u001b[A\n",
      "Elapsed: 01:50 | Progress:  24%|██▍       \u001b[A\n",
      "Elapsed: 01:52 | Progress:  25%|██▍       \u001b[A\n",
      "Elapsed: 01:53 | Progress:  25%|██▍       \u001b[A\n",
      "Elapsed: 01:53 | Progress:  25%|██▌       \u001b[A\n",
      "Elapsed: 01:54 | Progress:  25%|██▌       \u001b[A\n",
      "Elapsed: 01:55 | Progress:  26%|██▌       \u001b[A\n",
      "Elapsed: 01:56 | Progress:  26%|██▌       \u001b[A\n",
      "Elapsed: 01:57 | Progress:  26%|██▌       \u001b[A\n",
      "Elapsed: 01:58 | Progress:  26%|██▌       \u001b[A\n",
      "Elapsed: 01:59 | Progress:  26%|██▋       \u001b[A\n",
      "Elapsed: 02:00 | Progress:  27%|██▋       \u001b[A\n",
      "Elapsed: 02:00 | Progress:  27%|██▋       \u001b[A\n",
      "Elapsed: 02:01 | Progress:  27%|██▋       \u001b[A\n",
      "Elapsed: 02:02 | Progress:  27%|██▋       \u001b[A\n",
      "Elapsed: 02:03 | Progress:  28%|██▊       \u001b[A\n",
      "Elapsed: 02:04 | Progress:  28%|██▊       \u001b[A\n",
      "Elapsed: 02:05 | Progress:  28%|██▊       \u001b[A\n",
      "Elapsed: 02:06 | Progress:  28%|██▊       \u001b[A\n",
      "Elapsed: 02:08 | Progress:  29%|██▊       \u001b[A\n",
      "Elapsed: 02:09 | Progress:  29%|██▉       \u001b[A\n",
      "Elapsed: 02:10 | Progress:  29%|██▉       \u001b[A\n",
      "Elapsed: 02:10 | Progress:  30%|██▉       \u001b[A\n",
      "Elapsed: 02:11 | Progress:  30%|██▉       \u001b[A\n",
      "Elapsed: 02:11 | Progress:  30%|██▉       \u001b[A\n",
      "Elapsed: 02:12 | Progress:  30%|██▉       \u001b[A\n",
      "Elapsed: 02:13 | Progress:  30%|██▉       \u001b[A\n",
      "Elapsed: 02:14 | Progress:  30%|███       \u001b[A\n",
      "Elapsed: 02:15 | Progress:  30%|███       \u001b[A\n",
      "Elapsed: 02:16 | Progress:  31%|███       \u001b[A\n",
      "Elapsed: 02:18 | Progress:  31%|███       \u001b[A\n",
      "Elapsed: 02:18 | Progress:  31%|███▏      \u001b[A\n",
      "Elapsed: 02:20 | Progress:  32%|███▏      \u001b[A\n",
      "Elapsed: 02:20 | Progress:  32%|███▏      \u001b[A\n",
      "Elapsed: 02:21 | Progress:  32%|███▏      \u001b[A\n",
      "Elapsed: 02:23 | Progress:  32%|███▏      \u001b[A\n",
      "Elapsed: 02:24 | Progress:  33%|███▎      \u001b[A\n",
      "Elapsed: 02:26 | Progress:  33%|███▎      \u001b[A\n",
      "Elapsed: 02:26 | Progress:  33%|███▎      \u001b[A\n",
      "Elapsed: 02:28 | Progress:  34%|███▎      \u001b[A\n",
      "Elapsed: 02:29 | Progress:  34%|███▍      \u001b[A\n",
      "Elapsed: 02:30 | Progress:  34%|███▍      \u001b[A\n",
      "Elapsed: 02:31 | Progress:  34%|███▍      \u001b[A\n",
      "Elapsed: 02:31 | Progress:  35%|███▍      \u001b[A\n",
      "Elapsed: 02:32 | Progress:  35%|███▍      \u001b[A\n",
      "Elapsed: 02:33 | Progress:  35%|███▌      \u001b[A\n",
      "Elapsed: 02:35 | Progress:  35%|███▌      \u001b[A\n",
      "Elapsed: 02:36 | Progress:  36%|███▌      \u001b[A\n",
      "Elapsed: 02:37 | Progress:  36%|███▌      \u001b[A\n",
      "Elapsed: 02:39 | Progress:  36%|███▌      \u001b[A\n",
      "Elapsed: 02:40 | Progress:  37%|███▋      \u001b[A\n",
      "Elapsed: 02:41 | Progress:  37%|███▋      \u001b[A\n",
      "Elapsed: 02:42 | Progress:  37%|███▋      \u001b[A\n",
      "Elapsed: 02:43 | Progress:  38%|███▊      \u001b[A\n",
      "Elapsed: 02:44 | Progress:  38%|███▊      \u001b[A\n",
      "Elapsed: 02:45 | Progress:  38%|███▊      \u001b[A\n",
      "Elapsed: 02:46 | Progress:  38%|███▊      \u001b[A\n",
      "Elapsed: 02:47 | Progress:  39%|███▊      \u001b[A\n",
      "Elapsed: 02:49 | Progress:  39%|███▉      \u001b[A\n",
      "Elapsed: 02:50 | Progress:  39%|███▉      \u001b[A\n",
      "Elapsed: 02:51 | Progress:  40%|███▉      \u001b[A\n",
      "Elapsed: 02:52 | Progress:  40%|███▉      \u001b[A\n",
      "Elapsed: 02:53 | Progress:  40%|███▉      \u001b[A\n",
      "Elapsed: 02:54 | Progress:  40%|████      \u001b[A\n",
      "Elapsed: 02:56 | Progress:  41%|████      \u001b[A\n",
      "Elapsed: 02:57 | Progress:  41%|████      \u001b[A\n",
      "Elapsed: 02:59 | Progress:  41%|████      \u001b[A\n",
      "Elapsed: 03:00 | Progress:  42%|████▏     \u001b[A\n",
      "Elapsed: 03:02 | Progress:  42%|████▏     \u001b[A\n",
      "Elapsed: 03:03 | Progress:  42%|████▏     \u001b[A\n",
      "Elapsed: 03:04 | Progress:  43%|████▎     \u001b[A\n",
      "Elapsed: 03:05 | Progress:  43%|████▎     \u001b[A\n",
      "Elapsed: 03:07 | Progress:  43%|████▎     \u001b[A\n",
      "Elapsed: 03:09 | Progress:  44%|████▎     \u001b[A\n",
      "Elapsed: 03:10 | Progress:  44%|████▍     \u001b[A\n",
      "Elapsed: 03:12 | Progress:  45%|████▍     \u001b[A\n",
      "Elapsed: 03:14 | Progress:  45%|████▍     \u001b[A\n",
      "Elapsed: 03:14 | Progress:  45%|████▌     \u001b[A\n",
      "Elapsed: 03:14 | Progress:  46%|████▌     \u001b[A\n",
      "Elapsed: 03:15 | Progress:  46%|████▌     \u001b[A\n",
      "Elapsed: 03:15 | Progress:  46%|████▌     \u001b[A\n",
      "Elapsed: 03:16 | Progress:  46%|████▌     \u001b[A\n",
      "Elapsed: 03:18 | Progress:  46%|████▌     \u001b[A\n",
      "Elapsed: 03:18 | Progress:  46%|████▋     \u001b[A\n",
      "Elapsed: 03:20 | Progress:  47%|████▋     \u001b[A\n",
      "Elapsed: 03:21 | Progress:  47%|████▋     \u001b[A\n",
      "Elapsed: 03:23 | Progress:  47%|████▋     \u001b[A\n",
      "Elapsed: 03:24 | Progress:  48%|████▊     \u001b[A\n",
      "Elapsed: 03:25 | Progress:  48%|████▊     \u001b[A\n",
      "Elapsed: 03:27 | Progress:  48%|████▊     \u001b[A\n",
      "Elapsed: 03:28 | Progress:  49%|████▊     \u001b[A\n",
      "Elapsed: 03:29 | Progress:  49%|████▉     \u001b[A\n",
      "Elapsed: 03:30 | Progress:  49%|████▉     \u001b[A\n",
      "Elapsed: 03:32 | Progress:  50%|████▉     \u001b[A\n",
      "Elapsed: 03:34 | Progress:  50%|████▉     \u001b[A\n",
      "Elapsed: 03:35 | Progress:  50%|█████     \u001b[A\n",
      "Elapsed: 03:36 | Progress:  51%|█████     \u001b[A\n",
      "Elapsed: 03:37 | Progress:  51%|█████     \u001b[A\n",
      "Elapsed: 03:38 | Progress:  51%|█████▏    \u001b[A\n",
      "Elapsed: 03:40 | Progress:  52%|█████▏    \u001b[A\n",
      "Elapsed: 03:41 | Progress:  52%|█████▏    \u001b[A\n",
      "Elapsed: 03:43 | Progress:  52%|█████▏    \u001b[A\n",
      "Elapsed: 03:44 | Progress:  53%|█████▎    \u001b[A\n",
      "Elapsed: 03:45 | Progress:  53%|█████▎    \u001b[A\n",
      "Elapsed: 03:47 | Progress:  53%|█████▎    \u001b[A\n",
      "Elapsed: 03:48 | Progress:  54%|█████▎    \u001b[A\n",
      "Elapsed: 03:50 | Progress:  54%|█████▍    \u001b[A\n",
      "Elapsed: 03:52 | Progress:  54%|█████▍    \u001b[A\n",
      "Elapsed: 03:55 | Progress:  55%|█████▍    \u001b[A\n",
      "Elapsed: 03:56 | Progress:  55%|█████▌    \u001b[A\n",
      "Elapsed: 03:59 | Progress:  56%|█████▌    \u001b[A\n",
      "Elapsed: 03:59 | Progress:  56%|█████▋    \u001b[A\n",
      "Elapsed: 04:00 | Progress:  57%|█████▋    \u001b[A\n",
      "Elapsed: 04:01 | Progress:  57%|█████▋    \u001b[A\n",
      "Elapsed: 04:03 | Progress:  57%|█████▋    \u001b[A\n",
      "Elapsed: 04:06 | Progress:  58%|█████▊    \u001b[A\n",
      "Elapsed: 04:08 | Progress:  58%|█████▊    \u001b[A\n",
      "Elapsed: 04:10 | Progress:  59%|█████▉    \u001b[A\n",
      "Elapsed: 04:13 | Progress:  59%|█████▉    \u001b[A\n",
      "Elapsed: 04:14 | Progress:  60%|█████▉    \u001b[A\n",
      "Elapsed: 04:15 | Progress:  61%|██████    \u001b[A\n",
      "Elapsed: 04:17 | Progress:  61%|██████    \u001b[A\n",
      "Elapsed: 04:18 | Progress:  61%|██████    \u001b[A\n",
      "Elapsed: 04:20 | Progress:  62%|██████▏   \u001b[A\n",
      "Elapsed: 04:22 | Progress:  62%|██████▏   \u001b[A\n",
      "Elapsed: 04:24 | Progress:  62%|██████▏   \u001b[A\n",
      "Elapsed: 04:26 | Progress:  63%|██████▎   \u001b[A\n",
      "Elapsed: 04:30 | Progress:  63%|██████▎   \u001b[A\n",
      "Elapsed: 04:31 | Progress:  64%|██████▍   \u001b[A\n",
      "Elapsed: 04:32 | Progress:  65%|██████▍   \u001b[A\n",
      "Elapsed: 04:33 | Progress:  65%|██████▌   \u001b[A\n",
      "Elapsed: 04:33 | Progress:  65%|██████▌   \u001b[A\n",
      "Elapsed: 04:35 | Progress:  66%|██████▌   \u001b[A\n",
      "Elapsed: 04:37 | Progress:  66%|██████▌   \u001b[A\n",
      "Elapsed: 04:39 | Progress:  66%|██████▌   \u001b[A\n",
      "Elapsed: 04:42 | Progress:  67%|██████▋   \u001b[A\n",
      "Elapsed: 04:42 | Progress:  67%|██████▋   \u001b[A\n",
      "Elapsed: 04:43 | Progress:  68%|██████▊   \u001b[A\n",
      "Elapsed: 04:46 | Progress:  68%|██████▊   \u001b[A\n",
      "Elapsed: 04:48 | Progress:  68%|██████▊   \u001b[A\n",
      "Elapsed: 04:48 | Progress:  69%|██████▊   \u001b[A\n",
      "Elapsed: 04:49 | Progress:  69%|██████▉   \u001b[A\n",
      "Elapsed: 04:49 | Progress:  69%|██████▉   \u001b[A\n",
      "Elapsed: 04:49 | Progress:  70%|██████▉   \u001b[A\n",
      "Elapsed: 04:49 | Progress:  70%|██████▉   \u001b[A\n",
      "Elapsed: 04:50 | Progress:  70%|██████▉   \u001b[A\n",
      "Elapsed: 04:50 | Progress:  70%|██████▉   \u001b[A\n",
      "Elapsed: 04:50 | Progress:  70%|██████▉   \u001b[A\n",
      "Elapsed: 04:50 | Progress:  70%|██████▉   \u001b[A\n",
      "Elapsed: 04:53 | Progress:  70%|██████▉   \u001b[A\n",
      "Elapsed: 04:54 | Progress:  70%|███████   \u001b[A\n",
      "Elapsed: 04:55 | Progress:  70%|███████   \u001b[A\n",
      "Elapsed: 04:57 | Progress:  71%|███████   \u001b[A\n",
      "Elapsed: 04:58 | Progress:  71%|███████   \u001b[A\n",
      "Elapsed: 04:59 | Progress:  72%|███████▏  \u001b[A\n",
      "Elapsed: 04:59 | Progress:  72%|███████▏  \u001b[A\n",
      "Elapsed: 04:59 | Progress:  72%|███████▏  \u001b[A\n",
      "Elapsed: 05:00 | Progress:  72%|███████▏  \u001b[A\n",
      "Elapsed: 05:00 | Progress:  72%|███████▏  \u001b[A\n",
      "Elapsed: 05:02 | Progress:  72%|███████▏  \u001b[A\n",
      "Elapsed: 05:04 | Progress:  72%|███████▏  \u001b[A\n",
      "Elapsed: 05:05 | Progress:  73%|███████▎  \u001b[A\n",
      "Elapsed: 05:05 | Progress:  73%|███████▎  \u001b[A\n",
      "Elapsed: 05:05 | Progress:  73%|███████▎  \u001b[A\n",
      "Elapsed: 05:06 | Progress:  74%|███████▎  \u001b[A\n",
      "Elapsed: 05:06 | Progress:  74%|███████▎  \u001b[A\n",
      "Elapsed: 05:08 | Progress:  74%|███████▍  \u001b[A\n",
      "Elapsed: 05:11 | Progress:  74%|███████▍  \u001b[A\n",
      "Elapsed: 05:13 | Progress:  74%|███████▍  \u001b[A\n",
      "Elapsed: 05:16 | Progress:  75%|███████▍  \u001b[A\n",
      "Elapsed: 05:16 | Progress:  76%|███████▌  \u001b[A\n",
      "Elapsed: 05:19 | Progress:  76%|███████▌  \u001b[A\n",
      "Elapsed: 05:21 | Progress:  76%|███████▋  \u001b[A\n",
      "Elapsed: 05:23 | Progress:  77%|███████▋  \u001b[A\n",
      "Elapsed: 05:23 | Progress:  77%|███████▋  \u001b[A\n",
      "Elapsed: 05:24 | Progress:  78%|███████▊  \u001b[A\n",
      "Elapsed: 05:24 | Progress:  78%|███████▊  \u001b[A\n",
      "Elapsed: 05:24 | Progress:  78%|███████▊  \u001b[A\n",
      "Elapsed: 05:25 | Progress:  78%|███████▊  \u001b[A\n",
      "Elapsed: 05:25 | Progress:  78%|███████▊  \u001b[A\n",
      "Elapsed: 05:25 | Progress:  79%|███████▊  \u001b[A\n",
      "Elapsed: 05:25 | Progress:  79%|███████▊  \u001b[A\n",
      "Elapsed: 05:30 | Progress:  79%|███████▊  \u001b[A\n",
      "Elapsed: 05:32 | Progress:  79%|███████▉  \u001b[A\n",
      "Elapsed: 05:34 | Progress:  80%|███████▉  \u001b[A\n",
      "Elapsed: 05:34 | Progress:  80%|████████  \u001b[A\n",
      "Elapsed: 05:34 | Progress:  81%|████████  \u001b[A\n",
      "Elapsed: 05:35 | Progress:  81%|████████  \u001b[A\n",
      "Elapsed: 05:35 | Progress:  81%|████████  \u001b[A\n",
      "Elapsed: 05:35 | Progress:  81%|████████  \u001b[A\n",
      "Elapsed: 05:36 | Progress:  81%|████████  \u001b[A\n",
      "Elapsed: 05:36 | Progress:  81%|████████  \u001b[A\n",
      "Elapsed: 05:39 | Progress:  81%|████████  \u001b[A\n",
      "Elapsed: 05:41 | Progress:  81%|████████▏ \u001b[A\n",
      "Elapsed: 05:41 | Progress:  82%|████████▏ \u001b[A\n",
      "Elapsed: 05:42 | Progress:  82%|████████▏ \u001b[A\n",
      "Elapsed: 05:42 | Progress:  83%|████████▎ \u001b[A\n",
      "Elapsed: 05:42 | Progress:  83%|████████▎ \u001b[A\n",
      "Elapsed: 05:43 | Progress:  83%|████████▎ \u001b[A\n",
      "Elapsed: 05:45 | Progress:  83%|████████▎ \u001b[A\n",
      "Elapsed: 05:48 | Progress:  83%|████████▎ \u001b[A\n",
      "Elapsed: 05:50 | Progress:  84%|████████▎ \u001b[A\n",
      "Elapsed: 05:53 | Progress:  84%|████████▍ \u001b[A\n",
      "Elapsed: 05:54 | Progress:  85%|████████▍ \u001b[A\n",
      "Elapsed: 05:54 | Progress:  85%|████████▌ \u001b[A\n",
      "Elapsed: 05:56 | Progress:  86%|████████▌ \u001b[A\n",
      "Elapsed: 05:59 | Progress:  86%|████████▌ \u001b[A\n",
      "Elapsed: 06:00 | Progress:  86%|████████▋ \u001b[A\n",
      "Elapsed: 06:01 | Progress:  87%|████████▋ \u001b[A\n",
      "Elapsed: 06:01 | Progress:  87%|████████▋ \u001b[A\n",
      "Elapsed: 06:02 | Progress:  87%|████████▋ \u001b[A\n",
      "Elapsed: 06:02 | Progress:  88%|████████▊ \u001b[A\n",
      "Elapsed: 06:02 | Progress:  88%|████████▊ \u001b[A\n",
      "Elapsed: 06:02 | Progress:  88%|████████▊ \u001b[A\n",
      "Elapsed: 06:02 | Progress:  88%|████████▊ \u001b[A\n",
      "Elapsed: 06:03 | Progress:  88%|████████▊ \u001b[A\n",
      "Elapsed: 06:03 | Progress:  88%|████████▊ \u001b[A\n",
      "Elapsed: 06:06 | Progress:  88%|████████▊ \u001b[A\n",
      "Elapsed: 06:09 | Progress:  88%|████████▊ \u001b[A\n",
      "Elapsed: 06:12 | Progress:  89%|████████▊ \u001b[A\n",
      "Elapsed: 06:14 | Progress:  89%|████████▉ \u001b[A\n",
      "Elapsed: 06:14 | Progress:  90%|█████████ \u001b[A\n",
      "Elapsed: 06:16 | Progress:  91%|█████████ \u001b[A\n",
      "Elapsed: 06:20 | Progress:  91%|█████████ \u001b[A\n",
      "Elapsed: 06:21 | Progress:  91%|█████████▏\u001b[A\n",
      "Elapsed: 06:21 | Progress:  92%|█████████▏\u001b[A\n",
      "Elapsed: 06:22 | Progress:  92%|█████████▏\u001b[A\n",
      "Elapsed: 06:22 | Progress:  93%|█████████▎\u001b[A\n",
      "Elapsed: 06:22 | Progress:  93%|█████████▎\u001b[A\n",
      "Elapsed: 06:23 | Progress:  93%|█████████▎\u001b[A\n",
      "Elapsed: 06:23 | Progress:  93%|█████████▎\u001b[A\n",
      "Elapsed: 06:23 | Progress:  93%|█████████▎\u001b[A\n",
      "Elapsed: 06:26 | Progress:  93%|█████████▎\u001b[A\n",
      "Elapsed: 06:29 | Progress:  93%|█████████▎\u001b[A\n",
      "Elapsed: 06:31 | Progress:  94%|█████████▍\u001b[A\n",
      "Elapsed: 06:32 | Progress:  94%|█████████▍\u001b[A\n",
      "Elapsed: 06:32 | Progress:  95%|█████████▍\u001b[A\n",
      "Elapsed: 06:33 | Progress:  95%|█████████▍\u001b[A\n",
      "Elapsed: 06:34 | Progress:  95%|█████████▍\u001b[A\n",
      "Elapsed: 06:53 | Progress:  95%|█████████▌\u001b[A\n",
      "Elapsed: 07:47 | Progress: 100%|██████████\u001b[A\n",
      "Elapsed: 07:47 | Progress: 100%|██████████\u001b[A\n",
      "test feature creation done\n",
      "Built 700 features\n",
      "\n",
      "Elapsed: 00:00 | Progress:   0%|          \u001b[A"
     ]
    },
    {
     "name": "stderr",
     "output_type": "stream",
     "text": [
      "/home/hadoopuser/.local/lib/python3.8/site-packages/featuretools/synthesis/dfs.py:317: UnusedPrimitiveWarning: Some specified primitives were not used during DFS:\n",
      "  trans_primitives: ['haversine']\n",
      "  agg_primitives: ['mean', 'mode', 'std']\n",
      "This may be caused by a using a value of max_depth that is too small, not setting interesting values, or it may indicate no compatible variable types for the primitive were found in the data.\n",
      "  warnings.warn(warning_msg, UnusedPrimitiveWarning)\n"
     ]
    },
    {
     "name": "stdout",
     "output_type": "stream",
     "text": [
      "\n",
      "Elapsed: 00:00 | Progress:   0%|          \u001b[A"
     ]
    },
    {
     "name": "stderr",
     "output_type": "stream",
     "text": [
      "                                                  \r"
     ]
    },
    {
     "name": "stdout",
     "output_type": "stream",
     "text": [
      "\n",
      "\u001b[A                                       "
     ]
    },
    {
     "name": "stderr",
     "output_type": "stream",
     "text": [
      "./numerai_dataset_266.zip: 406MB [47:23, 1.52MB/s]"
     ]
    },
    {
     "name": "stdout",
     "output_type": "stream",
     "text": [
      "EntitySet scattered to 24 workers in 68 seconds\n",
      "\n",
      "Elapsed: 00:00 | Progress:   0%|          \u001b[A\n",
      "Elapsed: 00:02 | Progress:   0%|          \u001b[A\n",
      "Elapsed: 00:02 | Progress:   0%|          \u001b[A\n",
      "Elapsed: 00:03 | Progress:   1%|          \u001b[A\n",
      "Elapsed: 00:03 | Progress:   3%|▎         \u001b[A\n",
      "Elapsed: 00:03 | Progress:   4%|▍         \u001b[A\n",
      "Elapsed: 00:04 | Progress:   5%|▍         \u001b[A\n",
      "Elapsed: 00:04 | Progress:   7%|▋         \u001b[A\n",
      "Elapsed: 00:05 | Progress:   8%|▊         \u001b[A\n",
      "Elapsed: 00:05 | Progress:  10%|▉         \u001b[A\n",
      "Elapsed: 00:05 | Progress:  11%|█         \u001b[A\n",
      "Elapsed: 00:06 | Progress:  13%|█▎        \u001b[A\n",
      "Elapsed: 00:06 | Progress:  14%|█▍        \u001b[A\n",
      "Elapsed: 00:07 | Progress:  15%|█▍        \u001b[A\n",
      "Elapsed: 00:07 | Progress:  16%|█▋        \u001b[A\n",
      "Elapsed: 00:07 | Progress:  18%|█▊        \u001b[A\n",
      "Elapsed: 00:08 | Progress:  19%|█▉        \u001b[A\n",
      "Elapsed: 00:08 | Progress:  21%|██        \u001b[A\n",
      "Elapsed: 00:08 | Progress:  22%|██▏       \u001b[A\n",
      "Elapsed: 00:09 | Progress:  23%|██▎       \u001b[A\n",
      "Elapsed: 00:09 | Progress:  24%|██▍       \u001b[A\n",
      "Elapsed: 00:09 | Progress:  25%|██▌       \u001b[A\n",
      "Elapsed: 00:10 | Progress:  26%|██▋       \u001b[A\n",
      "Elapsed: 00:10 | Progress:  28%|██▊       \u001b[A\n",
      "Elapsed: 00:10 | Progress:  29%|██▊       \u001b[A\n",
      "Elapsed: 00:11 | Progress:  29%|██▉       \u001b[A\n",
      "Elapsed: 00:11 | Progress:  31%|███       \u001b[A\n",
      "Elapsed: 00:11 | Progress:  32%|███▏      \u001b[A\n",
      "Elapsed: 00:12 | Progress:  33%|███▎      \u001b[A\n",
      "Elapsed: 00:12 | Progress:  34%|███▍      \u001b[A\n",
      "Elapsed: 00:13 | Progress:  35%|███▌      \u001b[A\n",
      "Elapsed: 00:13 | Progress:  37%|███▋      \u001b[A\n",
      "Elapsed: 00:14 | Progress:  39%|███▉      \u001b[A\n",
      "Elapsed: 00:14 | Progress:  41%|████      \u001b[A\n",
      "Elapsed: 00:14 | Progress:  43%|████▎     \u001b[A\n",
      "Elapsed: 00:15 | Progress:  44%|████▍     \u001b[A\n",
      "Elapsed: 00:15 | Progress:  45%|████▌     \u001b[A\n",
      "Elapsed: 00:16 | Progress:  47%|████▋     \u001b[A\n",
      "Elapsed: 00:16 | Progress:  48%|████▊     \u001b[A\n",
      "Elapsed: 00:16 | Progress:  49%|████▊     \u001b[A\n",
      "Elapsed: 00:17 | Progress:  50%|█████     \u001b[A\n",
      "Elapsed: 00:17 | Progress:  51%|█████▏    \u001b[A\n",
      "Elapsed: 00:17 | Progress:  52%|█████▏    \u001b[A\n",
      "Elapsed: 00:18 | Progress:  54%|█████▎    \u001b[A\n",
      "Elapsed: 00:18 | Progress:  55%|█████▍    \u001b[A\n",
      "Elapsed: 00:18 | Progress:  56%|█████▌    \u001b[A\n",
      "Elapsed: 00:19 | Progress:  58%|█████▊    \u001b[A\n",
      "Elapsed: 00:19 | Progress:  58%|█████▊    \u001b[A\n",
      "Elapsed: 00:19 | Progress:  60%|█████▉    \u001b[A\n",
      "Elapsed: 00:20 | Progress:  62%|██████▏   \u001b[A\n",
      "Elapsed: 00:20 | Progress:  62%|██████▏   \u001b[A\n",
      "Elapsed: 00:21 | Progress:  64%|██████▎   \u001b[A\n",
      "Elapsed: 00:21 | Progress:  65%|██████▍   \u001b[A\n",
      "Elapsed: 00:22 | Progress:  66%|██████▌   \u001b[A\n",
      "Elapsed: 00:22 | Progress:  68%|██████▊   \u001b[A\n",
      "Elapsed: 00:23 | Progress:  70%|███████   \u001b[A\n",
      "Elapsed: 00:23 | Progress:  72%|███████▏  \u001b[A\n",
      "Elapsed: 00:23 | Progress:  73%|███████▎  \u001b[A\n",
      "Elapsed: 00:23 | Progress:  75%|███████▍  \u001b[A\n",
      "Elapsed: 00:24 | Progress:  75%|███████▌  \u001b[A\n",
      "Elapsed: 00:24 | Progress:  76%|███████▌  \u001b[A\n",
      "Elapsed: 00:25 | Progress:  78%|███████▊  \u001b[A\n",
      "Elapsed: 00:25 | Progress:  79%|███████▉  \u001b[A\n",
      "Elapsed: 00:25 | Progress:  80%|████████  \u001b[A\n",
      "Elapsed: 00:25 | Progress:  82%|████████▏ \u001b[A\n",
      "Elapsed: 00:26 | Progress:  82%|████████▏ \u001b[A\n",
      "Elapsed: 00:26 | Progress:  83%|████████▎ \u001b[A\n",
      "Elapsed: 00:27 | Progress:  84%|████████▍ \u001b[A\n",
      "Elapsed: 00:27 | Progress:  85%|████████▌ \u001b[A\n",
      "Elapsed: 00:27 | Progress:  87%|████████▋ \u001b[A\n",
      "Elapsed: 00:27 | Progress:  88%|████████▊ \u001b[A\n",
      "Elapsed: 00:28 | Progress:  89%|████████▉ \u001b[A\n",
      "Elapsed: 00:28 | Progress:  90%|█████████ \u001b[A\n",
      "Elapsed: 00:29 | Progress:  92%|█████████▏\u001b[A\n",
      "Elapsed: 00:29 | Progress:  93%|█████████▎\u001b[A\n",
      "Elapsed: 00:30 | Progress:  95%|█████████▍\u001b[A\n",
      "Elapsed: 00:38 | Progress: 100%|██████████\u001b[A\n",
      "Elapsed: 00:38 | Progress: 100%|██████████\u001b[A\n",
      "validation feature creation done\n",
      "[<Feature: era>, <Feature: feature_intelligence1>, <Feature: feature_intelligence3>, <Feature: feature_intelligence4>, <Feature: feature_intelligence6>, <Feature: feature_intelligence8>, <Feature: feature_intelligence9>, <Feature: feature_intelligence10>, <Feature: feature_intelligence11>, <Feature: feature_charisma9>, <Feature: feature_charisma27>, <Feature: feature_charisma28>, <Feature: feature_charisma36>, <Feature: feature_charisma46>, <Feature: feature_charisma49>, <Feature: feature_charisma52>, <Feature: feature_charisma53>, <Feature: feature_charisma69>, <Feature: feature_charisma72>, <Feature: feature_charisma77>, <Feature: feature_charisma83>, <Feature: feature_charisma85>, <Feature: feature_strength10>, <Feature: feature_strength12>, <Feature: feature_strength13>, <Feature: feature_strength19>, <Feature: feature_strength33>, <Feature: feature_strength34>, <Feature: feature_dexterity9>, <Feature: feature_dexterity11>, <Feature: feature_dexterity12>, <Feature: feature_constitution1>, <Feature: feature_constitution2>, <Feature: feature_constitution4>, <Feature: feature_constitution12>, <Feature: feature_constitution19>, <Feature: feature_constitution44>, <Feature: feature_constitution54>, <Feature: feature_constitution56>, <Feature: feature_constitution65>, <Feature: feature_constitution67>, <Feature: feature_constitution72>, <Feature: feature_constitution76>, <Feature: feature_constitution85>, <Feature: feature_constitution90>, <Feature: feature_constitution103>, <Feature: feature_constitution108>, <Feature: feature_constitution114>, <Feature: feature_wisdom1>, <Feature: feature_wisdom8>, <Feature: feature_wisdom13>, <Feature: feature_wisdom14>, <Feature: feature_wisdom22>, <Feature: feature_wisdom23>, <Feature: feature_wisdom25>, <Feature: feature_wisdom33>, <Feature: feature_wisdom34>, <Feature: feature_wisdom35>, <Feature: feature_wisdom36>, <Feature: feature_wisdom37>, <Feature: feature_wisdom39>, <Feature: feature_wisdom43>, <Feature: target>, <Feature: feature_1_mean>, <Feature: feature_1_std>, <Feature: feature_1_skew>, <Feature: feature_1_kurt>, <Feature: feature_0_mean>, <Feature: feature_0_std>, <Feature: feature_0_skew>, <Feature: feature_0_kurt>, <Feature: feature_2_mean>, <Feature: feature_2_std>, <Feature: feature_2_skew>, <Feature: feature_2_kurt>, <Feature: feature_3_mean>, <Feature: feature_3_std>, <Feature: feature_3_skew>, <Feature: feature_3_kurt>, <Feature: feature_4_mean>, <Feature: feature_4_std>, <Feature: feature_4_skew>, <Feature: feature_4_kurt>, <Feature: feature_5_mean>, <Feature: feature_5_std>, <Feature: feature_5_skew>, <Feature: feature_5_kurt>, <Feature: feature_6_mean>, <Feature: feature_6_std>, <Feature: feature_6_skew>, <Feature: feature_6_kurt>, <Feature: feature_7_mean>, <Feature: feature_7_std>, <Feature: feature_7_skew>, <Feature: feature_7_kurt>, <Feature: feature_8_mean>, <Feature: feature_8_std>, <Feature: feature_8_skew>, <Feature: feature_8_kurt>, <Feature: feature_9_mean>, <Feature: feature_9_std>, <Feature: feature_9_skew>, <Feature: feature_9_kurt>, <Feature: feature_10_mean>, <Feature: feature_10_std>, <Feature: feature_10_skew>, <Feature: feature_10_kurt>, <Feature: feature_11_mean>, <Feature: feature_11_std>, <Feature: feature_11_skew>, <Feature: feature_11_kurt>, <Feature: feature_12_mean>, <Feature: feature_12_std>, <Feature: feature_12_skew>, <Feature: feature_12_kurt>, <Feature: feature_13_mean>, <Feature: feature_13_std>, <Feature: feature_13_skew>, <Feature: feature_13_kurt>, <Feature: feature_14_std>, <Feature: feature_14_skew>, <Feature: feature_14_kurt>, <Feature: feature_15_std>, <Feature: feature_16_std>, <Feature: feature_17_skew>, <Feature: feature_17_kurt>, <Feature: feature_intelligence_mean>, <Feature: feature_intelligence_std>, <Feature: feature_intelligence_skew>, <Feature: feature_intelligence_kurt>, <Feature: feature_wisdom_mean>, <Feature: feature_wisdom_std>, <Feature: feature_wisdom_skew>, <Feature: feature_wisdom_kurt>, <Feature: feature_charisma_mean>, <Feature: feature_charisma_std>, <Feature: feature_charisma_skew>, <Feature: feature_charisma_kurt>, <Feature: feature_dexterity_mean>, <Feature: feature_dexterity_std>, <Feature: feature_dexterity_skew>, <Feature: feature_dexterity_kurt>, <Feature: feature_strength_mean>, <Feature: feature_strength_std>, <Feature: feature_strength_skew>, <Feature: feature_strength_kurt>, <Feature: feature_constitution_mean>, <Feature: feature_constitution_std>, <Feature: feature_constitution_skew>, <Feature: feature_constitution_kurt>, <Feature: era - feature_0_kurt>, <Feature: era - feature_0_mean>, <Feature: era - feature_0_skew>, <Feature: era - feature_0_std>, <Feature: era - feature_10_kurt>, <Feature: era - feature_10_mean>, <Feature: era - feature_10_skew>, <Feature: era - feature_10_std>, <Feature: era - feature_11_kurt>, <Feature: era - feature_11_mean>, <Feature: era - feature_11_skew>, <Feature: era - feature_11_std>, <Feature: era - feature_12_kurt>, <Feature: era - feature_12_mean>, <Feature: era - feature_12_skew>, <Feature: era - feature_12_std>, <Feature: era - feature_13_kurt>, <Feature: era - feature_13_mean>, <Feature: era - feature_13_skew>, <Feature: era - feature_13_std>, <Feature: era - feature_14_kurt>, <Feature: era - feature_14_skew>, <Feature: era - feature_14_std>, <Feature: era - feature_15_std>, <Feature: era - feature_16_std>, <Feature: era - feature_17_kurt>, <Feature: era - feature_17_skew>, <Feature: era - feature_1_kurt>, <Feature: era - feature_1_mean>, <Feature: era - feature_1_skew>, <Feature: era - feature_1_std>, <Feature: era - feature_2_kurt>, <Feature: era - feature_2_mean>, <Feature: era - feature_2_skew>, <Feature: era - feature_2_std>, <Feature: era - feature_3_kurt>, <Feature: era - feature_3_mean>, <Feature: era - feature_3_skew>, <Feature: era - feature_3_std>, <Feature: era - feature_4_kurt>, <Feature: era - feature_4_mean>, <Feature: era - feature_4_skew>, <Feature: era - feature_4_std>, <Feature: era - feature_5_kurt>, <Feature: era - feature_5_mean>, <Feature: era - feature_5_skew>, <Feature: era - feature_5_std>, <Feature: era - feature_6_kurt>, <Feature: era - feature_6_mean>, <Feature: era - feature_6_skew>, <Feature: era - feature_6_std>, <Feature: era - feature_7_kurt>, <Feature: era - feature_7_mean>, <Feature: era - feature_7_skew>, <Feature: era - feature_7_std>, <Feature: era - feature_8_kurt>, <Feature: era - feature_8_mean>, <Feature: era - feature_8_skew>, <Feature: era - feature_8_std>, <Feature: era - feature_9_kurt>, <Feature: era - feature_9_mean>, <Feature: era - feature_9_skew>, <Feature: era - feature_9_std>, <Feature: era - feature_charisma27>, <Feature: era - feature_charisma28>, <Feature: era - feature_charisma36>, <Feature: era - feature_charisma46>, <Feature: era - feature_charisma49>, <Feature: era - feature_charisma52>, <Feature: era - feature_charisma53>, <Feature: era - feature_charisma69>, <Feature: era - feature_charisma72>, <Feature: era - feature_charisma77>, <Feature: era - feature_charisma83>, <Feature: era - feature_charisma85>, <Feature: era - feature_charisma9>, <Feature: era - feature_charisma_kurt>, <Feature: era - feature_charisma_mean>, <Feature: era - feature_charisma_skew>, <Feature: era - feature_charisma_std>, <Feature: era - feature_constitution1>, <Feature: era - feature_constitution103>, <Feature: era - feature_constitution108>, <Feature: era - feature_constitution114>, <Feature: era - feature_constitution12>, <Feature: era - feature_constitution19>, <Feature: era - feature_constitution2>, <Feature: era - feature_constitution4>, <Feature: era - feature_constitution44>, <Feature: era - feature_constitution54>, <Feature: era - feature_constitution56>, <Feature: era - feature_constitution65>, <Feature: era - feature_constitution67>, <Feature: era - feature_constitution72>, <Feature: era - feature_constitution76>, <Feature: era - feature_constitution85>, <Feature: era - feature_constitution90>, <Feature: era - feature_constitution_kurt>, <Feature: era - feature_constitution_mean>, <Feature: era - feature_constitution_skew>, <Feature: era - feature_constitution_std>, <Feature: era - feature_dexterity11>, <Feature: era - feature_dexterity12>, <Feature: era - feature_dexterity9>, <Feature: era - feature_dexterity_kurt>, <Feature: era - feature_dexterity_mean>, <Feature: era - feature_dexterity_skew>, <Feature: era - feature_dexterity_std>, <Feature: era - feature_intelligence1>, <Feature: era - feature_intelligence10>, <Feature: era - feature_intelligence11>, <Feature: era - feature_intelligence3>, <Feature: era - feature_intelligence4>, <Feature: era - feature_intelligence6>, <Feature: era - feature_intelligence8>, <Feature: era - feature_intelligence9>, <Feature: era - feature_intelligence_kurt>, <Feature: era - feature_intelligence_mean>, <Feature: era - feature_intelligence_skew>, <Feature: era - feature_intelligence_std>, <Feature: era - feature_strength10>, <Feature: era - feature_strength12>, <Feature: era - feature_strength13>, <Feature: era - feature_strength19>, <Feature: era - feature_strength33>, <Feature: era - feature_strength34>, <Feature: era - feature_strength_kurt>, <Feature: era - feature_strength_mean>, <Feature: era - feature_strength_skew>, <Feature: era - feature_strength_std>, <Feature: era - feature_wisdom1>, <Feature: era - feature_wisdom13>, <Feature: era - feature_wisdom14>, <Feature: era - feature_wisdom22>, <Feature: era - feature_wisdom23>, <Feature: era - feature_wisdom25>, <Feature: era - feature_wisdom33>, <Feature: era - feature_wisdom34>, <Feature: era - feature_wisdom35>, <Feature: era - feature_wisdom36>, <Feature: era - feature_wisdom37>, <Feature: era - feature_wisdom39>, <Feature: era - feature_wisdom43>, <Feature: era - feature_wisdom8>, <Feature: era - feature_wisdom_kurt>, <Feature: era - feature_wisdom_mean>, <Feature: era - feature_wisdom_skew>, <Feature: era - feature_wisdom_std>, <Feature: era - target>, <Feature: feature_0_kurt - feature_0_mean>, <Feature: feature_0_kurt - feature_0_skew>, <Feature: feature_0_kurt - feature_0_std>, <Feature: feature_0_kurt - feature_10_kurt>, <Feature: feature_0_kurt - feature_10_mean>, <Feature: feature_0_kurt - feature_10_skew>, <Feature: feature_0_kurt - feature_10_std>, <Feature: feature_0_kurt - feature_11_kurt>, <Feature: feature_0_kurt - feature_11_mean>, <Feature: feature_0_kurt - feature_11_skew>, <Feature: feature_0_kurt - feature_11_std>, <Feature: feature_0_kurt - feature_12_kurt>, <Feature: feature_0_kurt - feature_12_mean>, <Feature: feature_0_kurt - feature_12_skew>, <Feature: feature_0_kurt - feature_12_std>, <Feature: feature_0_kurt - feature_13_kurt>, <Feature: feature_0_kurt - feature_13_mean>, <Feature: feature_0_kurt - feature_13_skew>, <Feature: feature_0_kurt - feature_13_std>, <Feature: feature_0_kurt - feature_14_kurt>, <Feature: feature_0_kurt - feature_14_skew>, <Feature: feature_0_kurt - feature_14_std>, <Feature: feature_0_kurt - feature_15_std>, <Feature: feature_0_kurt - feature_16_std>, <Feature: feature_0_kurt - feature_17_kurt>, <Feature: feature_0_kurt - feature_17_skew>, <Feature: feature_0_kurt - feature_1_kurt>, <Feature: feature_0_kurt - feature_1_mean>, <Feature: feature_0_kurt - feature_1_skew>, <Feature: feature_0_kurt - feature_1_std>, <Feature: feature_0_kurt - feature_2_kurt>, <Feature: feature_0_kurt - feature_2_mean>, <Feature: feature_0_kurt - feature_2_skew>, <Feature: feature_0_kurt - feature_2_std>, <Feature: feature_0_kurt - feature_3_kurt>, <Feature: feature_0_kurt - feature_3_mean>, <Feature: feature_0_kurt - feature_3_skew>, <Feature: feature_0_kurt - feature_3_std>, <Feature: feature_0_kurt - feature_4_kurt>, <Feature: feature_0_kurt - feature_4_mean>, <Feature: feature_0_kurt - feature_4_skew>, <Feature: feature_0_kurt - feature_4_std>, <Feature: feature_0_kurt - feature_5_kurt>, <Feature: feature_0_kurt - feature_5_mean>, <Feature: feature_0_kurt - feature_5_skew>, <Feature: feature_0_kurt - feature_5_std>, <Feature: feature_0_kurt - feature_6_kurt>, <Feature: feature_0_kurt - feature_6_mean>, <Feature: feature_0_kurt - feature_6_skew>, <Feature: feature_0_kurt - feature_6_std>, <Feature: feature_0_kurt - feature_7_kurt>, <Feature: feature_0_kurt - feature_7_mean>, <Feature: feature_0_kurt - feature_7_skew>, <Feature: feature_0_kurt - feature_7_std>, <Feature: feature_0_kurt - feature_8_kurt>, <Feature: feature_0_kurt - feature_8_mean>, <Feature: feature_0_kurt - feature_8_skew>, <Feature: feature_0_kurt - feature_8_std>, <Feature: feature_0_kurt - feature_9_kurt>, <Feature: feature_0_kurt - feature_9_mean>, <Feature: feature_0_kurt - feature_9_skew>, <Feature: feature_0_kurt - feature_9_std>, <Feature: feature_0_kurt - feature_charisma27>, <Feature: feature_0_kurt - feature_charisma28>, <Feature: feature_0_kurt - feature_charisma36>, <Feature: feature_0_kurt - feature_charisma46>, <Feature: feature_0_kurt - feature_charisma49>, <Feature: feature_0_kurt - feature_charisma52>, <Feature: feature_0_kurt - feature_charisma53>, <Feature: feature_0_kurt - feature_charisma69>, <Feature: feature_0_kurt - feature_charisma72>, <Feature: feature_0_kurt - feature_charisma77>, <Feature: feature_0_kurt - feature_charisma83>, <Feature: feature_0_kurt - feature_charisma85>, <Feature: feature_0_kurt - feature_charisma9>, <Feature: feature_0_kurt - feature_charisma_kurt>, <Feature: feature_0_kurt - feature_charisma_mean>, <Feature: feature_0_kurt - feature_charisma_skew>, <Feature: feature_0_kurt - feature_charisma_std>, <Feature: feature_0_kurt - feature_constitution1>, <Feature: feature_0_kurt - feature_constitution103>, <Feature: feature_0_kurt - feature_constitution108>, <Feature: feature_0_kurt - feature_constitution114>, <Feature: feature_0_kurt - feature_constitution12>, <Feature: feature_0_kurt - feature_constitution19>, <Feature: feature_0_kurt - feature_constitution2>, <Feature: feature_0_kurt - feature_constitution4>, <Feature: feature_0_kurt - feature_constitution44>, <Feature: feature_0_kurt - feature_constitution54>, <Feature: feature_0_kurt - feature_constitution56>, <Feature: feature_0_kurt - feature_constitution65>, <Feature: feature_0_kurt - feature_constitution67>, <Feature: feature_0_kurt - feature_constitution72>, <Feature: feature_0_kurt - feature_constitution76>, <Feature: feature_0_kurt - feature_constitution85>, <Feature: feature_0_kurt - feature_constitution90>, <Feature: feature_0_kurt - feature_constitution_kurt>, <Feature: feature_0_kurt - feature_constitution_mean>, <Feature: feature_0_kurt - feature_constitution_skew>, <Feature: feature_0_kurt - feature_constitution_std>, <Feature: feature_0_kurt - feature_dexterity11>, <Feature: feature_0_kurt - feature_dexterity12>, <Feature: feature_0_kurt - feature_dexterity9>, <Feature: feature_0_kurt - feature_dexterity_kurt>, <Feature: feature_0_kurt - feature_dexterity_mean>, <Feature: feature_0_kurt - feature_dexterity_skew>, <Feature: feature_0_kurt - feature_dexterity_std>, <Feature: feature_0_kurt - feature_intelligence1>, <Feature: feature_0_kurt - feature_intelligence10>, <Feature: feature_0_kurt - feature_intelligence11>, <Feature: feature_0_kurt - feature_intelligence3>, <Feature: feature_0_kurt - feature_intelligence4>, <Feature: feature_0_kurt - feature_intelligence6>, <Feature: feature_0_kurt - feature_intelligence8>, <Feature: feature_0_kurt - feature_intelligence9>, <Feature: feature_0_kurt - feature_intelligence_kurt>, <Feature: feature_0_kurt - feature_intelligence_mean>, <Feature: feature_0_kurt - feature_intelligence_skew>, <Feature: feature_0_kurt - feature_intelligence_std>, <Feature: feature_0_kurt - feature_strength10>, <Feature: feature_0_kurt - feature_strength12>, <Feature: feature_0_kurt - feature_strength13>, <Feature: feature_0_kurt - feature_strength19>, <Feature: feature_0_kurt - feature_strength33>, <Feature: feature_0_kurt - feature_strength34>, <Feature: feature_0_kurt - feature_strength_kurt>, <Feature: feature_0_kurt - feature_strength_mean>, <Feature: feature_0_kurt - feature_strength_skew>, <Feature: feature_0_kurt - feature_strength_std>, <Feature: feature_0_kurt - feature_wisdom1>, <Feature: feature_0_kurt - feature_wisdom13>, <Feature: feature_0_kurt - feature_wisdom14>, <Feature: feature_0_kurt - feature_wisdom22>, <Feature: feature_0_kurt - feature_wisdom23>, <Feature: feature_0_kurt - feature_wisdom25>, <Feature: feature_0_kurt - feature_wisdom33>, <Feature: feature_0_kurt - feature_wisdom34>, <Feature: feature_0_kurt - feature_wisdom35>, <Feature: feature_0_kurt - feature_wisdom36>, <Feature: feature_0_kurt - feature_wisdom37>, <Feature: feature_0_kurt - feature_wisdom39>, <Feature: feature_0_kurt - feature_wisdom43>, <Feature: feature_0_kurt - feature_wisdom8>, <Feature: feature_0_kurt - feature_wisdom_kurt>, <Feature: feature_0_kurt - feature_wisdom_mean>, <Feature: feature_0_kurt - feature_wisdom_skew>, <Feature: feature_0_kurt - feature_wisdom_std>, <Feature: feature_0_kurt - target>, <Feature: feature_0_mean - feature_0_skew>, <Feature: feature_0_mean - feature_0_std>, <Feature: feature_0_mean - feature_10_kurt>, <Feature: feature_0_mean - feature_10_mean>, <Feature: feature_0_mean - feature_10_skew>, <Feature: feature_0_mean - feature_10_std>, <Feature: feature_0_mean - feature_11_kurt>, <Feature: feature_0_mean - feature_11_mean>, <Feature: feature_0_mean - feature_11_skew>, <Feature: feature_0_mean - feature_11_std>, <Feature: feature_0_mean - feature_12_kurt>, <Feature: feature_0_mean - feature_12_mean>, <Feature: feature_0_mean - feature_12_skew>, <Feature: feature_0_mean - feature_12_std>, <Feature: feature_0_mean - feature_13_kurt>, <Feature: feature_0_mean - feature_13_mean>, <Feature: feature_0_mean - feature_13_skew>, <Feature: feature_0_mean - feature_13_std>, <Feature: feature_0_mean - feature_14_kurt>, <Feature: feature_0_mean - feature_14_skew>, <Feature: feature_0_mean - feature_14_std>, <Feature: feature_0_mean - feature_15_std>, <Feature: feature_0_mean - feature_16_std>, <Feature: feature_0_mean - feature_17_kurt>, <Feature: feature_0_mean - feature_17_skew>, <Feature: feature_0_mean - feature_1_kurt>, <Feature: feature_0_mean - feature_1_mean>, <Feature: feature_0_mean - feature_1_skew>, <Feature: feature_0_mean - feature_1_std>, <Feature: feature_0_mean - feature_2_kurt>, <Feature: feature_0_mean - feature_2_mean>, <Feature: feature_0_mean - feature_2_skew>, <Feature: feature_0_mean - feature_2_std>, <Feature: feature_0_mean - feature_3_kurt>, <Feature: feature_0_mean - feature_3_mean>, <Feature: feature_0_mean - feature_3_skew>, <Feature: feature_0_mean - feature_3_std>, <Feature: feature_0_mean - feature_4_kurt>, <Feature: feature_0_mean - feature_4_mean>, <Feature: feature_0_mean - feature_4_skew>, <Feature: feature_0_mean - feature_4_std>, <Feature: feature_0_mean - feature_5_kurt>, <Feature: feature_0_mean - feature_5_mean>, <Feature: feature_0_mean - feature_5_skew>, <Feature: feature_0_mean - feature_5_std>, <Feature: feature_0_mean - feature_6_kurt>, <Feature: feature_0_mean - feature_6_mean>, <Feature: feature_0_mean - feature_6_skew>, <Feature: feature_0_mean - feature_6_std>, <Feature: feature_0_mean - feature_7_kurt>, <Feature: feature_0_mean - feature_7_mean>, <Feature: feature_0_mean - feature_7_skew>, <Feature: feature_0_mean - feature_7_std>, <Feature: feature_0_mean - feature_8_kurt>, <Feature: feature_0_mean - feature_8_mean>, <Feature: feature_0_mean - feature_8_skew>, <Feature: feature_0_mean - feature_8_std>, <Feature: feature_0_mean - feature_9_kurt>, <Feature: feature_0_mean - feature_9_mean>, <Feature: feature_0_mean - feature_9_skew>, <Feature: feature_0_mean - feature_9_std>, <Feature: feature_0_mean - feature_charisma27>, <Feature: feature_0_mean - feature_charisma28>, <Feature: feature_0_mean - feature_charisma36>, <Feature: feature_0_mean - feature_charisma46>, <Feature: feature_0_mean - feature_charisma49>, <Feature: feature_0_mean - feature_charisma52>, <Feature: feature_0_mean - feature_charisma53>, <Feature: feature_0_mean - feature_charisma69>, <Feature: feature_0_mean - feature_charisma72>, <Feature: feature_0_mean - feature_charisma77>, <Feature: feature_0_mean - feature_charisma83>, <Feature: feature_0_mean - feature_charisma85>, <Feature: feature_0_mean - feature_charisma9>, <Feature: feature_0_mean - feature_charisma_kurt>, <Feature: feature_0_mean - feature_charisma_mean>, <Feature: feature_0_mean - feature_charisma_skew>, <Feature: feature_0_mean - feature_charisma_std>, <Feature: feature_0_mean - feature_constitution1>, <Feature: feature_0_mean - feature_constitution103>, <Feature: feature_0_mean - feature_constitution108>, <Feature: feature_0_mean - feature_constitution114>, <Feature: feature_0_mean - feature_constitution12>, <Feature: feature_0_mean - feature_constitution19>, <Feature: feature_0_mean - feature_constitution2>, <Feature: feature_0_mean - feature_constitution4>, <Feature: feature_0_mean - feature_constitution44>, <Feature: feature_0_mean - feature_constitution54>, <Feature: feature_0_mean - feature_constitution56>, <Feature: feature_0_mean - feature_constitution65>, <Feature: feature_0_mean - feature_constitution67>, <Feature: feature_0_mean - feature_constitution72>, <Feature: feature_0_mean - feature_constitution76>, <Feature: feature_0_mean - feature_constitution85>, <Feature: feature_0_mean - feature_constitution90>, <Feature: feature_0_mean - feature_constitution_kurt>, <Feature: feature_0_mean - feature_constitution_mean>, <Feature: feature_0_mean - feature_constitution_skew>, <Feature: feature_0_mean - feature_constitution_std>, <Feature: feature_0_mean - feature_dexterity11>, <Feature: feature_0_mean - feature_dexterity12>, <Feature: feature_0_mean - feature_dexterity9>, <Feature: feature_0_mean - feature_dexterity_kurt>, <Feature: feature_0_mean - feature_dexterity_mean>, <Feature: feature_0_mean - feature_dexterity_skew>, <Feature: feature_0_mean - feature_dexterity_std>, <Feature: feature_0_mean - feature_intelligence1>, <Feature: feature_0_mean - feature_intelligence10>, <Feature: feature_0_mean - feature_intelligence11>, <Feature: feature_0_mean - feature_intelligence3>, <Feature: feature_0_mean - feature_intelligence4>, <Feature: feature_0_mean - feature_intelligence6>, <Feature: feature_0_mean - feature_intelligence8>, <Feature: feature_0_mean - feature_intelligence9>, <Feature: feature_0_mean - feature_intelligence_kurt>, <Feature: feature_0_mean - feature_intelligence_mean>, <Feature: feature_0_mean - feature_intelligence_skew>, <Feature: feature_0_mean - feature_intelligence_std>, <Feature: feature_0_mean - feature_strength10>, <Feature: feature_0_mean - feature_strength12>, <Feature: feature_0_mean - feature_strength13>, <Feature: feature_0_mean - feature_strength19>, <Feature: feature_0_mean - feature_strength33>, <Feature: feature_0_mean - feature_strength34>, <Feature: feature_0_mean - feature_strength_kurt>, <Feature: feature_0_mean - feature_strength_mean>, <Feature: feature_0_mean - feature_strength_skew>, <Feature: feature_0_mean - feature_strength_std>, <Feature: feature_0_mean - feature_wisdom1>, <Feature: feature_0_mean - feature_wisdom13>, <Feature: feature_0_mean - feature_wisdom14>, <Feature: feature_0_mean - feature_wisdom22>, <Feature: feature_0_mean - feature_wisdom23>, <Feature: feature_0_mean - feature_wisdom25>, <Feature: feature_0_mean - feature_wisdom33>, <Feature: feature_0_mean - feature_wisdom34>, <Feature: feature_0_mean - feature_wisdom35>, <Feature: feature_0_mean - feature_wisdom36>, <Feature: feature_0_mean - feature_wisdom37>, <Feature: feature_0_mean - feature_wisdom39>, <Feature: feature_0_mean - feature_wisdom43>, <Feature: feature_0_mean - feature_wisdom8>, <Feature: feature_0_mean - feature_wisdom_kurt>, <Feature: feature_0_mean - feature_wisdom_mean>, <Feature: feature_0_mean - feature_wisdom_skew>, <Feature: feature_0_mean - feature_wisdom_std>, <Feature: feature_0_mean - target>, <Feature: feature_0_skew - feature_0_std>, <Feature: feature_0_skew - feature_10_kurt>, <Feature: feature_0_skew - feature_10_mean>, <Feature: feature_0_skew - feature_10_skew>, <Feature: feature_0_skew - feature_10_std>, <Feature: feature_0_skew - feature_11_kurt>, <Feature: feature_0_skew - feature_11_mean>, <Feature: feature_0_skew - feature_11_skew>, <Feature: feature_0_skew - feature_11_std>, <Feature: feature_0_skew - feature_12_kurt>, <Feature: feature_0_skew - feature_12_mean>, <Feature: feature_0_skew - feature_12_skew>, <Feature: feature_0_skew - feature_12_std>, <Feature: feature_0_skew - feature_13_kurt>, <Feature: feature_0_skew - feature_13_mean>, <Feature: feature_0_skew - feature_13_skew>, <Feature: feature_0_skew - feature_13_std>, <Feature: feature_0_skew - feature_14_kurt>, <Feature: feature_0_skew - feature_14_skew>, <Feature: feature_0_skew - feature_14_std>, <Feature: feature_0_skew - feature_15_std>, <Feature: feature_0_skew - feature_16_std>, <Feature: feature_0_skew - feature_17_kurt>, <Feature: feature_0_skew - feature_17_skew>, <Feature: feature_0_skew - feature_1_kurt>, <Feature: feature_0_skew - feature_1_mean>, <Feature: feature_0_skew - feature_1_skew>, <Feature: feature_0_skew - feature_1_std>, <Feature: feature_0_skew - feature_2_kurt>, <Feature: feature_0_skew - feature_2_mean>, <Feature: feature_0_skew - feature_2_skew>, <Feature: feature_0_skew - feature_2_std>, <Feature: feature_0_skew - feature_3_kurt>, <Feature: feature_0_skew - feature_3_mean>, <Feature: feature_0_skew - feature_3_skew>, <Feature: feature_0_skew - feature_3_std>, <Feature: feature_0_skew - feature_4_kurt>, <Feature: feature_0_skew - feature_4_mean>, <Feature: feature_0_skew - feature_4_skew>, <Feature: feature_0_skew - feature_4_std>, <Feature: feature_0_skew - feature_5_kurt>, <Feature: feature_0_skew - feature_5_mean>, <Feature: feature_0_skew - feature_5_skew>, <Feature: feature_0_skew - feature_5_std>, <Feature: feature_0_skew - feature_6_kurt>, <Feature: feature_0_skew - feature_6_mean>, <Feature: feature_0_skew - feature_6_skew>, <Feature: feature_0_skew - feature_6_std>, <Feature: feature_0_skew - feature_7_kurt>, <Feature: feature_0_skew - feature_7_mean>, <Feature: feature_0_skew - feature_7_skew>, <Feature: feature_0_skew - feature_7_std>, <Feature: feature_0_skew - feature_8_kurt>, <Feature: feature_0_skew - feature_8_mean>, <Feature: feature_0_skew - feature_8_skew>, <Feature: feature_0_skew - feature_8_std>, <Feature: feature_0_skew - feature_9_kurt>, <Feature: feature_0_skew - feature_9_mean>, <Feature: feature_0_skew - feature_9_skew>, <Feature: feature_0_skew - feature_9_std>, <Feature: feature_0_skew - feature_charisma27>, <Feature: feature_0_skew - feature_charisma28>, <Feature: feature_0_skew - feature_charisma36>, <Feature: feature_0_skew - feature_charisma46>, <Feature: feature_0_skew - feature_charisma49>, <Feature: feature_0_skew - feature_charisma52>, <Feature: feature_0_skew - feature_charisma53>, <Feature: feature_0_skew - feature_charisma69>, <Feature: feature_0_skew - feature_charisma72>, <Feature: feature_0_skew - feature_charisma77>, <Feature: feature_0_skew - feature_charisma83>, <Feature: feature_0_skew - feature_charisma85>, <Feature: feature_0_skew - feature_charisma9>, <Feature: feature_0_skew - feature_charisma_kurt>, <Feature: feature_0_skew - feature_charisma_mean>, <Feature: feature_0_skew - feature_charisma_skew>, <Feature: feature_0_skew - feature_charisma_std>, <Feature: feature_0_skew - feature_constitution1>, <Feature: feature_0_skew - feature_constitution103>, <Feature: feature_0_skew - feature_constitution108>, <Feature: feature_0_skew - feature_constitution114>, <Feature: feature_0_skew - feature_constitution12>, <Feature: feature_0_skew - feature_constitution19>, <Feature: feature_0_skew - feature_constitution2>, <Feature: feature_0_skew - feature_constitution4>, <Feature: feature_0_skew - feature_constitution44>, <Feature: feature_0_skew - feature_constitution54>, <Feature: feature_0_skew - feature_constitution56>, <Feature: feature_0_skew - feature_constitution65>, <Feature: feature_0_skew - feature_constitution67>, <Feature: feature_0_skew - feature_constitution72>, <Feature: feature_0_skew - feature_constitution76>, <Feature: feature_0_skew - feature_constitution85>, <Feature: feature_0_skew - feature_constitution90>, <Feature: feature_0_skew - feature_constitution_kurt>, <Feature: feature_0_skew - feature_constitution_mean>, <Feature: feature_0_skew - feature_constitution_skew>, <Feature: feature_0_skew - feature_constitution_std>, <Feature: feature_0_skew - feature_dexterity11>, <Feature: feature_0_skew - feature_dexterity12>, <Feature: feature_0_skew - feature_dexterity9>, <Feature: feature_0_skew - feature_dexterity_kurt>, <Feature: feature_0_skew - feature_dexterity_mean>, <Feature: feature_0_skew - feature_dexterity_skew>, <Feature: feature_0_skew - feature_dexterity_std>, <Feature: feature_0_skew - feature_intelligence1>]\n",
      "CPU times: user 14min 35s, sys: 2min 9s, total: 16min 44s\n",
      "Wall time: 23min 28s\n"
     ]
    }
   ],
   "source": [
    "%%time\n",
    "# takes 60-80 minutes for 40 features\n",
    "print(\"Current date and time: \",str(datetime.datetime.now()))\n",
    "#Timed:\n",
    "agg_primitives = ['std','mean','mode']\n",
    "featurestr, feature_names = ft.dfs(entityset = tr_sub1, target_entity = 'tr',\n",
    "                                 max_depth = 2, max_features = 700,\n",
    "                                 n_jobs = 24,\n",
    "                                 chunk_size = 200,                                 \n",
    "                                 agg_primitives = agg_primitives,#agg_primitives = ['mode','sum'],#,'mean','median','max','count','min','percent_true', 'last','skew'\n",
    "                                 trans_primitives = ['subtract_numeric','haversine'],\n",
    "                                 verbose = True)#'subtract_numeric', ,'equal','diff',\n",
    "print(\"train feature creation done\")\n",
    "featureste, feature_names = ft.dfs(entityset = te_sub1, target_entity = 'te',\n",
    "                                 max_depth = 2, max_features = 700,\n",
    "                                 n_jobs = 24,\n",
    "                                 chunk_size = 200,                                 \n",
    "                                 agg_primitives = agg_primitives,#['mode','sum'],#,'mean','median','max','count','min','percent_true', 'last','skew'\n",
    "                                 trans_primitives = ['subtract_numeric','haversine'],\n",
    "                                 verbose = True)#'subtract_numeric', ,'equal','diff',\n",
    "print(\"test feature creation done\")\n",
    "featuresva, feature_namesva = ft.dfs(entityset = va_sub1, target_entity = 'va',\n",
    "                                 max_depth = 2, max_features = 700,\n",
    "                                 n_jobs = 24,\n",
    "                                 chunk_size = 200,                                 \n",
    "                                 agg_primitives = agg_primitives,#agg_primitives = ['mode','sum'],#,'mean','median','max','count','min','percent_true', 'last','skew'\n",
    "                                 trans_primitives = ['subtract_numeric','haversine'],\n",
    "                                 verbose = True)#'subtract_numeric', ,'equal','diff',\n",
    "print(\"validation feature creation done\")\n",
    "#https://medium.com/analytics-vidhya/feature-engineering-using-featuretools-with-code-10f8c83e5f68\n",
    "print(feature_names)\n"
   ]
  },
  {
   "cell_type": "code",
   "execution_count": 58,
   "metadata": {
    "id": "fBO9Q6ga_wOb",
    "outputId": "10abecd0-da0c-4bee-b570-4753fd331f76"
   },
   "outputs": [
    {
     "name": "stdout",
     "output_type": "stream",
     "text": [
      "501808\n"
     ]
    }
   ],
   "source": [
    "print(len(featurestr))"
   ]
  },
  {
   "cell_type": "code",
   "execution_count": 49,
   "metadata": {
    "id": "ytOlR_CE_wOb",
    "outputId": "f555b419-4d29-407f-cd3d-68ec7a6df785"
   },
   "outputs": [
    {
     "name": "stdout",
     "output_type": "stream",
     "text": [
      "Removed 0 features\n",
      "Current date and time:  2021-05-30 01:46:07.028415\n",
      "Removed 0 features\n",
      "Current date and time:  2021-05-30 01:47:32.353397\n",
      "Removed 0 features\n",
      "Current date and time:  2021-05-30 01:47:36.242474\n"
     ]
    }
   ],
   "source": [
    "\n",
    "# Remove features with only one unique value\n",
    "featurestr = selection.remove_low_information_features(featurestr)\n",
    "print('Removed %d features' % (featurestr.shape[1]- featurestr.shape[1]))\n",
    "print(\"Current date and time: \",str(datetime.datetime.now()))\n",
    "# Remove features with only one unique value\n",
    "featureste = selection.remove_low_information_features(featureste)\n",
    "print('Removed %d features' % (featureste.shape[1]- featureste.shape[1]))\n",
    "print(\"Current date and time: \",str(datetime.datetime.now()))\n",
    "# Remove features with only one unique value\n",
    "featuresva = selection.remove_low_information_features(featuresva)\n",
    "print('Removed %d features' % (featuresva.shape[1]- featuresva.shape[1]))\n",
    "print(\"Current date and time: \",str(datetime.datetime.now()))\n"
   ]
  },
  {
   "cell_type": "code",
   "execution_count": 50,
   "metadata": {
    "id": "64Euu5y2_wOc"
   },
   "outputs": [],
   "source": [
    "# Switch to use feature selection\n",
    "#trained = featurestr\n",
    "#tested = featureste\n",
    "#valed = featuresva\n",
    "trained = train\n",
    "tested = test\n",
    "valed = val\n",
    "\n",
    "# Train remove era and target interaction features\n",
    "trained = trained[trained.columns.drop(list(trained.filter(regex='- target')))]\n",
    "trained = trained[trained.columns.drop(list(trained.filter(regex='era -')))]\n",
    "# Test remove era and target interaction features\n",
    "tested = tested[tested.columns.drop(list(tested.filter(regex='- target')))]\n",
    "tested = tested[tested.columns.drop(list(tested.filter(regex='era -')))]\n",
    "# Val remove era and target interaction features\n",
    "valed = valed[valed.columns.drop(list(valed.filter(regex='- target')))]\n",
    "valed= valed[valed.columns.drop(list(valed.filter(regex='era -')))]"
   ]
  },
  {
   "cell_type": "code",
   "execution_count": 51,
   "metadata": {
    "id": "TyJ40IKC_wOc",
    "outputId": "4224d31f-8851-4e94-d5d3-fa8008c67b56"
   },
   "outputs": [
    {
     "name": "stdout",
     "output_type": "stream",
     "text": [
      "148\n",
      "Current date and time:  2021-05-30 01:47:39.151631\n",
      "Training until validation scores don't improve for 100 rounds\n",
      "Early stopping, best iteration is:\n",
      "[49]\tvalid_0's auc: 0.728754\tvalid_0's binary_logloss: 0.253766\n",
      "Training until validation scores don't improve for 100 rounds\n",
      "Early stopping, best iteration is:\n",
      "[55]\tvalid_0's auc: 0.72581\tvalid_0's binary_logloss: 0.255324\n",
      "CPU times: user 1min 20s, sys: 1.14 s, total: 1min 21s\n",
      "Wall time: 1min 20s\n"
     ]
    }
   ],
   "source": [
    "%%time\n",
    "featured = [f for f in trained.columns.values.tolist() if 'feature' in f]\n",
    "print(len(featured))\n",
    "print(\"Current date and time: \",str(datetime.datetime.now())) \n",
    "Xcalc_trained = trained[featured].to_numpy()\n",
    "ycalc_trained = trained[f'target']\n",
    "\n",
    "#selection 7\n",
    "# Initialize an empty array to hold feature importances\n",
    "feature_importances7 = np.zeros(Xcalc_trained.shape[1])\n",
    "\n",
    "# Create the model with several hyperparameters\n",
    "modellgbcalc = lgb.LGBMRegressor(objective='binary', boosting_type = 'goss', n_estimators = 20000, class_weight = 'balanced')\n",
    "\n",
    "# Fit the model twice to avoid overfitting\n",
    "for i in range(2):\n",
    "    \n",
    "    # Split into training and validation set\n",
    "    calctrained_featured, calcvaled_featured, trained_ycalc, valed_ycalc = train_test_split(Xcalc_trained, ycalc_trained, test_size = 0.25, random_state = i)\n",
    "    \n",
    "    # Train using early stopping\n",
    "    modellgbcalc.fit(calctrained_featured, trained_ycalc, early_stopping_rounds=100, eval_set = [(calcvaled_featured, valed_ycalc)], \n",
    "              eval_metric = 'auc', verbose = 200)\n",
    "    \n",
    "    # Record the feature importances\n",
    "    feature_importances7 += modellgbcalc.feature_importances_\n",
    "    \n",
    "# Make sure to average feature importances! \n",
    "feature_importances7 = feature_importances7 / 2\n",
    "feature_importances7 = pd.DataFrame({'feature': list(featured), 'importance': feature_importances7}).sort_values('importance', ascending = False)\n"
   ]
  },
  {
   "cell_type": "code",
   "execution_count": 52,
   "metadata": {
    "id": "KlchfuBB_wOc",
    "outputId": "aa0802cb-4ba6-4379-aae6-6c44d9c3ea2f"
   },
   "outputs": [
    {
     "name": "stdout",
     "output_type": "stream",
     "text": [
      "148\n",
      "LGB group feature importances:\n",
      "0       feature_intelligence1\n",
      "2       feature_intelligence4\n",
      "4       feature_intelligence8\n",
      "102            feature_10_std\n",
      "137     feature_dexterity_std\n",
      "36     feature_constitution54\n",
      "134     feature_charisma_skew\n",
      "133      feature_charisma_std\n",
      "74              feature_3_std\n",
      "95             feature_8_skew\n",
      "51           feature_wisdom22\n",
      "11         feature_charisma36\n",
      "139    feature_dexterity_kurt\n",
      "56           feature_wisdom35\n",
      "58           feature_wisdom37\n",
      "128       feature_wisdom_mean\n",
      "136    feature_dexterity_mean\n",
      "99             feature_9_skew\n",
      "131       feature_wisdom_kurt\n",
      "Name: feature, dtype: object\n",
      "There are 0 features with lower than 0.50 importance\n"
     ]
    },
    {
     "data": {
      "text/html": [
       "<div>\n",
       "<style scoped>\n",
       "    .dataframe tbody tr th:only-of-type {\n",
       "        vertical-align: middle;\n",
       "    }\n",
       "\n",
       "    .dataframe tbody tr th {\n",
       "        vertical-align: top;\n",
       "    }\n",
       "\n",
       "    .dataframe thead th {\n",
       "        text-align: right;\n",
       "    }\n",
       "</style>\n",
       "<table border=\"1\" class=\"dataframe\">\n",
       "  <thead>\n",
       "    <tr style=\"text-align: right;\">\n",
       "      <th></th>\n",
       "      <th>feature</th>\n",
       "      <th>importance</th>\n",
       "    </tr>\n",
       "  </thead>\n",
       "  <tbody>\n",
       "    <tr>\n",
       "      <th>23</th>\n",
       "      <td>feature_strength13</td>\n",
       "      <td>3.0</td>\n",
       "    </tr>\n",
       "    <tr>\n",
       "      <th>49</th>\n",
       "      <td>feature_wisdom13</td>\n",
       "      <td>3.0</td>\n",
       "    </tr>\n",
       "    <tr>\n",
       "      <th>45</th>\n",
       "      <td>feature_constitution108</td>\n",
       "      <td>3.0</td>\n",
       "    </tr>\n",
       "    <tr>\n",
       "      <th>122</th>\n",
       "      <td>feature_17_skew</td>\n",
       "      <td>2.5</td>\n",
       "    </tr>\n",
       "    <tr>\n",
       "      <th>8</th>\n",
       "      <td>feature_charisma9</td>\n",
       "      <td>2.5</td>\n",
       "    </tr>\n",
       "  </tbody>\n",
       "</table>\n",
       "</div>"
      ],
      "text/plain": [
       "                     feature  importance\n",
       "23        feature_strength13         3.0\n",
       "49          feature_wisdom13         3.0\n",
       "45   feature_constitution108         3.0\n",
       "122          feature_17_skew         2.5\n",
       "8          feature_charisma9         2.5"
      ]
     },
     "execution_count": 52,
     "metadata": {},
     "output_type": "execute_result"
    }
   ],
   "source": [
    "featured = [f for f in trained.columns.values.tolist() if 'feature' in f]\n",
    "print(len(featured))\n",
    "# LGB group feature importances 7\n",
    "print('LGB group feature importances:')\n",
    "print(feature_importances7.feature[0:19])\n",
    "#Select importance\n",
    "lgbcin = 0.5 #adjust text\n",
    "# Find the features with zero importance\n",
    "zero_features7 = list(feature_importances7[feature_importances7['importance'] <= lgbcin]['feature'])\n",
    "print('There are %d features with lower than 0.50 importance' % len(zero_features7))\n",
    "feature_importances7.tail()"
   ]
  },
  {
   "cell_type": "code",
   "execution_count": 53,
   "metadata": {
    "id": "-bWGYLg8_wOd",
    "outputId": "33aa38df-6176-41e2-ec04-8b5e61c08d7f"
   },
   "outputs": [
    {
     "data": {
      "image/png": "[encoded data removed]",
      "text/plain": [
       "<Figure size 720x432 with 1 Axes>"
      ]
     },
     "metadata": {
      "needs_background": "light"
     },
     "output_type": "display_data"
    },
    {
     "data": {
      "image/png": "[encoded data removed]",
      "text/plain": [
       "<Figure size 576x432 with 1 Axes>"
      ]
     },
     "metadata": {
      "needs_background": "light"
     },
     "output_type": "display_data"
    },
    {
     "name": "stdout",
     "output_type": "stream",
     "text": [
      "115 features required for 0.90 of cumulative importance\n"
     ]
    }
   ],
   "source": [
    "# plot feature importance XGB group 7\n",
    "norm_feature_importances = plot_feature_importances(feature_importances7)"
   ]
  },
  {
   "cell_type": "code",
   "execution_count": 54,
   "metadata": {
    "id": "mntDKWJb_wOd",
    "outputId": "022ae159-81ea-49bf-a5dc-dcbef921e0d0"
   },
   "outputs": [
    {
     "name": "stdout",
     "output_type": "stream",
     "text": [
      "LGBM model:\n",
      "Training selection 7 shape:  (501808, 151)\n",
      "Testing selection 7 shape:  (1731016, 151)\n"
     ]
    }
   ],
   "source": [
    "#about 60 features left\n",
    "trained = trained.drop(columns = zero_features7)\n",
    "tested = tested.drop(columns = zero_features7)\n",
    "valed = valed.drop(columns = zero_features7)\n",
    "print('LGBM model:')\n",
    "print('Training selection 7 shape: ', trained.shape)\n",
    "print('Testing selection 7 shape: ', tested.shape)"
   ]
  },
  {
   "cell_type": "code",
   "execution_count": 55,
   "metadata": {
    "id": "BOiHOUGb_wOd",
    "outputId": "86a012b5-d869-4cc1-d941-cf1a8d7b8cc2"
   },
   "outputs": [
    {
     "name": "stdout",
     "output_type": "stream",
     "text": [
      "There are 148 features.\n",
      "There are 148 features.\n"
     ]
    }
   ],
   "source": [
    "features = [f for f in train.columns.values.tolist() if 'feature' in f]\n",
    "print('There are {} features.'.format(len(features)))\n",
    "featured = [f for f in trained.columns.values.tolist() if 'feature' in f]\n",
    "print('There are {} features.'.format(len(featured)))"
   ]
  },
  {
   "cell_type": "code",
   "execution_count": null,
   "metadata": {
    "id": "_Dmm_0fd_wOe"
   },
   "outputs": [],
   "source": [
    "#SPARK version XGBoost\n",
    "#1.) Transform data to Spark dataset\n",
    "#trained_spark = spark.createDataFrame(trained)\n",
    "#tested_spark = spark.createDataFrame(tested)\n",
    "#valed_spark = spark.createDataFrame(valed)\n",
    "#val dataset = spark.read.parquet(temp_path)\n",
    "\n",
    "#modelxgbinst_spark = "
   ]
  },
  {
   "cell_type": "code",
   "execution_count": 59,
   "metadata": {
    "id": "iVwnIwi6_wOh",
    "outputId": "15c3dd82-5bae-4049-f204-8228402eccd1"
   },
   "outputs": [
    {
     "name": "stdout",
     "output_type": "stream",
     "text": [
      "There are 0 columns with >= 0.98 correlation.\n",
      "CPU times: user 35.8 s, sys: 269 ms, total: 36.1 s\n",
      "Wall time: 35.7 s\n"
     ]
    },
    {
     "data": {
      "text/plain": [
       "[]"
      ]
     },
     "execution_count": 59,
     "metadata": {},
     "output_type": "execute_result"
    }
   ],
   "source": [
    "%%time\n",
    "#TODO improve to multi processor\n",
    "#Create correlation matrix\n",
    "corr_matrix = trained.corr().abs()\n",
    "# Select upper triangle of correlation matrix\n",
    "upper = corr_matrix.where(np.triu(np.ones(corr_matrix.shape), k=1).astype(np.bool))\n",
    "# Find index of feature columns with correlation greater than 0.95\n",
    "to_drop = [column for column in upper.columns if any(upper[column] >= 0.98)]\n",
    "\n",
    "print('There are {} columns with >= 0.98 correlation.'.format(len(to_drop)))\n",
    "to_drop"
   ]
  },
  {
   "cell_type": "code",
   "execution_count": 60,
   "metadata": {
    "id": "30hlJl-L_wOi"
   },
   "outputs": [],
   "source": [
    "#nice one will https://www.kaggle.com/willkoehrsen/featuretools-for-good\n",
    "# Train \n",
    "trained = trained[[x for x in trained if x not in to_drop]]\n",
    "# Test\n",
    "tested = tested[[x for x in tested if x not in to_drop]]\n",
    "# Val\n",
    "valed = tested[[x for x in tested if x not in to_drop]]"
   ]
  },
  {
   "cell_type": "code",
   "execution_count": 61,
   "metadata": {
    "id": "UnoYYG7Y_wOi",
    "outputId": "05ba7c83-03fe-4bde-8c3d-16dc75208696"
   },
   "outputs": [
    {
     "name": "stderr",
     "output_type": "stream",
     "text": [
      "/home/hadoopuser/.local/lib/python3.8/site-packages/seaborn/matrix.py:649: UserWarning: Clustering large matrix with scipy. Installing `fastcluster` may give better performance.\n",
      "  warnings.warn(msg)\n"
     ]
    },
    {
     "data": {
      "image/png": "[encoded data removed]",
      "text/plain": [
       "<Figure size 864x864 with 4 Axes>"
      ]
     },
     "metadata": {
      "needs_background": "light"
     },
     "output_type": "display_data"
    },
    {
     "name": "stdout",
     "output_type": "stream",
     "text": [
      "CPU times: user 39.6 s, sys: 2.69 s, total: 42.3 s\n",
      "Wall time: 37.9 s\n"
     ]
    }
   ],
   "source": [
    "%%time\n",
    "def show_heatmap(df):\n",
    "    g = sns.clustermap(df.corr(), figsize=(12,12))\n",
    "    plt.setp(g.ax_heatmap.yaxis.get_majorticklabels(), rotation=0)\n",
    "    plt.show()\n",
    "show_heatmap(trained)"
   ]
  },
  {
   "cell_type": "markdown",
   "metadata": {
    "id": "iQlHDIRk_wOj"
   },
   "source": [
    "## Feature Selection with feature selection tools on LAG variables \n",
    "Era - 1, Era -2, Era -3, Era - 6, Era - 12, Era - 24, Era - 55,"
   ]
  },
  {
   "cell_type": "code",
   "execution_count": 62,
   "metadata": {
    "id": "Y2siYx8f_wOk",
    "outputId": "59e534d0-f39d-4c58-c953-cb4fe475c50d"
   },
   "outputs": [
    {
     "name": "stdout",
     "output_type": "stream",
     "text": [
      "148\n"
     ]
    }
   ],
   "source": [
    "featured = [f for f in trained.columns.values.tolist() if 'feature' in f]\n",
    "print(len(featured))"
   ]
  },
  {
   "cell_type": "markdown",
   "metadata": {
    "id": "ShVS5CRu_wOk"
   },
   "source": [
    "## NN model preparation Target\n",
    "target"
   ]
  },
  {
   "cell_type": "code",
   "execution_count": 63,
   "metadata": {
    "id": "b7R5x61F_wOl",
    "outputId": "59d396cf-3b60-4a1b-e7e3-9aab38430cdf"
   },
   "outputs": [
    {
     "name": "stdout",
     "output_type": "stream",
     "text": [
      "Target name = target\n",
      "Targeted name = target\n"
     ]
    }
   ],
   "source": [
    "target = train.columns[train.columns.str.startswith('target')].values.tolist()[0]\n",
    "print(f'Target name = {target}')\n",
    "# Model with interaction variables\n",
    "targeted = trained.columns[trained.columns.str.startswith('target')].values.tolist()[0]\n",
    "print(f'Targeted name = {targeted}')"
   ]
  },
  {
   "cell_type": "code",
   "execution_count": 64,
   "metadata": {
    "id": "0SjRJH6w_wOo",
    "outputId": "da5aab81-cc6d-46ad-e11a-5c3a61289413"
   },
   "outputs": [
    {
     "name": "stdout",
     "output_type": "stream",
     "text": [
      "(501808,)\n",
      "(501808, 151)\n",
      "(501808,)\n",
      "(501808, 151)\n"
     ]
    }
   ],
   "source": [
    "print(train[target].shape)\n",
    "print(train.shape)\n",
    "print(trained[target].shape)\n",
    "print(trained.shape)"
   ]
  },
  {
   "cell_type": "code",
   "execution_count": 65,
   "metadata": {
    "id": "VnpqQGJX_wOp",
    "outputId": "e77c1f7b-b782-420d-a41c-1de1f7ffb83b"
   },
   "outputs": [
    {
     "data": {
      "text/plain": [
       "<AxesSubplot:>"
      ]
     },
     "execution_count": 65,
     "metadata": {},
     "output_type": "execute_result"
    },
    {
     "data": {
      "image/png": "[encoded data removed]",
      "text/plain": [
       "<Figure size 432x288 with 1 Axes>"
      ]
     },
     "metadata": {
      "needs_background": "light"
     },
     "output_type": "display_data"
    }
   ],
   "source": [
    "train[target].hist()"
   ]
  },
  {
   "cell_type": "code",
   "execution_count": null,
   "metadata": {
    "id": "6EPzk8XD_wOp",
    "outputId": "5b3b3499-0477-429c-9faa-a398bf02c1ba"
   },
   "outputs": [],
   "source": [
    "#When having enough memory, no need for reduction\n",
    "\"\"\"\n",
    "%%time\n",
    "## Step1: Memory reduction, feature selection removing high correlation   \n",
    "df = trained\n",
    "start_mem = df.memory_usage().sum() / 1024**2\n",
    "\n",
    "print('Memory usage before optimization 1 is: {:.2f} MB'.format(start_mem))\n",
    "print(\"The dataframe 1 has {} columns.\".format(df.shape[1]))\n",
    "# Calculate the correlation matrix and take the absolute value \n",
    "corr_matrix = df.corr().abs()\n",
    "# Create a True/False mask and apply it \n",
    "mask = np.triu(np.ones_like(corr_matrix, dtype=bool)) \n",
    "tri_df = corr_matrix.mask(mask)\n",
    "# List column names of highly correlated features (r > 0.95) \n",
    "to_drop = [c for c in tri_df.columns if any(tri_df[c] >  0.95)]\n",
    "# Drop the features in the to_drop list \n",
    "df = df.drop(to_drop, axis=1)\n",
    "training_data = df\n",
    "\n",
    "end_mem = df.memory_usage().sum() / 1024**2\n",
    "print('Memory usage after optimization 1 is: {:.2f} MB'.format(end_mem))\n",
    "feature_names = [f for f in df.columns if f.startswith(\"feature\")]\n",
    "print('Decreased by {:.1f}%'.format(100 * (start_mem - end_mem) / start_mem))\n",
    "print(\"The reduced dataframe 1 has {} columns.\".format(df.shape[1]))\n",
    "## Step2: Memory reduction, precision and data type transformation\n",
    "def reduce_mem_usage(df, verbose=True):\n",
    "    start_mem = df.memory_usage().sum() / 1024**2\n",
    "    print('Memory usage before optimization 2 is: {:.2f} MB'.format(start_mem))\n",
    "    print(\"The dataframe 2 has {} columns.\".format(df.shape[1]))\n",
    "    numerics = ['int16', 'int32', 'int64', 'float16', 'float32', 'float64']\n",
    "    for col in df.columns:\n",
    "        col_type = df[col].dtypes\n",
    "        if col_type in numerics:\n",
    "            c_min = df[col].min()\n",
    "            c_max = df[col].max()\n",
    "            if str(col_type)[:3] == 'int':\n",
    "                if c_min > np.iinfo(np.int8).min and c_max < np.iinfo(np.int8).max:\n",
    "                    df[col] = df[col].astype(np.int8)\n",
    "                elif c_min > np.iinfo(np.int16).min and c_max < np.iinfo(np.int16).max:\n",
    "                    df[col] = df[col].astype(np.int16)\n",
    "                elif c_min > np.iinfo(np.int32).min and c_max < np.iinfo(np.int32).max:\n",
    "                    df[col] = df[col].astype(np.int32)\n",
    "                elif c_min > np.iinfo(np.int64).min and c_max < np.iinfo(np.int64).max:\n",
    "                    df[col] = df[col].astype(np.int64)\n",
    "            else:\n",
    "                if c_min > np.finfo(np.float16).min and c_max < np.finfo(np.float16).max:\n",
    "                    df[col] = df[col].astype(np.float16)\n",
    "                elif c_min > np.finfo(np.float32).min and c_max < np.finfo(np.float32).max:\n",
    "                    df[col] = df[col].astype(np.float32)\n",
    "                else:\n",
    "                    df[col] = df[col].astype(np.float64)\n",
    "    end_mem = df.memory_usage().sum() / 1024**2\n",
    "    start_mem = end_mem\n",
    "    print('Memory usage after optimization 2 is: {:.2f} MB'.format(end_mem))\n",
    "    print(\"The reduced dataframe 2 has {} columns.\".format(df.shape[1]))                \n",
    "    return df\n",
    "trained = reduce_mem_usage(trained)\n",
    "tested = reduce_mem_usage(tested)#.drop(to_drop, axis=1)\n",
    "valed = reduce_mem_usage(valed)\n",
    "\"\"\"\n"
   ]
  },
  {
   "cell_type": "code",
   "execution_count": 66,
   "metadata": {
    "id": "2vsmzkIj_wOq",
    "outputId": "ff70f3e5-af45-49f6-b25b-c69fa4131658"
   },
   "outputs": [
    {
     "name": "stdout",
     "output_type": "stream",
     "text": [
      "<class 'pandas.core.frame.DataFrame'>\n",
      "RangeIndex: 501808 entries, 0 to 501807\n",
      "Columns: 151 entries, id to feature_constitution_kurt\n",
      "dtypes: float64(88), int64(1), object(1), uint8(61)\n",
      "memory usage: 373.8+ MB\n"
     ]
    },
    {
     "data": {
      "text/html": [
       "<div>\n",
       "<style scoped>\n",
       "    .dataframe tbody tr th:only-of-type {\n",
       "        vertical-align: middle;\n",
       "    }\n",
       "\n",
       "    .dataframe tbody tr th {\n",
       "        vertical-align: top;\n",
       "    }\n",
       "\n",
       "    .dataframe thead th {\n",
       "        text-align: right;\n",
       "    }\n",
       "</style>\n",
       "<table border=\"1\" class=\"dataframe\">\n",
       "  <thead>\n",
       "    <tr style=\"text-align: right;\">\n",
       "      <th></th>\n",
       "      <th>era</th>\n",
       "      <th>feature_intelligence1</th>\n",
       "      <th>feature_intelligence3</th>\n",
       "      <th>feature_intelligence4</th>\n",
       "      <th>feature_intelligence6</th>\n",
       "      <th>feature_intelligence8</th>\n",
       "      <th>feature_intelligence9</th>\n",
       "      <th>feature_intelligence10</th>\n",
       "      <th>feature_intelligence11</th>\n",
       "      <th>feature_charisma9</th>\n",
       "      <th>...</th>\n",
       "      <th>feature_dexterity_skew</th>\n",
       "      <th>feature_dexterity_kurt</th>\n",
       "      <th>feature_strength_mean</th>\n",
       "      <th>feature_strength_std</th>\n",
       "      <th>feature_strength_skew</th>\n",
       "      <th>feature_strength_kurt</th>\n",
       "      <th>feature_constitution_mean</th>\n",
       "      <th>feature_constitution_std</th>\n",
       "      <th>feature_constitution_skew</th>\n",
       "      <th>feature_constitution_kurt</th>\n",
       "    </tr>\n",
       "  </thead>\n",
       "  <tbody>\n",
       "    <tr>\n",
       "      <th>count</th>\n",
       "      <td>501808.000000</td>\n",
       "      <td>501808.000000</td>\n",
       "      <td>501808.000000</td>\n",
       "      <td>501808.000000</td>\n",
       "      <td>501808.000000</td>\n",
       "      <td>501808.000000</td>\n",
       "      <td>501808.000000</td>\n",
       "      <td>501808.000000</td>\n",
       "      <td>501808.000000</td>\n",
       "      <td>501808.000000</td>\n",
       "      <td>...</td>\n",
       "      <td>501808.000000</td>\n",
       "      <td>501808.000000</td>\n",
       "      <td>501808.000000</td>\n",
       "      <td>501808.000000</td>\n",
       "      <td>501808.000000</td>\n",
       "      <td>501808.000000</td>\n",
       "      <td>501808.000000</td>\n",
       "      <td>501808.000000</td>\n",
       "      <td>501808.000000</td>\n",
       "      <td>501808.000000</td>\n",
       "    </tr>\n",
       "    <tr>\n",
       "      <th>mean</th>\n",
       "      <td>64.001987</td>\n",
       "      <td>1.999924</td>\n",
       "      <td>1.999916</td>\n",
       "      <td>1.999924</td>\n",
       "      <td>1.999908</td>\n",
       "      <td>1.999924</td>\n",
       "      <td>1.999920</td>\n",
       "      <td>1.999920</td>\n",
       "      <td>1.999924</td>\n",
       "      <td>1.999944</td>\n",
       "      <td>...</td>\n",
       "      <td>0.017350</td>\n",
       "      <td>0.329804</td>\n",
       "      <td>1.999904</td>\n",
       "      <td>1.204340</td>\n",
       "      <td>0.027958</td>\n",
       "      <td>-0.585104</td>\n",
       "      <td>1.999904</td>\n",
       "      <td>1.327010</td>\n",
       "      <td>-0.005408</td>\n",
       "      <td>-0.958930</td>\n",
       "    </tr>\n",
       "    <tr>\n",
       "      <th>std</th>\n",
       "      <td>33.332945</td>\n",
       "      <td>1.414384</td>\n",
       "      <td>1.414371</td>\n",
       "      <td>1.414384</td>\n",
       "      <td>1.414349</td>\n",
       "      <td>1.414384</td>\n",
       "      <td>1.408397</td>\n",
       "      <td>1.408397</td>\n",
       "      <td>1.414384</td>\n",
       "      <td>1.413894</td>\n",
       "      <td>...</td>\n",
       "      <td>1.124038</td>\n",
       "      <td>2.786327</td>\n",
       "      <td>0.540414</td>\n",
       "      <td>0.235269</td>\n",
       "      <td>0.537268</td>\n",
       "      <td>0.782917</td>\n",
       "      <td>0.385759</td>\n",
       "      <td>0.183476</td>\n",
       "      <td>0.399379</td>\n",
       "      <td>0.547819</td>\n",
       "    </tr>\n",
       "    <tr>\n",
       "      <th>min</th>\n",
       "      <td>1.000000</td>\n",
       "      <td>0.000000</td>\n",
       "      <td>0.000000</td>\n",
       "      <td>0.000000</td>\n",
       "      <td>0.000000</td>\n",
       "      <td>0.000000</td>\n",
       "      <td>0.000000</td>\n",
       "      <td>0.000000</td>\n",
       "      <td>0.000000</td>\n",
       "      <td>0.000000</td>\n",
       "      <td>...</td>\n",
       "      <td>-3.741657</td>\n",
       "      <td>-2.363636</td>\n",
       "      <td>0.131579</td>\n",
       "      <td>0.000000</td>\n",
       "      <td>-4.850487</td>\n",
       "      <td>-2.114286</td>\n",
       "      <td>0.649123</td>\n",
       "      <td>0.000000</td>\n",
       "      <td>-4.060563</td>\n",
       "      <td>-1.981460</td>\n",
       "    </tr>\n",
       "    <tr>\n",
       "      <th>25%</th>\n",
       "      <td>37.000000</td>\n",
       "      <td>1.000000</td>\n",
       "      <td>1.000000</td>\n",
       "      <td>1.000000</td>\n",
       "      <td>1.000000</td>\n",
       "      <td>1.000000</td>\n",
       "      <td>1.000000</td>\n",
       "      <td>1.000000</td>\n",
       "      <td>1.000000</td>\n",
       "      <td>1.000000</td>\n",
       "      <td>...</td>\n",
       "      <td>-0.516335</td>\n",
       "      <td>-1.062906</td>\n",
       "      <td>1.605263</td>\n",
       "      <td>1.034264</td>\n",
       "      <td>-0.315789</td>\n",
       "      <td>-1.094447</td>\n",
       "      <td>1.736842</td>\n",
       "      <td>1.200741</td>\n",
       "      <td>-0.269237</td>\n",
       "      <td>-1.259070</td>\n",
       "    </tr>\n",
       "    <tr>\n",
       "      <th>50%</th>\n",
       "      <td>64.000000</td>\n",
       "      <td>2.000000</td>\n",
       "      <td>2.000000</td>\n",
       "      <td>2.000000</td>\n",
       "      <td>2.000000</td>\n",
       "      <td>2.000000</td>\n",
       "      <td>2.000000</td>\n",
       "      <td>2.000000</td>\n",
       "      <td>2.000000</td>\n",
       "      <td>2.000000</td>\n",
       "      <td>...</td>\n",
       "      <td>0.000000</td>\n",
       "      <td>-0.348776</td>\n",
       "      <td>2.000000</td>\n",
       "      <td>1.202179</td>\n",
       "      <td>0.026052</td>\n",
       "      <td>-0.729331</td>\n",
       "      <td>2.000000</td>\n",
       "      <td>1.327489</td>\n",
       "      <td>-0.010537</td>\n",
       "      <td>-1.013346</td>\n",
       "    </tr>\n",
       "    <tr>\n",
       "      <th>75%</th>\n",
       "      <td>93.000000</td>\n",
       "      <td>3.000000</td>\n",
       "      <td>3.000000</td>\n",
       "      <td>3.000000</td>\n",
       "      <td>3.000000</td>\n",
       "      <td>3.000000</td>\n",
       "      <td>3.000000</td>\n",
       "      <td>3.000000</td>\n",
       "      <td>3.000000</td>\n",
       "      <td>3.000000</td>\n",
       "      <td>...</td>\n",
       "      <td>0.553133</td>\n",
       "      <td>0.501377</td>\n",
       "      <td>2.368421</td>\n",
       "      <td>1.371318</td>\n",
       "      <td>0.371082</td>\n",
       "      <td>-0.257231</td>\n",
       "      <td>2.263158</td>\n",
       "      <td>1.454079</td>\n",
       "      <td>0.256362</td>\n",
       "      <td>-0.732563</td>\n",
       "    </tr>\n",
       "    <tr>\n",
       "      <th>max</th>\n",
       "      <td>120.000000</td>\n",
       "      <td>4.000000</td>\n",
       "      <td>4.000000</td>\n",
       "      <td>4.000000</td>\n",
       "      <td>4.000000</td>\n",
       "      <td>4.000000</td>\n",
       "      <td>4.000000</td>\n",
       "      <td>4.000000</td>\n",
       "      <td>4.000000</td>\n",
       "      <td>4.000000</td>\n",
       "      <td>...</td>\n",
       "      <td>3.741657</td>\n",
       "      <td>14.000000</td>\n",
       "      <td>3.842105</td>\n",
       "      <td>2.002310</td>\n",
       "      <td>6.164414</td>\n",
       "      <td>38.000000</td>\n",
       "      <td>3.412281</td>\n",
       "      <td>1.952391</td>\n",
       "      <td>5.120981</td>\n",
       "      <td>36.562941</td>\n",
       "    </tr>\n",
       "  </tbody>\n",
       "</table>\n",
       "<p>8 rows × 150 columns</p>\n",
       "</div>"
      ],
      "text/plain": [
       "                 era  feature_intelligence1  feature_intelligence3  \\\n",
       "count  501808.000000          501808.000000          501808.000000   \n",
       "mean       64.001987               1.999924               1.999916   \n",
       "std        33.332945               1.414384               1.414371   \n",
       "min         1.000000               0.000000               0.000000   \n",
       "25%        37.000000               1.000000               1.000000   \n",
       "50%        64.000000               2.000000               2.000000   \n",
       "75%        93.000000               3.000000               3.000000   \n",
       "max       120.000000               4.000000               4.000000   \n",
       "\n",
       "       feature_intelligence4  feature_intelligence6  feature_intelligence8  \\\n",
       "count          501808.000000          501808.000000          501808.000000   \n",
       "mean                1.999924               1.999908               1.999924   \n",
       "std                 1.414384               1.414349               1.414384   \n",
       "min                 0.000000               0.000000               0.000000   \n",
       "25%                 1.000000               1.000000               1.000000   \n",
       "50%                 2.000000               2.000000               2.000000   \n",
       "75%                 3.000000               3.000000               3.000000   \n",
       "max                 4.000000               4.000000               4.000000   \n",
       "\n",
       "       feature_intelligence9  feature_intelligence10  feature_intelligence11  \\\n",
       "count          501808.000000           501808.000000           501808.000000   \n",
       "mean                1.999920                1.999920                1.999924   \n",
       "std                 1.408397                1.408397                1.414384   \n",
       "min                 0.000000                0.000000                0.000000   \n",
       "25%                 1.000000                1.000000                1.000000   \n",
       "50%                 2.000000                2.000000                2.000000   \n",
       "75%                 3.000000                3.000000                3.000000   \n",
       "max                 4.000000                4.000000                4.000000   \n",
       "\n",
       "       feature_charisma9  ...  feature_dexterity_skew  feature_dexterity_kurt  \\\n",
       "count      501808.000000  ...           501808.000000           501808.000000   \n",
       "mean            1.999944  ...                0.017350                0.329804   \n",
       "std             1.413894  ...                1.124038                2.786327   \n",
       "min             0.000000  ...               -3.741657               -2.363636   \n",
       "25%             1.000000  ...               -0.516335               -1.062906   \n",
       "50%             2.000000  ...                0.000000               -0.348776   \n",
       "75%             3.000000  ...                0.553133                0.501377   \n",
       "max             4.000000  ...                3.741657               14.000000   \n",
       "\n",
       "       feature_strength_mean  feature_strength_std  feature_strength_skew  \\\n",
       "count          501808.000000         501808.000000          501808.000000   \n",
       "mean                1.999904              1.204340               0.027958   \n",
       "std                 0.540414              0.235269               0.537268   \n",
       "min                 0.131579              0.000000              -4.850487   \n",
       "25%                 1.605263              1.034264              -0.315789   \n",
       "50%                 2.000000              1.202179               0.026052   \n",
       "75%                 2.368421              1.371318               0.371082   \n",
       "max                 3.842105              2.002310               6.164414   \n",
       "\n",
       "       feature_strength_kurt  feature_constitution_mean  \\\n",
       "count          501808.000000              501808.000000   \n",
       "mean               -0.585104                   1.999904   \n",
       "std                 0.782917                   0.385759   \n",
       "min                -2.114286                   0.649123   \n",
       "25%                -1.094447                   1.736842   \n",
       "50%                -0.729331                   2.000000   \n",
       "75%                -0.257231                   2.263158   \n",
       "max                38.000000                   3.412281   \n",
       "\n",
       "       feature_constitution_std  feature_constitution_skew  \\\n",
       "count             501808.000000              501808.000000   \n",
       "mean                   1.327010                  -0.005408   \n",
       "std                    0.183476                   0.399379   \n",
       "min                    0.000000                  -4.060563   \n",
       "25%                    1.200741                  -0.269237   \n",
       "50%                    1.327489                  -0.010537   \n",
       "75%                    1.454079                   0.256362   \n",
       "max                    1.952391                   5.120981   \n",
       "\n",
       "       feature_constitution_kurt  \n",
       "count              501808.000000  \n",
       "mean                   -0.958930  \n",
       "std                     0.547819  \n",
       "min                    -1.981460  \n",
       "25%                    -1.259070  \n",
       "50%                    -1.013346  \n",
       "75%                    -0.732563  \n",
       "max                    36.562941  \n",
       "\n",
       "[8 rows x 150 columns]"
      ]
     },
     "execution_count": 66,
     "metadata": {},
     "output_type": "execute_result"
    }
   ],
   "source": [
    "trained.info()\n",
    "trained.describe()"
   ]
  },
  {
   "cell_type": "code",
   "execution_count": 75,
   "metadata": {},
   "outputs": [],
   "source": [
    "# Bring 151 selection to GPU machine\n",
    "trained.to_parquet('trained.parquet')\n",
    "valed.to_parquet('valed.parquet')\n"
   ]
  },
  {
   "cell_type": "code",
   "execution_count": 76,
   "metadata": {},
   "outputs": [],
   "source": [
    "tested.to_parquet('tested.parquet')"
   ]
  },
  {
   "cell_type": "code",
   "execution_count": null,
   "metadata": {
    "id": "_es9wXjU_wOr",
    "outputId": "fad3043a-17e8-45a7-d6d8-0dab341e50bb"
   },
   "outputs": [],
   "source": [
    "%%time\n",
    "# When cleaning is needed \n",
    "#print(trained.isna().sum())\n",
    "#print(tested.isna().sum())\n",
    "#print(valed.isna().sum())\n",
    "#print(trained.isin([np.inf, -np.inf]))\n",
    "# Note we use it for the interaction variables as a 0 could arise from substraction\n",
    "#trained.fillna('')\n",
    "#tested.fillna('')\n",
    "#valed.fillna('')\n",
    "#trained = trained.replace([np.inf, -np.inf], '')\n",
    "#tested = tested.replace([np.inf, -np.inf], '')\n",
    "#valed = valed.replace([np.inf, -np.inf], '')"
   ]
  },
  {
   "cell_type": "markdown",
   "metadata": {
    "id": "ZENH0UuY_wOr"
   },
   "source": [
    "# Modeling\n",
    "Here we build a simple MLP using tensorflow.\n",
    "\n",
    "[Example](https://github.com/numerai/example-scripts/blob/master/example_model.py)\n",
    "Adaboost\n",
    "[XGBoost](https://jp.docs.numer.ai/numerai-tournament/tournament-overview)\n",
    "\n"
   ]
  },
  {
   "cell_type": "markdown",
   "metadata": {
    "id": "dZHZjAQx_wOr"
   },
   "source": [
    "<h4>data prep</h4>"
   ]
  },
  {
   "cell_type": "code",
   "execution_count": 67,
   "metadata": {
    "id": "PgLAcA9b_wOs"
   },
   "outputs": [],
   "source": [
    "# set seed to reproduce the result\n",
    "def seed_everything(seed : int) -> NoReturn :    \n",
    "    random.seed(seed)\n",
    "    np.random.seed(seed)\n",
    "    os.environ['PYTHONHASHSEED'] = str(seed)\n",
    "    tf.random.set_seed(seed)\n",
    "\n",
    "seed_everything(CFG.SEED) "
   ]
  },
  {
   "cell_type": "markdown",
   "metadata": {
    "id": "ZFes6aGX_wOs"
   },
   "source": [
    "# Tuning (or not)\n",
    "Instantiate the tuner to perform the hypertuning. The Keras Tuner has four tuners available - RandomSearch, Hyperband, BayesianOptimization, and Sklearn. \n",
    "\n",
    "Here we use the **BayesianOptimization** tuner."
   ]
  },
  {
   "cell_type": "code",
   "execution_count": 79,
   "metadata": {
    "id": "8cN-_HY5_wOt",
    "outputId": "68ffa119-ad12-48cc-c32b-476dd5cbfb96"
   },
   "outputs": [
    {
     "name": "stderr",
     "output_type": "stream",
     "text": [
      "default NN params:\n",
      "2021-05-30 21:37:06,756 INFO __main__: default NN params:\n",
      "{'input_dim': 148, 'input_dropout': 0.0, 'hidden_layers': 3, 'hidden_units': 256, 'hidden_activation': 'relu', 'lr': 0.001, 'dropout': 0.2, 'batch_size': 128, 'epochs': 192}\n",
      "2021-05-30 21:37:06,760 INFO __main__: {'input_dim': 148, 'input_dropout': 0.0, 'hidden_layers': 3, 'hidden_units': 256, 'hidden_activation': 'relu', 'lr': 0.001, 'dropout': 0.2, 'batch_size': 128, 'epochs': 192}\n"
     ]
    }
   ],
   "source": [
    "# my default NN hyperparameters\n",
    "params = {\n",
    "    'input_dim': len(featured),#set to featured to use interaction variables, features to use origin\n",
    "    'input_dropout': 0.0,\n",
    "    'hidden_layers': 3,\n",
    "    'hidden_units': 256,\n",
    "    'hidden_activation': 'relu',\n",
    "    'lr': 1e-03,\n",
    "    'dropout': 0.2,\n",
    "    'batch_size': 128,\n",
    "    'epochs': 192\n",
    "}\n",
    "logger.info('default NN params:')\n",
    "logger.info(params)\n",
    "\n",
    "def create_off(params=params):\n",
    "    \"\"\"\n",
    "    baseline model\n",
    "    \"\"\"\n",
    "\n",
    "    # NN model architecture\n",
    "    n_neuron = params['hidden_units']\n",
    "\n",
    "    inputs = tf.keras.layers.Input(shape=(params['input_dim'], ))\n",
    "    x = tf.keras.layers.BatchNormalization()(inputs)\n",
    "    x = tf.keras.layers.Dense(n_neuron, activation=params['hidden_activation'])(x)\n",
    "    x = tf.keras.layers.BatchNormalization()(x)\n",
    "    x = tf.keras.layers.Dropout(params['dropout'])(x)\n",
    "\n",
    "    # stack more layers\n",
    "    for i in np.arange(params['hidden_layers'] - 1):\n",
    "        x = tf.keras.layers.Dense(n_neuron // (2 * (i+1)), activation=params['hidden_activation'])(x)\n",
    "        x = tf.keras.layers.BatchNormalization()(x)\n",
    "        x = tf.keras.layers.Dropout(params['dropout'])(x)\n",
    "\n",
    "    out = tf.keras.layers.Dense(1, activation='linear', name = 'out')(x)\n",
    "        \n",
    "    # compile\n",
    "    model = tf.keras.models.Model(inputs=inputs, outputs=out)\n",
    "    loss = tf.keras.losses.MeanSquaredError()\n",
    "    opt = tf.keras.optimizers.Adam(lr=params['lr'])\n",
    "    model.compile(loss=loss, optimizer=opt, metrics=['mse'])\n",
    "    \n",
    "    return model\n",
    "\n",
    "def create_model(params=params):\n",
    "    \"\"\"\n",
    "    paper model\n",
    "    \"\"\"\n",
    "\n",
    "    # NN model architecture\n",
    "    n_neuron = params['hidden_units']\n",
    "\n",
    "    inputs = tf.keras.layers.Input(shape=(params['input_dim'], ))\n",
    "    x = tf.keras.layers.Dense(n_neuron, activation=params['hidden_activation'])(x) \n",
    "    x = tf.keras.layers.BatchNormalization()(inputs)\n",
    "    x = tf.keras.layers.Dropout(params['dropout'])(x)    \n",
    "    #x = tf.keras.layers.Dense(n_neuron, activation=params['hidden_activation'])(x)\n",
    "    #x = tf.keras.layers.BatchNormalization()(x)\n",
    "\n",
    "    # activation\n",
    "    # stack more layers\n",
    "    for i in np.arange(params['hidden_layers'] - 1):\n",
    "        x = tf.keras.layers.Dense(n_neuron // (2 * (i+1)), activation=params['hidden_activation'])(x)\n",
    "        x = tf.keras.layers.BatchNormalization()(x)\n",
    "        x = tf.keras.layers.Dropout(params['dropout'])(x)\n",
    "\n",
    "    out = tf.keras.layers.Dense(1, activation='linear', name = 'out')(x)\n",
    "        \n",
    "    # compile\n",
    "    model = tf.keras.models.Model(inputs=inputs, outputs=out)\n",
    "    loss = tf.keras.losses.MeanSquaredError()\n",
    "    opt = tf.keras.optimizers.Adam(lr=params['lr'])\n",
    "    model.compile(loss=loss, optimizer=opt, metrics=['mse'])\n",
    "    \n",
    "    return model\n",
    "\n",
    "def tuning_model(hp, params=params):\n",
    "    \"\"\"\n",
    "    model tuning with KerasTuner\n",
    "    \"\"\"\n",
    "    \n",
    "    inputs = tf.keras.layers.Input(shape=(params['input_dim'], ))\n",
    "    x = tf.keras.layers.BatchNormalization()(inputs)\n",
    "    x = tf.keras.layers.Dense(hp.Int('num_units_1', 128, 512, step=128), activation=params['hidden_activation'])(x)\n",
    "    x = tf.keras.layers.BatchNormalization()(x)\n",
    "    x = tf.keras.layers.Dropout(hp.Float('dropout_1', 0.0, 0.5, step=0.1, default=0.5))(x)\n",
    "\n",
    "    for i in range(hp.Int('num_layers', 1, 3)):\n",
    "        x = tf.keras.layers.Dense(hp.Int(f'num_units_{i+2}', 128, 512, step=128))(x)\n",
    "        x = tf.keras.layers.BatchNormalization()(x)\n",
    "        x = tf.keras.layers.Dropout(hp.Float(f'dropout_{i+2}', 0.0, 0.5, step=0.1, default=0.5))(x)\n",
    "        \n",
    "    # output\n",
    "    out = tf.keras.layers.Dense(1, activation='linear', name = 'out')(x)\n",
    "    model = tf.keras.models.Model(inputs=inputs, outputs=out)\n",
    "   \n",
    "    # compile\n",
    "    loss = tf.keras.losses.MeanSquaredError()\n",
    "    opt = tf.keras.optimizers.Adam(lr=hp.Float('learning_rate', 1e-4, 1e-2, sampling='log'))\n",
    "    model.compile(loss=loss, optimizer=opt, metrics=['mse'])\n",
    "    \n",
    "    return model"
   ]
  },
  {
   "cell_type": "code",
   "execution_count": 69,
   "metadata": {
    "id": "cuyfQAag_wOu",
    "outputId": "e431a5da-a465-45a0-c3c3-21d0f280d9a8"
   },
   "outputs": [
    {
     "name": "stdout",
     "output_type": "stream",
     "text": [
      "{'X': array([[ 0.        ,  1.        ,  0.        , ...,  1.10288186,\n",
      "         0.276155  , -0.47805404],\n",
      "       [ 0.        ,  0.        ,  1.        , ...,  1.33631866,\n",
      "        -0.79493795, -0.42093535],\n",
      "       [ 1.        ,  1.        ,  1.        , ...,  1.32702084,\n",
      "         0.17982385, -1.16578133],\n",
      "       ...,\n",
      "       [ 3.        ,  2.        ,  2.        , ...,  1.50600413,\n",
      "         0.1364874 , -1.42724074],\n",
      "       [ 1.        ,  1.        ,  2.        , ...,  1.32877462,\n",
      "        -0.04813036, -1.30867028],\n",
      "       [ 3.        ,  2.        ,  3.        , ...,  0.93911036,\n",
      "         0.4768451 , -0.13629558]]), 'y': array([0.5 , 0.25, 0.25, ..., 0.25, 0.5 , 0.5 ])}\n",
      "{'X': array([[ 1.        ,  2.        ,  2.        , ...,  1.45479949,\n",
      "         0.08854274, -1.51661377],\n",
      "       [ 3.        ,  3.        ,  4.        , ...,  1.42602075,\n",
      "         0.42483664, -1.23004261],\n",
      "       [ 4.        ,  0.        ,  4.        , ...,  1.48165829,\n",
      "         0.26885292, -1.26724565],\n",
      "       ...,\n",
      "       [ 2.        ,  2.        ,  3.        , ...,  1.32748874,\n",
      "        -0.80953057, -0.60688499],\n",
      "       [ 4.        ,  2.        ,  4.        , ...,  1.41610604,\n",
      "        -0.71201945, -0.98416908],\n",
      "       [ 0.        ,  0.        ,  0.        , ...,  1.19188375,\n",
      "         0.49541752, -0.36036149]]), 'y': array([0.25, 0.5 , 1.  , ..., 0.5 , 0.5 , 0.5 ])}\n"
     ]
    }
   ],
   "source": [
    "# Data Cleaning\n",
    "\n",
    "#features = [f for f in train.columns.values.tolist() if 'feature' in f]\n",
    "# create a dataset for NN based on a task\n",
    "trained =  trained.replace([np.inf, -np.inf], np.nan)\n",
    "valed = valed.replace([np.inf, -np.inf], np.nan)\n",
    "trained = trained.replace(np.nan, 0.5)\n",
    "valed = valed.replace(np.nan, 0.5)\n",
    "trained = trained.replace('', 0.5)\n",
    "valed = valed.replace('', 0.5)\n",
    "#train_set = {'X': train[features].values, 'y': train[CFG.TARGET].values}\n",
    "#valid_set = {'X': val[features].values, 'y': val[CFG.TARGET].values}  \n",
    "trained_set = {'X': trained[featured].values, 'y': trained[CFG.TARGET].values}\n",
    "valed_set = {'X': valed[featured].values, 'y': valed[CFG.TARGET].values}  \n",
    "\n",
    "print(trained_set)\n",
    "print(valed_set)"
   ]
  },
  {
   "cell_type": "code",
   "execution_count": 80,
   "metadata": {
    "id": "P7eCx-tI_wOu",
    "outputId": "1b2a2907-8339-457c-9a25-6cc84686e60b"
   },
   "outputs": [
    {
     "name": "stdout",
     "output_type": "stream",
     "text": [
      "Trial 20 Complete [00h 02m 15s]\n",
      "val_loss: 0.004410131834447384\n",
      "\n",
      "Best val_loss So Far: 0.004001830704510212\n",
      "Total elapsed time: 00h 42m 01s\n",
      "INFO:tensorflow:Oracle triggered exit\n"
     ]
    },
    {
     "name": "stderr",
     "output_type": "stream",
     "text": [
      "2021-05-30 22:19:17,879 INFO tensorflow: Oracle triggered exit\n",
      "Best hyperparameters:\n",
      "2021-05-30 22:19:18,381 INFO __main__: Best hyperparameters:\n",
      "{'num_units_1': 128, 'dropout_1': 0.5, 'num_layers': 1, 'num_units_2': 128, 'dropout_2': 0.5, 'learning_rate': 0.01, 'batch_size': 8192, 'num_units_3': 128, 'dropout_3': 0.5, 'num_units_4': 512, 'dropout_4': 0.5}\n",
      "2021-05-30 22:19:18,383 INFO __main__: {'num_units_1': 128, 'dropout_1': 0.5, 'num_layers': 1, 'num_units_2': 128, 'dropout_2': 0.5, 'learning_rate': 0.01, 'batch_size': 8192, 'num_units_3': 128, 'dropout_3': 0.5, 'num_units_4': 512, 'dropout_4': 0.5}\n"
     ]
    },
    {
     "name": "stdout",
     "output_type": "stream",
     "text": [
      "CPU times: user 3h 4min 36s, sys: 23min 45s, total: 3h 28min 22s\n",
      "Wall time: 42min 2s\n"
     ]
    }
   ],
   "source": [
    "%%time\n",
    "# Set to model met interaction variables (trained_set and valed_set from above used)\n",
    "#about 360 min with 108 variables on 2x Xeon e5-v2692 v2 and 120gb ddr3 ond dl360p gen8 server\n",
    "if CFG.TUNING:\n",
    "    # define a custom tuner to tune the batch size\n",
    "    class MyTuner(kt.tuners.BayesianOptimization):\n",
    "      def run_trial(self, trial, *args, **kwargs):\n",
    "        # You can add additional HyperParameters for preprocessing and custom training loops\n",
    "        # via overriding `run_trial`\n",
    "        kwargs['batch_size'] = trial.hyperparameters.Int('batch_size', 128, 8192, step=128)\n",
    "#         kwargs['epochs'] = trial.hyperparameters.Int('epochs', 10, 30)\n",
    "        super(MyTuner, self).run_trial(trial, *args, **kwargs)\n",
    "\n",
    "    # instantiate KerasTuner\n",
    "    model_ft = lambda hp: tuning_model(hp, params)\n",
    "    tuner = MyTuner(\n",
    "        hypermodel=model_ft,\n",
    "        objective=kt.Objective('val_loss', direction='min'),\n",
    "        num_initial_points=4,\n",
    "        max_trials=20,\n",
    "        overwrite=True)\n",
    "    \n",
    "    # perform tuning\n",
    "    tuner.search(trained_set['X'], trained_set['y'], \n",
    "                 epochs = 2, validation_data = (valed_set['X'], valed_set['y']))\n",
    "\n",
    "    # Get the optimal hyperparameters\n",
    "    best_hps = tuner.get_best_hyperparameters(num_trials = 1)[0]\n",
    "    \n",
    "    # Build the model with the optimal hyperparameters and train it on the data\n",
    "    model = tuner.hypermodel.build(best_hps)\n",
    "    \n",
    "    # disp best params\n",
    "    logger.info('Best hyperparameters:')\n",
    "    logger.info(best_hps.values)\n",
    "else:\n",
    "    # baseline (no tuning)\n",
    "    model = create_model(params)\n",
    "#23 minutes on server per 30 trials"
   ]
  },
  {
   "cell_type": "markdown",
   "metadata": {
    "id": "5YpJgsxR_wOv"
   },
   "source": [
    "Round 266:\n",
    "16 trials\n",
    "val_loss: 0.0042099845595657825\n",
    "Best val_loss So Far: 0.00406567333266139\n",
    "params = {\n",
    "    'input_dim': len(featured),#set to featured to use interaction variables, features to use origin\n",
    "    'input_dropout': 0.0,\n",
    "    'hidden_layers': 3,\n",
    "    'hidden_units': 166,#256\n",
    "    'hidden_activation': 'relu',\n",
    "    'lr': 1e-03,\n",
    "    'dropout': 0.2,\n",
    "    'batch_size': 128,\n",
    "    'epochs': 5#192\n",
    "Round 256:\n",
    "val_loss: 0.027023138478398323\n",
    "Best val_loss So Far: 0.023983798921108246\n",
    "\n"
   ]
  },
  {
   "cell_type": "code",
   "execution_count": 81,
   "metadata": {
    "id": "HsQ_yvKk_wOx",
    "outputId": "24ec7ba1-7c28-4001-920a-d601bdeff65a"
   },
   "outputs": [
    {
     "name": "stdout",
     "output_type": "stream",
     "text": [
      "Model: \"model\"\n",
      "_________________________________________________________________\n",
      "Layer (type)                 Output Shape              Param #   \n",
      "=================================================================\n",
      "input_1 (InputLayer)         [(None, 148)]             0         \n",
      "_________________________________________________________________\n",
      "batch_normalization (BatchNo (None, 148)               592       \n",
      "_________________________________________________________________\n",
      "dense (Dense)                (None, 128)               19072     \n",
      "_________________________________________________________________\n",
      "batch_normalization_1 (Batch (None, 128)               512       \n",
      "_________________________________________________________________\n",
      "dropout (Dropout)            (None, 128)               0         \n",
      "_________________________________________________________________\n",
      "dense_1 (Dense)              (None, 128)               16512     \n",
      "_________________________________________________________________\n",
      "batch_normalization_2 (Batch (None, 128)               512       \n",
      "_________________________________________________________________\n",
      "dropout_1 (Dropout)          (None, 128)               0         \n",
      "_________________________________________________________________\n",
      "out (Dense)                  (None, 1)                 129       \n",
      "=================================================================\n",
      "Total params: 37,329\n",
      "Trainable params: 36,521\n",
      "Non-trainable params: 808\n",
      "_________________________________________________________________\n"
     ]
    }
   ],
   "source": [
    "model.summary()"
   ]
  },
  {
   "cell_type": "markdown",
   "metadata": {
    "id": "ptyR3MLU_wOy"
   },
   "source": [
    "# Fit with the best model\n",
    "Let's use the model with the best hyperparameters (if tuned). \n",
    "\n",
    "Here I use **Early Stopping** such that the model does not overfit. \n",
    "\n",
    "As a learning rate scheduler, I use **ReduceLROnPlateau**.\n",
    "\n",
    "I do not submit the model prediction in this notebook, but to make the submission process a bit easier, I save the entire model!"
   ]
  },
  {
   "cell_type": "code",
   "execution_count": 82,
   "metadata": {
    "id": "O27vExYx_wO4",
    "outputId": "5d1012c0-5b67-4cce-e9e5-4c1804e834ba"
   },
   "outputs": [
    {
     "name": "stdout",
     "output_type": "stream",
     "text": [
      "Epoch 1/192\n",
      "62/62 - 7s - loss: 0.6652 - mse: 0.6652 - val_loss: 0.0082 - val_mse: 0.0082\n",
      "Epoch 2/192\n",
      "62/62 - 3s - loss: 0.0522 - mse: 0.0522 - val_loss: 0.0040 - val_mse: 0.0040\n",
      "Epoch 3/192\n",
      "62/62 - 3s - loss: 0.0500 - mse: 0.0500 - val_loss: 0.0040 - val_mse: 0.0040\n",
      "Epoch 4/192\n",
      "62/62 - 3s - loss: 0.0499 - mse: 0.0499 - val_loss: 0.0040 - val_mse: 0.0040\n",
      "Epoch 5/192\n",
      "62/62 - 3s - loss: 0.0499 - mse: 0.0499 - val_loss: 0.0040 - val_mse: 0.0040\n",
      "Epoch 6/192\n",
      "62/62 - 3s - loss: 0.0499 - mse: 0.0499 - val_loss: 0.0041 - val_mse: 0.0041\n",
      "Epoch 7/192\n",
      "62/62 - 3s - loss: 0.0499 - mse: 0.0499 - val_loss: 0.0040 - val_mse: 0.0040\n",
      "Epoch 8/192\n",
      "62/62 - 3s - loss: 0.0500 - mse: 0.0500 - val_loss: 0.0040 - val_mse: 0.0040\n",
      "Epoch 9/192\n",
      "62/62 - 3s - loss: 0.0500 - mse: 0.0500 - val_loss: 0.0040 - val_mse: 0.0040\n",
      "Epoch 10/192\n",
      "62/62 - 3s - loss: 0.0500 - mse: 0.0500 - val_loss: 0.0040 - val_mse: 0.0040\n",
      "\n",
      "Epoch 00010: ReduceLROnPlateau reducing learning rate to 0.0009999999776482583.\n",
      "Epoch 11/192\n",
      "62/62 - 3s - loss: 0.0499 - mse: 0.0499 - val_loss: 0.0040 - val_mse: 0.0040\n",
      "CPU times: user 11min 42s, sys: 42.4 s, total: 12min 24s\n",
      "Wall time: 34.7 s\n"
     ]
    }
   ],
   "source": [
    "%%time\n",
    "\n",
    "# callbacks\n",
    "es = tf.keras.callbacks.EarlyStopping(patience=8, restore_best_weights=True, monitor='val_loss')\n",
    "lr_scheduler = tf.keras.callbacks.ReduceLROnPlateau(monitor='val_loss', factor=0.1, patience=8, verbose=1, mode='min')\n",
    "# model_checkpoint_callback = tf.keras.callbacks.ModelCheckpoint(filepath='mybestweight.hdf5', save_weights_only=True, \n",
    "#                                                                verbose=0, monitor='val_loss', save_best_only=True)\n",
    "nn_callbacks = [es, lr_scheduler, ]\n",
    "\n",
    "# fit for interaction variables adjust train_set -> trained_set valid_set -> valed set\n",
    "history = model.fit(trained_set['X'], trained_set['y'], callbacks=nn_callbacks, \n",
    "                    verbose=2, epochs=params['epochs'], batch_size=best_hps.values['batch_size'], \n",
    "                    validation_data=(valed_set['X'], valed_set['y'])) \n",
    "\n",
    "# you can load the model for inference\n",
    "# model = tf.keras.models.load_model(CFG.OUTPUT_DIR + 'saved_model/my_model')"
   ]
  },
  {
   "cell_type": "code",
   "execution_count": 83,
   "metadata": {
    "id": "thsddCFm_wO5",
    "outputId": "841d5bcb-cc3e-45cb-f5c5-f53e58f3c3a5"
   },
   "outputs": [
    {
     "name": "stderr",
     "output_type": "stream",
     "text": [
      "Entire model saved!\n",
      "2021-05-30 22:19:53,241 INFO __main__: Entire model saved!\n"
     ]
    }
   ],
   "source": [
    "# save the entire model\n",
    "model.save(CFG.OUTPUT_DIR + 'my_model264.h5')\n",
    "logger.info('Entire model saved!')"
   ]
  },
  {
   "cell_type": "code",
   "execution_count": 84,
   "metadata": {
    "id": "-FWUx0Hh_wO5",
    "outputId": "006c399a-c360-4a7b-f8ba-5797a90640e6"
   },
   "outputs": [
    {
     "name": "stderr",
     "output_type": "stream",
     "text": [
      "2021-05-30 22:19:53,291 WARNING matplotlib.font_manager: findfont: Font family ['xkcd', 'xkcd Script', 'Humor Sans', 'Comic Neue', 'Comic Sans MS'] not found. Falling back to DejaVu Sans.\n",
      "2021-05-30 22:19:53,309 WARNING matplotlib.font_manager: findfont: Font family ['xkcd', 'xkcd Script', 'Humor Sans', 'Comic Neue', 'Comic Sans MS'] not found. Falling back to DejaVu Sans.\n"
     ]
    },
    {
     "data": {
      "image/png": "[encoded data removed]",
      "text/plain": [
       "<Figure size 432x288 with 1 Axes>"
      ]
     },
     "metadata": {},
     "output_type": "display_data"
    }
   ],
   "source": [
    "# summarize history for loss\n",
    "with plt.xkcd(): # just for fun\n",
    "    plt.plot(history.history['loss'])\n",
    "    plt.plot(history.history['val_loss'])\n",
    "    plt.title('model loss')\n",
    "    plt.ylabel('loss')\n",
    "    plt.xlabel('epoch')\n",
    "    plt.legend(['train', 'valid'], loc='upper left')\n",
    "    plt.show()"
   ]
  },
  {
   "cell_type": "markdown",
   "metadata": {
    "id": "FUcsG5DE_wO6"
   },
   "source": [
    "* # Validation Prediction"
   ]
  },
  {
   "cell_type": "code",
   "execution_count": 85,
   "metadata": {
    "id": "OKPNk2IH_wO6"
   },
   "outputs": [],
   "source": [
    "# prediction for valid\n",
    "pred = model.predict(valed_set['X']).ravel()"
   ]
  },
  {
   "cell_type": "code",
   "execution_count": 86,
   "metadata": {
    "id": "6MAByhXb_wO7",
    "outputId": "f79dfe58-39e9-41d7-f91a-5436c88d708a"
   },
   "outputs": [
    {
     "data": {
      "text/plain": [
       "<matplotlib.legend.Legend at 0x7f8ed0141b80>"
      ]
     },
     "execution_count": 86,
     "metadata": {},
     "output_type": "execute_result"
    },
    {
     "data": {
      "image/png": "[encoded data removed]",
      "text/plain": [
       "<Figure size 432x288 with 1 Axes>"
      ]
     },
     "metadata": {
      "needs_background": "light"
     },
     "output_type": "display_data"
    }
   ],
   "source": [
    "plt.hist(pred, alpha=0.4, label='prediction')\n",
    "plt.hist(valed_set['y'], alpha=0.4, label='actual target')\n",
    "plt.legend(frameon=False)"
   ]
  },
  {
   "cell_type": "code",
   "execution_count": 87,
   "metadata": {
    "id": "3VkOs1zL_wO8"
   },
   "outputs": [],
   "source": [
    "# naming conventions\n",
    "PREDICTION_NAME = 'prediction'\n",
    "TARGET_NAME = target\n",
    "# EXAMPLE_PRED = 'example_prediction'\n",
    "\n",
    "# ---------------------------\n",
    "# Functions\n",
    "# ---------------------------\n",
    "def valid4score(valid : pd.DataFrame, pred : np.ndarray, load_example: bool=True, save : bool=False) -> pd.DataFrame:\n",
    "    \"\"\"\n",
    "    Generate new valid pandas dataframe for computing scores\n",
    "    \n",
    "    :INPUT:\n",
    "    - valid : pd.DataFrame extracted from tournament data (data_type='validation')\n",
    "    \n",
    "    \"\"\"\n",
    "    valid_df = valid.copy()\n",
    "    valid_df['prediction'] = pd.Series(pred).rank(pct=True, method=\"first\")\n",
    "    valid_df.rename(columns={target: 'target'}, inplace=True)\n",
    "    \n",
    "    if load_example:\n",
    "        valid_df[EXAMPLE_PRED] = pd.read_csv(EXP_DIR + 'valid_df.csv')['prediction'].values\n",
    "    \n",
    "    if save==True:\n",
    "        valid_df.to_csv(OUTPUT_DIR + 'valid_df.csv', index=False)\n",
    "        print('Validation dataframe saved!')\n",
    "    \n",
    "    return valid_df\n",
    "\n",
    "def compute_corr(valid_df : pd.DataFrame):\n",
    "    \"\"\"\n",
    "    Compute rank correlation\n",
    "    \n",
    "    :INPUT:\n",
    "    - valid_df : pd.DataFrame where at least 2 columns ('prediction' & 'target') exist\n",
    "    \n",
    "    \"\"\"\n",
    "    \n",
    "    return np.corrcoef(valid_df[\"target\"], valid_df['prediction'])[0, 1]\n",
    "\n",
    "def compute_max_drawdown(validation_correlations : pd.Series):\n",
    "    \"\"\"\n",
    "    Compute max drawdown\n",
    "    \n",
    "    :INPUT:\n",
    "    - validation_correaltions : pd.Series\n",
    "    \"\"\"\n",
    "    \n",
    "    rolling_max = (validation_correlations + 1).cumprod().rolling(window=100, min_periods=1).max()\n",
    "    daily_value = (validation_correlations + 1).cumprod()\n",
    "    max_drawdown = -(rolling_max - daily_value).max()\n",
    "    \n",
    "    return max_drawdown\n",
    "\n",
    "def compute_val_corr(valid_df : pd.DataFrame):\n",
    "    \"\"\"\n",
    "    Compute rank correlation for valid periods\n",
    "    \n",
    "    :INPUT:\n",
    "    - valid_df : pd.DataFrame where at least 2 columns ('prediction' & 'target') exist\n",
    "    \"\"\"\n",
    "    \n",
    "    # all validation\n",
    "    correlation = compute_corr(valid_df)\n",
    "    print(\"rank corr = {:.4f}\".format(correlation))\n",
    "    return correlation\n",
    "    \n",
    "def compute_val_sharpe(valid_df : pd.DataFrame):\n",
    "    \"\"\"\n",
    "    Compute sharpe ratio for valid periods\n",
    "    \n",
    "    :INPUT:\n",
    "    - valid_df : pd.DataFrame where at least 2 columns ('prediction' & 'target') exist\n",
    "    \"\"\"\n",
    "    # all validation\n",
    "    d = valid_df.groupby('era')[['target', 'prediction']].corr().iloc[0::2,-1].reset_index()\n",
    "    me = d['prediction'].mean()\n",
    "    sd = d['prediction'].std()\n",
    "    max_drawdown = compute_max_drawdown(d['prediction'])\n",
    "    print('sharpe ratio = {:.4f}, corr mean = {:.4f}, corr std = {:.4f}, max drawdown = {:.4f}'.format(me / sd, me, sd, max_drawdown))\n",
    "    \n",
    "    return me / sd, me, sd, max_drawdown\n",
    "    \n",
    "def feature_exposures(valid_df : pd.DataFrame):\n",
    "    \"\"\"\n",
    "    Compute feature exposure\n",
    "    \n",
    "    :INPUT:\n",
    "    - valid_df : pd.DataFrame where at least 2 columns ('prediction' & 'target') exist\n",
    "    \"\"\"\n",
    "    feature_names = [f for f in valid_df.columns\n",
    "                     if f.startswith(\"feature\")]\n",
    "    exposures = []\n",
    "    for f in feature_names:\n",
    "        fe = spearmanr(valid_df['prediction'], valid_df[f])[0]\n",
    "        exposures.append(fe)\n",
    "    return np.array(exposures)\n",
    "\n",
    "def max_feature_exposure(fe : np.ndarray):\n",
    "    return np.max(np.abs(fe))\n",
    "\n",
    "def feature_exposure(fe : np.ndarray):\n",
    "    return np.sqrt(np.mean(np.square(fe)))\n",
    "\n",
    "def compute_val_feature_exposure(valid_df : pd.DataFrame):\n",
    "    \"\"\"\n",
    "    Compute feature exposure for valid periods\n",
    "    \n",
    "    :INPUT:\n",
    "    - valid_df : pd.DataFrame where at least 2 columns ('prediction' & 'target') exist\n",
    "    \"\"\"\n",
    "    # all validation\n",
    "    fe = feature_exposures(valid_df)\n",
    "    fe1, fe2 = feature_exposure(fe), max_feature_exposure(fe)\n",
    "    print('feature exposure = {:.4f}, max feature exposure = {:.4f}'.format(fe1, fe2))\n",
    "     \n",
    "    return fe1, fe2\n",
    "\n",
    "# to neutralize a column in a df by many other columns\n",
    "def neutralize(df, columns, by, proportion=1.0):\n",
    "    scores = df.loc[:, columns]\n",
    "    exposures = df[by].values\n",
    "\n",
    "    # constant column to make sure the series is completely neutral to exposures\n",
    "    exposures = np.hstack(\n",
    "        (exposures,\n",
    "         np.asarray(np.mean(scores)) * np.ones(len(exposures)).reshape(-1, 1)))\n",
    "\n",
    "    scores = scores - proportion * exposures.dot(\n",
    "        np.linalg.pinv(exposures).dot(scores))\n",
    "    return scores / scores.std()\n",
    "\n",
    "\n",
    "# to neutralize any series by any other series\n",
    "def neutralize_series(series, by, proportion=1.0):\n",
    "    scores = series.values.reshape(-1, 1)\n",
    "    exposures = by.values.reshape(-1, 1)\n",
    "\n",
    "    # this line makes series neutral to a constant column so that it's centered and for sure gets corr 0 with exposures\n",
    "    exposures = np.hstack(\n",
    "        (exposures,\n",
    "         np.array([np.mean(series)] * len(exposures)).reshape(-1, 1)))\n",
    "\n",
    "    correction = proportion * (exposures.dot(\n",
    "        np.linalg.lstsq(exposures, scores, rcond=None)[0]))\n",
    "    corrected_scores = scores - correction\n",
    "    neutralized = pd.Series(corrected_scores.ravel(), index=series.index)\n",
    "    return neutralized\n",
    "\n",
    "\n",
    "def unif(df):\n",
    "    x = (df.rank(method=\"first\") - 0.5) / len(df)\n",
    "    return pd.Series(x, index=df.index)\n",
    "\n",
    "def get_feature_neutral_mean(df):\n",
    "    feature_cols = [c for c in df.columns if c.startswith(\"feature\")]\n",
    "    df.loc[:, \"neutral_sub\"] = neutralize(df, [PREDICTION_NAME],\n",
    "                                          feature_cols)[PREDICTION_NAME]\n",
    "    scores = df.groupby(\"era\").apply(\n",
    "        lambda x: np.corrcoef(x[\"neutral_sub\"].rank(pct=True, method=\"first\"), x[TARGET_NAME])).mean()\n",
    "    return np.mean(scores)\n",
    "\n",
    "def compute_val_mmc(valid_df : pd.DataFrame):    \n",
    "    # MMC over validation\n",
    "    mmc_scores = []\n",
    "    corr_scores = []\n",
    "    for _, x in valid_df.groupby(\"era\"):\n",
    "        series = neutralize_series(pd.Series(unif(x[PREDICTION_NAME])),\n",
    "                                   pd.Series(unif(x[EXAMPLE_PRED])))\n",
    "        mmc_scores.append(np.cov(series, x[TARGET_NAME])[0, 1] / (0.29 ** 2))\n",
    "        corr_scores.append(np.corrcoef(unif(x[PREDICTION_NAME]).rank(pct=True, method=\"first\"), x[TARGET_NAME]))\n",
    "\n",
    "    val_mmc_mean = np.mean(mmc_scores)\n",
    "    val_mmc_std = np.std(mmc_scores)\n",
    "    val_mmc_sharpe = val_mmc_mean / val_mmc_std\n",
    "    corr_plus_mmcs = [c + m for c, m in zip(corr_scores, mmc_scores)]\n",
    "    corr_plus_mmc_sharpe = np.mean(corr_plus_mmcs) / np.std(corr_plus_mmcs)\n",
    "    corr_plus_mmc_mean = np.mean(corr_plus_mmcs)\n",
    "\n",
    "    print(\"MMC Mean = {:.6f}, MMC Std = {:.6f}, CORR+MMC Sharpe = {:.4f}\".format(val_mmc_mean, val_mmc_std, corr_plus_mmc_sharpe))\n",
    "\n",
    "    # Check correlation with example predictions\n",
    "    corr_with_example_preds = np.corrcoef(valid_df[EXAMPLE_PRED].rank(pct=True, method=\"first\"),\n",
    "                                          valid_df[PREDICTION_NAME].rank(pct=True, method=\"first\"))[0, 1]\n",
    "    print(\"Corr with example preds: {:.4f}\".format(corr_with_example_preds))\n",
    "    \n",
    "    return val_mmc_mean, val_mmc_std, corr_plus_mmc_sharpe, corr_with_example_preds\n",
    "    \n",
    "def score_summary(valid_df : pd.DataFrame):\n",
    "    score_df = {}\n",
    "    \n",
    "    try:\n",
    "        score_df['correlation'] = compute_val_corr(valid_df)\n",
    "    except:\n",
    "        print('ERR: computing correlation')\n",
    "    try:\n",
    "        score_df['corr_sharpe'], score_df['corr_mean'], score_df['corr_std'], score_df['max_drawdown'] = compute_val_sharpe(valid_df)\n",
    "    except:\n",
    "        print('ERR: computing sharpe')\n",
    "    try:\n",
    "        score_df['feature_exposure'], score_df['max_feature_exposure'] = compute_val_feature_exposure(valid_df)\n",
    "    except:\n",
    "        print('ERR: computing feature exposure')\n",
    "    try:\n",
    "        score_df['mmc_mean'], score_df['mmc_std'], score_df['corr_mmc_sharpe'], score_df['corr_with_example_xgb'] = compute_val_mmc(valid_df)\n",
    "    except:\n",
    "        print('ERR: computing MMC')\n",
    "    \n",
    "    return pd.DataFrame.from_dict(score_df, orient='index')"
   ]
  },
  {
   "cell_type": "code",
   "execution_count": 88,
   "metadata": {
    "id": "-GGuCqPm_wO8"
   },
   "outputs": [],
   "source": [
    "#valed = tested[tested[\"data_type\"] == \"validation\"].reset_index(drop = True)\n",
    "# validation split\n",
    "valed.loc[valed[\"era\"] > 180, \"valid2\"] = True \n",
    "valed.loc[valed[\"era\"] <= 180, \"valid2\"] = False "
   ]
  },
  {
   "cell_type": "code",
   "execution_count": 89,
   "metadata": {
    "id": "Hig_3cOb_wO9",
    "outputId": "c98405c0-5bcc-40c4-9cfb-ac4e7e7abc15"
   },
   "outputs": [
    {
     "name": "stdout",
     "output_type": "stream",
     "text": [
      "------------------\n",
      "ALL:\n",
      "------------------\n",
      "rank corr = 0.0015\n",
      "sharpe ratio = 0.2445, corr mean = 0.0057, corr std = 0.0234, max drawdown = -0.0856\n",
      "feature exposure = 0.1929, max feature exposure = 0.5173\n",
      "ERR: computing MMC\n",
      "------------------\n",
      "VALID 1:\n",
      "------------------\n",
      "rank corr = 0.0161\n",
      "sharpe ratio = 0.6970, corr mean = 0.0161, corr std = 0.0231, max drawdown = -0.0241\n",
      "feature exposure = 0.1956, max feature exposure = 0.5208\n",
      "ERR: computing MMC\n",
      "------------------\n",
      "VALID 2:\n",
      "------------------\n",
      "rank corr = -0.0005\n",
      "sharpe ratio = -0.0984, corr mean = -0.0021, corr std = 0.0211, max drawdown = -0.0709\n",
      "feature exposure = 0.1928, max feature exposure = 0.5172\n",
      "ERR: computing MMC\n"
     ]
    }
   ],
   "source": [
    "#Results of NN\n",
    "valid_df = valid4score(valed, pred, load_example=False, save=False)\n",
    "\n",
    "# scores\n",
    "score_df = pd.DataFrame()\n",
    "print('------------------')\n",
    "print('ALL:')\n",
    "print('------------------')\n",
    "all_ = score_summary(valid_df).rename(columns={0: 'all'})\n",
    "\n",
    "print('------------------')\n",
    "print('VALID 1:')\n",
    "print('------------------')\n",
    "val1_ = score_summary(valid_df.query('era < 150')).rename(columns={0: 'val1'})\n",
    "\n",
    "print('------------------')\n",
    "print('VALID 2:')\n",
    "print('------------------')\n",
    "val2_ = score_summary(valid_df.query('era > 150')).rename(columns={0: 'val2'})\n",
    "#add validation split back from graveyard"
   ]
  },
  {
   "cell_type": "code",
   "execution_count": 90,
   "metadata": {
    "id": "SksTV9Ox_wO-",
    "outputId": "fdd20235-3ab1-4654-8389-7d2d93e258f0"
   },
   "outputs": [
    {
     "data": {
      "text/html": [
       "<style  type=\"text/css\" >\n",
       "#T_09870_row0_col0{\n",
       "            background-color:  #46337f;\n",
       "            color:  #f1f1f1;\n",
       "        }#T_09870_row0_col1,#T_09870_row2_col1{\n",
       "            background-color:  #481668;\n",
       "            color:  #f1f1f1;\n",
       "        }#T_09870_row0_col2,#T_09870_row2_col2{\n",
       "            background-color:  #453781;\n",
       "            color:  #f1f1f1;\n",
       "        }#T_09870_row1_col0{\n",
       "            background-color:  #1e9c89;\n",
       "            color:  #000000;\n",
       "        }#T_09870_row1_col1,#T_09870_row6_col0,#T_09870_row6_col2{\n",
       "            background-color:  #fde725;\n",
       "            color:  #000000;\n",
       "        }#T_09870_row1_col2,#T_09870_row4_col0,#T_09870_row4_col1{\n",
       "            background-color:  #440154;\n",
       "            color:  #f1f1f1;\n",
       "        }#T_09870_row2_col0{\n",
       "            background-color:  #463480;\n",
       "            color:  #f1f1f1;\n",
       "        }#T_09870_row3_col0{\n",
       "            background-color:  #433e85;\n",
       "            color:  #f1f1f1;\n",
       "        }#T_09870_row3_col1{\n",
       "            background-color:  #48186a;\n",
       "            color:  #f1f1f1;\n",
       "        }#T_09870_row3_col2{\n",
       "            background-color:  #424186;\n",
       "            color:  #f1f1f1;\n",
       "        }#T_09870_row4_col2{\n",
       "            background-color:  #471164;\n",
       "            color:  #f1f1f1;\n",
       "        }#T_09870_row5_col0{\n",
       "            background-color:  #24878e;\n",
       "            color:  #000000;\n",
       "        }#T_09870_row5_col1{\n",
       "            background-color:  #34608d;\n",
       "            color:  #f1f1f1;\n",
       "        }#T_09870_row5_col2{\n",
       "            background-color:  #238a8d;\n",
       "            color:  #000000;\n",
       "        }#T_09870_row6_col1{\n",
       "            background-color:  #60ca60;\n",
       "            color:  #000000;\n",
       "        }</style><table id=\"T_09870_\" ><thead>    <tr>        <th class=\"blank level0\" ></th>        <th class=\"col_heading level0 col0\" >all</th>        <th class=\"col_heading level0 col1\" >val1</th>        <th class=\"col_heading level0 col2\" >val2</th>    </tr></thead><tbody>\n",
       "                <tr>\n",
       "                        <th id=\"T_09870_level0_row0\" class=\"row_heading level0 row0\" >correlation</th>\n",
       "                        <td id=\"T_09870_row0_col0\" class=\"data row0 col0\" >0.001528</td>\n",
       "                        <td id=\"T_09870_row0_col1\" class=\"data row0 col1\" >0.016135</td>\n",
       "                        <td id=\"T_09870_row0_col2\" class=\"data row0 col2\" >-0.000472</td>\n",
       "            </tr>\n",
       "            <tr>\n",
       "                        <th id=\"T_09870_level0_row1\" class=\"row_heading level0 row1\" >corr_sharpe</th>\n",
       "                        <td id=\"T_09870_row1_col0\" class=\"data row1 col0\" >0.244456</td>\n",
       "                        <td id=\"T_09870_row1_col1\" class=\"data row1 col1\" >0.697038</td>\n",
       "                        <td id=\"T_09870_row1_col2\" class=\"data row1 col2\" >-0.098397</td>\n",
       "            </tr>\n",
       "            <tr>\n",
       "                        <th id=\"T_09870_level0_row2\" class=\"row_heading level0 row2\" >corr_mean</th>\n",
       "                        <td id=\"T_09870_row2_col0\" class=\"data row2 col0\" >0.005728</td>\n",
       "                        <td id=\"T_09870_row2_col1\" class=\"data row2 col1\" >0.016131</td>\n",
       "                        <td id=\"T_09870_row2_col2\" class=\"data row2 col2\" >-0.002074</td>\n",
       "            </tr>\n",
       "            <tr>\n",
       "                        <th id=\"T_09870_level0_row3\" class=\"row_heading level0 row3\" >corr_std</th>\n",
       "                        <td id=\"T_09870_row3_col0\" class=\"data row3 col0\" >0.023433</td>\n",
       "                        <td id=\"T_09870_row3_col1\" class=\"data row3 col1\" >0.023142</td>\n",
       "                        <td id=\"T_09870_row3_col2\" class=\"data row3 col2\" >0.021074</td>\n",
       "            </tr>\n",
       "            <tr>\n",
       "                        <th id=\"T_09870_level0_row4\" class=\"row_heading level0 row4\" >max_drawdown</th>\n",
       "                        <td id=\"T_09870_row4_col0\" class=\"data row4 col0\" >-0.085617</td>\n",
       "                        <td id=\"T_09870_row4_col1\" class=\"data row4 col1\" >-0.024084</td>\n",
       "                        <td id=\"T_09870_row4_col2\" class=\"data row4 col2\" >-0.070860</td>\n",
       "            </tr>\n",
       "            <tr>\n",
       "                        <th id=\"T_09870_level0_row5\" class=\"row_heading level0 row5\" >feature_exposure</th>\n",
       "                        <td id=\"T_09870_row5_col0\" class=\"data row5 col0\" >0.192876</td>\n",
       "                        <td id=\"T_09870_row5_col1\" class=\"data row5 col1\" >0.195626</td>\n",
       "                        <td id=\"T_09870_row5_col2\" class=\"data row5 col2\" >0.192800</td>\n",
       "            </tr>\n",
       "            <tr>\n",
       "                        <th id=\"T_09870_level0_row6\" class=\"row_heading level0 row6\" >max_feature_exposure</th>\n",
       "                        <td id=\"T_09870_row6_col0\" class=\"data row6 col0\" >0.517305</td>\n",
       "                        <td id=\"T_09870_row6_col1\" class=\"data row6 col1\" >0.520759</td>\n",
       "                        <td id=\"T_09870_row6_col2\" class=\"data row6 col2\" >0.517185</td>\n",
       "            </tr>\n",
       "    </tbody></table>"
      ],
      "text/plain": [
       "<pandas.io.formats.style.Styler at 0x7f8e8802fc70>"
      ]
     },
     "execution_count": 90,
     "metadata": {},
     "output_type": "execute_result"
    }
   ],
   "source": [
    "# scores\n",
    "score_df = pd.concat([all_, val1_, val2_], axis=1)\n",
    "score_df.style.background_gradient(cmap='viridis', axis=0)"
   ]
  },
  {
   "cell_type": "code",
   "execution_count": 91,
   "metadata": {
    "id": "NPUje22p_wO-",
    "outputId": "da92ecda-ccc8-428c-ed34-115dfc973fa0"
   },
   "outputs": [
    {
     "name": "stdout",
     "output_type": "stream",
     "text": [
      "[[0.49509746]\n",
      " [0.50063044]\n",
      " [0.50680727]\n",
      " [0.5052201 ]\n",
      " [0.5044276 ]]\n",
      "                 id  prediction\n",
      "0  n0003aa52cab36c2    0.007444\n",
      "1  n000920ed083903f    0.314304\n",
      "2  n0038e640522c4a6    0.905079\n",
      "3  n004ac94a87dc54b    0.814453\n",
      "4  n0052fe97ea0c05f    0.750395\n"
     ]
    },
    {
     "data": {
      "image/png": "[encoded data removed]",
      "text/plain": [
       "<Figure size 432x288 with 1 Axes>"
      ]
     },
     "metadata": {
      "needs_background": "light"
     },
     "output_type": "display_data"
    }
   ],
   "source": [
    "OUTPUT_DIR = str(current_ds)\n",
    "# prediction\n",
    "pred = model.predict(tested[featured].fillna(0.5))\n",
    "plt.hist(pred);\n",
    "predictions_df = test[\"id\"].to_frame()\n",
    "\n",
    "predictions_df[PREDICTION_NAME] = pred\n",
    "print(pred[0:5])\n",
    "# to rank\n",
    "predictions_df[PREDICTION_NAME] = predictions_df[PREDICTION_NAME].rank(pct=True, method=\"first\")\n",
    "predictions_df = predictions_df.fillna(0.5)\n",
    "print(predictions_df[0:5])\n"
   ]
  },
  {
   "cell_type": "code",
   "execution_count": 92,
   "metadata": {
    "id": "BZV4aqXr_wO_"
   },
   "outputs": [],
   "source": [
    "predictions_df.to_csv(OUTPUT_DIR + 'predictions_MLP_develusem.csv',index=False)"
   ]
  },
  {
   "cell_type": "code",
   "execution_count": 93,
   "metadata": {
    "id": "-RxLpwXD_wO_"
   },
   "outputs": [],
   "source": [
    "\n",
    "#predictions_df.to_csv(pathlib.Path(OUTPUT_DIR + f\"_predictions_MLP_develusem.csv\"), index=False)\n",
    "    "
   ]
  },
  {
   "cell_type": "code",
   "execution_count": 94,
   "metadata": {
    "id": "zVfCNAfz_wO_",
    "outputId": "88753e5c-cb89-44ea-bcc6-32a8497372ea"
   },
   "outputs": [
    {
     "name": "stdout",
     "output_type": "stream",
     "text": [
      "1731016\n"
     ]
    }
   ],
   "source": [
    "print(len(pred))"
   ]
  },
  {
   "cell_type": "markdown",
   "metadata": {
    "id": "ru7aq7G6_wO_"
   },
   "source": [
    "XGBoostもLightGBM GBDT (Gradient Boosting Decision Tree)\n",
    "\n",
    "[](https://nykergoto.hatenablog.jp/entry/2019/03/29/%E5%8B%BE%E9%85%8D%E3%83%96%E3%83%BC%E3%82%B9%E3%83%86%E3%82%A3%E3%83%B3%E3%82%B0%E3%81%A7%E5%A4%A7%E4%BA%8B%E3%81%AA%E3%83%91%E3%83%A9%E3%83%A1%E3%83%BC%E3%82%BF%E3%81%AE%E6%B0%97%E6%8C%81%E3%81%A1)"
   ]
  },
  {
   "cell_type": "code",
   "execution_count": 95,
   "metadata": {
    "id": "neZCxFe8_wPB",
    "outputId": "021a9863-4e8d-4456-eb31-e840517dacf6"
   },
   "outputs": [
    {
     "name": "stdout",
     "output_type": "stream",
     "text": [
      "CPU times: user 3min 48s, sys: 192 ms, total: 3min 48s\n",
      "Wall time: 3min 45s\n"
     ]
    },
    {
     "data": {
      "text/plain": [
       "LGBMRegressor(feature_fraction=0.1, learning_rate=0.01, max_depth=6,\n",
       "              n_estimators=4000, objective='regression', seed=42)"
      ]
     },
     "execution_count": 95,
     "metadata": {},
     "output_type": "execute_result"
    }
   ],
   "source": [
    "%%time\n",
    "# This is a hugh winner, scored above 0.10\n",
    "# create a model and fit（LGB）\n",
    "params = {\n",
    "            'n_estimators': 4000,#2000\n",
    "            'objective': 'regression',\n",
    "            'boosting_type': 'gbdt',\n",
    "            'max_depth': 6,#5\n",
    "            'learning_rate': 0.01,#0.01\n",
    "            'feature_fraction': 0.1,\n",
    "            'seed': 42\n",
    "            }    \n",
    "model = lgb.LGBMRegressor(**params)\n",
    "model.fit(trained[featured], trained['target'])"
   ]
  },
  {
   "cell_type": "code",
   "execution_count": 108,
   "metadata": {
    "id": "Hb_PgyOe_wPB"
   },
   "outputs": [
    {
     "name": "stdout",
     "output_type": "stream",
     "text": [
      "model saved!\n"
     ]
    }
   ],
   "source": [
    "# save model（）\n",
    "joblib.dump(model, 'my_lightgbm266.joblib') \n",
    "print('model saved!')"
   ]
  },
  {
   "cell_type": "markdown",
   "metadata": {
    "id": "XzZBH4Z__wPC"
   },
   "source": [
    "# Feature importance\n"
   ]
  },
  {
   "cell_type": "code",
   "execution_count": 97,
   "metadata": {
    "id": "4jRb9eJF_wPC",
    "outputId": "62ceb186-ddb3-4a15-89ef-075a24fb4efb"
   },
   "outputs": [
    {
     "data": {
      "text/html": [
       "<style  type=\"text/css\" >\n",
       "#T_784d7_row0_col0{\n",
       "            background-color:  #fde725;\n",
       "            color:  #000000;\n",
       "        }#T_784d7_row1_col0{\n",
       "            background-color:  #23a983;\n",
       "            color:  #000000;\n",
       "        }#T_784d7_row2_col0{\n",
       "            background-color:  #1fa188;\n",
       "            color:  #000000;\n",
       "        }#T_784d7_row3_col0,#T_784d7_row4_col0{\n",
       "            background-color:  #1fa088;\n",
       "            color:  #000000;\n",
       "        }#T_784d7_row5_col0{\n",
       "            background-color:  #1f9f88;\n",
       "            color:  #000000;\n",
       "        }#T_784d7_row6_col0,#T_784d7_row7_col0,#T_784d7_row8_col0{\n",
       "            background-color:  #1f9e89;\n",
       "            color:  #000000;\n",
       "        }#T_784d7_row9_col0{\n",
       "            background-color:  #1e9d89;\n",
       "            color:  #000000;\n",
       "        }#T_784d7_row10_col0{\n",
       "            background-color:  #1f988b;\n",
       "            color:  #000000;\n",
       "        }#T_784d7_row11_col0{\n",
       "            background-color:  #1f978b;\n",
       "            color:  #000000;\n",
       "        }#T_784d7_row12_col0,#T_784d7_row13_col0,#T_784d7_row14_col0{\n",
       "            background-color:  #1f968b;\n",
       "            color:  #000000;\n",
       "        }#T_784d7_row15_col0,#T_784d7_row16_col0,#T_784d7_row17_col0{\n",
       "            background-color:  #20938c;\n",
       "            color:  #000000;\n",
       "        }#T_784d7_row18_col0{\n",
       "            background-color:  #20928c;\n",
       "            color:  #000000;\n",
       "        }#T_784d7_row19_col0{\n",
       "            background-color:  #21918c;\n",
       "            color:  #000000;\n",
       "        }#T_784d7_row20_col0,#T_784d7_row21_col0,#T_784d7_row22_col0{\n",
       "            background-color:  #21908d;\n",
       "            color:  #000000;\n",
       "        }#T_784d7_row23_col0{\n",
       "            background-color:  #218e8d;\n",
       "            color:  #000000;\n",
       "        }#T_784d7_row24_col0{\n",
       "            background-color:  #228b8d;\n",
       "            color:  #000000;\n",
       "        }#T_784d7_row25_col0,#T_784d7_row26_col0,#T_784d7_row27_col0,#T_784d7_row28_col0{\n",
       "            background-color:  #238a8d;\n",
       "            color:  #000000;\n",
       "        }#T_784d7_row29_col0,#T_784d7_row30_col0{\n",
       "            background-color:  #23898e;\n",
       "            color:  #000000;\n",
       "        }#T_784d7_row31_col0,#T_784d7_row32_col0,#T_784d7_row33_col0{\n",
       "            background-color:  #24878e;\n",
       "            color:  #000000;\n",
       "        }#T_784d7_row34_col0{\n",
       "            background-color:  #24868e;\n",
       "            color:  #000000;\n",
       "        }#T_784d7_row35_col0,#T_784d7_row36_col0,#T_784d7_row37_col0{\n",
       "            background-color:  #25858e;\n",
       "            color:  #000000;\n",
       "        }#T_784d7_row38_col0{\n",
       "            background-color:  #25848e;\n",
       "            color:  #000000;\n",
       "        }#T_784d7_row39_col0,#T_784d7_row40_col0{\n",
       "            background-color:  #25838e;\n",
       "            color:  #000000;\n",
       "        }#T_784d7_row41_col0,#T_784d7_row42_col0,#T_784d7_row43_col0{\n",
       "            background-color:  #26828e;\n",
       "            color:  #000000;\n",
       "        }#T_784d7_row44_col0,#T_784d7_row45_col0{\n",
       "            background-color:  #26818e;\n",
       "            color:  #000000;\n",
       "        }#T_784d7_row46_col0,#T_784d7_row47_col0,#T_784d7_row48_col0{\n",
       "            background-color:  #27808e;\n",
       "            color:  #000000;\n",
       "        }#T_784d7_row49_col0,#T_784d7_row50_col0{\n",
       "            background-color:  #277f8e;\n",
       "            color:  #000000;\n",
       "        }#T_784d7_row51_col0,#T_784d7_row52_col0,#T_784d7_row53_col0{\n",
       "            background-color:  #287d8e;\n",
       "            color:  #000000;\n",
       "        }#T_784d7_row54_col0{\n",
       "            background-color:  #287c8e;\n",
       "            color:  #000000;\n",
       "        }#T_784d7_row55_col0,#T_784d7_row56_col0,#T_784d7_row57_col0,#T_784d7_row58_col0{\n",
       "            background-color:  #297b8e;\n",
       "            color:  #000000;\n",
       "        }#T_784d7_row59_col0,#T_784d7_row60_col0,#T_784d7_row61_col0{\n",
       "            background-color:  #297a8e;\n",
       "            color:  #000000;\n",
       "        }#T_784d7_row62_col0,#T_784d7_row63_col0,#T_784d7_row64_col0{\n",
       "            background-color:  #29798e;\n",
       "            color:  #000000;\n",
       "        }#T_784d7_row65_col0,#T_784d7_row66_col0,#T_784d7_row67_col0{\n",
       "            background-color:  #2a778e;\n",
       "            color:  #000000;\n",
       "        }#T_784d7_row68_col0{\n",
       "            background-color:  #2b758e;\n",
       "            color:  #f1f1f1;\n",
       "        }#T_784d7_row69_col0{\n",
       "            background-color:  #2b748e;\n",
       "            color:  #f1f1f1;\n",
       "        }#T_784d7_row70_col0,#T_784d7_row71_col0{\n",
       "            background-color:  #2c728e;\n",
       "            color:  #f1f1f1;\n",
       "        }#T_784d7_row72_col0{\n",
       "            background-color:  #2e6f8e;\n",
       "            color:  #f1f1f1;\n",
       "        }#T_784d7_row73_col0{\n",
       "            background-color:  #2e6e8e;\n",
       "            color:  #f1f1f1;\n",
       "        }#T_784d7_row74_col0{\n",
       "            background-color:  #2f6c8e;\n",
       "            color:  #f1f1f1;\n",
       "        }#T_784d7_row75_col0{\n",
       "            background-color:  #306a8e;\n",
       "            color:  #f1f1f1;\n",
       "        }#T_784d7_row76_col0{\n",
       "            background-color:  #32658e;\n",
       "            color:  #f1f1f1;\n",
       "        }#T_784d7_row77_col0,#T_784d7_row78_col0,#T_784d7_row79_col0{\n",
       "            background-color:  #32648e;\n",
       "            color:  #f1f1f1;\n",
       "        }#T_784d7_row80_col0{\n",
       "            background-color:  #365c8d;\n",
       "            color:  #f1f1f1;\n",
       "        }#T_784d7_row81_col0{\n",
       "            background-color:  #39558c;\n",
       "            color:  #f1f1f1;\n",
       "        }#T_784d7_row82_col0,#T_784d7_row83_col0{\n",
       "            background-color:  #3d4e8a;\n",
       "            color:  #f1f1f1;\n",
       "        }#T_784d7_row84_col0{\n",
       "            background-color:  #423f85;\n",
       "            color:  #f1f1f1;\n",
       "        }#T_784d7_row85_col0{\n",
       "            background-color:  #453581;\n",
       "            color:  #f1f1f1;\n",
       "        }#T_784d7_row86_col0{\n",
       "            background-color:  #46337f;\n",
       "            color:  #f1f1f1;\n",
       "        }#T_784d7_row87_col0{\n",
       "            background-color:  #46327e;\n",
       "            color:  #f1f1f1;\n",
       "        }#T_784d7_row88_col0,#T_784d7_row89_col0,#T_784d7_row90_col0{\n",
       "            background-color:  #472a7a;\n",
       "            color:  #f1f1f1;\n",
       "        }#T_784d7_row91_col0{\n",
       "            background-color:  #482979;\n",
       "            color:  #f1f1f1;\n",
       "        }#T_784d7_row92_col0{\n",
       "            background-color:  #482576;\n",
       "            color:  #f1f1f1;\n",
       "        }#T_784d7_row93_col0,#T_784d7_row94_col0,#T_784d7_row95_col0,#T_784d7_row96_col0{\n",
       "            background-color:  #482475;\n",
       "            color:  #f1f1f1;\n",
       "        }#T_784d7_row97_col0,#T_784d7_row98_col0,#T_784d7_row99_col0,#T_784d7_row100_col0,#T_784d7_row101_col0{\n",
       "            background-color:  #482173;\n",
       "            color:  #f1f1f1;\n",
       "        }#T_784d7_row102_col0{\n",
       "            background-color:  #482071;\n",
       "            color:  #f1f1f1;\n",
       "        }#T_784d7_row103_col0,#T_784d7_row104_col0,#T_784d7_row105_col0,#T_784d7_row106_col0{\n",
       "            background-color:  #481d6f;\n",
       "            color:  #f1f1f1;\n",
       "        }#T_784d7_row107_col0,#T_784d7_row108_col0{\n",
       "            background-color:  #481c6e;\n",
       "            color:  #f1f1f1;\n",
       "        }#T_784d7_row109_col0{\n",
       "            background-color:  #481b6d;\n",
       "            color:  #f1f1f1;\n",
       "        }#T_784d7_row110_col0,#T_784d7_row111_col0,#T_784d7_row112_col0,#T_784d7_row113_col0,#T_784d7_row114_col0,#T_784d7_row115_col0{\n",
       "            background-color:  #481a6c;\n",
       "            color:  #f1f1f1;\n",
       "        }#T_784d7_row116_col0,#T_784d7_row117_col0,#T_784d7_row118_col0,#T_784d7_row119_col0{\n",
       "            background-color:  #481769;\n",
       "            color:  #f1f1f1;\n",
       "        }#T_784d7_row120_col0,#T_784d7_row121_col0,#T_784d7_row122_col0{\n",
       "            background-color:  #481668;\n",
       "            color:  #f1f1f1;\n",
       "        }#T_784d7_row123_col0,#T_784d7_row124_col0{\n",
       "            background-color:  #481467;\n",
       "            color:  #f1f1f1;\n",
       "        }#T_784d7_row125_col0,#T_784d7_row126_col0,#T_784d7_row127_col0,#T_784d7_row128_col0,#T_784d7_row129_col0{\n",
       "            background-color:  #471365;\n",
       "            color:  #f1f1f1;\n",
       "        }#T_784d7_row130_col0,#T_784d7_row131_col0,#T_784d7_row132_col0{\n",
       "            background-color:  #471164;\n",
       "            color:  #f1f1f1;\n",
       "        }#T_784d7_row133_col0,#T_784d7_row134_col0,#T_784d7_row135_col0{\n",
       "            background-color:  #471063;\n",
       "            color:  #f1f1f1;\n",
       "        }#T_784d7_row136_col0,#T_784d7_row137_col0{\n",
       "            background-color:  #470e61;\n",
       "            color:  #f1f1f1;\n",
       "        }#T_784d7_row138_col0,#T_784d7_row139_col0,#T_784d7_row140_col0{\n",
       "            background-color:  #470d60;\n",
       "            color:  #f1f1f1;\n",
       "        }#T_784d7_row141_col0,#T_784d7_row142_col0{\n",
       "            background-color:  #460b5e;\n",
       "            color:  #f1f1f1;\n",
       "        }#T_784d7_row143_col0,#T_784d7_row144_col0{\n",
       "            background-color:  #460a5d;\n",
       "            color:  #f1f1f1;\n",
       "        }#T_784d7_row145_col0{\n",
       "            background-color:  #46075a;\n",
       "            color:  #f1f1f1;\n",
       "        }#T_784d7_row146_col0{\n",
       "            background-color:  #450457;\n",
       "            color:  #f1f1f1;\n",
       "        }#T_784d7_row147_col0{\n",
       "            background-color:  #440154;\n",
       "            color:  #f1f1f1;\n",
       "        }</style><table id=\"T_784d7_\" ><thead>    <tr>        <th class=\"blank level0\" ></th>        <th class=\"col_heading level0 col0\" >importance</th>    </tr></thead><tbody>\n",
       "                <tr>\n",
       "                        <th id=\"T_784d7_level0_row0\" class=\"row_heading level0 row0\" >feature_constitution_mean</th>\n",
       "                        <td id=\"T_784d7_row0_col0\" class=\"data row0 col0\" >2426</td>\n",
       "            </tr>\n",
       "            <tr>\n",
       "                        <th id=\"T_784d7_level0_row1\" class=\"row_heading level0 row1\" >feature_strength_mean</th>\n",
       "                        <td id=\"T_784d7_row1_col0\" class=\"data row1 col0\" >1522</td>\n",
       "            </tr>\n",
       "            <tr>\n",
       "                        <th id=\"T_784d7_level0_row2\" class=\"row_heading level0 row2\" >feature_4_std</th>\n",
       "                        <td id=\"T_784d7_row2_col0\" class=\"data row2 col0\" >1444</td>\n",
       "            </tr>\n",
       "            <tr>\n",
       "                        <th id=\"T_784d7_level0_row3\" class=\"row_heading level0 row3\" >feature_charisma_mean</th>\n",
       "                        <td id=\"T_784d7_row3_col0\" class=\"data row3 col0\" >1440</td>\n",
       "            </tr>\n",
       "            <tr>\n",
       "                        <th id=\"T_784d7_level0_row4\" class=\"row_heading level0 row4\" >feature_1_mean</th>\n",
       "                        <td id=\"T_784d7_row4_col0\" class=\"data row4 col0\" >1435</td>\n",
       "            </tr>\n",
       "            <tr>\n",
       "                        <th id=\"T_784d7_level0_row5\" class=\"row_heading level0 row5\" >feature_10_std</th>\n",
       "                        <td id=\"T_784d7_row5_col0\" class=\"data row5 col0\" >1425</td>\n",
       "            </tr>\n",
       "            <tr>\n",
       "                        <th id=\"T_784d7_level0_row6\" class=\"row_heading level0 row6\" >feature_constitution_skew</th>\n",
       "                        <td id=\"T_784d7_row6_col0\" class=\"data row6 col0\" >1422</td>\n",
       "            </tr>\n",
       "            <tr>\n",
       "                        <th id=\"T_784d7_level0_row7\" class=\"row_heading level0 row7\" >feature_wisdom_kurt</th>\n",
       "                        <td id=\"T_784d7_row7_col0\" class=\"data row7 col0\" >1421</td>\n",
       "            </tr>\n",
       "            <tr>\n",
       "                        <th id=\"T_784d7_level0_row8\" class=\"row_heading level0 row8\" >feature_wisdom_mean</th>\n",
       "                        <td id=\"T_784d7_row8_col0\" class=\"data row8 col0\" >1420</td>\n",
       "            </tr>\n",
       "            <tr>\n",
       "                        <th id=\"T_784d7_level0_row9\" class=\"row_heading level0 row9\" >feature_dexterity_std</th>\n",
       "                        <td id=\"T_784d7_row9_col0\" class=\"data row9 col0\" >1410</td>\n",
       "            </tr>\n",
       "            <tr>\n",
       "                        <th id=\"T_784d7_level0_row10\" class=\"row_heading level0 row10\" >feature_wisdom_skew</th>\n",
       "                        <td id=\"T_784d7_row10_col0\" class=\"data row10 col0\" >1367</td>\n",
       "            </tr>\n",
       "            <tr>\n",
       "                        <th id=\"T_784d7_level0_row11\" class=\"row_heading level0 row11\" >feature_6_std</th>\n",
       "                        <td id=\"T_784d7_row11_col0\" class=\"data row11 col0\" >1354</td>\n",
       "            </tr>\n",
       "            <tr>\n",
       "                        <th id=\"T_784d7_level0_row12\" class=\"row_heading level0 row12\" >feature_11_std</th>\n",
       "                        <td id=\"T_784d7_row12_col0\" class=\"data row12 col0\" >1353</td>\n",
       "            </tr>\n",
       "            <tr>\n",
       "                        <th id=\"T_784d7_level0_row13\" class=\"row_heading level0 row13\" >feature_3_mean</th>\n",
       "                        <td id=\"T_784d7_row13_col0\" class=\"data row13 col0\" >1351</td>\n",
       "            </tr>\n",
       "            <tr>\n",
       "                        <th id=\"T_784d7_level0_row14\" class=\"row_heading level0 row14\" >feature_strength_skew</th>\n",
       "                        <td id=\"T_784d7_row14_col0\" class=\"data row14 col0\" >1346</td>\n",
       "            </tr>\n",
       "            <tr>\n",
       "                        <th id=\"T_784d7_level0_row15\" class=\"row_heading level0 row15\" >feature_4_mean</th>\n",
       "                        <td id=\"T_784d7_row15_col0\" class=\"data row15 col0\" >1323</td>\n",
       "            </tr>\n",
       "            <tr>\n",
       "                        <th id=\"T_784d7_level0_row16\" class=\"row_heading level0 row16\" >feature_wisdom_std</th>\n",
       "                        <td id=\"T_784d7_row16_col0\" class=\"data row16 col0\" >1323</td>\n",
       "            </tr>\n",
       "            <tr>\n",
       "                        <th id=\"T_784d7_level0_row17\" class=\"row_heading level0 row17\" >feature_9_mean</th>\n",
       "                        <td id=\"T_784d7_row17_col0\" class=\"data row17 col0\" >1319</td>\n",
       "            </tr>\n",
       "            <tr>\n",
       "                        <th id=\"T_784d7_level0_row18\" class=\"row_heading level0 row18\" >feature_intelligence_std</th>\n",
       "                        <td id=\"T_784d7_row18_col0\" class=\"data row18 col0\" >1307</td>\n",
       "            </tr>\n",
       "            <tr>\n",
       "                        <th id=\"T_784d7_level0_row19\" class=\"row_heading level0 row19\" >feature_intelligence_kurt</th>\n",
       "                        <td id=\"T_784d7_row19_col0\" class=\"data row19 col0\" >1294</td>\n",
       "            </tr>\n",
       "            <tr>\n",
       "                        <th id=\"T_784d7_level0_row20\" class=\"row_heading level0 row20\" >feature_10_kurt</th>\n",
       "                        <td id=\"T_784d7_row20_col0\" class=\"data row20 col0\" >1286</td>\n",
       "            </tr>\n",
       "            <tr>\n",
       "                        <th id=\"T_784d7_level0_row21\" class=\"row_heading level0 row21\" >feature_9_kurt</th>\n",
       "                        <td id=\"T_784d7_row21_col0\" class=\"data row21 col0\" >1285</td>\n",
       "            </tr>\n",
       "            <tr>\n",
       "                        <th id=\"T_784d7_level0_row22\" class=\"row_heading level0 row22\" >feature_8_std</th>\n",
       "                        <td id=\"T_784d7_row22_col0\" class=\"data row22 col0\" >1284</td>\n",
       "            </tr>\n",
       "            <tr>\n",
       "                        <th id=\"T_784d7_level0_row23\" class=\"row_heading level0 row23\" >feature_5_std</th>\n",
       "                        <td id=\"T_784d7_row23_col0\" class=\"data row23 col0\" >1269</td>\n",
       "            </tr>\n",
       "            <tr>\n",
       "                        <th id=\"T_784d7_level0_row24\" class=\"row_heading level0 row24\" >feature_3_std</th>\n",
       "                        <td id=\"T_784d7_row24_col0\" class=\"data row24 col0\" >1242</td>\n",
       "            </tr>\n",
       "            <tr>\n",
       "                        <th id=\"T_784d7_level0_row25\" class=\"row_heading level0 row25\" >feature_12_skew</th>\n",
       "                        <td id=\"T_784d7_row25_col0\" class=\"data row25 col0\" >1235</td>\n",
       "            </tr>\n",
       "            <tr>\n",
       "                        <th id=\"T_784d7_level0_row26\" class=\"row_heading level0 row26\" >feature_strength_std</th>\n",
       "                        <td id=\"T_784d7_row26_col0\" class=\"data row26 col0\" >1234</td>\n",
       "            </tr>\n",
       "            <tr>\n",
       "                        <th id=\"T_784d7_level0_row27\" class=\"row_heading level0 row27\" >feature_6_kurt</th>\n",
       "                        <td id=\"T_784d7_row27_col0\" class=\"data row27 col0\" >1233</td>\n",
       "            </tr>\n",
       "            <tr>\n",
       "                        <th id=\"T_784d7_level0_row28\" class=\"row_heading level0 row28\" >feature_8_kurt</th>\n",
       "                        <td id=\"T_784d7_row28_col0\" class=\"data row28 col0\" >1230</td>\n",
       "            </tr>\n",
       "            <tr>\n",
       "                        <th id=\"T_784d7_level0_row29\" class=\"row_heading level0 row29\" >feature_3_skew</th>\n",
       "                        <td id=\"T_784d7_row29_col0\" class=\"data row29 col0\" >1221</td>\n",
       "            </tr>\n",
       "            <tr>\n",
       "                        <th id=\"T_784d7_level0_row30\" class=\"row_heading level0 row30\" >feature_0_std</th>\n",
       "                        <td id=\"T_784d7_row30_col0\" class=\"data row30 col0\" >1221</td>\n",
       "            </tr>\n",
       "            <tr>\n",
       "                        <th id=\"T_784d7_level0_row31\" class=\"row_heading level0 row31\" >feature_constitution_std</th>\n",
       "                        <td id=\"T_784d7_row31_col0\" class=\"data row31 col0\" >1210</td>\n",
       "            </tr>\n",
       "            <tr>\n",
       "                        <th id=\"T_784d7_level0_row32\" class=\"row_heading level0 row32\" >feature_6_mean</th>\n",
       "                        <td id=\"T_784d7_row32_col0\" class=\"data row32 col0\" >1207</td>\n",
       "            </tr>\n",
       "            <tr>\n",
       "                        <th id=\"T_784d7_level0_row33\" class=\"row_heading level0 row33\" >feature_11_skew</th>\n",
       "                        <td id=\"T_784d7_row33_col0\" class=\"data row33 col0\" >1203</td>\n",
       "            </tr>\n",
       "            <tr>\n",
       "                        <th id=\"T_784d7_level0_row34\" class=\"row_heading level0 row34\" >feature_2_kurt</th>\n",
       "                        <td id=\"T_784d7_row34_col0\" class=\"data row34 col0\" >1199</td>\n",
       "            </tr>\n",
       "            <tr>\n",
       "                        <th id=\"T_784d7_level0_row35\" class=\"row_heading level0 row35\" >feature_5_skew</th>\n",
       "                        <td id=\"T_784d7_row35_col0\" class=\"data row35 col0\" >1193</td>\n",
       "            </tr>\n",
       "            <tr>\n",
       "                        <th id=\"T_784d7_level0_row36\" class=\"row_heading level0 row36\" >feature_6_skew</th>\n",
       "                        <td id=\"T_784d7_row36_col0\" class=\"data row36 col0\" >1189</td>\n",
       "            </tr>\n",
       "            <tr>\n",
       "                        <th id=\"T_784d7_level0_row37\" class=\"row_heading level0 row37\" >feature_dexterity_skew</th>\n",
       "                        <td id=\"T_784d7_row37_col0\" class=\"data row37 col0\" >1188</td>\n",
       "            </tr>\n",
       "            <tr>\n",
       "                        <th id=\"T_784d7_level0_row38\" class=\"row_heading level0 row38\" >feature_9_std</th>\n",
       "                        <td id=\"T_784d7_row38_col0\" class=\"data row38 col0\" >1177</td>\n",
       "            </tr>\n",
       "            <tr>\n",
       "                        <th id=\"T_784d7_level0_row39\" class=\"row_heading level0 row39\" >feature_9_skew</th>\n",
       "                        <td id=\"T_784d7_row39_col0\" class=\"data row39 col0\" >1171</td>\n",
       "            </tr>\n",
       "            <tr>\n",
       "                        <th id=\"T_784d7_level0_row40\" class=\"row_heading level0 row40\" >feature_7_std</th>\n",
       "                        <td id=\"T_784d7_row40_col0\" class=\"data row40 col0\" >1170</td>\n",
       "            </tr>\n",
       "            <tr>\n",
       "                        <th id=\"T_784d7_level0_row41\" class=\"row_heading level0 row41\" >feature_intelligence_skew</th>\n",
       "                        <td id=\"T_784d7_row41_col0\" class=\"data row41 col0\" >1166</td>\n",
       "            </tr>\n",
       "            <tr>\n",
       "                        <th id=\"T_784d7_level0_row42\" class=\"row_heading level0 row42\" >feature_2_std</th>\n",
       "                        <td id=\"T_784d7_row42_col0\" class=\"data row42 col0\" >1160</td>\n",
       "            </tr>\n",
       "            <tr>\n",
       "                        <th id=\"T_784d7_level0_row43\" class=\"row_heading level0 row43\" >feature_5_mean</th>\n",
       "                        <td id=\"T_784d7_row43_col0\" class=\"data row43 col0\" >1152</td>\n",
       "            </tr>\n",
       "            <tr>\n",
       "                        <th id=\"T_784d7_level0_row44\" class=\"row_heading level0 row44\" >feature_12_kurt</th>\n",
       "                        <td id=\"T_784d7_row44_col0\" class=\"data row44 col0\" >1147</td>\n",
       "            </tr>\n",
       "            <tr>\n",
       "                        <th id=\"T_784d7_level0_row45\" class=\"row_heading level0 row45\" >feature_11_kurt</th>\n",
       "                        <td id=\"T_784d7_row45_col0\" class=\"data row45 col0\" >1146</td>\n",
       "            </tr>\n",
       "            <tr>\n",
       "                        <th id=\"T_784d7_level0_row46\" class=\"row_heading level0 row46\" >feature_2_mean</th>\n",
       "                        <td id=\"T_784d7_row46_col0\" class=\"data row46 col0\" >1137</td>\n",
       "            </tr>\n",
       "            <tr>\n",
       "                        <th id=\"T_784d7_level0_row47\" class=\"row_heading level0 row47\" >feature_8_skew</th>\n",
       "                        <td id=\"T_784d7_row47_col0\" class=\"data row47 col0\" >1135</td>\n",
       "            </tr>\n",
       "            <tr>\n",
       "                        <th id=\"T_784d7_level0_row48\" class=\"row_heading level0 row48\" >feature_0_skew</th>\n",
       "                        <td id=\"T_784d7_row48_col0\" class=\"data row48 col0\" >1134</td>\n",
       "            </tr>\n",
       "            <tr>\n",
       "                        <th id=\"T_784d7_level0_row49\" class=\"row_heading level0 row49\" >feature_7_kurt</th>\n",
       "                        <td id=\"T_784d7_row49_col0\" class=\"data row49 col0\" >1131</td>\n",
       "            </tr>\n",
       "            <tr>\n",
       "                        <th id=\"T_784d7_level0_row50\" class=\"row_heading level0 row50\" >feature_2_skew</th>\n",
       "                        <td id=\"T_784d7_row50_col0\" class=\"data row50 col0\" >1130</td>\n",
       "            </tr>\n",
       "            <tr>\n",
       "                        <th id=\"T_784d7_level0_row51\" class=\"row_heading level0 row51\" >feature_0_kurt</th>\n",
       "                        <td id=\"T_784d7_row51_col0\" class=\"data row51 col0\" >1113</td>\n",
       "            </tr>\n",
       "            <tr>\n",
       "                        <th id=\"T_784d7_level0_row52\" class=\"row_heading level0 row52\" >feature_3_kurt</th>\n",
       "                        <td id=\"T_784d7_row52_col0\" class=\"data row52 col0\" >1110</td>\n",
       "            </tr>\n",
       "            <tr>\n",
       "                        <th id=\"T_784d7_level0_row53\" class=\"row_heading level0 row53\" >feature_8_mean</th>\n",
       "                        <td id=\"T_784d7_row53_col0\" class=\"data row53 col0\" >1108</td>\n",
       "            </tr>\n",
       "            <tr>\n",
       "                        <th id=\"T_784d7_level0_row54\" class=\"row_heading level0 row54\" >feature_1_std</th>\n",
       "                        <td id=\"T_784d7_row54_col0\" class=\"data row54 col0\" >1097</td>\n",
       "            </tr>\n",
       "            <tr>\n",
       "                        <th id=\"T_784d7_level0_row55\" class=\"row_heading level0 row55\" >feature_10_mean</th>\n",
       "                        <td id=\"T_784d7_row55_col0\" class=\"data row55 col0\" >1095</td>\n",
       "            </tr>\n",
       "            <tr>\n",
       "                        <th id=\"T_784d7_level0_row56\" class=\"row_heading level0 row56\" >feature_charisma_std</th>\n",
       "                        <td id=\"T_784d7_row56_col0\" class=\"data row56 col0\" >1090</td>\n",
       "            </tr>\n",
       "            <tr>\n",
       "                        <th id=\"T_784d7_level0_row57\" class=\"row_heading level0 row57\" >feature_1_kurt</th>\n",
       "                        <td id=\"T_784d7_row57_col0\" class=\"data row57 col0\" >1090</td>\n",
       "            </tr>\n",
       "            <tr>\n",
       "                        <th id=\"T_784d7_level0_row58\" class=\"row_heading level0 row58\" >feature_7_mean</th>\n",
       "                        <td id=\"T_784d7_row58_col0\" class=\"data row58 col0\" >1089</td>\n",
       "            </tr>\n",
       "            <tr>\n",
       "                        <th id=\"T_784d7_level0_row59\" class=\"row_heading level0 row59\" >feature_4_skew</th>\n",
       "                        <td id=\"T_784d7_row59_col0\" class=\"data row59 col0\" >1086</td>\n",
       "            </tr>\n",
       "            <tr>\n",
       "                        <th id=\"T_784d7_level0_row60\" class=\"row_heading level0 row60\" >feature_5_kurt</th>\n",
       "                        <td id=\"T_784d7_row60_col0\" class=\"data row60 col0\" >1083</td>\n",
       "            </tr>\n",
       "            <tr>\n",
       "                        <th id=\"T_784d7_level0_row61\" class=\"row_heading level0 row61\" >feature_dexterity_mean</th>\n",
       "                        <td id=\"T_784d7_row61_col0\" class=\"data row61 col0\" >1082</td>\n",
       "            </tr>\n",
       "            <tr>\n",
       "                        <th id=\"T_784d7_level0_row62\" class=\"row_heading level0 row62\" >feature_10_skew</th>\n",
       "                        <td id=\"T_784d7_row62_col0\" class=\"data row62 col0\" >1074</td>\n",
       "            </tr>\n",
       "            <tr>\n",
       "                        <th id=\"T_784d7_level0_row63\" class=\"row_heading level0 row63\" >feature_charisma_kurt</th>\n",
       "                        <td id=\"T_784d7_row63_col0\" class=\"data row63 col0\" >1074</td>\n",
       "            </tr>\n",
       "            <tr>\n",
       "                        <th id=\"T_784d7_level0_row64\" class=\"row_heading level0 row64\" >feature_4_kurt</th>\n",
       "                        <td id=\"T_784d7_row64_col0\" class=\"data row64 col0\" >1073</td>\n",
       "            </tr>\n",
       "            <tr>\n",
       "                        <th id=\"T_784d7_level0_row65\" class=\"row_heading level0 row65\" >feature_14_skew</th>\n",
       "                        <td id=\"T_784d7_row65_col0\" class=\"data row65 col0\" >1056</td>\n",
       "            </tr>\n",
       "            <tr>\n",
       "                        <th id=\"T_784d7_level0_row66\" class=\"row_heading level0 row66\" >feature_charisma_skew</th>\n",
       "                        <td id=\"T_784d7_row66_col0\" class=\"data row66 col0\" >1054</td>\n",
       "            </tr>\n",
       "            <tr>\n",
       "                        <th id=\"T_784d7_level0_row67\" class=\"row_heading level0 row67\" >feature_1_skew</th>\n",
       "                        <td id=\"T_784d7_row67_col0\" class=\"data row67 col0\" >1053</td>\n",
       "            </tr>\n",
       "            <tr>\n",
       "                        <th id=\"T_784d7_level0_row68\" class=\"row_heading level0 row68\" >feature_7_skew</th>\n",
       "                        <td id=\"T_784d7_row68_col0\" class=\"data row68 col0\" >1042</td>\n",
       "            </tr>\n",
       "            <tr>\n",
       "                        <th id=\"T_784d7_level0_row69\" class=\"row_heading level0 row69\" >feature_dexterity_kurt</th>\n",
       "                        <td id=\"T_784d7_row69_col0\" class=\"data row69 col0\" >1031</td>\n",
       "            </tr>\n",
       "            <tr>\n",
       "                        <th id=\"T_784d7_level0_row70\" class=\"row_heading level0 row70\" >feature_0_mean</th>\n",
       "                        <td id=\"T_784d7_row70_col0\" class=\"data row70 col0\" >1014</td>\n",
       "            </tr>\n",
       "            <tr>\n",
       "                        <th id=\"T_784d7_level0_row71\" class=\"row_heading level0 row71\" >feature_strength_kurt</th>\n",
       "                        <td id=\"T_784d7_row71_col0\" class=\"data row71 col0\" >1010</td>\n",
       "            </tr>\n",
       "            <tr>\n",
       "                        <th id=\"T_784d7_level0_row72\" class=\"row_heading level0 row72\" >feature_constitution_kurt</th>\n",
       "                        <td id=\"T_784d7_row72_col0\" class=\"data row72 col0\" >976</td>\n",
       "            </tr>\n",
       "            <tr>\n",
       "                        <th id=\"T_784d7_level0_row73\" class=\"row_heading level0 row73\" >feature_13_skew</th>\n",
       "                        <td id=\"T_784d7_row73_col0\" class=\"data row73 col0\" >964</td>\n",
       "            </tr>\n",
       "            <tr>\n",
       "                        <th id=\"T_784d7_level0_row74\" class=\"row_heading level0 row74\" >feature_14_kurt</th>\n",
       "                        <td id=\"T_784d7_row74_col0\" class=\"data row74 col0\" >948</td>\n",
       "            </tr>\n",
       "            <tr>\n",
       "                        <th id=\"T_784d7_level0_row75\" class=\"row_heading level0 row75\" >feature_13_kurt</th>\n",
       "                        <td id=\"T_784d7_row75_col0\" class=\"data row75 col0\" >934</td>\n",
       "            </tr>\n",
       "            <tr>\n",
       "                        <th id=\"T_784d7_level0_row76\" class=\"row_heading level0 row76\" >feature_14_std</th>\n",
       "                        <td id=\"T_784d7_row76_col0\" class=\"data row76 col0\" >886</td>\n",
       "            </tr>\n",
       "            <tr>\n",
       "                        <th id=\"T_784d7_level0_row77\" class=\"row_heading level0 row77\" >feature_12_std</th>\n",
       "                        <td id=\"T_784d7_row77_col0\" class=\"data row77 col0\" >882</td>\n",
       "            </tr>\n",
       "            <tr>\n",
       "                        <th id=\"T_784d7_level0_row78\" class=\"row_heading level0 row78\" >feature_13_std</th>\n",
       "                        <td id=\"T_784d7_row78_col0\" class=\"data row78 col0\" >881</td>\n",
       "            </tr>\n",
       "            <tr>\n",
       "                        <th id=\"T_784d7_level0_row79\" class=\"row_heading level0 row79\" >feature_intelligence_mean</th>\n",
       "                        <td id=\"T_784d7_row79_col0\" class=\"data row79 col0\" >876</td>\n",
       "            </tr>\n",
       "            <tr>\n",
       "                        <th id=\"T_784d7_level0_row80\" class=\"row_heading level0 row80\" >feature_11_mean</th>\n",
       "                        <td id=\"T_784d7_row80_col0\" class=\"data row80 col0\" >806</td>\n",
       "            </tr>\n",
       "            <tr>\n",
       "                        <th id=\"T_784d7_level0_row81\" class=\"row_heading level0 row81\" >feature_13_mean</th>\n",
       "                        <td id=\"T_784d7_row81_col0\" class=\"data row81 col0\" >754</td>\n",
       "            </tr>\n",
       "            <tr>\n",
       "                        <th id=\"T_784d7_level0_row82\" class=\"row_heading level0 row82\" >feature_12_mean</th>\n",
       "                        <td id=\"T_784d7_row82_col0\" class=\"data row82 col0\" >689</td>\n",
       "            </tr>\n",
       "            <tr>\n",
       "                        <th id=\"T_784d7_level0_row83\" class=\"row_heading level0 row83\" >feature_16_std</th>\n",
       "                        <td id=\"T_784d7_row83_col0\" class=\"data row83 col0\" >689</td>\n",
       "            </tr>\n",
       "            <tr>\n",
       "                        <th id=\"T_784d7_level0_row84\" class=\"row_heading level0 row84\" >feature_15_std</th>\n",
       "                        <td id=\"T_784d7_row84_col0\" class=\"data row84 col0\" >577</td>\n",
       "            </tr>\n",
       "            <tr>\n",
       "                        <th id=\"T_784d7_level0_row85\" class=\"row_heading level0 row85\" >feature_dexterity11</th>\n",
       "                        <td id=\"T_784d7_row85_col0\" class=\"data row85 col0\" >510</td>\n",
       "            </tr>\n",
       "            <tr>\n",
       "                        <th id=\"T_784d7_level0_row86\" class=\"row_heading level0 row86\" >feature_charisma85</th>\n",
       "                        <td id=\"T_784d7_row86_col0\" class=\"data row86 col0\" >493</td>\n",
       "            </tr>\n",
       "            <tr>\n",
       "                        <th id=\"T_784d7_level0_row87\" class=\"row_heading level0 row87\" >feature_17_skew</th>\n",
       "                        <td id=\"T_784d7_row87_col0\" class=\"data row87 col0\" >482</td>\n",
       "            </tr>\n",
       "            <tr>\n",
       "                        <th id=\"T_784d7_level0_row88\" class=\"row_heading level0 row88\" >feature_dexterity9</th>\n",
       "                        <td id=\"T_784d7_row88_col0\" class=\"data row88 col0\" >424</td>\n",
       "            </tr>\n",
       "            <tr>\n",
       "                        <th id=\"T_784d7_level0_row89\" class=\"row_heading level0 row89\" >feature_17_kurt</th>\n",
       "                        <td id=\"T_784d7_row89_col0\" class=\"data row89 col0\" >424</td>\n",
       "            </tr>\n",
       "            <tr>\n",
       "                        <th id=\"T_784d7_level0_row90\" class=\"row_heading level0 row90\" >feature_wisdom35</th>\n",
       "                        <td id=\"T_784d7_row90_col0\" class=\"data row90 col0\" >423</td>\n",
       "            </tr>\n",
       "            <tr>\n",
       "                        <th id=\"T_784d7_level0_row91\" class=\"row_heading level0 row91\" >feature_strength19</th>\n",
       "                        <td id=\"T_784d7_row91_col0\" class=\"data row91 col0\" >422</td>\n",
       "            </tr>\n",
       "            <tr>\n",
       "                        <th id=\"T_784d7_level0_row92\" class=\"row_heading level0 row92\" >feature_intelligence4</th>\n",
       "                        <td id=\"T_784d7_row92_col0\" class=\"data row92 col0\" >395</td>\n",
       "            </tr>\n",
       "            <tr>\n",
       "                        <th id=\"T_784d7_level0_row93\" class=\"row_heading level0 row93\" >feature_strength34</th>\n",
       "                        <td id=\"T_784d7_row93_col0\" class=\"data row93 col0\" >387</td>\n",
       "            </tr>\n",
       "            <tr>\n",
       "                        <th id=\"T_784d7_level0_row94\" class=\"row_heading level0 row94\" >feature_intelligence3</th>\n",
       "                        <td id=\"T_784d7_row94_col0\" class=\"data row94 col0\" >385</td>\n",
       "            </tr>\n",
       "            <tr>\n",
       "                        <th id=\"T_784d7_level0_row95\" class=\"row_heading level0 row95\" >feature_wisdom1</th>\n",
       "                        <td id=\"T_784d7_row95_col0\" class=\"data row95 col0\" >384</td>\n",
       "            </tr>\n",
       "            <tr>\n",
       "                        <th id=\"T_784d7_level0_row96\" class=\"row_heading level0 row96\" >feature_charisma46</th>\n",
       "                        <td id=\"T_784d7_row96_col0\" class=\"data row96 col0\" >379</td>\n",
       "            </tr>\n",
       "            <tr>\n",
       "                        <th id=\"T_784d7_level0_row97\" class=\"row_heading level0 row97\" >feature_strength10</th>\n",
       "                        <td id=\"T_784d7_row97_col0\" class=\"data row97 col0\" >369</td>\n",
       "            </tr>\n",
       "            <tr>\n",
       "                        <th id=\"T_784d7_level0_row98\" class=\"row_heading level0 row98\" >feature_wisdom36</th>\n",
       "                        <td id=\"T_784d7_row98_col0\" class=\"data row98 col0\" >365</td>\n",
       "            </tr>\n",
       "            <tr>\n",
       "                        <th id=\"T_784d7_level0_row99\" class=\"row_heading level0 row99\" >feature_dexterity12</th>\n",
       "                        <td id=\"T_784d7_row99_col0\" class=\"data row99 col0\" >362</td>\n",
       "            </tr>\n",
       "            <tr>\n",
       "                        <th id=\"T_784d7_level0_row100\" class=\"row_heading level0 row100\" >feature_intelligence1</th>\n",
       "                        <td id=\"T_784d7_row100_col0\" class=\"data row100 col0\" >362</td>\n",
       "            </tr>\n",
       "            <tr>\n",
       "                        <th id=\"T_784d7_level0_row101\" class=\"row_heading level0 row101\" >feature_wisdom23</th>\n",
       "                        <td id=\"T_784d7_row101_col0\" class=\"data row101 col0\" >361</td>\n",
       "            </tr>\n",
       "            <tr>\n",
       "                        <th id=\"T_784d7_level0_row102\" class=\"row_heading level0 row102\" >feature_charisma69</th>\n",
       "                        <td id=\"T_784d7_row102_col0\" class=\"data row102 col0\" >352</td>\n",
       "            </tr>\n",
       "            <tr>\n",
       "                        <th id=\"T_784d7_level0_row103\" class=\"row_heading level0 row103\" >feature_intelligence9</th>\n",
       "                        <td id=\"T_784d7_row103_col0\" class=\"data row103 col0\" >342</td>\n",
       "            </tr>\n",
       "            <tr>\n",
       "                        <th id=\"T_784d7_level0_row104\" class=\"row_heading level0 row104\" >feature_intelligence6</th>\n",
       "                        <td id=\"T_784d7_row104_col0\" class=\"data row104 col0\" >339</td>\n",
       "            </tr>\n",
       "            <tr>\n",
       "                        <th id=\"T_784d7_level0_row105\" class=\"row_heading level0 row105\" >feature_wisdom22</th>\n",
       "                        <td id=\"T_784d7_row105_col0\" class=\"data row105 col0\" >338</td>\n",
       "            </tr>\n",
       "            <tr>\n",
       "                        <th id=\"T_784d7_level0_row106\" class=\"row_heading level0 row106\" >feature_wisdom8</th>\n",
       "                        <td id=\"T_784d7_row106_col0\" class=\"data row106 col0\" >335</td>\n",
       "            </tr>\n",
       "            <tr>\n",
       "                        <th id=\"T_784d7_level0_row107\" class=\"row_heading level0 row107\" >feature_constitution56</th>\n",
       "                        <td id=\"T_784d7_row107_col0\" class=\"data row107 col0\" >334</td>\n",
       "            </tr>\n",
       "            <tr>\n",
       "                        <th id=\"T_784d7_level0_row108\" class=\"row_heading level0 row108\" >feature_intelligence8</th>\n",
       "                        <td id=\"T_784d7_row108_col0\" class=\"data row108 col0\" >333</td>\n",
       "            </tr>\n",
       "            <tr>\n",
       "                        <th id=\"T_784d7_level0_row109\" class=\"row_heading level0 row109\" >feature_constitution2</th>\n",
       "                        <td id=\"T_784d7_row109_col0\" class=\"data row109 col0\" >323</td>\n",
       "            </tr>\n",
       "            <tr>\n",
       "                        <th id=\"T_784d7_level0_row110\" class=\"row_heading level0 row110\" >feature_constitution108</th>\n",
       "                        <td id=\"T_784d7_row110_col0\" class=\"data row110 col0\" >315</td>\n",
       "            </tr>\n",
       "            <tr>\n",
       "                        <th id=\"T_784d7_level0_row111\" class=\"row_heading level0 row111\" >feature_constitution76</th>\n",
       "                        <td id=\"T_784d7_row111_col0\" class=\"data row111 col0\" >312</td>\n",
       "            </tr>\n",
       "            <tr>\n",
       "                        <th id=\"T_784d7_level0_row112\" class=\"row_heading level0 row112\" >feature_intelligence11</th>\n",
       "                        <td id=\"T_784d7_row112_col0\" class=\"data row112 col0\" >312</td>\n",
       "            </tr>\n",
       "            <tr>\n",
       "                        <th id=\"T_784d7_level0_row113\" class=\"row_heading level0 row113\" >feature_charisma52</th>\n",
       "                        <td id=\"T_784d7_row113_col0\" class=\"data row113 col0\" >311</td>\n",
       "            </tr>\n",
       "            <tr>\n",
       "                        <th id=\"T_784d7_level0_row114\" class=\"row_heading level0 row114\" >feature_wisdom25</th>\n",
       "                        <td id=\"T_784d7_row114_col0\" class=\"data row114 col0\" >310</td>\n",
       "            </tr>\n",
       "            <tr>\n",
       "                        <th id=\"T_784d7_level0_row115\" class=\"row_heading level0 row115\" >feature_constitution114</th>\n",
       "                        <td id=\"T_784d7_row115_col0\" class=\"data row115 col0\" >309</td>\n",
       "            </tr>\n",
       "            <tr>\n",
       "                        <th id=\"T_784d7_level0_row116\" class=\"row_heading level0 row116\" >feature_constitution19</th>\n",
       "                        <td id=\"T_784d7_row116_col0\" class=\"data row116 col0\" >297</td>\n",
       "            </tr>\n",
       "            <tr>\n",
       "                        <th id=\"T_784d7_level0_row117\" class=\"row_heading level0 row117\" >feature_constitution90</th>\n",
       "                        <td id=\"T_784d7_row117_col0\" class=\"data row117 col0\" >296</td>\n",
       "            </tr>\n",
       "            <tr>\n",
       "                        <th id=\"T_784d7_level0_row118\" class=\"row_heading level0 row118\" >feature_wisdom14</th>\n",
       "                        <td id=\"T_784d7_row118_col0\" class=\"data row118 col0\" >291</td>\n",
       "            </tr>\n",
       "            <tr>\n",
       "                        <th id=\"T_784d7_level0_row119\" class=\"row_heading level0 row119\" >feature_charisma9</th>\n",
       "                        <td id=\"T_784d7_row119_col0\" class=\"data row119 col0\" >290</td>\n",
       "            </tr>\n",
       "            <tr>\n",
       "                        <th id=\"T_784d7_level0_row120\" class=\"row_heading level0 row120\" >feature_constitution1</th>\n",
       "                        <td id=\"T_784d7_row120_col0\" class=\"data row120 col0\" >287</td>\n",
       "            </tr>\n",
       "            <tr>\n",
       "                        <th id=\"T_784d7_level0_row121\" class=\"row_heading level0 row121\" >feature_wisdom34</th>\n",
       "                        <td id=\"T_784d7_row121_col0\" class=\"data row121 col0\" >287</td>\n",
       "            </tr>\n",
       "            <tr>\n",
       "                        <th id=\"T_784d7_level0_row122\" class=\"row_heading level0 row122\" >feature_constitution103</th>\n",
       "                        <td id=\"T_784d7_row122_col0\" class=\"data row122 col0\" >284</td>\n",
       "            </tr>\n",
       "            <tr>\n",
       "                        <th id=\"T_784d7_level0_row123\" class=\"row_heading level0 row123\" >feature_constitution12</th>\n",
       "                        <td id=\"T_784d7_row123_col0\" class=\"data row123 col0\" >279</td>\n",
       "            </tr>\n",
       "            <tr>\n",
       "                        <th id=\"T_784d7_level0_row124\" class=\"row_heading level0 row124\" >feature_strength13</th>\n",
       "                        <td id=\"T_784d7_row124_col0\" class=\"data row124 col0\" >275</td>\n",
       "            </tr>\n",
       "            <tr>\n",
       "                        <th id=\"T_784d7_level0_row125\" class=\"row_heading level0 row125\" >feature_charisma83</th>\n",
       "                        <td id=\"T_784d7_row125_col0\" class=\"data row125 col0\" >271</td>\n",
       "            </tr>\n",
       "            <tr>\n",
       "                        <th id=\"T_784d7_level0_row126\" class=\"row_heading level0 row126\" >feature_constitution44</th>\n",
       "                        <td id=\"T_784d7_row126_col0\" class=\"data row126 col0\" >271</td>\n",
       "            </tr>\n",
       "            <tr>\n",
       "                        <th id=\"T_784d7_level0_row127\" class=\"row_heading level0 row127\" >feature_wisdom13</th>\n",
       "                        <td id=\"T_784d7_row127_col0\" class=\"data row127 col0\" >268</td>\n",
       "            </tr>\n",
       "            <tr>\n",
       "                        <th id=\"T_784d7_level0_row128\" class=\"row_heading level0 row128\" >feature_constitution85</th>\n",
       "                        <td id=\"T_784d7_row128_col0\" class=\"data row128 col0\" >266</td>\n",
       "            </tr>\n",
       "            <tr>\n",
       "                        <th id=\"T_784d7_level0_row129\" class=\"row_heading level0 row129\" >feature_wisdom39</th>\n",
       "                        <td id=\"T_784d7_row129_col0\" class=\"data row129 col0\" >266</td>\n",
       "            </tr>\n",
       "            <tr>\n",
       "                        <th id=\"T_784d7_level0_row130\" class=\"row_heading level0 row130\" >feature_constitution72</th>\n",
       "                        <td id=\"T_784d7_row130_col0\" class=\"data row130 col0\" >262</td>\n",
       "            </tr>\n",
       "            <tr>\n",
       "                        <th id=\"T_784d7_level0_row131\" class=\"row_heading level0 row131\" >feature_charisma36</th>\n",
       "                        <td id=\"T_784d7_row131_col0\" class=\"data row131 col0\" >260</td>\n",
       "            </tr>\n",
       "            <tr>\n",
       "                        <th id=\"T_784d7_level0_row132\" class=\"row_heading level0 row132\" >feature_strength33</th>\n",
       "                        <td id=\"T_784d7_row132_col0\" class=\"data row132 col0\" >259</td>\n",
       "            </tr>\n",
       "            <tr>\n",
       "                        <th id=\"T_784d7_level0_row133\" class=\"row_heading level0 row133\" >feature_constitution67</th>\n",
       "                        <td id=\"T_784d7_row133_col0\" class=\"data row133 col0\" >253</td>\n",
       "            </tr>\n",
       "            <tr>\n",
       "                        <th id=\"T_784d7_level0_row134\" class=\"row_heading level0 row134\" >feature_charisma53</th>\n",
       "                        <td id=\"T_784d7_row134_col0\" class=\"data row134 col0\" >252</td>\n",
       "            </tr>\n",
       "            <tr>\n",
       "                        <th id=\"T_784d7_level0_row135\" class=\"row_heading level0 row135\" >feature_charisma77</th>\n",
       "                        <td id=\"T_784d7_row135_col0\" class=\"data row135 col0\" >246</td>\n",
       "            </tr>\n",
       "            <tr>\n",
       "                        <th id=\"T_784d7_level0_row136\" class=\"row_heading level0 row136\" >feature_charisma72</th>\n",
       "                        <td id=\"T_784d7_row136_col0\" class=\"data row136 col0\" >240</td>\n",
       "            </tr>\n",
       "            <tr>\n",
       "                        <th id=\"T_784d7_level0_row137\" class=\"row_heading level0 row137\" >feature_wisdom37</th>\n",
       "                        <td id=\"T_784d7_row137_col0\" class=\"data row137 col0\" >239</td>\n",
       "            </tr>\n",
       "            <tr>\n",
       "                        <th id=\"T_784d7_level0_row138\" class=\"row_heading level0 row138\" >feature_intelligence10</th>\n",
       "                        <td id=\"T_784d7_row138_col0\" class=\"data row138 col0\" >235</td>\n",
       "            </tr>\n",
       "            <tr>\n",
       "                        <th id=\"T_784d7_level0_row139\" class=\"row_heading level0 row139\" >feature_strength12</th>\n",
       "                        <td id=\"T_784d7_row139_col0\" class=\"data row139 col0\" >233</td>\n",
       "            </tr>\n",
       "            <tr>\n",
       "                        <th id=\"T_784d7_level0_row140\" class=\"row_heading level0 row140\" >feature_wisdom33</th>\n",
       "                        <td id=\"T_784d7_row140_col0\" class=\"data row140 col0\" >230</td>\n",
       "            </tr>\n",
       "            <tr>\n",
       "                        <th id=\"T_784d7_level0_row141\" class=\"row_heading level0 row141\" >feature_constitution65</th>\n",
       "                        <td id=\"T_784d7_row141_col0\" class=\"data row141 col0\" >222</td>\n",
       "            </tr>\n",
       "            <tr>\n",
       "                        <th id=\"T_784d7_level0_row142\" class=\"row_heading level0 row142\" >feature_constitution54</th>\n",
       "                        <td id=\"T_784d7_row142_col0\" class=\"data row142 col0\" >220</td>\n",
       "            </tr>\n",
       "            <tr>\n",
       "                        <th id=\"T_784d7_level0_row143\" class=\"row_heading level0 row143\" >feature_charisma49</th>\n",
       "                        <td id=\"T_784d7_row143_col0\" class=\"data row143 col0\" >213</td>\n",
       "            </tr>\n",
       "            <tr>\n",
       "                        <th id=\"T_784d7_level0_row144\" class=\"row_heading level0 row144\" >feature_charisma28</th>\n",
       "                        <td id=\"T_784d7_row144_col0\" class=\"data row144 col0\" >212</td>\n",
       "            </tr>\n",
       "            <tr>\n",
       "                        <th id=\"T_784d7_level0_row145\" class=\"row_heading level0 row145\" >feature_wisdom43</th>\n",
       "                        <td id=\"T_784d7_row145_col0\" class=\"data row145 col0\" >197</td>\n",
       "            </tr>\n",
       "            <tr>\n",
       "                        <th id=\"T_784d7_level0_row146\" class=\"row_heading level0 row146\" >feature_constitution4</th>\n",
       "                        <td id=\"T_784d7_row146_col0\" class=\"data row146 col0\" >183</td>\n",
       "            </tr>\n",
       "            <tr>\n",
       "                        <th id=\"T_784d7_level0_row147\" class=\"row_heading level0 row147\" >feature_charisma27</th>\n",
       "                        <td id=\"T_784d7_row147_col0\" class=\"data row147 col0\" >157</td>\n",
       "            </tr>\n",
       "    </tbody></table>"
      ],
      "text/plain": [
       "<pandas.io.formats.style.Styler at 0x7f8e893780d0>"
      ]
     },
     "execution_count": 97,
     "metadata": {},
     "output_type": "execute_result"
    }
   ],
   "source": [
    "pd.DataFrame(model.feature_importances_, index=featured, columns=['importance']).sort_values(by='importance', ascending=False).style.background_gradient(cmap='viridis')"
   ]
  },
  {
   "cell_type": "markdown",
   "metadata": {
    "id": "avgd8nkN_wPD"
   },
   "source": [
    "# Validation Score\n",
    "Validation(target rank correlation)Numerai[Github](https://github.com/numerai/example-scripts/blob/master/example_model.py)\n",
    "\n",
    "MMC（meta model correlation） (rank correlation)**correlation sharpe**\n",
    "\n",
    "- rank correlation (NumeraiCORR)\n",
    "- sharpe ratio（CORR）\n",
    "- max drawdown (CORR。0)\n",
    "- feature exposure ()\n",
    "\n",
    "Numerai validation\n",
    "\n",
    "\n",
    "This is what we care about! Here we compute Numerai-related scores except for MMC (which we cannot compute as we don't have a meta-model prediction).\n",
    "\n",
    "Note that we split the validation set into the two parts and compute scores on the corresponding eras. This is because the first half validation eras are easy to predict, whereas the last half are hard. It is better to see that our model performs well on the both periods."
   ]
  },
  {
   "cell_type": "code",
   "execution_count": 98,
   "metadata": {
    "id": "76elyYcu_wPD",
    "outputId": "55e6c726-7db5-4cae-a7cc-8dd2325f31b2"
   },
   "outputs": [
    {
     "name": "stdout",
     "output_type": "stream",
     "text": [
      "CPU times: user 11min 4s, sys: 2.35 s, total: 11min 6s\n",
      "Wall time: 10min 58s\n"
     ]
    }
   ],
   "source": [
    "%%time\n",
    "# prediction for valid periods   \n",
    "predLGB = model.predict(valed[featured].fillna(0.5))"
   ]
  },
  {
   "cell_type": "code",
   "execution_count": 99,
   "metadata": {
    "id": "RUMoPUhM_wPD",
    "outputId": "7814e531-aba5-4659-fdce-96fc26540f7b"
   },
   "outputs": [
    {
     "data": {
      "text/plain": [
       "\"\\n# scores\\nvalid_df = valid4score(valed, pred, load_example=False, save=False)\\n\\nscore_df = pd.DataFrame()\\nprint('------------------')\\nprint('ALL:')\\nprint('------------------')\\nall_ = score_summary(valid_df).rename(columns={0: 'all'})\\n\\nprint('------------------')\\nprint('VALID 1:')\\nprint('------------------')\\nval1_ = score_summary(valid_df.query('era < 150')).rename(columns={0: 'val1'})\\n\\nprint('------------------')\\nprint('VALID 2:')\\nprint('------------------')\\nval2_ = score_summary(valid_df.query('era > 150')).rename(columns={0: 'val2'})\\n\""
      ]
     },
     "execution_count": 99,
     "metadata": {},
     "output_type": "execute_result"
    }
   ],
   "source": [
    "\"\"\"\n",
    "# scores\n",
    "valid_df = valid4score(valed, pred, load_example=False, save=False)\n",
    "\n",
    "score_df = pd.DataFrame()\n",
    "print('------------------')\n",
    "print('ALL:')\n",
    "print('------------------')\n",
    "all_ = score_summary(valid_df).rename(columns={0: 'all'})\n",
    "\n",
    "print('------------------')\n",
    "print('VALID 1:')\n",
    "print('------------------')\n",
    "val1_ = score_summary(valid_df.query('era < 150')).rename(columns={0: 'val1'})\n",
    "\n",
    "print('------------------')\n",
    "print('VALID 2:')\n",
    "print('------------------')\n",
    "val2_ = score_summary(valid_df.query('era > 150')).rename(columns={0: 'val2'})\n",
    "\"\"\""
   ]
  },
  {
   "cell_type": "code",
   "execution_count": 100,
   "metadata": {
    "id": "Ruelt4xV_wPD"
   },
   "outputs": [],
   "source": [
    "# scores\n",
    "#score_df = pd.concat([all_, val1_, val2_], axis=1)\n",
    "#score_df.style.background_gradient(cmap='viridis', axis=0)"
   ]
  },
  {
   "cell_type": "markdown",
   "metadata": {
    "id": "c3GT1KJl_wPE"
   },
   "source": [
    "# Submission\n",
    "[Numerai tournament](https://numer.ai/tournament)API ID Rank correlation rank"
   ]
  },
  {
   "cell_type": "code",
   "execution_count": 101,
   "metadata": {
    "id": "fdcsstr4_wPE",
    "outputId": "74ceac66-b96f-4cde-bcf2-86ddba59ce84"
   },
   "outputs": [
    {
     "data": {
      "text/plain": [
       "(array([1.900000e+01, 8.600000e+01, 5.670000e+02, 6.587000e+03,\n",
       "        2.841220e+05, 1.354115e+06, 8.286300e+04, 2.479000e+03,\n",
       "        1.640000e+02, 1.400000e+01]),\n",
       " array([0.33000223, 0.36193595, 0.39386966, 0.42580337, 0.45773709,\n",
       "        0.4896708 , 0.52160451, 0.55353822, 0.58547194, 0.61740565,\n",
       "        0.64933936]),\n",
       " <BarContainer object of 10 artists>)"
      ]
     },
     "execution_count": 101,
     "metadata": {},
     "output_type": "execute_result"
    },
    {
     "data": {
      "image/png": "[encoded data removed]",
      "text/plain": [
       "<Figure size 432x288 with 1 Axes>"
      ]
     },
     "metadata": {
      "needs_background": "light"
     },
     "output_type": "display_data"
    }
   ],
   "source": [
    "# prediction\n",
    "pred = model.predict(tested[featured].fillna(0.5))\n",
    "plt.hist(pred)"
   ]
  },
  {
   "cell_type": "code",
   "execution_count": 102,
   "metadata": {
    "id": "O2x9Oqjb_wPF",
    "outputId": "a649d8b1-2963-498b-81b2-0a9053455eda"
   },
   "outputs": [
    {
     "name": "stdout",
     "output_type": "stream",
     "text": [
      "[0.48973913 0.49544317 0.52175922 0.51056563 0.4998682 ]\n"
     ]
    }
   ],
   "source": [
    "predictions_df = test[\"id\"].to_frame()\n",
    "predictions_df[PREDICTION_NAME] = pred\n",
    "print(pred[0:5])\n",
    "# to rank\n",
    "predictions_df[PREDICTION_NAME] = predictions_df[PREDICTION_NAME].rank(pct=True, method=\"first\")\n",
    "predictions_df.to_csv(pathlib.Path(OUTPUT_DIR + f\"predictions_lgb_develusex.csv\"), index=False)"
   ]
  },
  {
   "cell_type": "code",
   "execution_count": 103,
   "metadata": {
    "id": "PJBJelNn_wPF",
    "outputId": "73febaf0-b299-4e11-a2d6-7c74c5ce3cee"
   },
   "outputs": [
    {
     "name": "stdout",
     "output_type": "stream",
     "text": [
      "RangeIndex(start=0, stop=1731016, step=1)\n"
     ]
    }
   ],
   "source": [
    "print(tested.index)"
   ]
  },
  {
   "cell_type": "code",
   "execution_count": 104,
   "metadata": {
    "id": "-ejDzEpn_wPF",
    "outputId": "324569c4-750e-4074-83c8-5399698dec71"
   },
   "outputs": [
    {
     "name": "stdout",
     "output_type": "stream",
     "text": [
      "0          n0003aa52cab36c2\n",
      "1          n000920ed083903f\n",
      "2          n0038e640522c4a6\n",
      "3          n004ac94a87dc54b\n",
      "4          n0052fe97ea0c05f\n",
      "                 ...       \n",
      "1731011    nffbe5152c321f92\n",
      "1731012    nffc011b4baa54c3\n",
      "1731013    nffc12b2a846ab4e\n",
      "1731014    nffc3c5ab0235de0\n",
      "1731015    nffe714f0da4d819\n",
      "Name: id, Length: 1731016, dtype: object\n"
     ]
    },
    {
     "ename": "OSError",
     "evalue": "[Errno 28] No space left on device",
     "output_type": "error",
     "traceback": [
      "\u001b[0;31m---------------------------------------------------------------------------\u001b[0m",
      "\u001b[0;31mOSError\u001b[0m                                   Traceback (most recent call last)",
      "\u001b[0;32m<ipython-input-104-a6367213256e>\u001b[0m in \u001b[0;36m<module>\u001b[0;34m\u001b[0m\n\u001b[1;32m      3\u001b[0m \u001b[0mtrained\u001b[0m\u001b[0;34m.\u001b[0m\u001b[0mto_csv\u001b[0m\u001b[0;34m(\u001b[0m\u001b[0mpathlib\u001b[0m\u001b[0;34m.\u001b[0m\u001b[0mPath\u001b[0m\u001b[0;34m(\u001b[0m\u001b[0mOUTPUT_DIR\u001b[0m \u001b[0;34m+\u001b[0m \u001b[0;34mf\"ds_1_trained.csv\"\u001b[0m\u001b[0;34m)\u001b[0m\u001b[0;34m)\u001b[0m\u001b[0;34m\u001b[0m\u001b[0;34m\u001b[0m\u001b[0m\n\u001b[1;32m      4\u001b[0m \u001b[0mtested\u001b[0m\u001b[0;34m.\u001b[0m\u001b[0mto_csv\u001b[0m\u001b[0;34m(\u001b[0m\u001b[0mpathlib\u001b[0m\u001b[0;34m.\u001b[0m\u001b[0mPath\u001b[0m\u001b[0;34m(\u001b[0m\u001b[0mOUTPUT_DIR\u001b[0m \u001b[0;34m+\u001b[0m \u001b[0;34mf\"ds_1_tested.csv\"\u001b[0m\u001b[0;34m)\u001b[0m\u001b[0;34m)\u001b[0m\u001b[0;34m\u001b[0m\u001b[0;34m\u001b[0m\u001b[0m\n\u001b[0;32m----> 5\u001b[0;31m \u001b[0mvaled\u001b[0m\u001b[0;34m.\u001b[0m\u001b[0mto_csv\u001b[0m\u001b[0;34m(\u001b[0m\u001b[0mpathlib\u001b[0m\u001b[0;34m.\u001b[0m\u001b[0mPath\u001b[0m\u001b[0;34m(\u001b[0m\u001b[0mOUTPUT_DIR\u001b[0m \u001b[0;34m+\u001b[0m \u001b[0;34mf\"ds_1_valed.csv\"\u001b[0m\u001b[0;34m)\u001b[0m\u001b[0;34m)\u001b[0m\u001b[0;34m\u001b[0m\u001b[0;34m\u001b[0m\u001b[0m\n\u001b[0m",
      "\u001b[0;32m~/.local/lib/python3.8/site-packages/pandas/core/generic.py\u001b[0m in \u001b[0;36mto_csv\u001b[0;34m(self, path_or_buf, sep, na_rep, float_format, columns, header, index, index_label, mode, encoding, compression, quoting, quotechar, line_terminator, chunksize, date_format, doublequote, escapechar, decimal, errors, storage_options)\u001b[0m\n\u001b[1;32m   3385\u001b[0m         )\n\u001b[1;32m   3386\u001b[0m \u001b[0;34m\u001b[0m\u001b[0m\n\u001b[0;32m-> 3387\u001b[0;31m         return DataFrameRenderer(formatter).to_csv(\n\u001b[0m\u001b[1;32m   3388\u001b[0m             \u001b[0mpath_or_buf\u001b[0m\u001b[0;34m,\u001b[0m\u001b[0;34m\u001b[0m\u001b[0;34m\u001b[0m\u001b[0m\n\u001b[1;32m   3389\u001b[0m             \u001b[0mline_terminator\u001b[0m\u001b[0;34m=\u001b[0m\u001b[0mline_terminator\u001b[0m\u001b[0;34m,\u001b[0m\u001b[0;34m\u001b[0m\u001b[0;34m\u001b[0m\u001b[0m\n",
      "\u001b[0;32m~/.local/lib/python3.8/site-packages/pandas/io/formats/format.py\u001b[0m in \u001b[0;36mto_csv\u001b[0;34m(self, path_or_buf, encoding, sep, columns, index_label, mode, compression, quoting, quotechar, line_terminator, chunksize, date_format, doublequote, escapechar, errors, storage_options)\u001b[0m\n\u001b[1;32m   1081\u001b[0m             \u001b[0mformatter\u001b[0m\u001b[0;34m=\u001b[0m\u001b[0mself\u001b[0m\u001b[0;34m.\u001b[0m\u001b[0mfmt\u001b[0m\u001b[0;34m,\u001b[0m\u001b[0;34m\u001b[0m\u001b[0;34m\u001b[0m\u001b[0m\n\u001b[1;32m   1082\u001b[0m         )\n\u001b[0;32m-> 1083\u001b[0;31m         \u001b[0mcsv_formatter\u001b[0m\u001b[0;34m.\u001b[0m\u001b[0msave\u001b[0m\u001b[0;34m(\u001b[0m\u001b[0;34m)\u001b[0m\u001b[0;34m\u001b[0m\u001b[0;34m\u001b[0m\u001b[0m\n\u001b[0m\u001b[1;32m   1084\u001b[0m \u001b[0;34m\u001b[0m\u001b[0m\n\u001b[1;32m   1085\u001b[0m         \u001b[0;32mif\u001b[0m \u001b[0mcreated_buffer\u001b[0m\u001b[0;34m:\u001b[0m\u001b[0;34m\u001b[0m\u001b[0;34m\u001b[0m\u001b[0m\n",
      "\u001b[0;32m~/.local/lib/python3.8/site-packages/pandas/io/formats/csvs.py\u001b[0m in \u001b[0;36msave\u001b[0;34m(self)\u001b[0m\n\u001b[1;32m    246\u001b[0m             )\n\u001b[1;32m    247\u001b[0m \u001b[0;34m\u001b[0m\u001b[0m\n\u001b[0;32m--> 248\u001b[0;31m             \u001b[0mself\u001b[0m\u001b[0;34m.\u001b[0m\u001b[0m_save\u001b[0m\u001b[0;34m(\u001b[0m\u001b[0;34m)\u001b[0m\u001b[0;34m\u001b[0m\u001b[0;34m\u001b[0m\u001b[0m\n\u001b[0m\u001b[1;32m    249\u001b[0m \u001b[0;34m\u001b[0m\u001b[0m\n\u001b[1;32m    250\u001b[0m     \u001b[0;32mdef\u001b[0m \u001b[0m_save\u001b[0m\u001b[0;34m(\u001b[0m\u001b[0mself\u001b[0m\u001b[0;34m)\u001b[0m \u001b[0;34m->\u001b[0m \u001b[0;32mNone\u001b[0m\u001b[0;34m:\u001b[0m\u001b[0;34m\u001b[0m\u001b[0;34m\u001b[0m\u001b[0m\n",
      "\u001b[0;32m~/.local/lib/python3.8/site-packages/pandas/io/formats/csvs.py\u001b[0m in \u001b[0;36m_save\u001b[0;34m(self)\u001b[0m\n\u001b[1;32m    251\u001b[0m         \u001b[0;32mif\u001b[0m \u001b[0mself\u001b[0m\u001b[0;34m.\u001b[0m\u001b[0m_need_to_save_header\u001b[0m\u001b[0;34m:\u001b[0m\u001b[0;34m\u001b[0m\u001b[0;34m\u001b[0m\u001b[0m\n\u001b[1;32m    252\u001b[0m             \u001b[0mself\u001b[0m\u001b[0;34m.\u001b[0m\u001b[0m_save_header\u001b[0m\u001b[0;34m(\u001b[0m\u001b[0;34m)\u001b[0m\u001b[0;34m\u001b[0m\u001b[0;34m\u001b[0m\u001b[0m\n\u001b[0;32m--> 253\u001b[0;31m         \u001b[0mself\u001b[0m\u001b[0;34m.\u001b[0m\u001b[0m_save_body\u001b[0m\u001b[0;34m(\u001b[0m\u001b[0;34m)\u001b[0m\u001b[0;34m\u001b[0m\u001b[0;34m\u001b[0m\u001b[0m\n\u001b[0m\u001b[1;32m    254\u001b[0m \u001b[0;34m\u001b[0m\u001b[0m\n\u001b[1;32m    255\u001b[0m     \u001b[0;32mdef\u001b[0m \u001b[0m_save_header\u001b[0m\u001b[0;34m(\u001b[0m\u001b[0mself\u001b[0m\u001b[0;34m)\u001b[0m \u001b[0;34m->\u001b[0m \u001b[0;32mNone\u001b[0m\u001b[0;34m:\u001b[0m\u001b[0;34m\u001b[0m\u001b[0;34m\u001b[0m\u001b[0m\n",
      "\u001b[0;32m~/.local/lib/python3.8/site-packages/pandas/io/formats/csvs.py\u001b[0m in \u001b[0;36m_save_body\u001b[0;34m(self)\u001b[0m\n\u001b[1;32m    289\u001b[0m             \u001b[0;32mif\u001b[0m \u001b[0mstart_i\u001b[0m \u001b[0;34m>=\u001b[0m \u001b[0mend_i\u001b[0m\u001b[0;34m:\u001b[0m\u001b[0;34m\u001b[0m\u001b[0;34m\u001b[0m\u001b[0m\n\u001b[1;32m    290\u001b[0m                 \u001b[0;32mbreak\u001b[0m\u001b[0;34m\u001b[0m\u001b[0;34m\u001b[0m\u001b[0m\n\u001b[0;32m--> 291\u001b[0;31m             \u001b[0mself\u001b[0m\u001b[0;34m.\u001b[0m\u001b[0m_save_chunk\u001b[0m\u001b[0;34m(\u001b[0m\u001b[0mstart_i\u001b[0m\u001b[0;34m,\u001b[0m \u001b[0mend_i\u001b[0m\u001b[0;34m)\u001b[0m\u001b[0;34m\u001b[0m\u001b[0;34m\u001b[0m\u001b[0m\n\u001b[0m\u001b[1;32m    292\u001b[0m \u001b[0;34m\u001b[0m\u001b[0m\n\u001b[1;32m    293\u001b[0m     \u001b[0;32mdef\u001b[0m \u001b[0m_save_chunk\u001b[0m\u001b[0;34m(\u001b[0m\u001b[0mself\u001b[0m\u001b[0;34m,\u001b[0m \u001b[0mstart_i\u001b[0m\u001b[0;34m:\u001b[0m \u001b[0mint\u001b[0m\u001b[0;34m,\u001b[0m \u001b[0mend_i\u001b[0m\u001b[0;34m:\u001b[0m \u001b[0mint\u001b[0m\u001b[0;34m)\u001b[0m \u001b[0;34m->\u001b[0m \u001b[0;32mNone\u001b[0m\u001b[0;34m:\u001b[0m\u001b[0;34m\u001b[0m\u001b[0;34m\u001b[0m\u001b[0m\n",
      "\u001b[0;32m~/.local/lib/python3.8/site-packages/pandas/io/formats/csvs.py\u001b[0m in \u001b[0;36m_save_chunk\u001b[0;34m(self, start_i, end_i)\u001b[0m\n\u001b[1;32m    300\u001b[0m \u001b[0;34m\u001b[0m\u001b[0m\n\u001b[1;32m    301\u001b[0m         \u001b[0mix\u001b[0m \u001b[0;34m=\u001b[0m \u001b[0mself\u001b[0m\u001b[0;34m.\u001b[0m\u001b[0mdata_index\u001b[0m\u001b[0;34m[\u001b[0m\u001b[0mslicer\u001b[0m\u001b[0;34m]\u001b[0m\u001b[0;34m.\u001b[0m\u001b[0m_format_native_types\u001b[0m\u001b[0;34m(\u001b[0m\u001b[0;34m**\u001b[0m\u001b[0mself\u001b[0m\u001b[0;34m.\u001b[0m\u001b[0m_number_format\u001b[0m\u001b[0;34m)\u001b[0m\u001b[0;34m\u001b[0m\u001b[0;34m\u001b[0m\u001b[0m\n\u001b[0;32m--> 302\u001b[0;31m         \u001b[0mlibwriters\u001b[0m\u001b[0;34m.\u001b[0m\u001b[0mwrite_csv_rows\u001b[0m\u001b[0;34m(\u001b[0m\u001b[0mdata\u001b[0m\u001b[0;34m,\u001b[0m \u001b[0mix\u001b[0m\u001b[0;34m,\u001b[0m \u001b[0mself\u001b[0m\u001b[0;34m.\u001b[0m\u001b[0mnlevels\u001b[0m\u001b[0;34m,\u001b[0m \u001b[0mself\u001b[0m\u001b[0;34m.\u001b[0m\u001b[0mcols\u001b[0m\u001b[0;34m,\u001b[0m \u001b[0mself\u001b[0m\u001b[0;34m.\u001b[0m\u001b[0mwriter\u001b[0m\u001b[0;34m)\u001b[0m\u001b[0;34m\u001b[0m\u001b[0;34m\u001b[0m\u001b[0m\n\u001b[0m",
      "\u001b[0;32mpandas/_libs/writers.pyx\u001b[0m in \u001b[0;36mpandas._libs.writers.write_csv_rows\u001b[0;34m()\u001b[0m\n",
      "\u001b[0;31mOSError\u001b[0m: [Errno 28] No space left on device"
     ]
    }
   ],
   "source": [
    "print(test[\"id\"])\n"
   ]
  },
  {
   "cell_type": "code",
   "execution_count": null,
   "metadata": {
    "id": "EYglv7f4_wPG"
   },
   "outputs": [],
   "source": [
    "#XGBOOST with boosting"
   ]
  },
  {
   "cell_type": "code",
   "execution_count": null,
   "metadata": {
    "id": "jWUGLWGx_wPG"
   },
   "outputs": [],
   "source": [
    "def ar1(x):\n",
    "    return np.corrcoef(x[:-1], x[1:])[0,1]\n",
    "\n",
    "def autocorr_penalty(x):\n",
    "    n = len(x)\n",
    "    p = ar1(x)\n",
    "    return np.sqrt(1 + 2*np.sum([((n - i)/n)*p**i for i in range(1,n)]))\n",
    "\n",
    "def smart_sharpe(x):\n",
    "    return np.mean(x)/(np.std(x, ddof=1)*autocorr_penalty(x))\n",
    "\n",
    "def era_boost_train(X, y, era_col, proportion=0.5, trees_per_step=10, num_iters=200, one_shot=False, tree_method='gpu_hist', test_model=None, note=None):\n",
    "    print(f\"\\n#### Era boost train with proportion {proportion:0.3f} ####\\n\")\n",
    "    if note is not None:\n",
    "        print(note)\n",
    "    if one_shot:\n",
    "        trees_per_step = trees_per_step * num_iters\n",
    "        num_iters=1\n",
    "\n",
    "    if test_model is None:\n",
    "        print(f\"Train {num_iters} iterations\")\n",
    "        print(f\"Train {trees_per_step} rounds per iteration\")\n",
    "    else:\n",
    "        print(\"Testing model performance\")\n",
    "    features = X.columns\n",
    "    new_df = X.copy()\n",
    "    new_df[\"target\"] = y\n",
    "    new_df[\"era\"] = era_col\n",
    "    for i in range(num_iters):\n",
    "        print(f\"\\nIteration {i+1}:\\n\")\n",
    "        if test_model is None:\n",
    "            if i==0:\n",
    "                model = XGBRegressor(max_depth=5, learning_rate=0.01, n_estimators=trees_per_step, n_jobs=-1, colsample_bytree=0.1, tree_method=tree_method)\n",
    "                model.fit(X, y)\n",
    "            else:\n",
    "                model.n_estimators += trees_per_step\n",
    "                booster = model.get_booster()\n",
    "                print(\"fitting on worst eras\")\n",
    "                model.fit(worst_df[features], worst_df[\"target\"], xgb_model=booster)\n",
    "        else:\n",
    "            model = test_model\n",
    "        # score each era\n",
    "        print(\"predicting on train\")\n",
    "        preds = model.predict(X)\n",
    "        new_df[\"pred\"] = preds\n",
    "        era_scores = pd.Series(index=new_df[\"era\"].unique())\n",
    "        print(\"getting per era scores\")\n",
    "        for era in new_df[\"era\"].unique():\n",
    "            era_df = new_df[new_df[\"era\"] == era]\n",
    "            era_scores[era] = spearmanr(era_df[\"pred\"], era_df[\"target\"])\n",
    "        era_scores.sort_values(inplace=True)\n",
    "        worst_eras = era_scores[era_scores <= era_scores.quantile(proportion)].index\n",
    "        print(list(worst_eras))\n",
    "        worst_df = new_df[new_df[\"era\"].isin(worst_eras)]\n",
    "        era_scores.sort_index(inplace=True)\n",
    "        era_scores.plot(kind=\"bar\")\n",
    "        print(\"performance over time\")\n",
    "        plt.show()\n",
    "        plt.savefig(outdir+f\"fig_{i}.png\")\n",
    "        print(\"autocorrelation\")\n",
    "        print(ar1(era_scores))\n",
    "        print(\"mean correlation\")\n",
    "        print(np.mean(era_scores))\n",
    "        print(\"sharpe\")\n",
    "        print(np.mean(era_scores)/np.std(era_scores))\n",
    "        print(\"smart sharpe\")\n",
    "        print(smart_sharpe(era_scores))\n",
    "    return model\n",
    "#https://forum.numer.ai/t/era-boosted-models/189/4\n",
    "# Needs GPU\n",
    "# boost_model = era_boost_train(trained[featured], trained[\"target\"], era_col=trained[\"era\"], proportion=0.5, trees_per_step=10, num_iters=20)"
   ]
  },
  {
   "cell_type": "markdown",
   "metadata": {
    "id": "4aNvWzaf_wPH"
   },
   "source": [
    "# \n",
    "\n",
    "- [KagglerNumerai](https://zenn.dev/katsu1110/articles/bb2b5cba9b04c9e30bfe)\n",
    "- [Numerai Github](https://github.com/numerai)"
   ]
  },
  {
   "cell_type": "code",
   "execution_count": null,
   "metadata": {
    "id": "X1YD2toU_wPI"
   },
   "outputs": [],
   "source": [
    "#error check if * notebook is running"
   ]
  },
  {
   "cell_type": "code",
   "execution_count": 110,
   "metadata": {},
   "outputs": [],
   "source": [
    "# TPOT\n",
    "import os\n",
    "from datetime import datetime\n",
    "# Import libraries\n",
    "########################################################\n",
    "######## IMPORTING NECESSARY MODULES AND MODELS ########\n",
    "########################################################\n",
    "from sklearn.model_selection import train_test_split, KFold, cross_val_score # to split the data\n",
    "from sklearn.metrics import explained_variance_score, median_absolute_error, r2_score, mean_squared_error #To evaluate our model\n",
    "from sklearn.metrics import accuracy_score, confusion_matrix, classification_report, fbeta_score #To evaluate our model\n",
    "#from sklearn.grid_search import GridSearchCV\n",
    "from sklearn.linear_model import SGDRegressor\n",
    "from sklearn.model_selection import KFold, cross_val_score, train_test_split # Model evaluation\n",
    "from sklearn.preprocessing import LabelEncoder, OneHotEncoder, StandardScaler # Preprocessing\n",
    "from sklearn.linear_model import Lasso, Ridge, ElasticNet, RANSACRegressor, SGDRegressor, HuberRegressor, BayesianRidge # Linear models\n",
    "from sklearn.ensemble import RandomForestRegressor, BaggingRegressor, AdaBoostRegressor, GradientBoostingRegressor, ExtraTreesRegressor  # Ensemble methods\n",
    "from xgboost import XGBRegressor, plot_importance # XGBoost\n",
    "from sklearn.svm import SVR, SVC, LinearSVC  # Support Vector Regression\n",
    "from sklearn.tree import DecisionTreeRegressor # Decision Tree Regression\n",
    "from sklearn.neighbors import KNeighborsRegressor\n",
    "from sklearn.pipeline import Pipeline # Streaming pipelines\n",
    "from sklearn.decomposition import KernelPCA, PCA # Dimensionality reduction\n",
    "from sklearn.feature_selection import SelectFromModel # Dimensionality reduction\n",
    "from sklearn.model_selection import learning_curve, validation_curve, GridSearchCV # Model evaluation\n",
    "from sklearn.base import clone # Clone estimator\n",
    "from sklearn.metrics import mean_squared_error as MSE\n",
    "import numpy as np # linear algebra\n",
    "import pandas as pd # data processing, CSV file I/O (e.g. pd.read_csv)\n",
    "import seaborn as sns\n",
    "import matplotlib.pyplot as plt\n",
    "#import category_encoders as ce\n",
    "import timeit\n",
    "#import category_encoders\n",
    "from math import sqrt\n",
    "from scipy import stats\n",
    "import xgboost as xgb\n",
    "from xgboost.sklearn import XGBClassifier\n",
    "from xgboost.sklearn import XGBRegressor\n",
    "\n",
    "\n",
    "from sklearn.metrics import make_scorer\n",
    "from sklearn.model_selection._split import _BaseKFold, indexable, _num_samples\n",
    "from tpot import TPOTRegressor\n",
    "from tpot.export_utils import expr_to_tree, generate_export_pipeline_code\n",
    "def convert_to_float16(df):\n",
    "    dtypes = {}\n",
    "    for col_name in df.columns.tolist():\n",
    "        if col_name.startswith(('feature', 'target')):\n",
    "            dtypes[col_name] = np.float16\n",
    "    return df.set_index('id').astype(dtypes)\n",
    "from tpot.builtins import StackingEstimator\n",
    "from sklearn.linear_model import RidgeCV, LassoLarsCV, ElasticNetCV\n",
    "from sklearn.preprocessing import Normalizer\n",
    "from sklearn.feature_selection import VarianceThreshold\n",
    "from sklearn.cluster import FeatureAgglomeration\n",
    "from sklearn.model_selection import train_test_split\n",
    "from sklearn.feature_selection import SelectPercentile, f_regression\n",
    "from sklearn.linear_model import ElasticNetCV\n",
    "from sklearn.model_selection import train_test_split\n",
    "from sklearn.pipeline import make_pipeline, make_union\n",
    "from sklearn.svm import LinearSVR\n",
    "from sklearn.tree import DecisionTreeRegressor\n",
    "from tpot.builtins import StackingEstimator\n",
    "from tpot.export_utils import set_param_recursive\n",
    "from sklearn.pipeline import make_pipeline\n",
    "from sklearn.pipeline import Pipeline\n",
    "from sklearn.linear_model import LinearRegression, Lasso, Ridge\n",
    "from sklearn.ensemble import GradientBoostingRegressor, AdaBoostRegressor\n",
    "from sklearn.neighbors import KNeighborsRegressor\n",
    "from sklearn.model_selection import train_test_split, RandomizedSearchCV, GridSearchCV,  cross_val_score\n",
    "from sklearn.metrics import mean_squared_error\n",
    "from xgboost import XGBRegressor\n",
    "from tpot.export_utils import set_param_recursive\n",
    "from numpy import nan\n",
    "from tpot.builtins import ZeroCount\n",
    "from numpy import nan\n",
    "X_train = trained[featured].to_numpy()\n",
    "y_train = trained[f'target']\n",
    "\n",
    "X_test = tested[featured].to_numpy()\n",
    "y_test = tested[f'target']\n",
    "\n",
    "\n",
    "pipeline_1 = Pipeline(steps=[('zerocount-1', ZeroCount()), ('zerocount-2', ZeroCount()),\n",
    "                ('xgbregressor',\n",
    "                 XGBRegressor(alpha=1, base_score=0.5, booster='gbtree',\n",
    "                              colsample_bylevel=1, colsample_bynode=1,\n",
    "                              colsample_bytree=1, gamma=0, gpu_id=0,\n",
    "                              importance_type='gain',\n",
    "                              interaction_constraints='', learning_rate=0.01,\n",
    "                              max_delta_step=0, max_depth=4, min_child_weight=9,\n",
    "                              missing=nan, monotone_constraints='()',\n",
    "                              n_estimators=100, n_jobs=1, num_parallel_tree=1,\n",
    "                              random_state=55, reg_alpha=1, reg_lambda=1,\n",
    "                              scale_pos_weight=1, subsample=0.8,\n",
    "                              tree_method='hist', validate_parameters=1,\n",
    "                              verbosity=0))])\n",
    "pipeline_2 = make_pipeline(\n",
    "    SelectPercentile(score_func=f_regression, percentile=89),\n",
    "    StackingEstimator(estimator=DecisionTreeRegressor(max_depth=10, min_samples_leaf=3, min_samples_split=15)),\n",
    "    StackingEstimator(estimator=ElasticNetCV(l1_ratio=0.75, tol=0.001)),\n",
    "    LinearSVR(C=0.001, dual=True, epsilon=0.01, loss=\"epsilon_insensitive\", tol=1e-05)\n",
    ")\n",
    "pipeline_3 = make_pipeline(\n",
    "XGBClassifier(FeatureAgglomeration(input_matrix, affinity=euclidean, linkage=ward), learning_rate=1.0, max_depth=1, \n",
    "              min_child_weight=10, n_estimators=100, n_jobs=1, subsample=0.55, verbosity=0))\n",
    "\n",
    "pipeline_1.fit(X_train, y_train)\n",
    "results1 = pipeline_1.predict(X_test)\n",
    "pipeline_2.fit(X_train, y_train)\n",
    "results2 = pipeline_2.predict(X_test)\n",
    "pipeline_3.fit(X_train, y_train)\n",
    "results3 = pipeline_3.predict(X_test)"
   ]
  },
  {
   "cell_type": "code",
   "execution_count": 115,
   "metadata": {},
   "outputs": [
    {
     "data": {
      "application/vnd.jupyter.widget-view+json": {
       "model_id": "a7861a63b30847e1a88d439286a94fee",
       "version_major": 2,
       "version_minor": 0
      },
      "text/plain": [
       "HBox(children=(FloatProgress(value=0.0, description='Optimization Progress', max=899.0, style=ProgressStyle(de…"
      ]
     },
     "metadata": {},
     "output_type": "display_data"
    },
    {
     "name": "stderr",
     "output_type": "stream",
     "text": [
      "./numerai_dataset_266.zip: 406MB [30:58:50, 1.52MB/s]"
     ]
    },
    {
     "name": "stdout",
     "output_type": "stream",
     "text": [
      "\n",
      "Generation 1 - Current best internal CV score: -0.15393210533567667\n"
     ]
    },
    {
     "name": "stderr",
     "output_type": "stream",
     "text": [
      "./numerai_dataset_266.zip: 406MB [31:04:39, 1.52MB/s]"
     ]
    },
    {
     "name": "stdout",
     "output_type": "stream",
     "text": [
      "\n",
      "Generation 2 - Current best internal CV score: -0.15393210533567667\n"
     ]
    },
    {
     "name": "stderr",
     "output_type": "stream",
     "text": [
      "2021-05-31 08:02:31,292 WARNING stopit: Code block execution exceeded 10 seconds timeout\n",
      "Traceback (most recent call last):\n",
      "  File \"/home/hadoopuser/.local/lib/python3.8/site-packages/stopit/utils.py\", line 145, in wrapper\n",
      "    result = func(*args, **kwargs)\n",
      "  File \"/home/hadoopuser/.local/lib/python3.8/site-packages/tpot/decorators.py\", line 57, in time_limited_call\n",
      "    func(*args)\n",
      "  File \"/home/hadoopuser/anaconda3/lib/python3.8/site-packages/sklearn/pipeline.py\", line 335, in fit\n",
      "    self._final_estimator.fit(Xt, y, **fit_params_last_step)\n",
      "  File \"/home/hadoopuser/anaconda3/lib/python3.8/site-packages/xgboost/core.py\", line 436, in inner_f\n",
      "    return f(**kwargs)\n",
      "  File \"/home/hadoopuser/anaconda3/lib/python3.8/site-packages/xgboost/sklearn.py\", line 1176, in fit\n",
      "    self._Booster = train(\n",
      "  File \"/home/hadoopuser/anaconda3/lib/python3.8/site-packages/xgboost/training.py\", line 189, in train\n",
      "    bst = _train_internal(params, dtrain,\n",
      "  File \"/home/hadoopuser/anaconda3/lib/python3.8/site-packages/xgboost/training.py\", line 81, in _train_internal\n",
      "    bst.update(dtrain, i, obj)\n",
      "  File \"/home/hadoopuser/anaconda3/lib/python3.8/site-packages/xgboost/core.py\", line 1499, in update\n",
      "    _check_call(_LIB.XGBoosterUpdateOneIter(self.handle,\n",
      "stopit.utils.TimeoutException\n",
      "./numerai_dataset_266.zip: 406MB [31:57:17, 1.52MB/s]"
     ]
    },
    {
     "name": "stdout",
     "output_type": "stream",
     "text": [
      "\n",
      "Generation 3 - Current best internal CV score: -0.15393210533567667\n"
     ]
    },
    {
     "name": "stderr",
     "output_type": "stream",
     "text": [
      "./numerai_dataset_266.zip: 406MB [32:03:44, 1.52MB/s]"
     ]
    },
    {
     "name": "stdout",
     "output_type": "stream",
     "text": [
      "\n",
      "Generation 4 - Current best internal CV score: -0.15393210533567667\n"
     ]
    },
    {
     "name": "stderr",
     "output_type": "stream",
     "text": [
      "./numerai_dataset_266.zip: 406MB [33:35:05, 1.52MB/s]"
     ]
    },
    {
     "name": "stdout",
     "output_type": "stream",
     "text": [
      "\n",
      "Generation 5 - Current best internal CV score: -0.15393210533567667\n"
     ]
    },
    {
     "name": "stderr",
     "output_type": "stream",
     "text": [
      "./numerai_dataset_266.zip: 406MB [33:53:24, 1.52MB/s]"
     ]
    },
    {
     "name": "stdout",
     "output_type": "stream",
     "text": [
      "\n",
      "Generation 6 - Current best internal CV score: -0.15393210533567667\n"
     ]
    },
    {
     "name": "stderr",
     "output_type": "stream",
     "text": [
      "./numerai_dataset_266.zip: 406MB [33:59:26, 1.52MB/s]"
     ]
    },
    {
     "name": "stdout",
     "output_type": "stream",
     "text": [
      "\n",
      "Generation 7 - Current best internal CV score: -0.15393210533567667\n"
     ]
    },
    {
     "name": "stderr",
     "output_type": "stream",
     "text": [
      "./numerai_dataset_266.zip: 406MB [34:05:30, 1.52MB/s]"
     ]
    },
    {
     "name": "stdout",
     "output_type": "stream",
     "text": [
      "\n",
      "Generation 8 - Current best internal CV score: -0.15393210533567667\n",
      "\n",
      "The optimized pipeline was not improved after evaluating 7 more generations. Will end the optimization process.\n",
      "\n",
      "TPOT closed prematurely. Will use the current best pipeline.\n",
      "\n",
      "Best pipeline: XGBClassifier(FeatureAgglomeration(input_matrix, affinity=euclidean, linkage=ward), learning_rate=1.0, max_depth=1, min_child_weight=10, n_estimators=100, n_jobs=1, subsample=0.55, verbosity=0)\n",
      "\n",
      "Best pipeline: XGBClassifier(FeatureAgglomeration(input_matrix, affinity=euclidean, linkage=ward), learning_rate=1.0, max_depth=1, min_child_weight=10, n_estimators=100, n_jobs=1, subsample=0.55, verbosity=0)\n",
      "\n",
      "Best pipeline: XGBClassifier(FeatureAgglomeration(input_matrix, affinity=euclidean, linkage=ward), learning_rate=1.0, max_depth=1, min_child_weight=10, n_estimators=100, n_jobs=1, subsample=0.55, verbosity=0)\n",
      "\n",
      "Best pipeline: XGBClassifier(FeatureAgglomeration(input_matrix, affinity=euclidean, linkage=ward), learning_rate=1.0, max_depth=1, min_child_weight=10, n_estimators=100, n_jobs=1, subsample=0.55, verbosity=0)\n",
      "\n",
      "Best pipeline: XGBClassifier(FeatureAgglomeration(input_matrix, affinity=euclidean, linkage=ward), learning_rate=1.0, max_depth=1, min_child_weight=10, n_estimators=100, n_jobs=1, subsample=0.55, verbosity=0)\n",
      "\n",
      "Best pipeline: XGBClassifier(FeatureAgglomeration(input_matrix, affinity=euclidean, linkage=ward), learning_rate=1.0, max_depth=1, min_child_weight=10, n_estimators=100, n_jobs=1, subsample=0.55, verbosity=0)\n",
      "\n",
      "Best pipeline: XGBClassifier(FeatureAgglomeration(input_matrix, affinity=euclidean, linkage=ward), learning_rate=1.0, max_depth=1, min_child_weight=10, n_estimators=100, n_jobs=1, subsample=0.55, verbosity=0)\n",
      "\n",
      "Best pipeline: XGBClassifier(FeatureAgglomeration(input_matrix, affinity=euclidean, linkage=ward), learning_rate=1.0, max_depth=1, min_child_weight=10, n_estimators=100, n_jobs=1, subsample=0.55, verbosity=0)\n",
      "\n",
      "Best pipeline: XGBClassifier(FeatureAgglomeration(input_matrix, affinity=euclidean, linkage=ward), learning_rate=1.0, max_depth=1, min_child_weight=10, n_estimators=100, n_jobs=1, subsample=0.55, verbosity=0)\n",
      "\n",
      "Best pipeline: XGBClassifier(FeatureAgglomeration(input_matrix, affinity=euclidean, linkage=ward), learning_rate=1.0, max_depth=1, min_child_weight=10, n_estimators=100, n_jobs=1, subsample=0.55, verbosity=0)\n"
     ]
    },
    {
     "ename": "ValueError",
     "evalue": "Unknown label type: 'continuous'",
     "output_type": "error",
     "traceback": [
      "\u001b[0;31m---------------------------------------------------------------------------\u001b[0m",
      "\u001b[0;31mValueError\u001b[0m                                Traceback (most recent call last)",
      "\u001b[0;32m<timed exec>\u001b[0m in \u001b[0;36m<module>\u001b[0;34m\u001b[0m\n",
      "\u001b[0;32m~/.local/lib/python3.8/site-packages/tpot/base.py\u001b[0m in \u001b[0;36mfit\u001b[0;34m(self, features, target, sample_weight, groups)\u001b[0m\n\u001b[1;32m    876\u001b[0m                     \u001b[0;31m# raise the exception if it's our last attempt\u001b[0m\u001b[0;34m\u001b[0m\u001b[0;34m\u001b[0m\u001b[0;34m\u001b[0m\u001b[0m\n\u001b[1;32m    877\u001b[0m                     \u001b[0;32mif\u001b[0m \u001b[0mattempt\u001b[0m \u001b[0;34m==\u001b[0m \u001b[0;34m(\u001b[0m\u001b[0mattempts\u001b[0m \u001b[0;34m-\u001b[0m \u001b[0;36m1\u001b[0m\u001b[0;34m)\u001b[0m\u001b[0;34m:\u001b[0m\u001b[0;34m\u001b[0m\u001b[0;34m\u001b[0m\u001b[0m\n\u001b[0;32m--> 878\u001b[0;31m                         \u001b[0;32mraise\u001b[0m \u001b[0me\u001b[0m\u001b[0;34m\u001b[0m\u001b[0;34m\u001b[0m\u001b[0m\n\u001b[0m\u001b[1;32m    879\u001b[0m             \u001b[0;32mreturn\u001b[0m \u001b[0mself\u001b[0m\u001b[0;34m\u001b[0m\u001b[0;34m\u001b[0m\u001b[0m\n\u001b[1;32m    880\u001b[0m \u001b[0;34m\u001b[0m\u001b[0m\n",
      "\u001b[0;32m~/.local/lib/python3.8/site-packages/tpot/base.py\u001b[0m in \u001b[0;36mfit\u001b[0;34m(self, features, target, sample_weight, groups)\u001b[0m\n\u001b[1;32m    868\u001b[0m \u001b[0;34m\u001b[0m\u001b[0m\n\u001b[1;32m    869\u001b[0m                     \u001b[0mself\u001b[0m\u001b[0;34m.\u001b[0m\u001b[0m_update_top_pipeline\u001b[0m\u001b[0;34m(\u001b[0m\u001b[0;34m)\u001b[0m\u001b[0;34m\u001b[0m\u001b[0;34m\u001b[0m\u001b[0m\n\u001b[0;32m--> 870\u001b[0;31m                     \u001b[0mself\u001b[0m\u001b[0;34m.\u001b[0m\u001b[0m_summary_of_best_pipeline\u001b[0m\u001b[0;34m(\u001b[0m\u001b[0mfeatures\u001b[0m\u001b[0;34m,\u001b[0m \u001b[0mtarget\u001b[0m\u001b[0;34m)\u001b[0m\u001b[0;34m\u001b[0m\u001b[0;34m\u001b[0m\u001b[0m\n\u001b[0m\u001b[1;32m    871\u001b[0m                     \u001b[0;31m# Delete the temporary cache before exiting\u001b[0m\u001b[0;34m\u001b[0m\u001b[0;34m\u001b[0m\u001b[0;34m\u001b[0m\u001b[0m\n\u001b[1;32m    872\u001b[0m                     \u001b[0mself\u001b[0m\u001b[0;34m.\u001b[0m\u001b[0m_cleanup_memory\u001b[0m\u001b[0;34m(\u001b[0m\u001b[0;34m)\u001b[0m\u001b[0;34m\u001b[0m\u001b[0;34m\u001b[0m\u001b[0m\n",
      "\u001b[0;32m~/.local/lib/python3.8/site-packages/tpot/base.py\u001b[0m in \u001b[0;36m_summary_of_best_pipeline\u001b[0;34m(self, features, target)\u001b[0m\n\u001b[1;32m   1029\u001b[0m                 \u001b[0;32mwith\u001b[0m \u001b[0mwarnings\u001b[0m\u001b[0;34m.\u001b[0m\u001b[0mcatch_warnings\u001b[0m\u001b[0;34m(\u001b[0m\u001b[0;34m)\u001b[0m\u001b[0;34m:\u001b[0m\u001b[0;34m\u001b[0m\u001b[0;34m\u001b[0m\u001b[0m\n\u001b[1;32m   1030\u001b[0m                     \u001b[0mwarnings\u001b[0m\u001b[0;34m.\u001b[0m\u001b[0msimplefilter\u001b[0m\u001b[0;34m(\u001b[0m\u001b[0;34m\"ignore\"\u001b[0m\u001b[0;34m)\u001b[0m\u001b[0;34m\u001b[0m\u001b[0;34m\u001b[0m\u001b[0m\n\u001b[0;32m-> 1031\u001b[0;31m                     self.pareto_front_fitted_pipelines_[str(pipeline)].fit(\n\u001b[0m\u001b[1;32m   1032\u001b[0m                         \u001b[0mfeatures\u001b[0m\u001b[0;34m,\u001b[0m \u001b[0mtarget\u001b[0m\u001b[0;34m\u001b[0m\u001b[0;34m\u001b[0m\u001b[0m\n\u001b[1;32m   1033\u001b[0m                     )\n",
      "\u001b[0;32m~/anaconda3/lib/python3.8/site-packages/sklearn/pipeline.py\u001b[0m in \u001b[0;36mfit\u001b[0;34m(self, X, y, **fit_params)\u001b[0m\n\u001b[1;32m    333\u001b[0m             \u001b[0;32mif\u001b[0m \u001b[0mself\u001b[0m\u001b[0;34m.\u001b[0m\u001b[0m_final_estimator\u001b[0m \u001b[0;34m!=\u001b[0m \u001b[0;34m'passthrough'\u001b[0m\u001b[0;34m:\u001b[0m\u001b[0;34m\u001b[0m\u001b[0;34m\u001b[0m\u001b[0m\n\u001b[1;32m    334\u001b[0m                 \u001b[0mfit_params_last_step\u001b[0m \u001b[0;34m=\u001b[0m \u001b[0mfit_params_steps\u001b[0m\u001b[0;34m[\u001b[0m\u001b[0mself\u001b[0m\u001b[0;34m.\u001b[0m\u001b[0msteps\u001b[0m\u001b[0;34m[\u001b[0m\u001b[0;34m-\u001b[0m\u001b[0;36m1\u001b[0m\u001b[0;34m]\u001b[0m\u001b[0;34m[\u001b[0m\u001b[0;36m0\u001b[0m\u001b[0;34m]\u001b[0m\u001b[0;34m]\u001b[0m\u001b[0;34m\u001b[0m\u001b[0;34m\u001b[0m\u001b[0m\n\u001b[0;32m--> 335\u001b[0;31m                 \u001b[0mself\u001b[0m\u001b[0;34m.\u001b[0m\u001b[0m_final_estimator\u001b[0m\u001b[0;34m.\u001b[0m\u001b[0mfit\u001b[0m\u001b[0;34m(\u001b[0m\u001b[0mXt\u001b[0m\u001b[0;34m,\u001b[0m \u001b[0my\u001b[0m\u001b[0;34m,\u001b[0m \u001b[0;34m**\u001b[0m\u001b[0mfit_params_last_step\u001b[0m\u001b[0;34m)\u001b[0m\u001b[0;34m\u001b[0m\u001b[0;34m\u001b[0m\u001b[0m\n\u001b[0m\u001b[1;32m    336\u001b[0m \u001b[0;34m\u001b[0m\u001b[0m\n\u001b[1;32m    337\u001b[0m         \u001b[0;32mreturn\u001b[0m \u001b[0mself\u001b[0m\u001b[0;34m\u001b[0m\u001b[0;34m\u001b[0m\u001b[0m\n",
      "\u001b[0;32m~/anaconda3/lib/python3.8/site-packages/sklearn/tree/_classes.py\u001b[0m in \u001b[0;36mfit\u001b[0;34m(self, X, y, sample_weight, check_input, X_idx_sorted)\u001b[0m\n\u001b[1;32m    888\u001b[0m         \"\"\"\n\u001b[1;32m    889\u001b[0m \u001b[0;34m\u001b[0m\u001b[0m\n\u001b[0;32m--> 890\u001b[0;31m         super().fit(\n\u001b[0m\u001b[1;32m    891\u001b[0m             \u001b[0mX\u001b[0m\u001b[0;34m,\u001b[0m \u001b[0my\u001b[0m\u001b[0;34m,\u001b[0m\u001b[0;34m\u001b[0m\u001b[0;34m\u001b[0m\u001b[0m\n\u001b[1;32m    892\u001b[0m             \u001b[0msample_weight\u001b[0m\u001b[0;34m=\u001b[0m\u001b[0msample_weight\u001b[0m\u001b[0;34m,\u001b[0m\u001b[0;34m\u001b[0m\u001b[0;34m\u001b[0m\u001b[0m\n",
      "\u001b[0;32m~/anaconda3/lib/python3.8/site-packages/sklearn/tree/_classes.py\u001b[0m in \u001b[0;36mfit\u001b[0;34m(self, X, y, sample_weight, check_input, X_idx_sorted)\u001b[0m\n\u001b[1;32m    179\u001b[0m \u001b[0;34m\u001b[0m\u001b[0m\n\u001b[1;32m    180\u001b[0m         \u001b[0;32mif\u001b[0m \u001b[0mis_classification\u001b[0m\u001b[0;34m:\u001b[0m\u001b[0;34m\u001b[0m\u001b[0;34m\u001b[0m\u001b[0m\n\u001b[0;32m--> 181\u001b[0;31m             \u001b[0mcheck_classification_targets\u001b[0m\u001b[0;34m(\u001b[0m\u001b[0my\u001b[0m\u001b[0;34m)\u001b[0m\u001b[0;34m\u001b[0m\u001b[0;34m\u001b[0m\u001b[0m\n\u001b[0m\u001b[1;32m    182\u001b[0m             \u001b[0my\u001b[0m \u001b[0;34m=\u001b[0m \u001b[0mnp\u001b[0m\u001b[0;34m.\u001b[0m\u001b[0mcopy\u001b[0m\u001b[0;34m(\u001b[0m\u001b[0my\u001b[0m\u001b[0;34m)\u001b[0m\u001b[0;34m\u001b[0m\u001b[0;34m\u001b[0m\u001b[0m\n\u001b[1;32m    183\u001b[0m \u001b[0;34m\u001b[0m\u001b[0m\n",
      "\u001b[0;32m~/anaconda3/lib/python3.8/site-packages/sklearn/utils/multiclass.py\u001b[0m in \u001b[0;36mcheck_classification_targets\u001b[0;34m(y)\u001b[0m\n\u001b[1;32m    170\u001b[0m     if y_type not in ['binary', 'multiclass', 'multiclass-multioutput',\n\u001b[1;32m    171\u001b[0m                       'multilabel-indicator', 'multilabel-sequences']:\n\u001b[0;32m--> 172\u001b[0;31m         \u001b[0;32mraise\u001b[0m \u001b[0mValueError\u001b[0m\u001b[0;34m(\u001b[0m\u001b[0;34m\"Unknown label type: %r\"\u001b[0m \u001b[0;34m%\u001b[0m \u001b[0my_type\u001b[0m\u001b[0;34m)\u001b[0m\u001b[0;34m\u001b[0m\u001b[0;34m\u001b[0m\u001b[0m\n\u001b[0m\u001b[1;32m    173\u001b[0m \u001b[0;34m\u001b[0m\u001b[0m\n\u001b[1;32m    174\u001b[0m \u001b[0;34m\u001b[0m\u001b[0m\n",
      "\u001b[0;31mValueError\u001b[0m: Unknown label type: 'continuous'"
     ]
    }
   ],
   "source": [
    "%%time\n",
    "# Make a custom metric function for TPOT\n",
    "# Root mean squared logarithmic error is how Kaggle scores this task\n",
    "# Can't use custom scorer with n_jobs > 1.  Known issue.\n",
    "\n",
    "def custom_rmsle(y_true, y_pred):\n",
    "     return np.sqrt(np.mean((np.log(1 + y_pred) - np.log(1 + y_true))**2))\n",
    "\n",
    "# Make a custom scorer from the custom metric function\n",
    "rmsle = make_scorer(custom_rmsle, greater_is_better=False)\n",
    "\n",
    "# Number of pipelines is very small below so that we can quickly commit on Kaggle\n",
    "# parameters http://epistasislab.github.io/tpot/using/\n",
    "\n",
    "# instantiate tpot \n",
    "tpot = TPOTRegressor(verbosity=2,  \n",
    "                    random_state=55, \n",
    "                    scoring=rmsle,\n",
    "                    periodic_checkpoint_folder=\"intermediate_results\",\n",
    "                    n_jobs=-1, \n",
    "                    warm_start = True,\n",
    "                    generations=30, \n",
    "                    population_size=29,\n",
    "                    early_stop=7,\n",
    "                    config_dict='TPOT NN')\n",
    "times = []\n",
    "scores = []\n",
    "winning_pipes = []\n",
    "\n",
    "# run 2 iterations\n",
    "for x in range(1):\n",
    "    start_time = timeit.default_timer()\n",
    "    tpot.fit(X_train, y_train)\n",
    "    elapsed = timeit.default_timer() - start_time\n",
    "    times.append(elapsed)\n",
    "    winning_pipes.append(tpot.fitted_pipeline_)\n",
    "    scores.append(tpot.score(X_test, y_test))\n",
    "    tpot.export('tpot_ames.py')\n",
    "\n",
    "# output results\n",
    "times = [time/60 for time in times]\n",
    "print('Times:', times)\n",
    "print('Scores:', scores)   \n",
    "print('Winning pipelines:', winning_pipes)\n",
    "# export the best model\n",
    "tpot.export('tpot_develuse_best_model.py')\n"
   ]
  },
  {
   "cell_type": "code",
   "execution_count": 114,
   "metadata": {},
   "outputs": [
    {
     "name": "stdout",
     "output_type": "stream",
     "text": [
      "[0.4963926  0.50801176 0.49943662 0.49989018]\n",
      "[0.49493432 0.51862446 0.49801733 0.49731408]\n"
     ]
    }
   ],
   "source": [
    "TOURNAMENT_NAME = 'Numer'\n",
    "print(results1[1:5])\n",
    "print(results2[1:5])\n",
    "#print(results3[1:5])\n",
    "#print(results4[1:5])\n",
    "df_pl_1 = pd.DataFrame(results1)\n",
    "df_pl_2 = pd.DataFrame(results2)\n",
    "#df_pl_3 = pd.DataFrame(results3)\n",
    "#df_pl_4 = pd.DataFrame(results3)\n",
    "#tournament_data = read_csv(os.path.join(latest_round, \"numerai_tournament_data.csv\")).set_index(\"id\")\n",
    "\n",
    "test[PREDICTION_NAME] = df_pl_1.values.reshape(-1, 1)\n",
    "test[PREDICTION_NAME].to_csv(f\"{TOURNAMENT_NAME}_{current_ds}_submission_pl_1.csv\")\n",
    "\n",
    "test[PREDICTION_NAME] = df_pl_2.values.reshape(-1, 1)\n",
    "test[PREDICTION_NAME].to_csv(f\"{TOURNAMENT_NAME}_{current_ds}_submission_pl_2.csv\")\n",
    "\n",
    "#tournament_data[PREDICTION_NAME] = df_pl_3.values.reshape(-1, 1)\n",
    "#tournament_data[PREDICTION_NAME].to_csv(f\"{TOURNAMENT_NAME}_{current_ds}_submission_pl_3.csv\")\n",
    "\n",
    "#tournament_data[PREDICTION_NAME] = df_pl_4.values.reshape(-1, 1)\n",
    "#tournament_data[PREDICTION_NAME].to_csv(f\"{TOURNAMENT_NAME}_{current_ds}_submission_pl_4.csv\")"
   ]
  },
  {
   "cell_type": "code",
   "execution_count": null,
   "metadata": {},
   "outputs": [],
   "source": []
  }
 ],
 "metadata": {
  "colab": {
   "collapsed_sections": [
    "hGAGf9Fl_wOP",
    "ML_ie3fg_wOZ",
    "iQlHDIRk_wOj",
    "ShVS5CRu_wOk",
    "ptyR3MLU_wOy",
    "FUcsG5DE_wO6",
    "XzZBH4Z__wPC",
    "avgd8nkN_wPD",
    "c3GT1KJl_wPE"
   ],
   "name": "numerai-tournament-258-featgroupcalcint_nn_Sharpe-SPARK.ipynb",
   "provenance": []
  },
  "kernelspec": {
   "display_name": "Python 3",
   "language": "python",
   "name": "python3"
  },
  "language_info": {
   "codemirror_mode": {
    "name": "ipython",
    "version": 3
   },
   "file_extension": ".py",
   "mimetype": "text/x-python",
   "name": "python",
   "nbconvert_exporter": "python",
   "pygments_lexer": "ipython3",
   "version": "3.7.4"
  }
 },
 "nbformat": 4,
 "nbformat_minor": 4
}
